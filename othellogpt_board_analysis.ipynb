{
 "cells": [
  {
   "cell_type": "code",
   "execution_count": 1,
   "metadata": {},
   "outputs": [],
   "source": [
    "%load_ext autoreload\n",
    "%autoreload 2"
   ]
  },
  {
   "cell_type": "code",
   "execution_count": 2,
   "metadata": {},
   "outputs": [],
   "source": [
    "import torch\n",
    "\n",
    "from othello_utils import plot_single_board, to_string, to_int, int_to_label, string_to_label, OthelloBoardState"
   ]
  },
  {
   "cell_type": "code",
   "execution_count": 21,
   "metadata": {},
   "outputs": [],
   "source": [
    "from transformer_lens import HookedTransformer, HookedTransformerConfig\n",
    "cfg = HookedTransformerConfig(\n",
    "    n_layers = 8,\n",
    "    d_model = 512,\n",
    "    d_head = 64,\n",
    "    n_heads = 8,\n",
    "    d_mlp = 2048,\n",
    "    d_vocab = 61,\n",
    "    n_ctx = 59,\n",
    "    act_fn=\"gelu\",\n",
    "    normalization_type=\"LNPre\"\n",
    ")\n",
    "model = HookedTransformer(cfg)"
   ]
  },
  {
   "cell_type": "code",
   "execution_count": 5,
   "metadata": {},
   "outputs": [
    {
     "ename": "LocalEntryNotFoundError",
     "evalue": "An error happened while trying to locate the file on the Hub and we cannot find the requested files in the local cache. Please check your connection and try again or make sure your Internet connection is on.",
     "output_type": "error",
     "traceback": [
      "\u001b[0;31m---------------------------------------------------------------------------\u001b[0m",
      "\u001b[0;31mTimeoutError\u001b[0m                              Traceback (most recent call last)",
      "File \u001b[0;32m/opt/conda/envs/mats_sae_training/lib/python3.11/site-packages/urllib3/connectionpool.py:537\u001b[0m, in \u001b[0;36mHTTPConnectionPool._make_request\u001b[0;34m(self, conn, method, url, body, headers, retries, timeout, chunked, response_conn, preload_content, decode_content, enforce_content_length)\u001b[0m\n\u001b[1;32m    536\u001b[0m \u001b[38;5;28;01mtry\u001b[39;00m:\n\u001b[0;32m--> 537\u001b[0m     response \u001b[38;5;241m=\u001b[39m \u001b[43mconn\u001b[49m\u001b[38;5;241;43m.\u001b[39;49m\u001b[43mgetresponse\u001b[49m\u001b[43m(\u001b[49m\u001b[43m)\u001b[49m\n\u001b[1;32m    538\u001b[0m \u001b[38;5;28;01mexcept\u001b[39;00m (BaseSSLError, \u001b[38;5;167;01mOSError\u001b[39;00m) \u001b[38;5;28;01mas\u001b[39;00m e:\n",
      "File \u001b[0;32m/opt/conda/envs/mats_sae_training/lib/python3.11/site-packages/urllib3/connection.py:466\u001b[0m, in \u001b[0;36mHTTPConnection.getresponse\u001b[0;34m(self)\u001b[0m\n\u001b[1;32m    465\u001b[0m \u001b[38;5;66;03m# Get the response from http.client.HTTPConnection\u001b[39;00m\n\u001b[0;32m--> 466\u001b[0m httplib_response \u001b[38;5;241m=\u001b[39m \u001b[38;5;28;43msuper\u001b[39;49m\u001b[43m(\u001b[49m\u001b[43m)\u001b[49m\u001b[38;5;241;43m.\u001b[39;49m\u001b[43mgetresponse\u001b[49m\u001b[43m(\u001b[49m\u001b[43m)\u001b[49m\n\u001b[1;32m    468\u001b[0m \u001b[38;5;28;01mtry\u001b[39;00m:\n",
      "File \u001b[0;32m/opt/conda/envs/mats_sae_training/lib/python3.11/http/client.py:1386\u001b[0m, in \u001b[0;36mHTTPConnection.getresponse\u001b[0;34m(self)\u001b[0m\n\u001b[1;32m   1385\u001b[0m \u001b[38;5;28;01mtry\u001b[39;00m:\n\u001b[0;32m-> 1386\u001b[0m     \u001b[43mresponse\u001b[49m\u001b[38;5;241;43m.\u001b[39;49m\u001b[43mbegin\u001b[49m\u001b[43m(\u001b[49m\u001b[43m)\u001b[49m\n\u001b[1;32m   1387\u001b[0m \u001b[38;5;28;01mexcept\u001b[39;00m \u001b[38;5;167;01mConnectionError\u001b[39;00m:\n",
      "File \u001b[0;32m/opt/conda/envs/mats_sae_training/lib/python3.11/http/client.py:325\u001b[0m, in \u001b[0;36mHTTPResponse.begin\u001b[0;34m(self)\u001b[0m\n\u001b[1;32m    324\u001b[0m \u001b[38;5;28;01mwhile\u001b[39;00m \u001b[38;5;28;01mTrue\u001b[39;00m:\n\u001b[0;32m--> 325\u001b[0m     version, status, reason \u001b[38;5;241m=\u001b[39m \u001b[38;5;28;43mself\u001b[39;49m\u001b[38;5;241;43m.\u001b[39;49m\u001b[43m_read_status\u001b[49m\u001b[43m(\u001b[49m\u001b[43m)\u001b[49m\n\u001b[1;32m    326\u001b[0m     \u001b[38;5;28;01mif\u001b[39;00m status \u001b[38;5;241m!=\u001b[39m CONTINUE:\n",
      "File \u001b[0;32m/opt/conda/envs/mats_sae_training/lib/python3.11/http/client.py:286\u001b[0m, in \u001b[0;36mHTTPResponse._read_status\u001b[0;34m(self)\u001b[0m\n\u001b[1;32m    285\u001b[0m \u001b[38;5;28;01mdef\u001b[39;00m \u001b[38;5;21m_read_status\u001b[39m(\u001b[38;5;28mself\u001b[39m):\n\u001b[0;32m--> 286\u001b[0m     line \u001b[38;5;241m=\u001b[39m \u001b[38;5;28mstr\u001b[39m(\u001b[38;5;28;43mself\u001b[39;49m\u001b[38;5;241;43m.\u001b[39;49m\u001b[43mfp\u001b[49m\u001b[38;5;241;43m.\u001b[39;49m\u001b[43mreadline\u001b[49m\u001b[43m(\u001b[49m\u001b[43m_MAXLINE\u001b[49m\u001b[43m \u001b[49m\u001b[38;5;241;43m+\u001b[39;49m\u001b[43m \u001b[49m\u001b[38;5;241;43m1\u001b[39;49m\u001b[43m)\u001b[49m, \u001b[38;5;124m\"\u001b[39m\u001b[38;5;124miso-8859-1\u001b[39m\u001b[38;5;124m\"\u001b[39m)\n\u001b[1;32m    287\u001b[0m     \u001b[38;5;28;01mif\u001b[39;00m \u001b[38;5;28mlen\u001b[39m(line) \u001b[38;5;241m>\u001b[39m _MAXLINE:\n",
      "File \u001b[0;32m/opt/conda/envs/mats_sae_training/lib/python3.11/socket.py:706\u001b[0m, in \u001b[0;36mSocketIO.readinto\u001b[0;34m(self, b)\u001b[0m\n\u001b[1;32m    705\u001b[0m \u001b[38;5;28;01mtry\u001b[39;00m:\n\u001b[0;32m--> 706\u001b[0m     \u001b[38;5;28;01mreturn\u001b[39;00m \u001b[38;5;28;43mself\u001b[39;49m\u001b[38;5;241;43m.\u001b[39;49m\u001b[43m_sock\u001b[49m\u001b[38;5;241;43m.\u001b[39;49m\u001b[43mrecv_into\u001b[49m\u001b[43m(\u001b[49m\u001b[43mb\u001b[49m\u001b[43m)\u001b[49m\n\u001b[1;32m    707\u001b[0m \u001b[38;5;28;01mexcept\u001b[39;00m timeout:\n",
      "File \u001b[0;32m/opt/conda/envs/mats_sae_training/lib/python3.11/ssl.py:1315\u001b[0m, in \u001b[0;36mSSLSocket.recv_into\u001b[0;34m(self, buffer, nbytes, flags)\u001b[0m\n\u001b[1;32m   1312\u001b[0m         \u001b[38;5;28;01mraise\u001b[39;00m \u001b[38;5;167;01mValueError\u001b[39;00m(\n\u001b[1;32m   1313\u001b[0m           \u001b[38;5;124m\"\u001b[39m\u001b[38;5;124mnon-zero flags not allowed in calls to recv_into() on \u001b[39m\u001b[38;5;132;01m%s\u001b[39;00m\u001b[38;5;124m\"\u001b[39m \u001b[38;5;241m%\u001b[39m\n\u001b[1;32m   1314\u001b[0m           \u001b[38;5;28mself\u001b[39m\u001b[38;5;241m.\u001b[39m\u001b[38;5;18m__class__\u001b[39m)\n\u001b[0;32m-> 1315\u001b[0m     \u001b[38;5;28;01mreturn\u001b[39;00m \u001b[38;5;28;43mself\u001b[39;49m\u001b[38;5;241;43m.\u001b[39;49m\u001b[43mread\u001b[49m\u001b[43m(\u001b[49m\u001b[43mnbytes\u001b[49m\u001b[43m,\u001b[49m\u001b[43m \u001b[49m\u001b[43mbuffer\u001b[49m\u001b[43m)\u001b[49m\n\u001b[1;32m   1316\u001b[0m \u001b[38;5;28;01melse\u001b[39;00m:\n",
      "File \u001b[0;32m/opt/conda/envs/mats_sae_training/lib/python3.11/ssl.py:1167\u001b[0m, in \u001b[0;36mSSLSocket.read\u001b[0;34m(self, len, buffer)\u001b[0m\n\u001b[1;32m   1166\u001b[0m \u001b[38;5;28;01mif\u001b[39;00m buffer \u001b[38;5;129;01mis\u001b[39;00m \u001b[38;5;129;01mnot\u001b[39;00m \u001b[38;5;28;01mNone\u001b[39;00m:\n\u001b[0;32m-> 1167\u001b[0m     \u001b[38;5;28;01mreturn\u001b[39;00m \u001b[38;5;28;43mself\u001b[39;49m\u001b[38;5;241;43m.\u001b[39;49m\u001b[43m_sslobj\u001b[49m\u001b[38;5;241;43m.\u001b[39;49m\u001b[43mread\u001b[49m\u001b[43m(\u001b[49m\u001b[38;5;28;43mlen\u001b[39;49m\u001b[43m,\u001b[49m\u001b[43m \u001b[49m\u001b[43mbuffer\u001b[49m\u001b[43m)\u001b[49m\n\u001b[1;32m   1168\u001b[0m \u001b[38;5;28;01melse\u001b[39;00m:\n",
      "\u001b[0;31mTimeoutError\u001b[0m: The read operation timed out",
      "\nThe above exception was the direct cause of the following exception:\n",
      "\u001b[0;31mReadTimeoutError\u001b[0m                          Traceback (most recent call last)",
      "File \u001b[0;32m/opt/conda/envs/mats_sae_training/lib/python3.11/site-packages/requests/adapters.py:486\u001b[0m, in \u001b[0;36mHTTPAdapter.send\u001b[0;34m(self, request, stream, timeout, verify, cert, proxies)\u001b[0m\n\u001b[1;32m    485\u001b[0m \u001b[38;5;28;01mtry\u001b[39;00m:\n\u001b[0;32m--> 486\u001b[0m     resp \u001b[38;5;241m=\u001b[39m \u001b[43mconn\u001b[49m\u001b[38;5;241;43m.\u001b[39;49m\u001b[43murlopen\u001b[49m\u001b[43m(\u001b[49m\n\u001b[1;32m    487\u001b[0m \u001b[43m        \u001b[49m\u001b[43mmethod\u001b[49m\u001b[38;5;241;43m=\u001b[39;49m\u001b[43mrequest\u001b[49m\u001b[38;5;241;43m.\u001b[39;49m\u001b[43mmethod\u001b[49m\u001b[43m,\u001b[49m\n\u001b[1;32m    488\u001b[0m \u001b[43m        \u001b[49m\u001b[43murl\u001b[49m\u001b[38;5;241;43m=\u001b[39;49m\u001b[43murl\u001b[49m\u001b[43m,\u001b[49m\n\u001b[1;32m    489\u001b[0m \u001b[43m        \u001b[49m\u001b[43mbody\u001b[49m\u001b[38;5;241;43m=\u001b[39;49m\u001b[43mrequest\u001b[49m\u001b[38;5;241;43m.\u001b[39;49m\u001b[43mbody\u001b[49m\u001b[43m,\u001b[49m\n\u001b[1;32m    490\u001b[0m \u001b[43m        \u001b[49m\u001b[43mheaders\u001b[49m\u001b[38;5;241;43m=\u001b[39;49m\u001b[43mrequest\u001b[49m\u001b[38;5;241;43m.\u001b[39;49m\u001b[43mheaders\u001b[49m\u001b[43m,\u001b[49m\n\u001b[1;32m    491\u001b[0m \u001b[43m        \u001b[49m\u001b[43mredirect\u001b[49m\u001b[38;5;241;43m=\u001b[39;49m\u001b[38;5;28;43;01mFalse\u001b[39;49;00m\u001b[43m,\u001b[49m\n\u001b[1;32m    492\u001b[0m \u001b[43m        \u001b[49m\u001b[43massert_same_host\u001b[49m\u001b[38;5;241;43m=\u001b[39;49m\u001b[38;5;28;43;01mFalse\u001b[39;49;00m\u001b[43m,\u001b[49m\n\u001b[1;32m    493\u001b[0m \u001b[43m        \u001b[49m\u001b[43mpreload_content\u001b[49m\u001b[38;5;241;43m=\u001b[39;49m\u001b[38;5;28;43;01mFalse\u001b[39;49;00m\u001b[43m,\u001b[49m\n\u001b[1;32m    494\u001b[0m \u001b[43m        \u001b[49m\u001b[43mdecode_content\u001b[49m\u001b[38;5;241;43m=\u001b[39;49m\u001b[38;5;28;43;01mFalse\u001b[39;49;00m\u001b[43m,\u001b[49m\n\u001b[1;32m    495\u001b[0m \u001b[43m        \u001b[49m\u001b[43mretries\u001b[49m\u001b[38;5;241;43m=\u001b[39;49m\u001b[38;5;28;43mself\u001b[39;49m\u001b[38;5;241;43m.\u001b[39;49m\u001b[43mmax_retries\u001b[49m\u001b[43m,\u001b[49m\n\u001b[1;32m    496\u001b[0m \u001b[43m        \u001b[49m\u001b[43mtimeout\u001b[49m\u001b[38;5;241;43m=\u001b[39;49m\u001b[43mtimeout\u001b[49m\u001b[43m,\u001b[49m\n\u001b[1;32m    497\u001b[0m \u001b[43m        \u001b[49m\u001b[43mchunked\u001b[49m\u001b[38;5;241;43m=\u001b[39;49m\u001b[43mchunked\u001b[49m\u001b[43m,\u001b[49m\n\u001b[1;32m    498\u001b[0m \u001b[43m    \u001b[49m\u001b[43m)\u001b[49m\n\u001b[1;32m    500\u001b[0m \u001b[38;5;28;01mexcept\u001b[39;00m (ProtocolError, \u001b[38;5;167;01mOSError\u001b[39;00m) \u001b[38;5;28;01mas\u001b[39;00m err:\n",
      "File \u001b[0;32m/opt/conda/envs/mats_sae_training/lib/python3.11/site-packages/urllib3/connectionpool.py:847\u001b[0m, in \u001b[0;36mHTTPConnectionPool.urlopen\u001b[0;34m(self, method, url, body, headers, retries, redirect, assert_same_host, timeout, pool_timeout, release_conn, chunked, body_pos, preload_content, decode_content, **response_kw)\u001b[0m\n\u001b[1;32m    845\u001b[0m     new_e \u001b[38;5;241m=\u001b[39m ProtocolError(\u001b[38;5;124m\"\u001b[39m\u001b[38;5;124mConnection aborted.\u001b[39m\u001b[38;5;124m\"\u001b[39m, new_e)\n\u001b[0;32m--> 847\u001b[0m retries \u001b[38;5;241m=\u001b[39m \u001b[43mretries\u001b[49m\u001b[38;5;241;43m.\u001b[39;49m\u001b[43mincrement\u001b[49m\u001b[43m(\u001b[49m\n\u001b[1;32m    848\u001b[0m \u001b[43m    \u001b[49m\u001b[43mmethod\u001b[49m\u001b[43m,\u001b[49m\u001b[43m \u001b[49m\u001b[43murl\u001b[49m\u001b[43m,\u001b[49m\u001b[43m \u001b[49m\u001b[43merror\u001b[49m\u001b[38;5;241;43m=\u001b[39;49m\u001b[43mnew_e\u001b[49m\u001b[43m,\u001b[49m\u001b[43m \u001b[49m\u001b[43m_pool\u001b[49m\u001b[38;5;241;43m=\u001b[39;49m\u001b[38;5;28;43mself\u001b[39;49m\u001b[43m,\u001b[49m\u001b[43m \u001b[49m\u001b[43m_stacktrace\u001b[49m\u001b[38;5;241;43m=\u001b[39;49m\u001b[43msys\u001b[49m\u001b[38;5;241;43m.\u001b[39;49m\u001b[43mexc_info\u001b[49m\u001b[43m(\u001b[49m\u001b[43m)\u001b[49m\u001b[43m[\u001b[49m\u001b[38;5;241;43m2\u001b[39;49m\u001b[43m]\u001b[49m\n\u001b[1;32m    849\u001b[0m \u001b[43m\u001b[49m\u001b[43m)\u001b[49m\n\u001b[1;32m    850\u001b[0m retries\u001b[38;5;241m.\u001b[39msleep()\n",
      "File \u001b[0;32m/opt/conda/envs/mats_sae_training/lib/python3.11/site-packages/urllib3/util/retry.py:470\u001b[0m, in \u001b[0;36mRetry.increment\u001b[0;34m(self, method, url, response, error, _pool, _stacktrace)\u001b[0m\n\u001b[1;32m    469\u001b[0m \u001b[38;5;28;01mif\u001b[39;00m read \u001b[38;5;129;01mis\u001b[39;00m \u001b[38;5;28;01mFalse\u001b[39;00m \u001b[38;5;129;01mor\u001b[39;00m method \u001b[38;5;129;01mis\u001b[39;00m \u001b[38;5;28;01mNone\u001b[39;00m \u001b[38;5;129;01mor\u001b[39;00m \u001b[38;5;129;01mnot\u001b[39;00m \u001b[38;5;28mself\u001b[39m\u001b[38;5;241m.\u001b[39m_is_method_retryable(method):\n\u001b[0;32m--> 470\u001b[0m     \u001b[38;5;28;01mraise\u001b[39;00m \u001b[43mreraise\u001b[49m\u001b[43m(\u001b[49m\u001b[38;5;28;43mtype\u001b[39;49m\u001b[43m(\u001b[49m\u001b[43merror\u001b[49m\u001b[43m)\u001b[49m\u001b[43m,\u001b[49m\u001b[43m \u001b[49m\u001b[43merror\u001b[49m\u001b[43m,\u001b[49m\u001b[43m \u001b[49m\u001b[43m_stacktrace\u001b[49m\u001b[43m)\u001b[49m\n\u001b[1;32m    471\u001b[0m \u001b[38;5;28;01melif\u001b[39;00m read \u001b[38;5;129;01mis\u001b[39;00m \u001b[38;5;129;01mnot\u001b[39;00m \u001b[38;5;28;01mNone\u001b[39;00m:\n",
      "File \u001b[0;32m/opt/conda/envs/mats_sae_training/lib/python3.11/site-packages/urllib3/util/util.py:39\u001b[0m, in \u001b[0;36mreraise\u001b[0;34m(tp, value, tb)\u001b[0m\n\u001b[1;32m     38\u001b[0m         \u001b[38;5;28;01mraise\u001b[39;00m value\u001b[38;5;241m.\u001b[39mwith_traceback(tb)\n\u001b[0;32m---> 39\u001b[0m     \u001b[38;5;28;01mraise\u001b[39;00m value\n\u001b[1;32m     40\u001b[0m \u001b[38;5;28;01mfinally\u001b[39;00m:\n",
      "File \u001b[0;32m/opt/conda/envs/mats_sae_training/lib/python3.11/site-packages/urllib3/connectionpool.py:793\u001b[0m, in \u001b[0;36mHTTPConnectionPool.urlopen\u001b[0;34m(self, method, url, body, headers, retries, redirect, assert_same_host, timeout, pool_timeout, release_conn, chunked, body_pos, preload_content, decode_content, **response_kw)\u001b[0m\n\u001b[1;32m    792\u001b[0m \u001b[38;5;66;03m# Make the request on the HTTPConnection object\u001b[39;00m\n\u001b[0;32m--> 793\u001b[0m response \u001b[38;5;241m=\u001b[39m \u001b[38;5;28;43mself\u001b[39;49m\u001b[38;5;241;43m.\u001b[39;49m\u001b[43m_make_request\u001b[49m\u001b[43m(\u001b[49m\n\u001b[1;32m    794\u001b[0m \u001b[43m    \u001b[49m\u001b[43mconn\u001b[49m\u001b[43m,\u001b[49m\n\u001b[1;32m    795\u001b[0m \u001b[43m    \u001b[49m\u001b[43mmethod\u001b[49m\u001b[43m,\u001b[49m\n\u001b[1;32m    796\u001b[0m \u001b[43m    \u001b[49m\u001b[43murl\u001b[49m\u001b[43m,\u001b[49m\n\u001b[1;32m    797\u001b[0m \u001b[43m    \u001b[49m\u001b[43mtimeout\u001b[49m\u001b[38;5;241;43m=\u001b[39;49m\u001b[43mtimeout_obj\u001b[49m\u001b[43m,\u001b[49m\n\u001b[1;32m    798\u001b[0m \u001b[43m    \u001b[49m\u001b[43mbody\u001b[49m\u001b[38;5;241;43m=\u001b[39;49m\u001b[43mbody\u001b[49m\u001b[43m,\u001b[49m\n\u001b[1;32m    799\u001b[0m \u001b[43m    \u001b[49m\u001b[43mheaders\u001b[49m\u001b[38;5;241;43m=\u001b[39;49m\u001b[43mheaders\u001b[49m\u001b[43m,\u001b[49m\n\u001b[1;32m    800\u001b[0m \u001b[43m    \u001b[49m\u001b[43mchunked\u001b[49m\u001b[38;5;241;43m=\u001b[39;49m\u001b[43mchunked\u001b[49m\u001b[43m,\u001b[49m\n\u001b[1;32m    801\u001b[0m \u001b[43m    \u001b[49m\u001b[43mretries\u001b[49m\u001b[38;5;241;43m=\u001b[39;49m\u001b[43mretries\u001b[49m\u001b[43m,\u001b[49m\n\u001b[1;32m    802\u001b[0m \u001b[43m    \u001b[49m\u001b[43mresponse_conn\u001b[49m\u001b[38;5;241;43m=\u001b[39;49m\u001b[43mresponse_conn\u001b[49m\u001b[43m,\u001b[49m\n\u001b[1;32m    803\u001b[0m \u001b[43m    \u001b[49m\u001b[43mpreload_content\u001b[49m\u001b[38;5;241;43m=\u001b[39;49m\u001b[43mpreload_content\u001b[49m\u001b[43m,\u001b[49m\n\u001b[1;32m    804\u001b[0m \u001b[43m    \u001b[49m\u001b[43mdecode_content\u001b[49m\u001b[38;5;241;43m=\u001b[39;49m\u001b[43mdecode_content\u001b[49m\u001b[43m,\u001b[49m\n\u001b[1;32m    805\u001b[0m \u001b[43m    \u001b[49m\u001b[38;5;241;43m*\u001b[39;49m\u001b[38;5;241;43m*\u001b[39;49m\u001b[43mresponse_kw\u001b[49m\u001b[43m,\u001b[49m\n\u001b[1;32m    806\u001b[0m \u001b[43m\u001b[49m\u001b[43m)\u001b[49m\n\u001b[1;32m    808\u001b[0m \u001b[38;5;66;03m# Everything went great!\u001b[39;00m\n",
      "File \u001b[0;32m/opt/conda/envs/mats_sae_training/lib/python3.11/site-packages/urllib3/connectionpool.py:539\u001b[0m, in \u001b[0;36mHTTPConnectionPool._make_request\u001b[0;34m(self, conn, method, url, body, headers, retries, timeout, chunked, response_conn, preload_content, decode_content, enforce_content_length)\u001b[0m\n\u001b[1;32m    538\u001b[0m \u001b[38;5;28;01mexcept\u001b[39;00m (BaseSSLError, \u001b[38;5;167;01mOSError\u001b[39;00m) \u001b[38;5;28;01mas\u001b[39;00m e:\n\u001b[0;32m--> 539\u001b[0m     \u001b[38;5;28;43mself\u001b[39;49m\u001b[38;5;241;43m.\u001b[39;49m\u001b[43m_raise_timeout\u001b[49m\u001b[43m(\u001b[49m\u001b[43merr\u001b[49m\u001b[38;5;241;43m=\u001b[39;49m\u001b[43me\u001b[49m\u001b[43m,\u001b[49m\u001b[43m \u001b[49m\u001b[43murl\u001b[49m\u001b[38;5;241;43m=\u001b[39;49m\u001b[43murl\u001b[49m\u001b[43m,\u001b[49m\u001b[43m \u001b[49m\u001b[43mtimeout_value\u001b[49m\u001b[38;5;241;43m=\u001b[39;49m\u001b[43mread_timeout\u001b[49m\u001b[43m)\u001b[49m\n\u001b[1;32m    540\u001b[0m     \u001b[38;5;28;01mraise\u001b[39;00m\n",
      "File \u001b[0;32m/opt/conda/envs/mats_sae_training/lib/python3.11/site-packages/urllib3/connectionpool.py:370\u001b[0m, in \u001b[0;36mHTTPConnectionPool._raise_timeout\u001b[0;34m(self, err, url, timeout_value)\u001b[0m\n\u001b[1;32m    369\u001b[0m \u001b[38;5;28;01mif\u001b[39;00m \u001b[38;5;28misinstance\u001b[39m(err, SocketTimeout):\n\u001b[0;32m--> 370\u001b[0m     \u001b[38;5;28;01mraise\u001b[39;00m ReadTimeoutError(\n\u001b[1;32m    371\u001b[0m         \u001b[38;5;28mself\u001b[39m, url, \u001b[38;5;124mf\u001b[39m\u001b[38;5;124m\"\u001b[39m\u001b[38;5;124mRead timed out. (read timeout=\u001b[39m\u001b[38;5;132;01m{\u001b[39;00mtimeout_value\u001b[38;5;132;01m}\u001b[39;00m\u001b[38;5;124m)\u001b[39m\u001b[38;5;124m\"\u001b[39m\n\u001b[1;32m    372\u001b[0m     ) \u001b[38;5;28;01mfrom\u001b[39;00m \u001b[38;5;21;01merr\u001b[39;00m\n\u001b[1;32m    374\u001b[0m \u001b[38;5;66;03m# See the above comment about EAGAIN in Python 3.\u001b[39;00m\n",
      "\u001b[0;31mReadTimeoutError\u001b[0m: HTTPSConnectionPool(host='huggingface.co', port=443): Read timed out. (read timeout=10)",
      "\nDuring handling of the above exception, another exception occurred:\n",
      "\u001b[0;31mReadTimeout\u001b[0m                               Traceback (most recent call last)",
      "File \u001b[0;32m/opt/conda/envs/mats_sae_training/lib/python3.11/site-packages/huggingface_hub/file_download.py:1238\u001b[0m, in \u001b[0;36mhf_hub_download\u001b[0;34m(repo_id, filename, subfolder, repo_type, revision, library_name, library_version, cache_dir, local_dir, local_dir_use_symlinks, user_agent, force_download, force_filename, proxies, etag_timeout, resume_download, token, local_files_only, legacy_cache_layout, endpoint)\u001b[0m\n\u001b[1;32m   1237\u001b[0m \u001b[38;5;28;01mtry\u001b[39;00m:\n\u001b[0;32m-> 1238\u001b[0m     metadata \u001b[38;5;241m=\u001b[39m \u001b[43mget_hf_file_metadata\u001b[49m\u001b[43m(\u001b[49m\n\u001b[1;32m   1239\u001b[0m \u001b[43m        \u001b[49m\u001b[43murl\u001b[49m\u001b[38;5;241;43m=\u001b[39;49m\u001b[43murl\u001b[49m\u001b[43m,\u001b[49m\n\u001b[1;32m   1240\u001b[0m \u001b[43m        \u001b[49m\u001b[43mtoken\u001b[49m\u001b[38;5;241;43m=\u001b[39;49m\u001b[43mtoken\u001b[49m\u001b[43m,\u001b[49m\n\u001b[1;32m   1241\u001b[0m \u001b[43m        \u001b[49m\u001b[43mproxies\u001b[49m\u001b[38;5;241;43m=\u001b[39;49m\u001b[43mproxies\u001b[49m\u001b[43m,\u001b[49m\n\u001b[1;32m   1242\u001b[0m \u001b[43m        \u001b[49m\u001b[43mtimeout\u001b[49m\u001b[38;5;241;43m=\u001b[39;49m\u001b[43metag_timeout\u001b[49m\u001b[43m,\u001b[49m\n\u001b[1;32m   1243\u001b[0m \u001b[43m        \u001b[49m\u001b[43mlibrary_name\u001b[49m\u001b[38;5;241;43m=\u001b[39;49m\u001b[43mlibrary_name\u001b[49m\u001b[43m,\u001b[49m\n\u001b[1;32m   1244\u001b[0m \u001b[43m        \u001b[49m\u001b[43mlibrary_version\u001b[49m\u001b[38;5;241;43m=\u001b[39;49m\u001b[43mlibrary_version\u001b[49m\u001b[43m,\u001b[49m\n\u001b[1;32m   1245\u001b[0m \u001b[43m        \u001b[49m\u001b[43muser_agent\u001b[49m\u001b[38;5;241;43m=\u001b[39;49m\u001b[43muser_agent\u001b[49m\u001b[43m,\u001b[49m\n\u001b[1;32m   1246\u001b[0m \u001b[43m    \u001b[49m\u001b[43m)\u001b[49m\n\u001b[1;32m   1247\u001b[0m \u001b[38;5;28;01mexcept\u001b[39;00m EntryNotFoundError \u001b[38;5;28;01mas\u001b[39;00m http_error:\n\u001b[1;32m   1248\u001b[0m     \u001b[38;5;66;03m# Cache the non-existence of the file and raise\u001b[39;00m\n",
      "File \u001b[0;32m/opt/conda/envs/mats_sae_training/lib/python3.11/site-packages/huggingface_hub/utils/_validators.py:118\u001b[0m, in \u001b[0;36mvalidate_hf_hub_args.<locals>._inner_fn\u001b[0;34m(*args, **kwargs)\u001b[0m\n\u001b[1;32m    116\u001b[0m     kwargs \u001b[38;5;241m=\u001b[39m smoothly_deprecate_use_auth_token(fn_name\u001b[38;5;241m=\u001b[39mfn\u001b[38;5;241m.\u001b[39m\u001b[38;5;18m__name__\u001b[39m, has_token\u001b[38;5;241m=\u001b[39mhas_token, kwargs\u001b[38;5;241m=\u001b[39mkwargs)\n\u001b[0;32m--> 118\u001b[0m \u001b[38;5;28;01mreturn\u001b[39;00m \u001b[43mfn\u001b[49m\u001b[43m(\u001b[49m\u001b[38;5;241;43m*\u001b[39;49m\u001b[43margs\u001b[49m\u001b[43m,\u001b[49m\u001b[43m \u001b[49m\u001b[38;5;241;43m*\u001b[39;49m\u001b[38;5;241;43m*\u001b[39;49m\u001b[43mkwargs\u001b[49m\u001b[43m)\u001b[49m\n",
      "File \u001b[0;32m/opt/conda/envs/mats_sae_training/lib/python3.11/site-packages/huggingface_hub/file_download.py:1631\u001b[0m, in \u001b[0;36mget_hf_file_metadata\u001b[0;34m(url, token, proxies, timeout, library_name, library_version, user_agent)\u001b[0m\n\u001b[1;32m   1630\u001b[0m \u001b[38;5;66;03m# Retrieve metadata\u001b[39;00m\n\u001b[0;32m-> 1631\u001b[0m r \u001b[38;5;241m=\u001b[39m \u001b[43m_request_wrapper\u001b[49m\u001b[43m(\u001b[49m\n\u001b[1;32m   1632\u001b[0m \u001b[43m    \u001b[49m\u001b[43mmethod\u001b[49m\u001b[38;5;241;43m=\u001b[39;49m\u001b[38;5;124;43m\"\u001b[39;49m\u001b[38;5;124;43mHEAD\u001b[39;49m\u001b[38;5;124;43m\"\u001b[39;49m\u001b[43m,\u001b[49m\n\u001b[1;32m   1633\u001b[0m \u001b[43m    \u001b[49m\u001b[43murl\u001b[49m\u001b[38;5;241;43m=\u001b[39;49m\u001b[43murl\u001b[49m\u001b[43m,\u001b[49m\n\u001b[1;32m   1634\u001b[0m \u001b[43m    \u001b[49m\u001b[43mheaders\u001b[49m\u001b[38;5;241;43m=\u001b[39;49m\u001b[43mheaders\u001b[49m\u001b[43m,\u001b[49m\n\u001b[1;32m   1635\u001b[0m \u001b[43m    \u001b[49m\u001b[43mallow_redirects\u001b[49m\u001b[38;5;241;43m=\u001b[39;49m\u001b[38;5;28;43;01mFalse\u001b[39;49;00m\u001b[43m,\u001b[49m\n\u001b[1;32m   1636\u001b[0m \u001b[43m    \u001b[49m\u001b[43mfollow_relative_redirects\u001b[49m\u001b[38;5;241;43m=\u001b[39;49m\u001b[38;5;28;43;01mTrue\u001b[39;49;00m\u001b[43m,\u001b[49m\n\u001b[1;32m   1637\u001b[0m \u001b[43m    \u001b[49m\u001b[43mproxies\u001b[49m\u001b[38;5;241;43m=\u001b[39;49m\u001b[43mproxies\u001b[49m\u001b[43m,\u001b[49m\n\u001b[1;32m   1638\u001b[0m \u001b[43m    \u001b[49m\u001b[43mtimeout\u001b[49m\u001b[38;5;241;43m=\u001b[39;49m\u001b[43mtimeout\u001b[49m\u001b[43m,\u001b[49m\n\u001b[1;32m   1639\u001b[0m \u001b[43m\u001b[49m\u001b[43m)\u001b[49m\n\u001b[1;32m   1640\u001b[0m hf_raise_for_status(r)\n",
      "File \u001b[0;32m/opt/conda/envs/mats_sae_training/lib/python3.11/site-packages/huggingface_hub/file_download.py:385\u001b[0m, in \u001b[0;36m_request_wrapper\u001b[0;34m(method, url, follow_relative_redirects, **params)\u001b[0m\n\u001b[1;32m    384\u001b[0m \u001b[38;5;28;01mif\u001b[39;00m follow_relative_redirects:\n\u001b[0;32m--> 385\u001b[0m     response \u001b[38;5;241m=\u001b[39m \u001b[43m_request_wrapper\u001b[49m\u001b[43m(\u001b[49m\n\u001b[1;32m    386\u001b[0m \u001b[43m        \u001b[49m\u001b[43mmethod\u001b[49m\u001b[38;5;241;43m=\u001b[39;49m\u001b[43mmethod\u001b[49m\u001b[43m,\u001b[49m\n\u001b[1;32m    387\u001b[0m \u001b[43m        \u001b[49m\u001b[43murl\u001b[49m\u001b[38;5;241;43m=\u001b[39;49m\u001b[43murl\u001b[49m\u001b[43m,\u001b[49m\n\u001b[1;32m    388\u001b[0m \u001b[43m        \u001b[49m\u001b[43mfollow_relative_redirects\u001b[49m\u001b[38;5;241;43m=\u001b[39;49m\u001b[38;5;28;43;01mFalse\u001b[39;49;00m\u001b[43m,\u001b[49m\n\u001b[1;32m    389\u001b[0m \u001b[43m        \u001b[49m\u001b[38;5;241;43m*\u001b[39;49m\u001b[38;5;241;43m*\u001b[39;49m\u001b[43mparams\u001b[49m\u001b[43m,\u001b[49m\n\u001b[1;32m    390\u001b[0m \u001b[43m    \u001b[49m\u001b[43m)\u001b[49m\n\u001b[1;32m    392\u001b[0m     \u001b[38;5;66;03m# If redirection, we redirect only relative paths.\u001b[39;00m\n\u001b[1;32m    393\u001b[0m     \u001b[38;5;66;03m# This is useful in case of a renamed repository.\u001b[39;00m\n",
      "File \u001b[0;32m/opt/conda/envs/mats_sae_training/lib/python3.11/site-packages/huggingface_hub/file_download.py:408\u001b[0m, in \u001b[0;36m_request_wrapper\u001b[0;34m(method, url, follow_relative_redirects, **params)\u001b[0m\n\u001b[1;32m    407\u001b[0m \u001b[38;5;66;03m# Perform request and return if status_code is not in the retry list.\u001b[39;00m\n\u001b[0;32m--> 408\u001b[0m response \u001b[38;5;241m=\u001b[39m \u001b[43mget_session\u001b[49m\u001b[43m(\u001b[49m\u001b[43m)\u001b[49m\u001b[38;5;241;43m.\u001b[39;49m\u001b[43mrequest\u001b[49m\u001b[43m(\u001b[49m\u001b[43mmethod\u001b[49m\u001b[38;5;241;43m=\u001b[39;49m\u001b[43mmethod\u001b[49m\u001b[43m,\u001b[49m\u001b[43m \u001b[49m\u001b[43murl\u001b[49m\u001b[38;5;241;43m=\u001b[39;49m\u001b[43murl\u001b[49m\u001b[43m,\u001b[49m\u001b[43m \u001b[49m\u001b[38;5;241;43m*\u001b[39;49m\u001b[38;5;241;43m*\u001b[39;49m\u001b[43mparams\u001b[49m\u001b[43m)\u001b[49m\n\u001b[1;32m    409\u001b[0m hf_raise_for_status(response)\n",
      "File \u001b[0;32m/opt/conda/envs/mats_sae_training/lib/python3.11/site-packages/requests/sessions.py:589\u001b[0m, in \u001b[0;36mSession.request\u001b[0;34m(self, method, url, params, data, headers, cookies, files, auth, timeout, allow_redirects, proxies, hooks, stream, verify, cert, json)\u001b[0m\n\u001b[1;32m    588\u001b[0m send_kwargs\u001b[38;5;241m.\u001b[39mupdate(settings)\n\u001b[0;32m--> 589\u001b[0m resp \u001b[38;5;241m=\u001b[39m \u001b[38;5;28;43mself\u001b[39;49m\u001b[38;5;241;43m.\u001b[39;49m\u001b[43msend\u001b[49m\u001b[43m(\u001b[49m\u001b[43mprep\u001b[49m\u001b[43m,\u001b[49m\u001b[43m \u001b[49m\u001b[38;5;241;43m*\u001b[39;49m\u001b[38;5;241;43m*\u001b[39;49m\u001b[43msend_kwargs\u001b[49m\u001b[43m)\u001b[49m\n\u001b[1;32m    591\u001b[0m \u001b[38;5;28;01mreturn\u001b[39;00m resp\n",
      "File \u001b[0;32m/opt/conda/envs/mats_sae_training/lib/python3.11/site-packages/requests/sessions.py:703\u001b[0m, in \u001b[0;36mSession.send\u001b[0;34m(self, request, **kwargs)\u001b[0m\n\u001b[1;32m    702\u001b[0m \u001b[38;5;66;03m# Send the request\u001b[39;00m\n\u001b[0;32m--> 703\u001b[0m r \u001b[38;5;241m=\u001b[39m \u001b[43madapter\u001b[49m\u001b[38;5;241;43m.\u001b[39;49m\u001b[43msend\u001b[49m\u001b[43m(\u001b[49m\u001b[43mrequest\u001b[49m\u001b[43m,\u001b[49m\u001b[43m \u001b[49m\u001b[38;5;241;43m*\u001b[39;49m\u001b[38;5;241;43m*\u001b[39;49m\u001b[43mkwargs\u001b[49m\u001b[43m)\u001b[49m\n\u001b[1;32m    705\u001b[0m \u001b[38;5;66;03m# Total elapsed time of the request (approximately)\u001b[39;00m\n",
      "File \u001b[0;32m/opt/conda/envs/mats_sae_training/lib/python3.11/site-packages/huggingface_hub/utils/_http.py:67\u001b[0m, in \u001b[0;36mUniqueRequestIdAdapter.send\u001b[0;34m(self, request, *args, **kwargs)\u001b[0m\n\u001b[1;32m     66\u001b[0m \u001b[38;5;28;01mtry\u001b[39;00m:\n\u001b[0;32m---> 67\u001b[0m     \u001b[38;5;28;01mreturn\u001b[39;00m \u001b[38;5;28;43msuper\u001b[39;49m\u001b[43m(\u001b[49m\u001b[43m)\u001b[49m\u001b[38;5;241;43m.\u001b[39;49m\u001b[43msend\u001b[49m\u001b[43m(\u001b[49m\u001b[43mrequest\u001b[49m\u001b[43m,\u001b[49m\u001b[43m \u001b[49m\u001b[38;5;241;43m*\u001b[39;49m\u001b[43margs\u001b[49m\u001b[43m,\u001b[49m\u001b[43m \u001b[49m\u001b[38;5;241;43m*\u001b[39;49m\u001b[38;5;241;43m*\u001b[39;49m\u001b[43mkwargs\u001b[49m\u001b[43m)\u001b[49m\n\u001b[1;32m     68\u001b[0m \u001b[38;5;28;01mexcept\u001b[39;00m requests\u001b[38;5;241m.\u001b[39mRequestException \u001b[38;5;28;01mas\u001b[39;00m e:\n",
      "File \u001b[0;32m/opt/conda/envs/mats_sae_training/lib/python3.11/site-packages/requests/adapters.py:532\u001b[0m, in \u001b[0;36mHTTPAdapter.send\u001b[0;34m(self, request, stream, timeout, verify, cert, proxies)\u001b[0m\n\u001b[1;32m    531\u001b[0m \u001b[38;5;28;01melif\u001b[39;00m \u001b[38;5;28misinstance\u001b[39m(e, ReadTimeoutError):\n\u001b[0;32m--> 532\u001b[0m     \u001b[38;5;28;01mraise\u001b[39;00m ReadTimeout(e, request\u001b[38;5;241m=\u001b[39mrequest)\n\u001b[1;32m    533\u001b[0m \u001b[38;5;28;01melif\u001b[39;00m \u001b[38;5;28misinstance\u001b[39m(e, _InvalidHeader):\n",
      "\u001b[0;31mReadTimeout\u001b[0m: (ReadTimeoutError(\"HTTPSConnectionPool(host='huggingface.co', port=443): Read timed out. (read timeout=10)\"), '(Request ID: fe9f3f0a-d9df-441a-959a-d5bb069fcd69)')",
      "\nThe above exception was the direct cause of the following exception:\n",
      "\u001b[0;31mLocalEntryNotFoundError\u001b[0m                   Traceback (most recent call last)",
      "Cell \u001b[0;32mIn[5], line 3\u001b[0m\n\u001b[1;32m      1\u001b[0m \u001b[38;5;28;01mfrom\u001b[39;00m \u001b[38;5;21;01mtransformer_lens\u001b[39;00m \u001b[38;5;28;01mimport\u001b[39;00m HookedTransformer\n\u001b[1;32m      2\u001b[0m model_name \u001b[38;5;241m=\u001b[39m \u001b[38;5;124m\"\u001b[39m\u001b[38;5;124mBaidicoot/Othello-GPT-Transformer-Lens\u001b[39m\u001b[38;5;124m\"\u001b[39m\n\u001b[0;32m----> 3\u001b[0m model \u001b[38;5;241m=\u001b[39m \u001b[43mHookedTransformer\u001b[49m\u001b[38;5;241;43m.\u001b[39;49m\u001b[43mfrom_pretrained\u001b[49m\u001b[43m(\u001b[49m\u001b[43mmodel_name\u001b[49m\u001b[43m)\u001b[49m\n",
      "File \u001b[0;32m/opt/conda/envs/mats_sae_training/lib/python3.11/site-packages/transformer_lens/HookedTransformer.py:1248\u001b[0m, in \u001b[0;36mHookedTransformer.from_pretrained\u001b[0;34m(cls, model_name, fold_ln, center_writing_weights, center_unembed, refactor_factored_attn_matrices, checkpoint_index, checkpoint_value, hf_model, device, n_devices, tokenizer, move_to_device, fold_value_biases, default_prepend_bos, default_padding_side, dtype, **from_pretrained_kwargs)\u001b[0m\n\u001b[1;32m   1243\u001b[0m official_model_name \u001b[38;5;241m=\u001b[39m loading\u001b[38;5;241m.\u001b[39mget_official_model_name(model_name)\n\u001b[1;32m   1245\u001b[0m \u001b[38;5;66;03m# Load the config into an HookedTransformerConfig object. If loading from a\u001b[39;00m\n\u001b[1;32m   1246\u001b[0m \u001b[38;5;66;03m# checkpoint, the config object will contain the information about the\u001b[39;00m\n\u001b[1;32m   1247\u001b[0m \u001b[38;5;66;03m# checkpoint\u001b[39;00m\n\u001b[0;32m-> 1248\u001b[0m cfg \u001b[38;5;241m=\u001b[39m \u001b[43mloading\u001b[49m\u001b[38;5;241;43m.\u001b[39;49m\u001b[43mget_pretrained_model_config\u001b[49m\u001b[43m(\u001b[49m\n\u001b[1;32m   1249\u001b[0m \u001b[43m    \u001b[49m\u001b[43mofficial_model_name\u001b[49m\u001b[43m,\u001b[49m\n\u001b[1;32m   1250\u001b[0m \u001b[43m    \u001b[49m\u001b[43mcheckpoint_index\u001b[49m\u001b[38;5;241;43m=\u001b[39;49m\u001b[43mcheckpoint_index\u001b[49m\u001b[43m,\u001b[49m\n\u001b[1;32m   1251\u001b[0m \u001b[43m    \u001b[49m\u001b[43mcheckpoint_value\u001b[49m\u001b[38;5;241;43m=\u001b[39;49m\u001b[43mcheckpoint_value\u001b[49m\u001b[43m,\u001b[49m\n\u001b[1;32m   1252\u001b[0m \u001b[43m    \u001b[49m\u001b[43mfold_ln\u001b[49m\u001b[38;5;241;43m=\u001b[39;49m\u001b[43mfold_ln\u001b[49m\u001b[43m,\u001b[49m\n\u001b[1;32m   1253\u001b[0m \u001b[43m    \u001b[49m\u001b[43mdevice\u001b[49m\u001b[38;5;241;43m=\u001b[39;49m\u001b[43mdevice\u001b[49m\u001b[43m,\u001b[49m\n\u001b[1;32m   1254\u001b[0m \u001b[43m    \u001b[49m\u001b[43mn_devices\u001b[49m\u001b[38;5;241;43m=\u001b[39;49m\u001b[43mn_devices\u001b[49m\u001b[43m,\u001b[49m\n\u001b[1;32m   1255\u001b[0m \u001b[43m    \u001b[49m\u001b[43mdefault_prepend_bos\u001b[49m\u001b[38;5;241;43m=\u001b[39;49m\u001b[43mdefault_prepend_bos\u001b[49m\u001b[43m,\u001b[49m\n\u001b[1;32m   1256\u001b[0m \u001b[43m    \u001b[49m\u001b[43mdtype\u001b[49m\u001b[38;5;241;43m=\u001b[39;49m\u001b[43mdtype\u001b[49m\u001b[43m,\u001b[49m\n\u001b[1;32m   1257\u001b[0m \u001b[43m    \u001b[49m\u001b[38;5;241;43m*\u001b[39;49m\u001b[38;5;241;43m*\u001b[39;49m\u001b[43mfrom_pretrained_kwargs\u001b[49m\u001b[43m,\u001b[49m\n\u001b[1;32m   1258\u001b[0m \u001b[43m\u001b[49m\u001b[43m)\u001b[49m\n\u001b[1;32m   1260\u001b[0m \u001b[38;5;28;01mif\u001b[39;00m cfg\u001b[38;5;241m.\u001b[39mpositional_embedding_type \u001b[38;5;241m==\u001b[39m \u001b[38;5;124m\"\u001b[39m\u001b[38;5;124mshortformer\u001b[39m\u001b[38;5;124m\"\u001b[39m:\n\u001b[1;32m   1261\u001b[0m     \u001b[38;5;28;01mif\u001b[39;00m fold_ln:\n",
      "File \u001b[0;32m/opt/conda/envs/mats_sae_training/lib/python3.11/site-packages/transformer_lens/loading_from_pretrained.py:862\u001b[0m, in \u001b[0;36mget_pretrained_model_config\u001b[0;34m(model_name, checkpoint_index, checkpoint_value, fold_ln, device, n_devices, default_prepend_bos, dtype, **kwargs)\u001b[0m\n\u001b[1;32m    856\u001b[0m official_model_name \u001b[38;5;241m=\u001b[39m get_official_model_name(model_name)\n\u001b[1;32m    857\u001b[0m \u001b[38;5;28;01mif\u001b[39;00m (\n\u001b[1;32m    858\u001b[0m     official_model_name\u001b[38;5;241m.\u001b[39mstartswith(\u001b[38;5;124m\"\u001b[39m\u001b[38;5;124mNeelNanda\u001b[39m\u001b[38;5;124m\"\u001b[39m)\n\u001b[1;32m    859\u001b[0m     \u001b[38;5;129;01mor\u001b[39;00m official_model_name\u001b[38;5;241m.\u001b[39mstartswith(\u001b[38;5;124m\"\u001b[39m\u001b[38;5;124mArthurConmy\u001b[39m\u001b[38;5;124m\"\u001b[39m)\n\u001b[1;32m    860\u001b[0m     \u001b[38;5;129;01mor\u001b[39;00m official_model_name\u001b[38;5;241m.\u001b[39mstartswith(\u001b[38;5;124m\"\u001b[39m\u001b[38;5;124mBaidicoot\u001b[39m\u001b[38;5;124m\"\u001b[39m)\n\u001b[1;32m    861\u001b[0m ):\n\u001b[0;32m--> 862\u001b[0m     cfg_dict \u001b[38;5;241m=\u001b[39m \u001b[43mconvert_neel_model_config\u001b[49m\u001b[43m(\u001b[49m\u001b[43mofficial_model_name\u001b[49m\u001b[43m,\u001b[49m\u001b[43m \u001b[49m\u001b[38;5;241;43m*\u001b[39;49m\u001b[38;5;241;43m*\u001b[39;49m\u001b[43mkwargs\u001b[49m\u001b[43m)\u001b[49m\n\u001b[1;32m    863\u001b[0m \u001b[38;5;28;01melse\u001b[39;00m:\n\u001b[1;32m    864\u001b[0m     cfg_dict \u001b[38;5;241m=\u001b[39m convert_hf_model_config(official_model_name, \u001b[38;5;241m*\u001b[39m\u001b[38;5;241m*\u001b[39mkwargs)\n",
      "File \u001b[0;32m/opt/conda/envs/mats_sae_training/lib/python3.11/site-packages/transformer_lens/loading_from_pretrained.py:778\u001b[0m, in \u001b[0;36mconvert_neel_model_config\u001b[0;34m(official_model_name, **kwargs)\u001b[0m\n\u001b[1;32m    771\u001b[0m \u001b[38;5;250m\u001b[39m\u001b[38;5;124;03m\"\"\"\u001b[39;00m\n\u001b[1;32m    772\u001b[0m \u001b[38;5;124;03mLoads the config for a model trained by me (NeelNanda), converted to a dictionary\u001b[39;00m\n\u001b[1;32m    773\u001b[0m \u001b[38;5;124;03min the HookedTransformerConfig format.\u001b[39;00m\n\u001b[1;32m    774\u001b[0m \n\u001b[1;32m    775\u001b[0m \u001b[38;5;124;03mAutoConfig is not supported, because these models are in the HookedTransformer format, so we directly download and load the json.\u001b[39;00m\n\u001b[1;32m    776\u001b[0m \u001b[38;5;124;03m\"\"\"\u001b[39;00m\n\u001b[1;32m    777\u001b[0m official_model_name \u001b[38;5;241m=\u001b[39m get_official_model_name(official_model_name)\n\u001b[0;32m--> 778\u001b[0m cfg_json: \u001b[38;5;28mdict\u001b[39m \u001b[38;5;241m=\u001b[39m \u001b[43mutils\u001b[49m\u001b[38;5;241;43m.\u001b[39;49m\u001b[43mdownload_file_from_hf\u001b[49m\u001b[43m(\u001b[49m\n\u001b[1;32m    779\u001b[0m \u001b[43m    \u001b[49m\u001b[43mofficial_model_name\u001b[49m\u001b[43m,\u001b[49m\u001b[43m \u001b[49m\u001b[38;5;124;43m\"\u001b[39;49m\u001b[38;5;124;43mconfig.json\u001b[39;49m\u001b[38;5;124;43m\"\u001b[39;49m\u001b[43m,\u001b[49m\u001b[43m \u001b[49m\u001b[38;5;241;43m*\u001b[39;49m\u001b[38;5;241;43m*\u001b[39;49m\u001b[43mkwargs\u001b[49m\n\u001b[1;32m    780\u001b[0m \u001b[43m\u001b[49m\u001b[43m)\u001b[49m\n\u001b[1;32m    781\u001b[0m cfg_arch \u001b[38;5;241m=\u001b[39m cfg_json\u001b[38;5;241m.\u001b[39mget(\n\u001b[1;32m    782\u001b[0m     \u001b[38;5;124m\"\u001b[39m\u001b[38;5;124marchitecture\u001b[39m\u001b[38;5;124m\"\u001b[39m, \u001b[38;5;124m\"\u001b[39m\u001b[38;5;124mneel\u001b[39m\u001b[38;5;124m\"\u001b[39m \u001b[38;5;28;01mif\u001b[39;00m \u001b[38;5;124m\"\u001b[39m\u001b[38;5;124m_old\u001b[39m\u001b[38;5;124m\"\u001b[39m \u001b[38;5;129;01mnot\u001b[39;00m \u001b[38;5;129;01min\u001b[39;00m official_model_name \u001b[38;5;28;01melse\u001b[39;00m \u001b[38;5;124m\"\u001b[39m\u001b[38;5;124mneel-solu-old\u001b[39m\u001b[38;5;124m\"\u001b[39m\n\u001b[1;32m    783\u001b[0m )\n\u001b[1;32m    784\u001b[0m cfg_dict \u001b[38;5;241m=\u001b[39m {\n\u001b[1;32m    785\u001b[0m     \u001b[38;5;124m\"\u001b[39m\u001b[38;5;124md_model\u001b[39m\u001b[38;5;124m\"\u001b[39m: cfg_json[\u001b[38;5;124m\"\u001b[39m\u001b[38;5;124md_model\u001b[39m\u001b[38;5;124m\"\u001b[39m],\n\u001b[1;32m    786\u001b[0m     \u001b[38;5;124m\"\u001b[39m\u001b[38;5;124mn_layers\u001b[39m\u001b[38;5;124m\"\u001b[39m: cfg_json[\u001b[38;5;124m\"\u001b[39m\u001b[38;5;124mn_layers\u001b[39m\u001b[38;5;124m\"\u001b[39m],\n\u001b[0;32m   (...)\u001b[0m\n\u001b[1;32m    796\u001b[0m     \u001b[38;5;124m\"\u001b[39m\u001b[38;5;124moriginal_architecture\u001b[39m\u001b[38;5;124m\"\u001b[39m: cfg_arch,\n\u001b[1;32m    797\u001b[0m }\n",
      "File \u001b[0;32m/opt/conda/envs/mats_sae_training/lib/python3.11/site-packages/transformer_lens/utils.py:56\u001b[0m, in \u001b[0;36mdownload_file_from_hf\u001b[0;34m(repo_name, file_name, subfolder, cache_dir, force_is_torch, **kwargs)\u001b[0m\n\u001b[1;32m     43\u001b[0m \u001b[38;5;28;01mdef\u001b[39;00m \u001b[38;5;21mdownload_file_from_hf\u001b[39m(\n\u001b[1;32m     44\u001b[0m     repo_name,\n\u001b[1;32m     45\u001b[0m     file_name,\n\u001b[0;32m   (...)\u001b[0m\n\u001b[1;32m     49\u001b[0m     \u001b[38;5;241m*\u001b[39m\u001b[38;5;241m*\u001b[39mkwargs,\n\u001b[1;32m     50\u001b[0m ):\n\u001b[1;32m     51\u001b[0m \u001b[38;5;250m    \u001b[39m\u001b[38;5;124;03m\"\"\"\u001b[39;00m\n\u001b[1;32m     52\u001b[0m \u001b[38;5;124;03m    Helper function to download files from the HuggingFace Hub, from subfolder/file_name in repo_name, saving locally to cache_dir and returning the loaded file (if a json or Torch object) and the file path otherwise.\u001b[39;00m\n\u001b[1;32m     53\u001b[0m \n\u001b[1;32m     54\u001b[0m \u001b[38;5;124;03m    If it's a Torch file without the \".pth\" extension, set force_is_torch=True to load it as a Torch object.\u001b[39;00m\n\u001b[1;32m     55\u001b[0m \u001b[38;5;124;03m    \"\"\"\u001b[39;00m\n\u001b[0;32m---> 56\u001b[0m     file_path \u001b[38;5;241m=\u001b[39m \u001b[43mhf_hub_download\u001b[49m\u001b[43m(\u001b[49m\n\u001b[1;32m     57\u001b[0m \u001b[43m        \u001b[49m\u001b[43mrepo_id\u001b[49m\u001b[38;5;241;43m=\u001b[39;49m\u001b[43mrepo_name\u001b[49m\u001b[43m,\u001b[49m\n\u001b[1;32m     58\u001b[0m \u001b[43m        \u001b[49m\u001b[43mfilename\u001b[49m\u001b[38;5;241;43m=\u001b[39;49m\u001b[43mfile_name\u001b[49m\u001b[43m,\u001b[49m\n\u001b[1;32m     59\u001b[0m \u001b[43m        \u001b[49m\u001b[43msubfolder\u001b[49m\u001b[38;5;241;43m=\u001b[39;49m\u001b[43msubfolder\u001b[49m\u001b[43m,\u001b[49m\n\u001b[1;32m     60\u001b[0m \u001b[43m        \u001b[49m\u001b[43mcache_dir\u001b[49m\u001b[38;5;241;43m=\u001b[39;49m\u001b[43mcache_dir\u001b[49m\u001b[43m,\u001b[49m\n\u001b[1;32m     61\u001b[0m \u001b[43m        \u001b[49m\u001b[38;5;241;43m*\u001b[39;49m\u001b[38;5;241;43m*\u001b[39;49m\u001b[43mselect_compatible_kwargs\u001b[49m\u001b[43m(\u001b[49m\u001b[43mkwargs\u001b[49m\u001b[43m,\u001b[49m\u001b[43m \u001b[49m\u001b[43mhf_hub_download\u001b[49m\u001b[43m)\u001b[49m\u001b[43m,\u001b[49m\n\u001b[1;32m     62\u001b[0m \u001b[43m    \u001b[49m\u001b[43m)\u001b[49m\n\u001b[1;32m     64\u001b[0m     \u001b[38;5;28;01mif\u001b[39;00m file_path\u001b[38;5;241m.\u001b[39mendswith(\u001b[38;5;124m\"\u001b[39m\u001b[38;5;124m.pth\u001b[39m\u001b[38;5;124m\"\u001b[39m) \u001b[38;5;129;01mor\u001b[39;00m force_is_torch:\n\u001b[1;32m     65\u001b[0m         \u001b[38;5;28;01mreturn\u001b[39;00m torch\u001b[38;5;241m.\u001b[39mload(file_path, map_location\u001b[38;5;241m=\u001b[39m\u001b[38;5;124m\"\u001b[39m\u001b[38;5;124mcpu\u001b[39m\u001b[38;5;124m\"\u001b[39m)\n",
      "File \u001b[0;32m/opt/conda/envs/mats_sae_training/lib/python3.11/site-packages/huggingface_hub/utils/_validators.py:118\u001b[0m, in \u001b[0;36mvalidate_hf_hub_args.<locals>._inner_fn\u001b[0;34m(*args, **kwargs)\u001b[0m\n\u001b[1;32m    115\u001b[0m \u001b[38;5;28;01mif\u001b[39;00m check_use_auth_token:\n\u001b[1;32m    116\u001b[0m     kwargs \u001b[38;5;241m=\u001b[39m smoothly_deprecate_use_auth_token(fn_name\u001b[38;5;241m=\u001b[39mfn\u001b[38;5;241m.\u001b[39m\u001b[38;5;18m__name__\u001b[39m, has_token\u001b[38;5;241m=\u001b[39mhas_token, kwargs\u001b[38;5;241m=\u001b[39mkwargs)\n\u001b[0;32m--> 118\u001b[0m \u001b[38;5;28;01mreturn\u001b[39;00m \u001b[43mfn\u001b[49m\u001b[43m(\u001b[49m\u001b[38;5;241;43m*\u001b[39;49m\u001b[43margs\u001b[49m\u001b[43m,\u001b[49m\u001b[43m \u001b[49m\u001b[38;5;241;43m*\u001b[39;49m\u001b[38;5;241;43m*\u001b[39;49m\u001b[43mkwargs\u001b[49m\u001b[43m)\u001b[49m\n",
      "File \u001b[0;32m/opt/conda/envs/mats_sae_training/lib/python3.11/site-packages/huggingface_hub/file_download.py:1371\u001b[0m, in \u001b[0;36mhf_hub_download\u001b[0;34m(repo_id, filename, subfolder, repo_type, revision, library_name, library_version, cache_dir, local_dir, local_dir_use_symlinks, user_agent, force_download, force_filename, proxies, etag_timeout, resume_download, token, local_files_only, legacy_cache_layout, endpoint)\u001b[0m\n\u001b[1;32m   1368\u001b[0m         \u001b[38;5;28;01mraise\u001b[39;00m head_call_error\n\u001b[1;32m   1369\u001b[0m     \u001b[38;5;28;01melse\u001b[39;00m:\n\u001b[1;32m   1370\u001b[0m         \u001b[38;5;66;03m# Otherwise: most likely a connection issue or Hub downtime => let's warn the user\u001b[39;00m\n\u001b[0;32m-> 1371\u001b[0m         \u001b[38;5;28;01mraise\u001b[39;00m LocalEntryNotFoundError(\n\u001b[1;32m   1372\u001b[0m             \u001b[38;5;124m\"\u001b[39m\u001b[38;5;124mAn error happened while trying to locate the file on the Hub and we cannot find the requested files\u001b[39m\u001b[38;5;124m\"\u001b[39m\n\u001b[1;32m   1373\u001b[0m             \u001b[38;5;124m\"\u001b[39m\u001b[38;5;124m in the local cache. Please check your connection and try again or make sure your Internet connection\u001b[39m\u001b[38;5;124m\"\u001b[39m\n\u001b[1;32m   1374\u001b[0m             \u001b[38;5;124m\"\u001b[39m\u001b[38;5;124m is on.\u001b[39m\u001b[38;5;124m\"\u001b[39m\n\u001b[1;32m   1375\u001b[0m         ) \u001b[38;5;28;01mfrom\u001b[39;00m \u001b[38;5;21;01mhead_call_error\u001b[39;00m\n\u001b[1;32m   1377\u001b[0m \u001b[38;5;66;03m# From now on, etag and commit_hash are not None.\u001b[39;00m\n\u001b[1;32m   1378\u001b[0m \u001b[38;5;28;01massert\u001b[39;00m etag \u001b[38;5;129;01mis\u001b[39;00m \u001b[38;5;129;01mnot\u001b[39;00m \u001b[38;5;28;01mNone\u001b[39;00m, \u001b[38;5;124m\"\u001b[39m\u001b[38;5;124metag must have been retrieved from server\u001b[39m\u001b[38;5;124m\"\u001b[39m\n",
      "\u001b[0;31mLocalEntryNotFoundError\u001b[0m: An error happened while trying to locate the file on the Hub and we cannot find the requested files in the local cache. Please check your connection and try again or make sure your Internet connection is on."
     ]
    }
   ],
   "source": [
    "\n",
    "model_name = \"Baidicoot/Othello-GPT-Transformer-Lens\"\n",
    "model = HookedTransformer.from_pretrained(model_name)"
   ]
  },
  {
   "cell_type": "code",
   "execution_count": 8,
   "metadata": {},
   "outputs": [
    {
     "name": "stdout",
     "output_type": "stream",
     "text": [
      "fatal: destination path 'othello_world' already exists and is not an empty directory.\n"
     ]
    }
   ],
   "source": [
    "from pathlib import Path\n",
    "!git clone https://github.com/likenneth/othello_world\n",
    "OTHELLO_ROOT = Path(\"./othello_world/\")\n",
    "import sys\n",
    "sys.path.append(str(OTHELLO_ROOT/\"mechanistic_interpretability\"))\n",
    "from mech_interp_othello_utils import plot_single_board, to_string, to_int, int_to_label, string_to_label, OthelloBoardState\n",
    "\n"
   ]
  },
  {
   "cell_type": "code",
   "execution_count": 10,
   "metadata": {},
   "outputs": [
    {
     "name": "stdout",
     "output_type": "stream",
     "text": [
      "Number of games: 100000\n",
      "Length of game: 60\n"
     ]
    }
   ],
   "source": [
    "import numpy as np\n",
    "board_seqs_int = torch.tensor(np.load(OTHELLO_ROOT/\"mechanistic_interpretability/board_seqs_int_small.npy\"), dtype=torch.long)\n",
    "board_seqs_string = torch.tensor(np.load(OTHELLO_ROOT/\"mechanistic_interpretability/board_seqs_string_small.npy\"), dtype=torch.long)\n",
    "\n",
    "num_games, length_of_game = board_seqs_int.shape\n",
    "print(\"Number of games:\", num_games,)\n",
    "print(\"Length of game:\", length_of_game)"
   ]
  },
  {
   "cell_type": "code",
   "execution_count": 11,
   "metadata": {},
   "outputs": [],
   "source": [
    "stoi_indices = [\n",
    "    0, 1, 2, 3, 4, 5, 6, 7, 8, 9, 10, 11, 12, 13, 14, 15, 16, 17, 18, 19, 20, 21, 22, 23, 24, 25, 26, 29, 30, 31, 32, 33, 34, 37, 38, 39, 40, 41, 42, 43, 44, 45, 46, 47, 48, 49, 50, 51, 52, 53, 54, 55, 56, 57, 58, 59, 60, 61, 62, 63,\n",
    "]\n",
    "alpha = \"ABCDEFGH\"\n",
    "\n",
    "\n",
    "def to_board_label(i):\n",
    "    return f\"{alpha[i//8]}{i%8}\"\n",
    "\n",
    "\n",
    "board_labels = list(map(to_board_label, stoi_indices))"
   ]
  },
  {
   "cell_type": "code",
   "execution_count": 5,
   "metadata": {},
   "outputs": [],
   "source": [
    "stoi_indices = [\n",
    "    0, 1, 2, 3, 4, 5, 6, 7, 8, 9, 10, 11, 12, 13, 14, 15, 16, 17, 18, 19, 20, 21, 22, 23, 24, 25, 26, 29, 30, 31, 32, 33, 34, 37, 38, 39, 40, 41, 42, 43, 44, 45, 46, 47, 48, 49, 50, 51, 52, 53, 54, 55, 56, 57, 58, 59, 60, 61, 62, 63,\n",
    "]\n",
    "alpha = \"ABCDEFGH\"\n",
    "\n",
    "\n",
    "def to_board_label(i):\n",
    "    return f\"{alpha[i//8]}{i%8}\"\n",
    "\n",
    "\n",
    "board_labels = list(map(to_board_label, stoi_indices))"
   ]
  },
  {
   "cell_type": "code",
   "execution_count": 22,
   "metadata": {},
   "outputs": [
    {
     "name": "stdout",
     "output_type": "stream",
     "text": [
      "logits: torch.Size([1, 30, 61])\n"
     ]
    }
   ],
   "source": [
    "moves_int = board_seqs_int[0, :30]\n",
    "\n",
    "# This is implicitly converted to a batch of size 1\n",
    "logits = model(moves_int)\n",
    "print(\"logits:\", logits.shape)"
   ]
  },
  {
   "cell_type": "code",
   "execution_count": 23,
   "metadata": {},
   "outputs": [],
   "source": [
    "logit_vec = logits[0, -1]\n",
    "log_probs = logit_vec.log_softmax(-1)\n",
    "# Remove passing\n",
    "log_probs = log_probs[1:]\n",
    "assert len(log_probs)==60\n",
    "\n",
    "temp_board_state = torch.zeros(64, device=logit_vec.device)\n",
    "# Set all cells to -15 by default, for a very negative log prob - this means the middle cells don't show up as mattering\n",
    "temp_board_state -= 13.\n",
    "temp_board_state[stoi_indices] = log_probs"
   ]
  },
  {
   "cell_type": "code",
   "execution_count": 24,
   "metadata": {},
   "outputs": [
    {
     "data": {
      "application/vnd.plotly.v1+json": {
       "config": {
        "plotlyServerURL": "https://plot.ly"
       },
       "data": [
        {
         "coloraxis": "coloraxis",
         "hovertemplate": "x: %{x}<br>y: %{y}<br>color: %{z}<extra></extra>",
         "name": "0",
         "type": "heatmap",
         "x": [
          "0",
          "1",
          "2",
          "3",
          "4",
          "5",
          "6",
          "7"
         ],
         "xaxis": "x",
         "y": [
          "A",
          "B",
          "C",
          "D",
          "E",
          "F",
          "G",
          "H"
         ],
         "yaxis": "y",
         "z": [
          [
           -5.2372822761535645,
           -4.0861496925354,
           -3.9422662258148193,
           -4.244512557983398,
           -5.228835582733154,
           -4.574981689453125,
           -2.7669780254364014,
           -3.868626594543457
          ],
          [
           -4.725015640258789,
           -4.902823448181152,
           -5.059417724609375,
           -4.141240119934082,
           -3.737818479537964,
           -4.725308895111084,
           -3.856215238571167,
           -3.8625683784484863
          ],
          [
           -5.416769027709961,
           -4.5942463874816895,
           -4.903206825256348,
           -3.3938021659851074,
           -3.3930697441101074,
           -3.6066079139709473,
           -4.00184440612793,
           -4.259300231933594
          ],
          [
           -3.2263662815093994,
           -4.846795558929443,
           -4.357500076293945,
           -13,
           -13,
           -6.333003997802734,
           -3.888458728790283,
           -5.136822700500488
          ],
          [
           -3.619415283203125,
           -3.0675222873687744,
           -4.30150032043457,
           -13,
           -13,
           -4.452203750610352,
           -5.106229782104492,
           -4.126899719238281
          ],
          [
           -4.140172004699707,
           -4.4107136726379395,
           -3.888432025909424,
           -3.534529685974121,
           -4.061430931091309,
           -4.434154510498047,
           -4.908769130706787,
           -3.277445077896118
          ],
          [
           -4.936604976654053,
           -5.504372596740723,
           -5.4911909103393555,
           -6.026577949523926,
           -4.940472602844238,
           -3.8118364810943604,
           -3.3127031326293945,
           -4.678516864776611
          ],
          [
           -3.9078786373138428,
           -5.640564918518066,
           -4.733891487121582,
           -4.9113922119140625,
           -4.170670032501221,
           -3.4634499549865723,
           -4.342249870300293,
           -4.663816452026367
          ]
         ]
        }
       ],
       "layout": {
        "coloraxis": {
         "cmax": 0,
         "cmin": -13,
         "colorscale": [
          [
           0,
           "rgb(247,251,255)"
          ],
          [
           0.125,
           "rgb(222,235,247)"
          ],
          [
           0.25,
           "rgb(198,219,239)"
          ],
          [
           0.375,
           "rgb(158,202,225)"
          ],
          [
           0.5,
           "rgb(107,174,214)"
          ],
          [
           0.625,
           "rgb(66,146,198)"
          ],
          [
           0.75,
           "rgb(33,113,181)"
          ],
          [
           0.875,
           "rgb(8,81,156)"
          ],
          [
           1,
           "rgb(8,48,107)"
          ]
         ]
        },
        "template": {
         "data": {
          "bar": [
           {
            "error_x": {
             "color": "#2a3f5f"
            },
            "error_y": {
             "color": "#2a3f5f"
            },
            "marker": {
             "line": {
              "color": "#E5ECF6",
              "width": 0.5
             },
             "pattern": {
              "fillmode": "overlay",
              "size": 10,
              "solidity": 0.2
             }
            },
            "type": "bar"
           }
          ],
          "barpolar": [
           {
            "marker": {
             "line": {
              "color": "#E5ECF6",
              "width": 0.5
             },
             "pattern": {
              "fillmode": "overlay",
              "size": 10,
              "solidity": 0.2
             }
            },
            "type": "barpolar"
           }
          ],
          "carpet": [
           {
            "aaxis": {
             "endlinecolor": "#2a3f5f",
             "gridcolor": "white",
             "linecolor": "white",
             "minorgridcolor": "white",
             "startlinecolor": "#2a3f5f"
            },
            "baxis": {
             "endlinecolor": "#2a3f5f",
             "gridcolor": "white",
             "linecolor": "white",
             "minorgridcolor": "white",
             "startlinecolor": "#2a3f5f"
            },
            "type": "carpet"
           }
          ],
          "choropleth": [
           {
            "colorbar": {
             "outlinewidth": 0,
             "ticks": ""
            },
            "type": "choropleth"
           }
          ],
          "contour": [
           {
            "colorbar": {
             "outlinewidth": 0,
             "ticks": ""
            },
            "colorscale": [
             [
              0,
              "#0d0887"
             ],
             [
              0.1111111111111111,
              "#46039f"
             ],
             [
              0.2222222222222222,
              "#7201a8"
             ],
             [
              0.3333333333333333,
              "#9c179e"
             ],
             [
              0.4444444444444444,
              "#bd3786"
             ],
             [
              0.5555555555555556,
              "#d8576b"
             ],
             [
              0.6666666666666666,
              "#ed7953"
             ],
             [
              0.7777777777777778,
              "#fb9f3a"
             ],
             [
              0.8888888888888888,
              "#fdca26"
             ],
             [
              1,
              "#f0f921"
             ]
            ],
            "type": "contour"
           }
          ],
          "contourcarpet": [
           {
            "colorbar": {
             "outlinewidth": 0,
             "ticks": ""
            },
            "type": "contourcarpet"
           }
          ],
          "heatmap": [
           {
            "colorbar": {
             "outlinewidth": 0,
             "ticks": ""
            },
            "colorscale": [
             [
              0,
              "#0d0887"
             ],
             [
              0.1111111111111111,
              "#46039f"
             ],
             [
              0.2222222222222222,
              "#7201a8"
             ],
             [
              0.3333333333333333,
              "#9c179e"
             ],
             [
              0.4444444444444444,
              "#bd3786"
             ],
             [
              0.5555555555555556,
              "#d8576b"
             ],
             [
              0.6666666666666666,
              "#ed7953"
             ],
             [
              0.7777777777777778,
              "#fb9f3a"
             ],
             [
              0.8888888888888888,
              "#fdca26"
             ],
             [
              1,
              "#f0f921"
             ]
            ],
            "type": "heatmap"
           }
          ],
          "heatmapgl": [
           {
            "colorbar": {
             "outlinewidth": 0,
             "ticks": ""
            },
            "colorscale": [
             [
              0,
              "#0d0887"
             ],
             [
              0.1111111111111111,
              "#46039f"
             ],
             [
              0.2222222222222222,
              "#7201a8"
             ],
             [
              0.3333333333333333,
              "#9c179e"
             ],
             [
              0.4444444444444444,
              "#bd3786"
             ],
             [
              0.5555555555555556,
              "#d8576b"
             ],
             [
              0.6666666666666666,
              "#ed7953"
             ],
             [
              0.7777777777777778,
              "#fb9f3a"
             ],
             [
              0.8888888888888888,
              "#fdca26"
             ],
             [
              1,
              "#f0f921"
             ]
            ],
            "type": "heatmapgl"
           }
          ],
          "histogram": [
           {
            "marker": {
             "pattern": {
              "fillmode": "overlay",
              "size": 10,
              "solidity": 0.2
             }
            },
            "type": "histogram"
           }
          ],
          "histogram2d": [
           {
            "colorbar": {
             "outlinewidth": 0,
             "ticks": ""
            },
            "colorscale": [
             [
              0,
              "#0d0887"
             ],
             [
              0.1111111111111111,
              "#46039f"
             ],
             [
              0.2222222222222222,
              "#7201a8"
             ],
             [
              0.3333333333333333,
              "#9c179e"
             ],
             [
              0.4444444444444444,
              "#bd3786"
             ],
             [
              0.5555555555555556,
              "#d8576b"
             ],
             [
              0.6666666666666666,
              "#ed7953"
             ],
             [
              0.7777777777777778,
              "#fb9f3a"
             ],
             [
              0.8888888888888888,
              "#fdca26"
             ],
             [
              1,
              "#f0f921"
             ]
            ],
            "type": "histogram2d"
           }
          ],
          "histogram2dcontour": [
           {
            "colorbar": {
             "outlinewidth": 0,
             "ticks": ""
            },
            "colorscale": [
             [
              0,
              "#0d0887"
             ],
             [
              0.1111111111111111,
              "#46039f"
             ],
             [
              0.2222222222222222,
              "#7201a8"
             ],
             [
              0.3333333333333333,
              "#9c179e"
             ],
             [
              0.4444444444444444,
              "#bd3786"
             ],
             [
              0.5555555555555556,
              "#d8576b"
             ],
             [
              0.6666666666666666,
              "#ed7953"
             ],
             [
              0.7777777777777778,
              "#fb9f3a"
             ],
             [
              0.8888888888888888,
              "#fdca26"
             ],
             [
              1,
              "#f0f921"
             ]
            ],
            "type": "histogram2dcontour"
           }
          ],
          "mesh3d": [
           {
            "colorbar": {
             "outlinewidth": 0,
             "ticks": ""
            },
            "type": "mesh3d"
           }
          ],
          "parcoords": [
           {
            "line": {
             "colorbar": {
              "outlinewidth": 0,
              "ticks": ""
             }
            },
            "type": "parcoords"
           }
          ],
          "pie": [
           {
            "automargin": true,
            "type": "pie"
           }
          ],
          "scatter": [
           {
            "fillpattern": {
             "fillmode": "overlay",
             "size": 10,
             "solidity": 0.2
            },
            "type": "scatter"
           }
          ],
          "scatter3d": [
           {
            "line": {
             "colorbar": {
              "outlinewidth": 0,
              "ticks": ""
             }
            },
            "marker": {
             "colorbar": {
              "outlinewidth": 0,
              "ticks": ""
             }
            },
            "type": "scatter3d"
           }
          ],
          "scattercarpet": [
           {
            "marker": {
             "colorbar": {
              "outlinewidth": 0,
              "ticks": ""
             }
            },
            "type": "scattercarpet"
           }
          ],
          "scattergeo": [
           {
            "marker": {
             "colorbar": {
              "outlinewidth": 0,
              "ticks": ""
             }
            },
            "type": "scattergeo"
           }
          ],
          "scattergl": [
           {
            "marker": {
             "colorbar": {
              "outlinewidth": 0,
              "ticks": ""
             }
            },
            "type": "scattergl"
           }
          ],
          "scattermapbox": [
           {
            "marker": {
             "colorbar": {
              "outlinewidth": 0,
              "ticks": ""
             }
            },
            "type": "scattermapbox"
           }
          ],
          "scatterpolar": [
           {
            "marker": {
             "colorbar": {
              "outlinewidth": 0,
              "ticks": ""
             }
            },
            "type": "scatterpolar"
           }
          ],
          "scatterpolargl": [
           {
            "marker": {
             "colorbar": {
              "outlinewidth": 0,
              "ticks": ""
             }
            },
            "type": "scatterpolargl"
           }
          ],
          "scatterternary": [
           {
            "marker": {
             "colorbar": {
              "outlinewidth": 0,
              "ticks": ""
             }
            },
            "type": "scatterternary"
           }
          ],
          "surface": [
           {
            "colorbar": {
             "outlinewidth": 0,
             "ticks": ""
            },
            "colorscale": [
             [
              0,
              "#0d0887"
             ],
             [
              0.1111111111111111,
              "#46039f"
             ],
             [
              0.2222222222222222,
              "#7201a8"
             ],
             [
              0.3333333333333333,
              "#9c179e"
             ],
             [
              0.4444444444444444,
              "#bd3786"
             ],
             [
              0.5555555555555556,
              "#d8576b"
             ],
             [
              0.6666666666666666,
              "#ed7953"
             ],
             [
              0.7777777777777778,
              "#fb9f3a"
             ],
             [
              0.8888888888888888,
              "#fdca26"
             ],
             [
              1,
              "#f0f921"
             ]
            ],
            "type": "surface"
           }
          ],
          "table": [
           {
            "cells": {
             "fill": {
              "color": "#EBF0F8"
             },
             "line": {
              "color": "white"
             }
            },
            "header": {
             "fill": {
              "color": "#C8D4E3"
             },
             "line": {
              "color": "white"
             }
            },
            "type": "table"
           }
          ]
         },
         "layout": {
          "annotationdefaults": {
           "arrowcolor": "#2a3f5f",
           "arrowhead": 0,
           "arrowwidth": 1
          },
          "autotypenumbers": "strict",
          "coloraxis": {
           "colorbar": {
            "outlinewidth": 0,
            "ticks": ""
           }
          },
          "colorscale": {
           "diverging": [
            [
             0,
             "#8e0152"
            ],
            [
             0.1,
             "#c51b7d"
            ],
            [
             0.2,
             "#de77ae"
            ],
            [
             0.3,
             "#f1b6da"
            ],
            [
             0.4,
             "#fde0ef"
            ],
            [
             0.5,
             "#f7f7f7"
            ],
            [
             0.6,
             "#e6f5d0"
            ],
            [
             0.7,
             "#b8e186"
            ],
            [
             0.8,
             "#7fbc41"
            ],
            [
             0.9,
             "#4d9221"
            ],
            [
             1,
             "#276419"
            ]
           ],
           "sequential": [
            [
             0,
             "#0d0887"
            ],
            [
             0.1111111111111111,
             "#46039f"
            ],
            [
             0.2222222222222222,
             "#7201a8"
            ],
            [
             0.3333333333333333,
             "#9c179e"
            ],
            [
             0.4444444444444444,
             "#bd3786"
            ],
            [
             0.5555555555555556,
             "#d8576b"
            ],
            [
             0.6666666666666666,
             "#ed7953"
            ],
            [
             0.7777777777777778,
             "#fb9f3a"
            ],
            [
             0.8888888888888888,
             "#fdca26"
            ],
            [
             1,
             "#f0f921"
            ]
           ],
           "sequentialminus": [
            [
             0,
             "#0d0887"
            ],
            [
             0.1111111111111111,
             "#46039f"
            ],
            [
             0.2222222222222222,
             "#7201a8"
            ],
            [
             0.3333333333333333,
             "#9c179e"
            ],
            [
             0.4444444444444444,
             "#bd3786"
            ],
            [
             0.5555555555555556,
             "#d8576b"
            ],
            [
             0.6666666666666666,
             "#ed7953"
            ],
            [
             0.7777777777777778,
             "#fb9f3a"
            ],
            [
             0.8888888888888888,
             "#fdca26"
            ],
            [
             1,
             "#f0f921"
            ]
           ]
          },
          "colorway": [
           "#636efa",
           "#EF553B",
           "#00cc96",
           "#ab63fa",
           "#FFA15A",
           "#19d3f3",
           "#FF6692",
           "#B6E880",
           "#FF97FF",
           "#FECB52"
          ],
          "font": {
           "color": "#2a3f5f"
          },
          "geo": {
           "bgcolor": "white",
           "lakecolor": "white",
           "landcolor": "#E5ECF6",
           "showlakes": true,
           "showland": true,
           "subunitcolor": "white"
          },
          "hoverlabel": {
           "align": "left"
          },
          "hovermode": "closest",
          "mapbox": {
           "style": "light"
          },
          "paper_bgcolor": "white",
          "plot_bgcolor": "#E5ECF6",
          "polar": {
           "angularaxis": {
            "gridcolor": "white",
            "linecolor": "white",
            "ticks": ""
           },
           "bgcolor": "#E5ECF6",
           "radialaxis": {
            "gridcolor": "white",
            "linecolor": "white",
            "ticks": ""
           }
          },
          "scene": {
           "xaxis": {
            "backgroundcolor": "#E5ECF6",
            "gridcolor": "white",
            "gridwidth": 2,
            "linecolor": "white",
            "showbackground": true,
            "ticks": "",
            "zerolinecolor": "white"
           },
           "yaxis": {
            "backgroundcolor": "#E5ECF6",
            "gridcolor": "white",
            "gridwidth": 2,
            "linecolor": "white",
            "showbackground": true,
            "ticks": "",
            "zerolinecolor": "white"
           },
           "zaxis": {
            "backgroundcolor": "#E5ECF6",
            "gridcolor": "white",
            "gridwidth": 2,
            "linecolor": "white",
            "showbackground": true,
            "ticks": "",
            "zerolinecolor": "white"
           }
          },
          "shapedefaults": {
           "line": {
            "color": "#2a3f5f"
           }
          },
          "ternary": {
           "aaxis": {
            "gridcolor": "white",
            "linecolor": "white",
            "ticks": ""
           },
           "baxis": {
            "gridcolor": "white",
            "linecolor": "white",
            "ticks": ""
           },
           "bgcolor": "#E5ECF6",
           "caxis": {
            "gridcolor": "white",
            "linecolor": "white",
            "ticks": ""
           }
          },
          "title": {
           "x": 0.05
          },
          "xaxis": {
           "automargin": true,
           "gridcolor": "white",
           "linecolor": "white",
           "ticks": "",
           "title": {
            "standoff": 15
           },
           "zerolinecolor": "white",
           "zerolinewidth": 2
          },
          "yaxis": {
           "automargin": true,
           "gridcolor": "white",
           "linecolor": "white",
           "ticks": "",
           "title": {
            "standoff": 15
           },
           "zerolinecolor": "white",
           "zerolinewidth": 2
          }
         }
        },
        "title": {
         "text": "Example Log Probs"
        },
        "xaxis": {
         "anchor": "y",
         "constrain": "domain",
         "domain": [
          0,
          1
         ],
         "scaleanchor": "y",
         "title": {
          "text": "x"
         }
        },
        "yaxis": {
         "anchor": "x",
         "autorange": "reversed",
         "constrain": "domain",
         "domain": [
          0,
          1
         ],
         "title": {
          "text": "y"
         }
        }
       }
      },
      "text/html": [
       "<div>                            <div id=\"99775b15-e72e-4529-a27b-13643eaccfa5\" class=\"plotly-graph-div\" style=\"height:525px; width:100%;\"></div>            <script type=\"text/javascript\">                require([\"plotly\"], function(Plotly) {                    window.PLOTLYENV=window.PLOTLYENV || {};                                    if (document.getElementById(\"99775b15-e72e-4529-a27b-13643eaccfa5\")) {                    Plotly.newPlot(                        \"99775b15-e72e-4529-a27b-13643eaccfa5\",                        [{\"coloraxis\":\"coloraxis\",\"name\":\"0\",\"x\":[\"0\",\"1\",\"2\",\"3\",\"4\",\"5\",\"6\",\"7\"],\"y\":[\"A\",\"B\",\"C\",\"D\",\"E\",\"F\",\"G\",\"H\"],\"z\":[[-5.2372822761535645,-4.0861496925354,-3.9422662258148193,-4.244512557983398,-5.228835582733154,-4.574981689453125,-2.7669780254364014,-3.868626594543457],[-4.725015640258789,-4.902823448181152,-5.059417724609375,-4.141240119934082,-3.737818479537964,-4.725308895111084,-3.856215238571167,-3.8625683784484863],[-5.416769027709961,-4.5942463874816895,-4.903206825256348,-3.3938021659851074,-3.3930697441101074,-3.6066079139709473,-4.00184440612793,-4.259300231933594],[-3.2263662815093994,-4.846795558929443,-4.357500076293945,-13.0,-13.0,-6.333003997802734,-3.888458728790283,-5.136822700500488],[-3.619415283203125,-3.0675222873687744,-4.30150032043457,-13.0,-13.0,-4.452203750610352,-5.106229782104492,-4.126899719238281],[-4.140172004699707,-4.4107136726379395,-3.888432025909424,-3.534529685974121,-4.061430931091309,-4.434154510498047,-4.908769130706787,-3.277445077896118],[-4.936604976654053,-5.504372596740723,-5.4911909103393555,-6.026577949523926,-4.940472602844238,-3.8118364810943604,-3.3127031326293945,-4.678516864776611],[-3.9078786373138428,-5.640564918518066,-4.733891487121582,-4.9113922119140625,-4.170670032501221,-3.4634499549865723,-4.342249870300293,-4.663816452026367]],\"type\":\"heatmap\",\"xaxis\":\"x\",\"yaxis\":\"y\",\"hovertemplate\":\"x: %{x}\\u003cbr\\u003ey: %{y}\\u003cbr\\u003ecolor: %{z}\\u003cextra\\u003e\\u003c\\u002fextra\\u003e\"}],                        {\"template\":{\"data\":{\"histogram2dcontour\":[{\"type\":\"histogram2dcontour\",\"colorbar\":{\"outlinewidth\":0,\"ticks\":\"\"},\"colorscale\":[[0.0,\"#0d0887\"],[0.1111111111111111,\"#46039f\"],[0.2222222222222222,\"#7201a8\"],[0.3333333333333333,\"#9c179e\"],[0.4444444444444444,\"#bd3786\"],[0.5555555555555556,\"#d8576b\"],[0.6666666666666666,\"#ed7953\"],[0.7777777777777778,\"#fb9f3a\"],[0.8888888888888888,\"#fdca26\"],[1.0,\"#f0f921\"]]}],\"choropleth\":[{\"type\":\"choropleth\",\"colorbar\":{\"outlinewidth\":0,\"ticks\":\"\"}}],\"histogram2d\":[{\"type\":\"histogram2d\",\"colorbar\":{\"outlinewidth\":0,\"ticks\":\"\"},\"colorscale\":[[0.0,\"#0d0887\"],[0.1111111111111111,\"#46039f\"],[0.2222222222222222,\"#7201a8\"],[0.3333333333333333,\"#9c179e\"],[0.4444444444444444,\"#bd3786\"],[0.5555555555555556,\"#d8576b\"],[0.6666666666666666,\"#ed7953\"],[0.7777777777777778,\"#fb9f3a\"],[0.8888888888888888,\"#fdca26\"],[1.0,\"#f0f921\"]]}],\"heatmap\":[{\"type\":\"heatmap\",\"colorbar\":{\"outlinewidth\":0,\"ticks\":\"\"},\"colorscale\":[[0.0,\"#0d0887\"],[0.1111111111111111,\"#46039f\"],[0.2222222222222222,\"#7201a8\"],[0.3333333333333333,\"#9c179e\"],[0.4444444444444444,\"#bd3786\"],[0.5555555555555556,\"#d8576b\"],[0.6666666666666666,\"#ed7953\"],[0.7777777777777778,\"#fb9f3a\"],[0.8888888888888888,\"#fdca26\"],[1.0,\"#f0f921\"]]}],\"heatmapgl\":[{\"type\":\"heatmapgl\",\"colorbar\":{\"outlinewidth\":0,\"ticks\":\"\"},\"colorscale\":[[0.0,\"#0d0887\"],[0.1111111111111111,\"#46039f\"],[0.2222222222222222,\"#7201a8\"],[0.3333333333333333,\"#9c179e\"],[0.4444444444444444,\"#bd3786\"],[0.5555555555555556,\"#d8576b\"],[0.6666666666666666,\"#ed7953\"],[0.7777777777777778,\"#fb9f3a\"],[0.8888888888888888,\"#fdca26\"],[1.0,\"#f0f921\"]]}],\"contourcarpet\":[{\"type\":\"contourcarpet\",\"colorbar\":{\"outlinewidth\":0,\"ticks\":\"\"}}],\"contour\":[{\"type\":\"contour\",\"colorbar\":{\"outlinewidth\":0,\"ticks\":\"\"},\"colorscale\":[[0.0,\"#0d0887\"],[0.1111111111111111,\"#46039f\"],[0.2222222222222222,\"#7201a8\"],[0.3333333333333333,\"#9c179e\"],[0.4444444444444444,\"#bd3786\"],[0.5555555555555556,\"#d8576b\"],[0.6666666666666666,\"#ed7953\"],[0.7777777777777778,\"#fb9f3a\"],[0.8888888888888888,\"#fdca26\"],[1.0,\"#f0f921\"]]}],\"surface\":[{\"type\":\"surface\",\"colorbar\":{\"outlinewidth\":0,\"ticks\":\"\"},\"colorscale\":[[0.0,\"#0d0887\"],[0.1111111111111111,\"#46039f\"],[0.2222222222222222,\"#7201a8\"],[0.3333333333333333,\"#9c179e\"],[0.4444444444444444,\"#bd3786\"],[0.5555555555555556,\"#d8576b\"],[0.6666666666666666,\"#ed7953\"],[0.7777777777777778,\"#fb9f3a\"],[0.8888888888888888,\"#fdca26\"],[1.0,\"#f0f921\"]]}],\"mesh3d\":[{\"type\":\"mesh3d\",\"colorbar\":{\"outlinewidth\":0,\"ticks\":\"\"}}],\"scatter\":[{\"fillpattern\":{\"fillmode\":\"overlay\",\"size\":10,\"solidity\":0.2},\"type\":\"scatter\"}],\"parcoords\":[{\"type\":\"parcoords\",\"line\":{\"colorbar\":{\"outlinewidth\":0,\"ticks\":\"\"}}}],\"scatterpolargl\":[{\"type\":\"scatterpolargl\",\"marker\":{\"colorbar\":{\"outlinewidth\":0,\"ticks\":\"\"}}}],\"bar\":[{\"error_x\":{\"color\":\"#2a3f5f\"},\"error_y\":{\"color\":\"#2a3f5f\"},\"marker\":{\"line\":{\"color\":\"#E5ECF6\",\"width\":0.5},\"pattern\":{\"fillmode\":\"overlay\",\"size\":10,\"solidity\":0.2}},\"type\":\"bar\"}],\"scattergeo\":[{\"type\":\"scattergeo\",\"marker\":{\"colorbar\":{\"outlinewidth\":0,\"ticks\":\"\"}}}],\"scatterpolar\":[{\"type\":\"scatterpolar\",\"marker\":{\"colorbar\":{\"outlinewidth\":0,\"ticks\":\"\"}}}],\"histogram\":[{\"marker\":{\"pattern\":{\"fillmode\":\"overlay\",\"size\":10,\"solidity\":0.2}},\"type\":\"histogram\"}],\"scattergl\":[{\"type\":\"scattergl\",\"marker\":{\"colorbar\":{\"outlinewidth\":0,\"ticks\":\"\"}}}],\"scatter3d\":[{\"type\":\"scatter3d\",\"line\":{\"colorbar\":{\"outlinewidth\":0,\"ticks\":\"\"}},\"marker\":{\"colorbar\":{\"outlinewidth\":0,\"ticks\":\"\"}}}],\"scattermapbox\":[{\"type\":\"scattermapbox\",\"marker\":{\"colorbar\":{\"outlinewidth\":0,\"ticks\":\"\"}}}],\"scatterternary\":[{\"type\":\"scatterternary\",\"marker\":{\"colorbar\":{\"outlinewidth\":0,\"ticks\":\"\"}}}],\"scattercarpet\":[{\"type\":\"scattercarpet\",\"marker\":{\"colorbar\":{\"outlinewidth\":0,\"ticks\":\"\"}}}],\"carpet\":[{\"aaxis\":{\"endlinecolor\":\"#2a3f5f\",\"gridcolor\":\"white\",\"linecolor\":\"white\",\"minorgridcolor\":\"white\",\"startlinecolor\":\"#2a3f5f\"},\"baxis\":{\"endlinecolor\":\"#2a3f5f\",\"gridcolor\":\"white\",\"linecolor\":\"white\",\"minorgridcolor\":\"white\",\"startlinecolor\":\"#2a3f5f\"},\"type\":\"carpet\"}],\"table\":[{\"cells\":{\"fill\":{\"color\":\"#EBF0F8\"},\"line\":{\"color\":\"white\"}},\"header\":{\"fill\":{\"color\":\"#C8D4E3\"},\"line\":{\"color\":\"white\"}},\"type\":\"table\"}],\"barpolar\":[{\"marker\":{\"line\":{\"color\":\"#E5ECF6\",\"width\":0.5},\"pattern\":{\"fillmode\":\"overlay\",\"size\":10,\"solidity\":0.2}},\"type\":\"barpolar\"}],\"pie\":[{\"automargin\":true,\"type\":\"pie\"}]},\"layout\":{\"autotypenumbers\":\"strict\",\"colorway\":[\"#636efa\",\"#EF553B\",\"#00cc96\",\"#ab63fa\",\"#FFA15A\",\"#19d3f3\",\"#FF6692\",\"#B6E880\",\"#FF97FF\",\"#FECB52\"],\"font\":{\"color\":\"#2a3f5f\"},\"hovermode\":\"closest\",\"hoverlabel\":{\"align\":\"left\"},\"paper_bgcolor\":\"white\",\"plot_bgcolor\":\"#E5ECF6\",\"polar\":{\"bgcolor\":\"#E5ECF6\",\"angularaxis\":{\"gridcolor\":\"white\",\"linecolor\":\"white\",\"ticks\":\"\"},\"radialaxis\":{\"gridcolor\":\"white\",\"linecolor\":\"white\",\"ticks\":\"\"}},\"ternary\":{\"bgcolor\":\"#E5ECF6\",\"aaxis\":{\"gridcolor\":\"white\",\"linecolor\":\"white\",\"ticks\":\"\"},\"baxis\":{\"gridcolor\":\"white\",\"linecolor\":\"white\",\"ticks\":\"\"},\"caxis\":{\"gridcolor\":\"white\",\"linecolor\":\"white\",\"ticks\":\"\"}},\"coloraxis\":{\"colorbar\":{\"outlinewidth\":0,\"ticks\":\"\"}},\"colorscale\":{\"sequential\":[[0.0,\"#0d0887\"],[0.1111111111111111,\"#46039f\"],[0.2222222222222222,\"#7201a8\"],[0.3333333333333333,\"#9c179e\"],[0.4444444444444444,\"#bd3786\"],[0.5555555555555556,\"#d8576b\"],[0.6666666666666666,\"#ed7953\"],[0.7777777777777778,\"#fb9f3a\"],[0.8888888888888888,\"#fdca26\"],[1.0,\"#f0f921\"]],\"sequentialminus\":[[0.0,\"#0d0887\"],[0.1111111111111111,\"#46039f\"],[0.2222222222222222,\"#7201a8\"],[0.3333333333333333,\"#9c179e\"],[0.4444444444444444,\"#bd3786\"],[0.5555555555555556,\"#d8576b\"],[0.6666666666666666,\"#ed7953\"],[0.7777777777777778,\"#fb9f3a\"],[0.8888888888888888,\"#fdca26\"],[1.0,\"#f0f921\"]],\"diverging\":[[0,\"#8e0152\"],[0.1,\"#c51b7d\"],[0.2,\"#de77ae\"],[0.3,\"#f1b6da\"],[0.4,\"#fde0ef\"],[0.5,\"#f7f7f7\"],[0.6,\"#e6f5d0\"],[0.7,\"#b8e186\"],[0.8,\"#7fbc41\"],[0.9,\"#4d9221\"],[1,\"#276419\"]]},\"xaxis\":{\"gridcolor\":\"white\",\"linecolor\":\"white\",\"ticks\":\"\",\"title\":{\"standoff\":15},\"zerolinecolor\":\"white\",\"automargin\":true,\"zerolinewidth\":2},\"yaxis\":{\"gridcolor\":\"white\",\"linecolor\":\"white\",\"ticks\":\"\",\"title\":{\"standoff\":15},\"zerolinecolor\":\"white\",\"automargin\":true,\"zerolinewidth\":2},\"scene\":{\"xaxis\":{\"backgroundcolor\":\"#E5ECF6\",\"gridcolor\":\"white\",\"linecolor\":\"white\",\"showbackground\":true,\"ticks\":\"\",\"zerolinecolor\":\"white\",\"gridwidth\":2},\"yaxis\":{\"backgroundcolor\":\"#E5ECF6\",\"gridcolor\":\"white\",\"linecolor\":\"white\",\"showbackground\":true,\"ticks\":\"\",\"zerolinecolor\":\"white\",\"gridwidth\":2},\"zaxis\":{\"backgroundcolor\":\"#E5ECF6\",\"gridcolor\":\"white\",\"linecolor\":\"white\",\"showbackground\":true,\"ticks\":\"\",\"zerolinecolor\":\"white\",\"gridwidth\":2}},\"shapedefaults\":{\"line\":{\"color\":\"#2a3f5f\"}},\"annotationdefaults\":{\"arrowcolor\":\"#2a3f5f\",\"arrowhead\":0,\"arrowwidth\":1},\"geo\":{\"bgcolor\":\"white\",\"landcolor\":\"#E5ECF6\",\"subunitcolor\":\"white\",\"showland\":true,\"showlakes\":true,\"lakecolor\":\"white\"},\"title\":{\"x\":0.05},\"mapbox\":{\"style\":\"light\"}}},\"xaxis\":{\"anchor\":\"y\",\"domain\":[0.0,1.0],\"scaleanchor\":\"y\",\"constrain\":\"domain\",\"title\":{\"text\":\"x\"}},\"yaxis\":{\"anchor\":\"x\",\"domain\":[0.0,1.0],\"autorange\":\"reversed\",\"constrain\":\"domain\",\"title\":{\"text\":\"y\"}},\"coloraxis\":{\"colorscale\":[[0.0,\"rgb(247,251,255)\"],[0.125,\"rgb(222,235,247)\"],[0.25,\"rgb(198,219,239)\"],[0.375,\"rgb(158,202,225)\"],[0.5,\"rgb(107,174,214)\"],[0.625,\"rgb(66,146,198)\"],[0.75,\"rgb(33,113,181)\"],[0.875,\"rgb(8,81,156)\"],[1.0,\"rgb(8,48,107)\"]],\"cmin\":-13.0,\"cmax\":0},\"title\":{\"text\":\"Example Log Probs\"}},                        {\"responsive\": true}                    ).then(function(){\n",
       "                            \n",
       "var gd = document.getElementById('99775b15-e72e-4529-a27b-13643eaccfa5');\n",
       "var x = new MutationObserver(function (mutations, observer) {{\n",
       "        var display = window.getComputedStyle(gd).display;\n",
       "        if (!display || display === 'none') {{\n",
       "            console.log([gd, 'removed!']);\n",
       "            Plotly.purge(gd);\n",
       "            observer.disconnect();\n",
       "        }}\n",
       "}});\n",
       "\n",
       "// Listen for the removal of the full notebook cells\n",
       "var notebookContainer = gd.closest('#notebook-container');\n",
       "if (notebookContainer) {{\n",
       "    x.observe(notebookContainer, {childList: true});\n",
       "}}\n",
       "\n",
       "// Listen for the clearing of the current output cell\n",
       "var outputEl = gd.closest('.output');\n",
       "if (outputEl) {{\n",
       "    x.observe(outputEl, {childList: true});\n",
       "}}\n",
       "\n",
       "                        })                };                });            </script>        </div>"
      ]
     },
     "metadata": {},
     "output_type": "display_data"
    }
   ],
   "source": [
    "from neel_plotly import imshow\n",
    "def plot_square_as_board(state, diverging_scale=True, **kwargs):\n",
    "    \"\"\"Takes a square input (8 by 8) and plot it as a board. Can do a stack of boards via facet_col=0\"\"\"\n",
    "    if diverging_scale:\n",
    "        imshow(state, y=[i for i in alpha], x=[str(i) for i in range(8)], color_continuous_scale=\"RdBu\", color_continuous_midpoint=0., aspect=\"equal\", **kwargs)\n",
    "    else:\n",
    "        imshow(state, y=[i for i in alpha], x=[str(i) for i in range(8)], color_continuous_scale=\"Blues\", color_continuous_midpoint=None, aspect=\"equal\", **kwargs)\n",
    "plot_square_as_board(temp_board_state.reshape(8, 8), zmax=0, diverging_scale=False, title=\"Example Log Probs\")"
   ]
  },
  {
   "cell_type": "code",
   "execution_count": 25,
   "metadata": {},
   "outputs": [],
   "source": [
    "num_games = 50\n",
    "focus_games_int = board_seqs_int[:num_games]\n",
    "focus_games_string = board_seqs_string[:num_games]"
   ]
  },
  {
   "cell_type": "code",
   "execution_count": 26,
   "metadata": {},
   "outputs": [
    {
     "name": "stdout",
     "output_type": "stream",
     "text": [
      "focus states: (50, 60, 8, 8)\n",
      "focus_valid_moves torch.Size([50, 60, 64])\n"
     ]
    }
   ],
   "source": [
    "def one_hot(list_of_ints, num_classes=64):\n",
    "    out = torch.zeros((num_classes,), dtype=torch.float32)\n",
    "    out[list_of_ints] = 1.\n",
    "    return out\n",
    "focus_states = np.zeros((num_games, 60, 8, 8), dtype=np.float32)\n",
    "focus_valid_moves = torch.zeros((num_games, 60, 64), dtype=torch.float32)\n",
    "for i in (range(num_games)):\n",
    "    board = OthelloBoardState()\n",
    "    for j in range(60):\n",
    "        board.umpire(focus_games_string[i, j].item())\n",
    "        focus_states[i, j] = board.state\n",
    "        focus_valid_moves[i, j] = one_hot(board.get_valid_moves())\n",
    "print(\"focus states:\", focus_states.shape)\n",
    "print(\"focus_valid_moves\", focus_valid_moves.shape)"
   ]
  },
  {
   "cell_type": "code",
   "execution_count": 27,
   "metadata": {},
   "outputs": [],
   "source": [
    "focus_logits, focus_cache = model.run_with_cache(focus_games_int[:, :-1].cuda())"
   ]
  },
  {
   "cell_type": "code",
   "execution_count": 29,
   "metadata": {},
   "outputs": [
    {
     "data": {
      "text/plain": [
       "torch.Size([3, 512, 8, 8, 3])"
      ]
     },
     "execution_count": 29,
     "metadata": {},
     "output_type": "execute_result"
    }
   ],
   "source": [
    "full_linear_probe = torch.load(OTHELLO_ROOT/\"mechanistic_interpretability/main_linear_probe.pth\")\n",
    "full_linear_probe.shape # [modes, d_model, row, col, options]"
   ]
  },
  {
   "cell_type": "code",
   "execution_count": 30,
   "metadata": {},
   "outputs": [],
   "source": [
    "rows = 8\n",
    "cols = 8 \n",
    "options = 3\n",
    "black_to_play_index = 0\n",
    "white_to_play_index = 1\n",
    "blank_index = 0\n",
    "their_index = 1\n",
    "my_index = 2\n",
    "linear_probe = torch.zeros(cfg.d_model, rows, cols, options, device=\"cuda\")\n",
    "linear_probe[..., blank_index] = 0.5 * (full_linear_probe[black_to_play_index, ..., 0] + full_linear_probe[white_to_play_index, ..., 0])\n",
    "linear_probe[..., their_index] = 0.5 * (full_linear_probe[black_to_play_index, ..., 1] + full_linear_probe[white_to_play_index, ..., 2])\n",
    "linear_probe[..., my_index] = 0.5 * (full_linear_probe[black_to_play_index, ..., 2] + full_linear_probe[white_to_play_index, ..., 1])"
   ]
  },
  {
   "cell_type": "code",
   "execution_count": 31,
   "metadata": {},
   "outputs": [],
   "source": [
    "blank_probe = linear_probe[..., 0] - linear_probe[..., 1] * 0.5 - linear_probe[..., 2] * 0.5\n",
    "my_probe = linear_probe[..., 2] - linear_probe[..., 1]"
   ]
  },
  {
   "cell_type": "code",
   "execution_count": 32,
   "metadata": {},
   "outputs": [
    {
     "data": {
      "text/plain": [
       "torch.Size([512, 8, 8])"
      ]
     },
     "execution_count": 32,
     "metadata": {},
     "output_type": "execute_result"
    }
   ],
   "source": [
    "full_linear_probe[black_to_play_index, ..., 0].shape"
   ]
  },
  {
   "cell_type": "code",
   "execution_count": 35,
   "metadata": {},
   "outputs": [
    {
     "data": {
      "text/plain": [
       "tensor([-0.2947, -0.2504, -0.2449, -0.4683, -0.3550, -0.3380, -0.3382, -0.2670,\n",
       "        -0.3262, -0.1785, -0.3109, -0.3766, -0.3318, -0.1611,  0.0499, -0.3115,\n",
       "        -0.2379, -0.2557, -0.5527, -0.4500, -0.5523, -0.5044, -0.3436, -0.3563,\n",
       "        -0.3407, -0.4816, -0.5757, -0.8512, -0.8089, -0.5109, -0.3328, -0.3939,\n",
       "        -0.4477, -0.2742, -0.5748, -0.8321, -0.8530, -0.5319, -0.2576, -0.5081,\n",
       "        -0.4441, -0.3317, -0.4485, -0.6089, -0.5356, -0.4813, -0.2826, -0.2679,\n",
       "        -0.3561,  0.0323, -0.3106, -0.3787, -0.3493, -0.3359, -0.1465, -0.2614,\n",
       "        -0.2977, -0.3396, -0.2834, -0.5596, -0.3314, -0.2652, -0.3252, -0.2755],\n",
       "       device='cuda:0', grad_fn=<SumBackward1>)"
      ]
     },
     "execution_count": 35,
     "metadata": {},
     "output_type": "execute_result"
    }
   ],
   "source": [
    "torch.cosine_similarity(full_linear_probe[black_to_play_index, ..., 1].reshape(-1, rows*cols), full_linear_probe[white_to_play_index, ..., 1].reshape(-1, rows*cols), dim=0)"
   ]
  },
  {
   "cell_type": "code",
   "execution_count": 38,
   "metadata": {},
   "outputs": [
    {
     "data": {
      "text/plain": [
       "HookedTransformerConfig:\n",
       "{'act_fn': 'gelu',\n",
       " 'attention_dir': 'causal',\n",
       " 'attn_only': False,\n",
       " 'attn_types': None,\n",
       " 'checkpoint_index': None,\n",
       " 'checkpoint_label_type': None,\n",
       " 'checkpoint_value': None,\n",
       " 'd_head': 64,\n",
       " 'd_mlp': 2048,\n",
       " 'd_model': 512,\n",
       " 'd_vocab': 61,\n",
       " 'd_vocab_out': 61,\n",
       " 'default_prepend_bos': True,\n",
       " 'device': device(type='cuda'),\n",
       " 'dtype': torch.float32,\n",
       " 'eps': 1e-05,\n",
       " 'final_rms': False,\n",
       " 'from_checkpoint': False,\n",
       " 'gated_mlp': False,\n",
       " 'init_mode': 'gpt2',\n",
       " 'init_weights': True,\n",
       " 'initializer_range': 0.035355339059327376,\n",
       " 'model_name': 'custom',\n",
       " 'n_ctx': 59,\n",
       " 'n_devices': 1,\n",
       " 'n_heads': 8,\n",
       " 'n_layers': 8,\n",
       " 'n_params': 25165824,\n",
       " 'normalization_type': 'LNPre',\n",
       " 'original_architecture': None,\n",
       " 'parallel_attn_mlp': False,\n",
       " 'positional_embedding_type': 'standard',\n",
       " 'post_embedding_ln': False,\n",
       " 'rotary_dim': None,\n",
       " 'scale_attn_by_inverse_layer_idx': False,\n",
       " 'seed': None,\n",
       " 'tokenizer_name': None,\n",
       " 'tokenizer_prepends_bos': None,\n",
       " 'use_attn_in': False,\n",
       " 'use_attn_result': False,\n",
       " 'use_attn_scale': True,\n",
       " 'use_hook_mlp_in': False,\n",
       " 'use_hook_tokens': False,\n",
       " 'use_local_attn': False,\n",
       " 'use_split_qkv_input': False,\n",
       " 'window_size': None}"
      ]
     },
     "execution_count": 38,
     "metadata": {},
     "output_type": "execute_result"
    }
   ],
   "source": [
    "model.cfg"
   ]
  },
  {
   "cell_type": "code",
   "execution_count": 36,
   "metadata": {},
   "outputs": [
    {
     "data": {
      "application/vnd.plotly.v1+json": {
       "config": {
        "plotlyServerURL": "https://plot.ly"
       },
       "data": [
        {
         "coloraxis": "coloraxis",
         "customdata": [
          [
           "I:1<br>S:0",
           "I:2<br>S:1",
           "I:3<br>S:2",
           "I:4<br>S:3",
           "I:5<br>S:4",
           "I:6<br>S:5",
           "I:7<br>S:6",
           "I:8<br>S:7"
          ],
          [
           "I:9<br>S:8",
           "I:10<br>S:9",
           "I:11<br>S:10",
           "I:12<br>S:11",
           "I:13<br>S:12",
           "I:14<br>S:13",
           "I:15<br>S:14",
           "I:16<br>S:15"
          ],
          [
           "I:17<br>S:16",
           "I:18<br>S:17",
           "I:19<br>S:18",
           "I:20<br>S:19",
           "I:21<br>S:20",
           "I:22<br>S:21",
           "I:23<br>S:22",
           "I:24<br>S:23"
          ],
          [
           "I:25<br>S:24",
           "I:26<br>S:25",
           "I:27<br>S:26",
           "I:X<br>S:27",
           "I:X<br>S:28",
           "I:28<br>S:29",
           "I:29<br>S:30",
           "I:30<br>S:31"
          ],
          [
           "I:31<br>S:32",
           "I:32<br>S:33",
           "I:33<br>S:34",
           "I:X<br>S:35",
           "I:X<br>S:36",
           "I:34<br>S:37",
           "I:35<br>S:38",
           "I:36<br>S:39"
          ],
          [
           "I:37<br>S:40",
           "I:38<br>S:41",
           "I:39<br>S:42",
           "I:40<br>S:43",
           "I:41<br>S:44",
           "I:42<br>S:45",
           "I:43<br>S:46",
           "I:44<br>S:47"
          ],
          [
           "I:45<br>S:48",
           "I:46<br>S:49",
           "I:47<br>S:50",
           "I:48<br>S:51",
           "I:49<br>S:52",
           "I:50<br>S:53",
           "I:51<br>S:54",
           "I:52<br>S:55"
          ],
          [
           "I:53<br>S:56",
           "I:54<br>S:57",
           "I:55<br>S:58",
           "I:56<br>S:59",
           "I:57<br>S:60",
           "I:58<br>S:61",
           "I:59<br>S:62",
           "I:60<br>S:63"
          ]
         ],
         "hovertemplate": "<b>%{y}%{x}</b><br>%{customdata}<extra></extra>",
         "name": "0",
         "text": [
          [
           "A0",
           "A1",
           "A2",
           "A3",
           "A4",
           "A5",
           "A6",
           "A7"
          ],
          [
           "",
           "B1",
           "",
           "",
           "",
           "",
           "",
           "B7"
          ],
          [
           "C0",
           "",
           "",
           "",
           "",
           "",
           "",
           "C7"
          ],
          [
           "D0",
           "D1",
           "",
           "",
           "",
           "D5",
           "D6",
           "D7"
          ],
          [
           "",
           "",
           "",
           "",
           "",
           "",
           "E6",
           "E7"
          ],
          [
           "F0",
           "F1",
           "",
           "F3",
           "",
           "",
           "",
           "F7"
          ],
          [
           "G0",
           "G1",
           "G2",
           "G3",
           "G4",
           "G5",
           "G6",
           "G7"
          ],
          [
           "H0",
           "H1",
           "H2",
           "H3",
           "H4",
           "H5",
           "H6",
           "H7"
          ]
         ],
         "texttemplate": "%{text}",
         "type": "heatmap",
         "x": [
          "0",
          "1",
          "2",
          "3",
          "4",
          "5",
          "6",
          "7"
         ],
         "xaxis": "x",
         "y": [
          "A",
          "B",
          "C",
          "D",
          "E",
          "F",
          "G",
          "H"
         ],
         "yaxis": "y",
         "z": [
          [
           0,
           0.1,
           0.1,
           0.1,
           0.1,
           0.1,
           0.1,
           0.1
          ],
          [
           -1,
           0.1,
           -1,
           -1,
           -1,
           -1,
           -1,
           0
          ],
          [
           0.1,
           -1,
           -1,
           -1,
           1,
           1,
           1,
           -0.5
          ],
          [
           0.1,
           0.1,
           -1,
           -1,
           1,
           -0.5,
           -0.5,
           -0.5
          ],
          [
           0.9,
           0.9,
           0.9,
           0.9,
           1,
           1,
           0,
           0
          ],
          [
           -0.5,
           -0.5,
           1,
           -0.5,
           1,
           1,
           1,
           0
          ],
          [
           0,
           -0.5,
           -0.5,
           0,
           -0.5,
           -0.5,
           -0.5,
           -0.5
          ],
          [
           0,
           0,
           0,
           0,
           0,
           0,
           0,
           0
          ]
         ]
        }
       ],
       "layout": {
        "coloraxis": {
         "cmid": 0,
         "colorscale": [
          [
           0,
           "rgb(0, 128, 128)"
          ],
          [
           0.16666666666666666,
           "rgb(112, 164, 148)"
          ],
          [
           0.3333333333333333,
           "rgb(180, 200, 168)"
          ],
          [
           0.5,
           "rgb(246, 237, 189)"
          ],
          [
           0.6666666666666666,
           "rgb(237, 187, 138)"
          ],
          [
           0.8333333333333334,
           "rgb(222, 138, 90)"
          ],
          [
           1,
           "rgb(202, 86, 44)"
          ]
         ]
        },
        "shapes": [
         {
          "fillcolor": "white",
          "line": {
           "color": "green",
           "width": 0.5
          },
          "type": "circle",
          "x0": -0.2,
          "x1": 0.2,
          "y0": 0.8,
          "y1": 1.2
         },
         {
          "fillcolor": "white",
          "line": {
           "color": "green",
           "width": 0.5
          },
          "type": "circle",
          "x0": 1.8,
          "x1": 2.2,
          "y0": 0.8,
          "y1": 1.2
         },
         {
          "fillcolor": "white",
          "line": {
           "color": "green",
           "width": 0.5
          },
          "type": "circle",
          "x0": 2.8,
          "x1": 3.2,
          "y0": 0.8,
          "y1": 1.2
         },
         {
          "fillcolor": "white",
          "line": {
           "color": "green",
           "width": 0.5
          },
          "type": "circle",
          "x0": 3.8,
          "x1": 4.2,
          "y0": 0.8,
          "y1": 1.2
         },
         {
          "fillcolor": "white",
          "line": {
           "color": "green",
           "width": 0.5
          },
          "type": "circle",
          "x0": 4.8,
          "x1": 5.2,
          "y0": 0.8,
          "y1": 1.2
         },
         {
          "fillcolor": "white",
          "line": {
           "color": "green",
           "width": 0.5
          },
          "type": "circle",
          "x0": 5.8,
          "x1": 6.2,
          "y0": 0.8,
          "y1": 1.2
         },
         {
          "fillcolor": "white",
          "line": {
           "color": "green",
           "width": 0.5
          },
          "type": "circle",
          "x0": 0.8,
          "x1": 1.2,
          "y0": 1.8,
          "y1": 2.2
         },
         {
          "fillcolor": "white",
          "line": {
           "color": "green",
           "width": 0.5
          },
          "type": "circle",
          "x0": 1.8,
          "x1": 2.2,
          "y0": 1.8,
          "y1": 2.2
         },
         {
          "fillcolor": "white",
          "line": {
           "color": "green",
           "width": 0.5
          },
          "type": "circle",
          "x0": 2.8,
          "x1": 3.2,
          "y0": 1.8,
          "y1": 2.2
         },
         {
          "fillcolor": "black",
          "line": {
           "color": "green",
           "width": 0.5
          },
          "type": "circle",
          "x0": 3.8,
          "x1": 4.2,
          "y0": 1.8,
          "y1": 2.2
         },
         {
          "fillcolor": "black",
          "line": {
           "color": "green",
           "width": 0.5
          },
          "type": "circle",
          "x0": 4.8,
          "x1": 5.2,
          "y0": 1.8,
          "y1": 2.2
         },
         {
          "fillcolor": "black",
          "line": {
           "color": "green",
           "width": 0.5
          },
          "type": "circle",
          "x0": 5.8,
          "x1": 6.2,
          "y0": 1.8,
          "y1": 2.2
         },
         {
          "fillcolor": "white",
          "line": {
           "color": "green",
           "width": 0.5
          },
          "type": "circle",
          "x0": 1.8,
          "x1": 2.2,
          "y0": 2.8,
          "y1": 3.2
         },
         {
          "fillcolor": "white",
          "line": {
           "color": "green",
           "width": 0.5
          },
          "type": "circle",
          "x0": 2.8,
          "x1": 3.2,
          "y0": 2.8,
          "y1": 3.2
         },
         {
          "fillcolor": "black",
          "line": {
           "color": "green",
           "width": 0.5
          },
          "type": "circle",
          "x0": 3.8,
          "x1": 4.2,
          "y0": 2.8,
          "y1": 3.2
         },
         {
          "fillcolor": "black",
          "line": {
           "color": "red",
           "width": 4
          },
          "type": "circle",
          "x0": -0.25,
          "x1": 0.25,
          "y0": 3.75,
          "y1": 4.25
         },
         {
          "fillcolor": "black",
          "line": {
           "color": "purple",
           "width": 3
          },
          "type": "circle",
          "x0": 0.78,
          "x1": 1.22,
          "y0": 3.78,
          "y1": 4.22
         },
         {
          "fillcolor": "black",
          "line": {
           "color": "purple",
           "width": 3
          },
          "type": "circle",
          "x0": 1.78,
          "x1": 2.22,
          "y0": 3.78,
          "y1": 4.22
         },
         {
          "fillcolor": "black",
          "line": {
           "color": "purple",
           "width": 3
          },
          "type": "circle",
          "x0": 2.78,
          "x1": 3.22,
          "y0": 3.78,
          "y1": 4.22
         },
         {
          "fillcolor": "black",
          "line": {
           "color": "green",
           "width": 0.5
          },
          "type": "circle",
          "x0": 3.8,
          "x1": 4.2,
          "y0": 3.8,
          "y1": 4.2
         },
         {
          "fillcolor": "black",
          "line": {
           "color": "green",
           "width": 0.5
          },
          "type": "circle",
          "x0": 4.8,
          "x1": 5.2,
          "y0": 3.8,
          "y1": 4.2
         },
         {
          "fillcolor": "black",
          "line": {
           "color": "green",
           "width": 0.5
          },
          "type": "circle",
          "x0": 1.8,
          "x1": 2.2,
          "y0": 4.8,
          "y1": 5.2
         },
         {
          "fillcolor": "black",
          "line": {
           "color": "green",
           "width": 0.5
          },
          "type": "circle",
          "x0": 3.8,
          "x1": 4.2,
          "y0": 4.8,
          "y1": 5.2
         },
         {
          "fillcolor": "black",
          "line": {
           "color": "green",
           "width": 0.5
          },
          "type": "circle",
          "x0": 4.8,
          "x1": 5.2,
          "y0": 4.8,
          "y1": 5.2
         },
         {
          "fillcolor": "black",
          "line": {
           "color": "green",
           "width": 0.5
          },
          "type": "circle",
          "x0": 5.8,
          "x1": 6.2,
          "y0": 4.8,
          "y1": 5.2
         }
        ],
        "template": {
         "data": {
          "bar": [
           {
            "error_x": {
             "color": "#2a3f5f"
            },
            "error_y": {
             "color": "#2a3f5f"
            },
            "marker": {
             "line": {
              "color": "#E5ECF6",
              "width": 0.5
             },
             "pattern": {
              "fillmode": "overlay",
              "size": 10,
              "solidity": 0.2
             }
            },
            "type": "bar"
           }
          ],
          "barpolar": [
           {
            "marker": {
             "line": {
              "color": "#E5ECF6",
              "width": 0.5
             },
             "pattern": {
              "fillmode": "overlay",
              "size": 10,
              "solidity": 0.2
             }
            },
            "type": "barpolar"
           }
          ],
          "carpet": [
           {
            "aaxis": {
             "endlinecolor": "#2a3f5f",
             "gridcolor": "white",
             "linecolor": "white",
             "minorgridcolor": "white",
             "startlinecolor": "#2a3f5f"
            },
            "baxis": {
             "endlinecolor": "#2a3f5f",
             "gridcolor": "white",
             "linecolor": "white",
             "minorgridcolor": "white",
             "startlinecolor": "#2a3f5f"
            },
            "type": "carpet"
           }
          ],
          "choropleth": [
           {
            "colorbar": {
             "outlinewidth": 0,
             "ticks": ""
            },
            "type": "choropleth"
           }
          ],
          "contour": [
           {
            "colorbar": {
             "outlinewidth": 0,
             "ticks": ""
            },
            "colorscale": [
             [
              0,
              "#0d0887"
             ],
             [
              0.1111111111111111,
              "#46039f"
             ],
             [
              0.2222222222222222,
              "#7201a8"
             ],
             [
              0.3333333333333333,
              "#9c179e"
             ],
             [
              0.4444444444444444,
              "#bd3786"
             ],
             [
              0.5555555555555556,
              "#d8576b"
             ],
             [
              0.6666666666666666,
              "#ed7953"
             ],
             [
              0.7777777777777778,
              "#fb9f3a"
             ],
             [
              0.8888888888888888,
              "#fdca26"
             ],
             [
              1,
              "#f0f921"
             ]
            ],
            "type": "contour"
           }
          ],
          "contourcarpet": [
           {
            "colorbar": {
             "outlinewidth": 0,
             "ticks": ""
            },
            "type": "contourcarpet"
           }
          ],
          "heatmap": [
           {
            "colorbar": {
             "outlinewidth": 0,
             "ticks": ""
            },
            "colorscale": [
             [
              0,
              "#0d0887"
             ],
             [
              0.1111111111111111,
              "#46039f"
             ],
             [
              0.2222222222222222,
              "#7201a8"
             ],
             [
              0.3333333333333333,
              "#9c179e"
             ],
             [
              0.4444444444444444,
              "#bd3786"
             ],
             [
              0.5555555555555556,
              "#d8576b"
             ],
             [
              0.6666666666666666,
              "#ed7953"
             ],
             [
              0.7777777777777778,
              "#fb9f3a"
             ],
             [
              0.8888888888888888,
              "#fdca26"
             ],
             [
              1,
              "#f0f921"
             ]
            ],
            "type": "heatmap"
           }
          ],
          "heatmapgl": [
           {
            "colorbar": {
             "outlinewidth": 0,
             "ticks": ""
            },
            "colorscale": [
             [
              0,
              "#0d0887"
             ],
             [
              0.1111111111111111,
              "#46039f"
             ],
             [
              0.2222222222222222,
              "#7201a8"
             ],
             [
              0.3333333333333333,
              "#9c179e"
             ],
             [
              0.4444444444444444,
              "#bd3786"
             ],
             [
              0.5555555555555556,
              "#d8576b"
             ],
             [
              0.6666666666666666,
              "#ed7953"
             ],
             [
              0.7777777777777778,
              "#fb9f3a"
             ],
             [
              0.8888888888888888,
              "#fdca26"
             ],
             [
              1,
              "#f0f921"
             ]
            ],
            "type": "heatmapgl"
           }
          ],
          "histogram": [
           {
            "marker": {
             "pattern": {
              "fillmode": "overlay",
              "size": 10,
              "solidity": 0.2
             }
            },
            "type": "histogram"
           }
          ],
          "histogram2d": [
           {
            "colorbar": {
             "outlinewidth": 0,
             "ticks": ""
            },
            "colorscale": [
             [
              0,
              "#0d0887"
             ],
             [
              0.1111111111111111,
              "#46039f"
             ],
             [
              0.2222222222222222,
              "#7201a8"
             ],
             [
              0.3333333333333333,
              "#9c179e"
             ],
             [
              0.4444444444444444,
              "#bd3786"
             ],
             [
              0.5555555555555556,
              "#d8576b"
             ],
             [
              0.6666666666666666,
              "#ed7953"
             ],
             [
              0.7777777777777778,
              "#fb9f3a"
             ],
             [
              0.8888888888888888,
              "#fdca26"
             ],
             [
              1,
              "#f0f921"
             ]
            ],
            "type": "histogram2d"
           }
          ],
          "histogram2dcontour": [
           {
            "colorbar": {
             "outlinewidth": 0,
             "ticks": ""
            },
            "colorscale": [
             [
              0,
              "#0d0887"
             ],
             [
              0.1111111111111111,
              "#46039f"
             ],
             [
              0.2222222222222222,
              "#7201a8"
             ],
             [
              0.3333333333333333,
              "#9c179e"
             ],
             [
              0.4444444444444444,
              "#bd3786"
             ],
             [
              0.5555555555555556,
              "#d8576b"
             ],
             [
              0.6666666666666666,
              "#ed7953"
             ],
             [
              0.7777777777777778,
              "#fb9f3a"
             ],
             [
              0.8888888888888888,
              "#fdca26"
             ],
             [
              1,
              "#f0f921"
             ]
            ],
            "type": "histogram2dcontour"
           }
          ],
          "mesh3d": [
           {
            "colorbar": {
             "outlinewidth": 0,
             "ticks": ""
            },
            "type": "mesh3d"
           }
          ],
          "parcoords": [
           {
            "line": {
             "colorbar": {
              "outlinewidth": 0,
              "ticks": ""
             }
            },
            "type": "parcoords"
           }
          ],
          "pie": [
           {
            "automargin": true,
            "type": "pie"
           }
          ],
          "scatter": [
           {
            "fillpattern": {
             "fillmode": "overlay",
             "size": 10,
             "solidity": 0.2
            },
            "type": "scatter"
           }
          ],
          "scatter3d": [
           {
            "line": {
             "colorbar": {
              "outlinewidth": 0,
              "ticks": ""
             }
            },
            "marker": {
             "colorbar": {
              "outlinewidth": 0,
              "ticks": ""
             }
            },
            "type": "scatter3d"
           }
          ],
          "scattercarpet": [
           {
            "marker": {
             "colorbar": {
              "outlinewidth": 0,
              "ticks": ""
             }
            },
            "type": "scattercarpet"
           }
          ],
          "scattergeo": [
           {
            "marker": {
             "colorbar": {
              "outlinewidth": 0,
              "ticks": ""
             }
            },
            "type": "scattergeo"
           }
          ],
          "scattergl": [
           {
            "marker": {
             "colorbar": {
              "outlinewidth": 0,
              "ticks": ""
             }
            },
            "type": "scattergl"
           }
          ],
          "scattermapbox": [
           {
            "marker": {
             "colorbar": {
              "outlinewidth": 0,
              "ticks": ""
             }
            },
            "type": "scattermapbox"
           }
          ],
          "scatterpolar": [
           {
            "marker": {
             "colorbar": {
              "outlinewidth": 0,
              "ticks": ""
             }
            },
            "type": "scatterpolar"
           }
          ],
          "scatterpolargl": [
           {
            "marker": {
             "colorbar": {
              "outlinewidth": 0,
              "ticks": ""
             }
            },
            "type": "scatterpolargl"
           }
          ],
          "scatterternary": [
           {
            "marker": {
             "colorbar": {
              "outlinewidth": 0,
              "ticks": ""
             }
            },
            "type": "scatterternary"
           }
          ],
          "surface": [
           {
            "colorbar": {
             "outlinewidth": 0,
             "ticks": ""
            },
            "colorscale": [
             [
              0,
              "#0d0887"
             ],
             [
              0.1111111111111111,
              "#46039f"
             ],
             [
              0.2222222222222222,
              "#7201a8"
             ],
             [
              0.3333333333333333,
              "#9c179e"
             ],
             [
              0.4444444444444444,
              "#bd3786"
             ],
             [
              0.5555555555555556,
              "#d8576b"
             ],
             [
              0.6666666666666666,
              "#ed7953"
             ],
             [
              0.7777777777777778,
              "#fb9f3a"
             ],
             [
              0.8888888888888888,
              "#fdca26"
             ],
             [
              1,
              "#f0f921"
             ]
            ],
            "type": "surface"
           }
          ],
          "table": [
           {
            "cells": {
             "fill": {
              "color": "#EBF0F8"
             },
             "line": {
              "color": "white"
             }
            },
            "header": {
             "fill": {
              "color": "#C8D4E3"
             },
             "line": {
              "color": "white"
             }
            },
            "type": "table"
           }
          ]
         },
         "layout": {
          "annotationdefaults": {
           "arrowcolor": "#2a3f5f",
           "arrowhead": 0,
           "arrowwidth": 1
          },
          "autotypenumbers": "strict",
          "coloraxis": {
           "colorbar": {
            "outlinewidth": 0,
            "ticks": ""
           }
          },
          "colorscale": {
           "diverging": [
            [
             0,
             "#8e0152"
            ],
            [
             0.1,
             "#c51b7d"
            ],
            [
             0.2,
             "#de77ae"
            ],
            [
             0.3,
             "#f1b6da"
            ],
            [
             0.4,
             "#fde0ef"
            ],
            [
             0.5,
             "#f7f7f7"
            ],
            [
             0.6,
             "#e6f5d0"
            ],
            [
             0.7,
             "#b8e186"
            ],
            [
             0.8,
             "#7fbc41"
            ],
            [
             0.9,
             "#4d9221"
            ],
            [
             1,
             "#276419"
            ]
           ],
           "sequential": [
            [
             0,
             "#0d0887"
            ],
            [
             0.1111111111111111,
             "#46039f"
            ],
            [
             0.2222222222222222,
             "#7201a8"
            ],
            [
             0.3333333333333333,
             "#9c179e"
            ],
            [
             0.4444444444444444,
             "#bd3786"
            ],
            [
             0.5555555555555556,
             "#d8576b"
            ],
            [
             0.6666666666666666,
             "#ed7953"
            ],
            [
             0.7777777777777778,
             "#fb9f3a"
            ],
            [
             0.8888888888888888,
             "#fdca26"
            ],
            [
             1,
             "#f0f921"
            ]
           ],
           "sequentialminus": [
            [
             0,
             "#0d0887"
            ],
            [
             0.1111111111111111,
             "#46039f"
            ],
            [
             0.2222222222222222,
             "#7201a8"
            ],
            [
             0.3333333333333333,
             "#9c179e"
            ],
            [
             0.4444444444444444,
             "#bd3786"
            ],
            [
             0.5555555555555556,
             "#d8576b"
            ],
            [
             0.6666666666666666,
             "#ed7953"
            ],
            [
             0.7777777777777778,
             "#fb9f3a"
            ],
            [
             0.8888888888888888,
             "#fdca26"
            ],
            [
             1,
             "#f0f921"
            ]
           ]
          },
          "colorway": [
           "#636efa",
           "#EF553B",
           "#00cc96",
           "#ab63fa",
           "#FFA15A",
           "#19d3f3",
           "#FF6692",
           "#B6E880",
           "#FF97FF",
           "#FECB52"
          ],
          "font": {
           "color": "#2a3f5f"
          },
          "geo": {
           "bgcolor": "white",
           "lakecolor": "white",
           "landcolor": "#E5ECF6",
           "showlakes": true,
           "showland": true,
           "subunitcolor": "white"
          },
          "hoverlabel": {
           "align": "left"
          },
          "hovermode": "closest",
          "mapbox": {
           "style": "light"
          },
          "paper_bgcolor": "white",
          "plot_bgcolor": "#E5ECF6",
          "polar": {
           "angularaxis": {
            "gridcolor": "white",
            "linecolor": "white",
            "ticks": ""
           },
           "bgcolor": "#E5ECF6",
           "radialaxis": {
            "gridcolor": "white",
            "linecolor": "white",
            "ticks": ""
           }
          },
          "scene": {
           "xaxis": {
            "backgroundcolor": "#E5ECF6",
            "gridcolor": "white",
            "gridwidth": 2,
            "linecolor": "white",
            "showbackground": true,
            "ticks": "",
            "zerolinecolor": "white"
           },
           "yaxis": {
            "backgroundcolor": "#E5ECF6",
            "gridcolor": "white",
            "gridwidth": 2,
            "linecolor": "white",
            "showbackground": true,
            "ticks": "",
            "zerolinecolor": "white"
           },
           "zaxis": {
            "backgroundcolor": "#E5ECF6",
            "gridcolor": "white",
            "gridwidth": 2,
            "linecolor": "white",
            "showbackground": true,
            "ticks": "",
            "zerolinecolor": "white"
           }
          },
          "shapedefaults": {
           "line": {
            "color": "#2a3f5f"
           }
          },
          "ternary": {
           "aaxis": {
            "gridcolor": "white",
            "linecolor": "white",
            "ticks": ""
           },
           "baxis": {
            "gridcolor": "white",
            "linecolor": "white",
            "ticks": ""
           },
           "bgcolor": "#E5ECF6",
           "caxis": {
            "gridcolor": "white",
            "linecolor": "white",
            "ticks": ""
           }
          },
          "title": {
           "x": 0.05
          },
          "xaxis": {
           "automargin": true,
           "gridcolor": "white",
           "linecolor": "white",
           "ticks": "",
           "title": {
            "standoff": 15
           },
           "zerolinecolor": "white",
           "zerolinewidth": 2
          },
          "yaxis": {
           "automargin": true,
           "gridcolor": "white",
           "linecolor": "white",
           "ticks": "",
           "title": {
            "standoff": 15
           },
           "zerolinecolor": "white",
           "zerolinewidth": 2
          }
         }
        },
        "title": {
         "text": "White To Play. Board State After Black Plays E0 ",
         "x": 0.5
        },
        "xaxis": {
         "anchor": "y",
         "constrain": "domain",
         "domain": [
          0,
          1
         ],
         "scaleanchor": "y",
         "title": {
          "text": "x"
         }
        },
        "yaxis": {
         "anchor": "x",
         "autorange": "reversed",
         "constrain": "domain",
         "domain": [
          0,
          1
         ],
         "title": {
          "text": "y"
         }
        }
       }
      },
      "text/html": [
       "<div>                            <div id=\"406b5798-1c3a-46af-8d28-3c2f33d570d7\" class=\"plotly-graph-div\" style=\"height:525px; width:100%;\"></div>            <script type=\"text/javascript\">                require([\"plotly\"], function(Plotly) {                    window.PLOTLYENV=window.PLOTLYENV || {};                                    if (document.getElementById(\"406b5798-1c3a-46af-8d28-3c2f33d570d7\")) {                    Plotly.newPlot(                        \"406b5798-1c3a-46af-8d28-3c2f33d570d7\",                        [{\"coloraxis\":\"coloraxis\",\"name\":\"0\",\"x\":[\"0\",\"1\",\"2\",\"3\",\"4\",\"5\",\"6\",\"7\"],\"y\":[\"A\",\"B\",\"C\",\"D\",\"E\",\"F\",\"G\",\"H\"],\"z\":[[0.0,0.1,0.1,0.1,0.1,0.1,0.1,0.1],[-1.0,0.1,-1.0,-1.0,-1.0,-1.0,-1.0,0.0],[0.1,-1.0,-1.0,-1.0,1.0,1.0,1.0,-0.5],[0.1,0.1,-1.0,-1.0,1.0,-0.5,-0.5,-0.5],[0.9,0.9,0.9,0.9,1.0,1.0,0.0,0.0],[-0.5,-0.5,1.0,-0.5,1.0,1.0,1.0,0.0],[0.0,-0.5,-0.5,0.0,-0.5,-0.5,-0.5,-0.5],[0.0,0.0,0.0,0.0,0.0,0.0,0.0,0.0]],\"type\":\"heatmap\",\"xaxis\":\"x\",\"yaxis\":\"y\",\"hovertemplate\":\"\\u003cb\\u003e%{y}%{x}\\u003c\\u002fb\\u003e\\u003cbr\\u003e%{customdata}\\u003cextra\\u003e\\u003c\\u002fextra\\u003e\",\"text\":[[\"A0\",\"A1\",\"A2\",\"A3\",\"A4\",\"A5\",\"A6\",\"A7\"],[\"\",\"B1\",\"\",\"\",\"\",\"\",\"\",\"B7\"],[\"C0\",\"\",\"\",\"\",\"\",\"\",\"\",\"C7\"],[\"D0\",\"D1\",\"\",\"\",\"\",\"D5\",\"D6\",\"D7\"],[\"\",\"\",\"\",\"\",\"\",\"\",\"E6\",\"E7\"],[\"F0\",\"F1\",\"\",\"F3\",\"\",\"\",\"\",\"F7\"],[\"G0\",\"G1\",\"G2\",\"G3\",\"G4\",\"G5\",\"G6\",\"G7\"],[\"H0\",\"H1\",\"H2\",\"H3\",\"H4\",\"H5\",\"H6\",\"H7\"]],\"texttemplate\":\"%{text}\",\"customdata\":[[\"I:1\\u003cbr\\u003eS:0\",\"I:2\\u003cbr\\u003eS:1\",\"I:3\\u003cbr\\u003eS:2\",\"I:4\\u003cbr\\u003eS:3\",\"I:5\\u003cbr\\u003eS:4\",\"I:6\\u003cbr\\u003eS:5\",\"I:7\\u003cbr\\u003eS:6\",\"I:8\\u003cbr\\u003eS:7\"],[\"I:9\\u003cbr\\u003eS:8\",\"I:10\\u003cbr\\u003eS:9\",\"I:11\\u003cbr\\u003eS:10\",\"I:12\\u003cbr\\u003eS:11\",\"I:13\\u003cbr\\u003eS:12\",\"I:14\\u003cbr\\u003eS:13\",\"I:15\\u003cbr\\u003eS:14\",\"I:16\\u003cbr\\u003eS:15\"],[\"I:17\\u003cbr\\u003eS:16\",\"I:18\\u003cbr\\u003eS:17\",\"I:19\\u003cbr\\u003eS:18\",\"I:20\\u003cbr\\u003eS:19\",\"I:21\\u003cbr\\u003eS:20\",\"I:22\\u003cbr\\u003eS:21\",\"I:23\\u003cbr\\u003eS:22\",\"I:24\\u003cbr\\u003eS:23\"],[\"I:25\\u003cbr\\u003eS:24\",\"I:26\\u003cbr\\u003eS:25\",\"I:27\\u003cbr\\u003eS:26\",\"I:X\\u003cbr\\u003eS:27\",\"I:X\\u003cbr\\u003eS:28\",\"I:28\\u003cbr\\u003eS:29\",\"I:29\\u003cbr\\u003eS:30\",\"I:30\\u003cbr\\u003eS:31\"],[\"I:31\\u003cbr\\u003eS:32\",\"I:32\\u003cbr\\u003eS:33\",\"I:33\\u003cbr\\u003eS:34\",\"I:X\\u003cbr\\u003eS:35\",\"I:X\\u003cbr\\u003eS:36\",\"I:34\\u003cbr\\u003eS:37\",\"I:35\\u003cbr\\u003eS:38\",\"I:36\\u003cbr\\u003eS:39\"],[\"I:37\\u003cbr\\u003eS:40\",\"I:38\\u003cbr\\u003eS:41\",\"I:39\\u003cbr\\u003eS:42\",\"I:40\\u003cbr\\u003eS:43\",\"I:41\\u003cbr\\u003eS:44\",\"I:42\\u003cbr\\u003eS:45\",\"I:43\\u003cbr\\u003eS:46\",\"I:44\\u003cbr\\u003eS:47\"],[\"I:45\\u003cbr\\u003eS:48\",\"I:46\\u003cbr\\u003eS:49\",\"I:47\\u003cbr\\u003eS:50\",\"I:48\\u003cbr\\u003eS:51\",\"I:49\\u003cbr\\u003eS:52\",\"I:50\\u003cbr\\u003eS:53\",\"I:51\\u003cbr\\u003eS:54\",\"I:52\\u003cbr\\u003eS:55\"],[\"I:53\\u003cbr\\u003eS:56\",\"I:54\\u003cbr\\u003eS:57\",\"I:55\\u003cbr\\u003eS:58\",\"I:56\\u003cbr\\u003eS:59\",\"I:57\\u003cbr\\u003eS:60\",\"I:58\\u003cbr\\u003eS:61\",\"I:59\\u003cbr\\u003eS:62\",\"I:60\\u003cbr\\u003eS:63\"]]}],                        {\"template\":{\"data\":{\"histogram2dcontour\":[{\"type\":\"histogram2dcontour\",\"colorbar\":{\"outlinewidth\":0,\"ticks\":\"\"},\"colorscale\":[[0.0,\"#0d0887\"],[0.1111111111111111,\"#46039f\"],[0.2222222222222222,\"#7201a8\"],[0.3333333333333333,\"#9c179e\"],[0.4444444444444444,\"#bd3786\"],[0.5555555555555556,\"#d8576b\"],[0.6666666666666666,\"#ed7953\"],[0.7777777777777778,\"#fb9f3a\"],[0.8888888888888888,\"#fdca26\"],[1.0,\"#f0f921\"]]}],\"choropleth\":[{\"type\":\"choropleth\",\"colorbar\":{\"outlinewidth\":0,\"ticks\":\"\"}}],\"histogram2d\":[{\"type\":\"histogram2d\",\"colorbar\":{\"outlinewidth\":0,\"ticks\":\"\"},\"colorscale\":[[0.0,\"#0d0887\"],[0.1111111111111111,\"#46039f\"],[0.2222222222222222,\"#7201a8\"],[0.3333333333333333,\"#9c179e\"],[0.4444444444444444,\"#bd3786\"],[0.5555555555555556,\"#d8576b\"],[0.6666666666666666,\"#ed7953\"],[0.7777777777777778,\"#fb9f3a\"],[0.8888888888888888,\"#fdca26\"],[1.0,\"#f0f921\"]]}],\"heatmap\":[{\"type\":\"heatmap\",\"colorbar\":{\"outlinewidth\":0,\"ticks\":\"\"},\"colorscale\":[[0.0,\"#0d0887\"],[0.1111111111111111,\"#46039f\"],[0.2222222222222222,\"#7201a8\"],[0.3333333333333333,\"#9c179e\"],[0.4444444444444444,\"#bd3786\"],[0.5555555555555556,\"#d8576b\"],[0.6666666666666666,\"#ed7953\"],[0.7777777777777778,\"#fb9f3a\"],[0.8888888888888888,\"#fdca26\"],[1.0,\"#f0f921\"]]}],\"heatmapgl\":[{\"type\":\"heatmapgl\",\"colorbar\":{\"outlinewidth\":0,\"ticks\":\"\"},\"colorscale\":[[0.0,\"#0d0887\"],[0.1111111111111111,\"#46039f\"],[0.2222222222222222,\"#7201a8\"],[0.3333333333333333,\"#9c179e\"],[0.4444444444444444,\"#bd3786\"],[0.5555555555555556,\"#d8576b\"],[0.6666666666666666,\"#ed7953\"],[0.7777777777777778,\"#fb9f3a\"],[0.8888888888888888,\"#fdca26\"],[1.0,\"#f0f921\"]]}],\"contourcarpet\":[{\"type\":\"contourcarpet\",\"colorbar\":{\"outlinewidth\":0,\"ticks\":\"\"}}],\"contour\":[{\"type\":\"contour\",\"colorbar\":{\"outlinewidth\":0,\"ticks\":\"\"},\"colorscale\":[[0.0,\"#0d0887\"],[0.1111111111111111,\"#46039f\"],[0.2222222222222222,\"#7201a8\"],[0.3333333333333333,\"#9c179e\"],[0.4444444444444444,\"#bd3786\"],[0.5555555555555556,\"#d8576b\"],[0.6666666666666666,\"#ed7953\"],[0.7777777777777778,\"#fb9f3a\"],[0.8888888888888888,\"#fdca26\"],[1.0,\"#f0f921\"]]}],\"surface\":[{\"type\":\"surface\",\"colorbar\":{\"outlinewidth\":0,\"ticks\":\"\"},\"colorscale\":[[0.0,\"#0d0887\"],[0.1111111111111111,\"#46039f\"],[0.2222222222222222,\"#7201a8\"],[0.3333333333333333,\"#9c179e\"],[0.4444444444444444,\"#bd3786\"],[0.5555555555555556,\"#d8576b\"],[0.6666666666666666,\"#ed7953\"],[0.7777777777777778,\"#fb9f3a\"],[0.8888888888888888,\"#fdca26\"],[1.0,\"#f0f921\"]]}],\"mesh3d\":[{\"type\":\"mesh3d\",\"colorbar\":{\"outlinewidth\":0,\"ticks\":\"\"}}],\"scatter\":[{\"fillpattern\":{\"fillmode\":\"overlay\",\"size\":10,\"solidity\":0.2},\"type\":\"scatter\"}],\"parcoords\":[{\"type\":\"parcoords\",\"line\":{\"colorbar\":{\"outlinewidth\":0,\"ticks\":\"\"}}}],\"scatterpolargl\":[{\"type\":\"scatterpolargl\",\"marker\":{\"colorbar\":{\"outlinewidth\":0,\"ticks\":\"\"}}}],\"bar\":[{\"error_x\":{\"color\":\"#2a3f5f\"},\"error_y\":{\"color\":\"#2a3f5f\"},\"marker\":{\"line\":{\"color\":\"#E5ECF6\",\"width\":0.5},\"pattern\":{\"fillmode\":\"overlay\",\"size\":10,\"solidity\":0.2}},\"type\":\"bar\"}],\"scattergeo\":[{\"type\":\"scattergeo\",\"marker\":{\"colorbar\":{\"outlinewidth\":0,\"ticks\":\"\"}}}],\"scatterpolar\":[{\"type\":\"scatterpolar\",\"marker\":{\"colorbar\":{\"outlinewidth\":0,\"ticks\":\"\"}}}],\"histogram\":[{\"marker\":{\"pattern\":{\"fillmode\":\"overlay\",\"size\":10,\"solidity\":0.2}},\"type\":\"histogram\"}],\"scattergl\":[{\"type\":\"scattergl\",\"marker\":{\"colorbar\":{\"outlinewidth\":0,\"ticks\":\"\"}}}],\"scatter3d\":[{\"type\":\"scatter3d\",\"line\":{\"colorbar\":{\"outlinewidth\":0,\"ticks\":\"\"}},\"marker\":{\"colorbar\":{\"outlinewidth\":0,\"ticks\":\"\"}}}],\"scattermapbox\":[{\"type\":\"scattermapbox\",\"marker\":{\"colorbar\":{\"outlinewidth\":0,\"ticks\":\"\"}}}],\"scatterternary\":[{\"type\":\"scatterternary\",\"marker\":{\"colorbar\":{\"outlinewidth\":0,\"ticks\":\"\"}}}],\"scattercarpet\":[{\"type\":\"scattercarpet\",\"marker\":{\"colorbar\":{\"outlinewidth\":0,\"ticks\":\"\"}}}],\"carpet\":[{\"aaxis\":{\"endlinecolor\":\"#2a3f5f\",\"gridcolor\":\"white\",\"linecolor\":\"white\",\"minorgridcolor\":\"white\",\"startlinecolor\":\"#2a3f5f\"},\"baxis\":{\"endlinecolor\":\"#2a3f5f\",\"gridcolor\":\"white\",\"linecolor\":\"white\",\"minorgridcolor\":\"white\",\"startlinecolor\":\"#2a3f5f\"},\"type\":\"carpet\"}],\"table\":[{\"cells\":{\"fill\":{\"color\":\"#EBF0F8\"},\"line\":{\"color\":\"white\"}},\"header\":{\"fill\":{\"color\":\"#C8D4E3\"},\"line\":{\"color\":\"white\"}},\"type\":\"table\"}],\"barpolar\":[{\"marker\":{\"line\":{\"color\":\"#E5ECF6\",\"width\":0.5},\"pattern\":{\"fillmode\":\"overlay\",\"size\":10,\"solidity\":0.2}},\"type\":\"barpolar\"}],\"pie\":[{\"automargin\":true,\"type\":\"pie\"}]},\"layout\":{\"autotypenumbers\":\"strict\",\"colorway\":[\"#636efa\",\"#EF553B\",\"#00cc96\",\"#ab63fa\",\"#FFA15A\",\"#19d3f3\",\"#FF6692\",\"#B6E880\",\"#FF97FF\",\"#FECB52\"],\"font\":{\"color\":\"#2a3f5f\"},\"hovermode\":\"closest\",\"hoverlabel\":{\"align\":\"left\"},\"paper_bgcolor\":\"white\",\"plot_bgcolor\":\"#E5ECF6\",\"polar\":{\"bgcolor\":\"#E5ECF6\",\"angularaxis\":{\"gridcolor\":\"white\",\"linecolor\":\"white\",\"ticks\":\"\"},\"radialaxis\":{\"gridcolor\":\"white\",\"linecolor\":\"white\",\"ticks\":\"\"}},\"ternary\":{\"bgcolor\":\"#E5ECF6\",\"aaxis\":{\"gridcolor\":\"white\",\"linecolor\":\"white\",\"ticks\":\"\"},\"baxis\":{\"gridcolor\":\"white\",\"linecolor\":\"white\",\"ticks\":\"\"},\"caxis\":{\"gridcolor\":\"white\",\"linecolor\":\"white\",\"ticks\":\"\"}},\"coloraxis\":{\"colorbar\":{\"outlinewidth\":0,\"ticks\":\"\"}},\"colorscale\":{\"sequential\":[[0.0,\"#0d0887\"],[0.1111111111111111,\"#46039f\"],[0.2222222222222222,\"#7201a8\"],[0.3333333333333333,\"#9c179e\"],[0.4444444444444444,\"#bd3786\"],[0.5555555555555556,\"#d8576b\"],[0.6666666666666666,\"#ed7953\"],[0.7777777777777778,\"#fb9f3a\"],[0.8888888888888888,\"#fdca26\"],[1.0,\"#f0f921\"]],\"sequentialminus\":[[0.0,\"#0d0887\"],[0.1111111111111111,\"#46039f\"],[0.2222222222222222,\"#7201a8\"],[0.3333333333333333,\"#9c179e\"],[0.4444444444444444,\"#bd3786\"],[0.5555555555555556,\"#d8576b\"],[0.6666666666666666,\"#ed7953\"],[0.7777777777777778,\"#fb9f3a\"],[0.8888888888888888,\"#fdca26\"],[1.0,\"#f0f921\"]],\"diverging\":[[0,\"#8e0152\"],[0.1,\"#c51b7d\"],[0.2,\"#de77ae\"],[0.3,\"#f1b6da\"],[0.4,\"#fde0ef\"],[0.5,\"#f7f7f7\"],[0.6,\"#e6f5d0\"],[0.7,\"#b8e186\"],[0.8,\"#7fbc41\"],[0.9,\"#4d9221\"],[1,\"#276419\"]]},\"xaxis\":{\"gridcolor\":\"white\",\"linecolor\":\"white\",\"ticks\":\"\",\"title\":{\"standoff\":15},\"zerolinecolor\":\"white\",\"automargin\":true,\"zerolinewidth\":2},\"yaxis\":{\"gridcolor\":\"white\",\"linecolor\":\"white\",\"ticks\":\"\",\"title\":{\"standoff\":15},\"zerolinecolor\":\"white\",\"automargin\":true,\"zerolinewidth\":2},\"scene\":{\"xaxis\":{\"backgroundcolor\":\"#E5ECF6\",\"gridcolor\":\"white\",\"linecolor\":\"white\",\"showbackground\":true,\"ticks\":\"\",\"zerolinecolor\":\"white\",\"gridwidth\":2},\"yaxis\":{\"backgroundcolor\":\"#E5ECF6\",\"gridcolor\":\"white\",\"linecolor\":\"white\",\"showbackground\":true,\"ticks\":\"\",\"zerolinecolor\":\"white\",\"gridwidth\":2},\"zaxis\":{\"backgroundcolor\":\"#E5ECF6\",\"gridcolor\":\"white\",\"linecolor\":\"white\",\"showbackground\":true,\"ticks\":\"\",\"zerolinecolor\":\"white\",\"gridwidth\":2}},\"shapedefaults\":{\"line\":{\"color\":\"#2a3f5f\"}},\"annotationdefaults\":{\"arrowcolor\":\"#2a3f5f\",\"arrowhead\":0,\"arrowwidth\":1},\"geo\":{\"bgcolor\":\"white\",\"landcolor\":\"#E5ECF6\",\"subunitcolor\":\"white\",\"showland\":true,\"showlakes\":true,\"lakecolor\":\"white\"},\"title\":{\"x\":0.05},\"mapbox\":{\"style\":\"light\"}}},\"xaxis\":{\"anchor\":\"y\",\"domain\":[0.0,1.0],\"scaleanchor\":\"y\",\"constrain\":\"domain\",\"title\":{\"text\":\"x\"}},\"yaxis\":{\"anchor\":\"x\",\"domain\":[0.0,1.0],\"autorange\":\"reversed\",\"constrain\":\"domain\",\"title\":{\"text\":\"y\"}},\"coloraxis\":{\"colorscale\":[[0.0,\"rgb(0, 128, 128)\"],[0.16666666666666666,\"rgb(112, 164, 148)\"],[0.3333333333333333,\"rgb(180, 200, 168)\"],[0.5,\"rgb(246, 237, 189)\"],[0.6666666666666666,\"rgb(237, 187, 138)\"],[0.8333333333333334,\"rgb(222, 138, 90)\"],[1.0,\"rgb(202, 86, 44)\"]],\"cmid\":0.0},\"title\":{\"text\":\"White To Play. Board State After Black Plays E0 \",\"x\":0.5},\"shapes\":[{\"fillcolor\":\"white\",\"type\":\"circle\",\"x0\":-0.2,\"x1\":0.2,\"y0\":0.8,\"y1\":1.2,\"line\":{\"color\":\"green\",\"width\":0.5}},{\"fillcolor\":\"white\",\"type\":\"circle\",\"x0\":1.8,\"x1\":2.2,\"y0\":0.8,\"y1\":1.2,\"line\":{\"color\":\"green\",\"width\":0.5}},{\"fillcolor\":\"white\",\"type\":\"circle\",\"x0\":2.8,\"x1\":3.2,\"y0\":0.8,\"y1\":1.2,\"line\":{\"color\":\"green\",\"width\":0.5}},{\"fillcolor\":\"white\",\"type\":\"circle\",\"x0\":3.8,\"x1\":4.2,\"y0\":0.8,\"y1\":1.2,\"line\":{\"color\":\"green\",\"width\":0.5}},{\"fillcolor\":\"white\",\"type\":\"circle\",\"x0\":4.8,\"x1\":5.2,\"y0\":0.8,\"y1\":1.2,\"line\":{\"color\":\"green\",\"width\":0.5}},{\"fillcolor\":\"white\",\"type\":\"circle\",\"x0\":5.8,\"x1\":6.2,\"y0\":0.8,\"y1\":1.2,\"line\":{\"color\":\"green\",\"width\":0.5}},{\"fillcolor\":\"white\",\"type\":\"circle\",\"x0\":0.8,\"x1\":1.2,\"y0\":1.8,\"y1\":2.2,\"line\":{\"color\":\"green\",\"width\":0.5}},{\"fillcolor\":\"white\",\"type\":\"circle\",\"x0\":1.8,\"x1\":2.2,\"y0\":1.8,\"y1\":2.2,\"line\":{\"color\":\"green\",\"width\":0.5}},{\"fillcolor\":\"white\",\"type\":\"circle\",\"x0\":2.8,\"x1\":3.2,\"y0\":1.8,\"y1\":2.2,\"line\":{\"color\":\"green\",\"width\":0.5}},{\"fillcolor\":\"black\",\"type\":\"circle\",\"x0\":3.8,\"x1\":4.2,\"y0\":1.8,\"y1\":2.2,\"line\":{\"color\":\"green\",\"width\":0.5}},{\"fillcolor\":\"black\",\"type\":\"circle\",\"x0\":4.8,\"x1\":5.2,\"y0\":1.8,\"y1\":2.2,\"line\":{\"color\":\"green\",\"width\":0.5}},{\"fillcolor\":\"black\",\"type\":\"circle\",\"x0\":5.8,\"x1\":6.2,\"y0\":1.8,\"y1\":2.2,\"line\":{\"color\":\"green\",\"width\":0.5}},{\"fillcolor\":\"white\",\"type\":\"circle\",\"x0\":1.8,\"x1\":2.2,\"y0\":2.8,\"y1\":3.2,\"line\":{\"color\":\"green\",\"width\":0.5}},{\"fillcolor\":\"white\",\"type\":\"circle\",\"x0\":2.8,\"x1\":3.2,\"y0\":2.8,\"y1\":3.2,\"line\":{\"color\":\"green\",\"width\":0.5}},{\"fillcolor\":\"black\",\"type\":\"circle\",\"x0\":3.8,\"x1\":4.2,\"y0\":2.8,\"y1\":3.2,\"line\":{\"color\":\"green\",\"width\":0.5}},{\"fillcolor\":\"black\",\"type\":\"circle\",\"x0\":-0.25,\"x1\":0.25,\"y0\":3.75,\"y1\":4.25,\"line\":{\"color\":\"red\",\"width\":4}},{\"fillcolor\":\"black\",\"type\":\"circle\",\"x0\":0.78,\"x1\":1.22,\"y0\":3.78,\"y1\":4.22,\"line\":{\"color\":\"purple\",\"width\":3}},{\"fillcolor\":\"black\",\"type\":\"circle\",\"x0\":1.78,\"x1\":2.22,\"y0\":3.78,\"y1\":4.22,\"line\":{\"color\":\"purple\",\"width\":3}},{\"fillcolor\":\"black\",\"type\":\"circle\",\"x0\":2.78,\"x1\":3.22,\"y0\":3.78,\"y1\":4.22,\"line\":{\"color\":\"purple\",\"width\":3}},{\"fillcolor\":\"black\",\"type\":\"circle\",\"x0\":3.8,\"x1\":4.2,\"y0\":3.8,\"y1\":4.2,\"line\":{\"color\":\"green\",\"width\":0.5}},{\"fillcolor\":\"black\",\"type\":\"circle\",\"x0\":4.8,\"x1\":5.2,\"y0\":3.8,\"y1\":4.2,\"line\":{\"color\":\"green\",\"width\":0.5}},{\"fillcolor\":\"black\",\"type\":\"circle\",\"x0\":1.8,\"x1\":2.2,\"y0\":4.8,\"y1\":5.2,\"line\":{\"color\":\"green\",\"width\":0.5}},{\"fillcolor\":\"black\",\"type\":\"circle\",\"x0\":3.8,\"x1\":4.2,\"y0\":4.8,\"y1\":5.2,\"line\":{\"color\":\"green\",\"width\":0.5}},{\"fillcolor\":\"black\",\"type\":\"circle\",\"x0\":4.8,\"x1\":5.2,\"y0\":4.8,\"y1\":5.2,\"line\":{\"color\":\"green\",\"width\":0.5}},{\"fillcolor\":\"black\",\"type\":\"circle\",\"x0\":5.8,\"x1\":6.2,\"y0\":4.8,\"y1\":5.2,\"line\":{\"color\":\"green\",\"width\":0.5}}]},                        {\"responsive\": true}                    ).then(function(){\n",
       "                            \n",
       "var gd = document.getElementById('406b5798-1c3a-46af-8d28-3c2f33d570d7');\n",
       "var x = new MutationObserver(function (mutations, observer) {{\n",
       "        var display = window.getComputedStyle(gd).display;\n",
       "        if (!display || display === 'none') {{\n",
       "            console.log([gd, 'removed!']);\n",
       "            Plotly.purge(gd);\n",
       "            observer.disconnect();\n",
       "        }}\n",
       "}});\n",
       "\n",
       "// Listen for the removal of the full notebook cells\n",
       "var notebookContainer = gd.closest('#notebook-container');\n",
       "if (notebookContainer) {{\n",
       "    x.observe(notebookContainer, {childList: true});\n",
       "}}\n",
       "\n",
       "// Listen for the clearing of the current output cell\n",
       "var outputEl = gd.closest('.output');\n",
       "if (outputEl) {{\n",
       "    x.observe(outputEl, {childList: true});\n",
       "}}\n",
       "\n",
       "                        })                };                });            </script>        </div>"
      ]
     },
     "metadata": {},
     "output_type": "display_data"
    },
    {
     "data": {
      "application/vnd.plotly.v1+json": {
       "config": {
        "plotlyServerURL": "https://plot.ly"
       },
       "data": [
        {
         "coloraxis": "coloraxis",
         "customdata": [
          [
           "I:1<br>S:0",
           "I:2<br>S:1",
           "I:3<br>S:2",
           "I:4<br>S:3",
           "I:5<br>S:4",
           "I:6<br>S:5",
           "I:7<br>S:6",
           "I:8<br>S:7"
          ],
          [
           "I:9<br>S:8",
           "I:10<br>S:9",
           "I:11<br>S:10",
           "I:12<br>S:11",
           "I:13<br>S:12",
           "I:14<br>S:13",
           "I:15<br>S:14",
           "I:16<br>S:15"
          ],
          [
           "I:17<br>S:16",
           "I:18<br>S:17",
           "I:19<br>S:18",
           "I:20<br>S:19",
           "I:21<br>S:20",
           "I:22<br>S:21",
           "I:23<br>S:22",
           "I:24<br>S:23"
          ],
          [
           "I:25<br>S:24",
           "I:26<br>S:25",
           "I:27<br>S:26",
           "I:X<br>S:27",
           "I:X<br>S:28",
           "I:28<br>S:29",
           "I:29<br>S:30",
           "I:30<br>S:31"
          ],
          [
           "I:31<br>S:32",
           "I:32<br>S:33",
           "I:33<br>S:34",
           "I:X<br>S:35",
           "I:X<br>S:36",
           "I:34<br>S:37",
           "I:35<br>S:38",
           "I:36<br>S:39"
          ],
          [
           "I:37<br>S:40",
           "I:38<br>S:41",
           "I:39<br>S:42",
           "I:40<br>S:43",
           "I:41<br>S:44",
           "I:42<br>S:45",
           "I:43<br>S:46",
           "I:44<br>S:47"
          ],
          [
           "I:45<br>S:48",
           "I:46<br>S:49",
           "I:47<br>S:50",
           "I:48<br>S:51",
           "I:49<br>S:52",
           "I:50<br>S:53",
           "I:51<br>S:54",
           "I:52<br>S:55"
          ],
          [
           "I:53<br>S:56",
           "I:54<br>S:57",
           "I:55<br>S:58",
           "I:56<br>S:59",
           "I:57<br>S:60",
           "I:58<br>S:61",
           "I:59<br>S:62",
           "I:60<br>S:63"
          ]
         ],
         "hovertemplate": "<b>%{y}%{x}</b><br>%{customdata}<extra></extra>",
         "name": "0",
         "text": [
          [
           "A0",
           "A1",
           "A2",
           "A3",
           "A4",
           "A5",
           "A6",
           "A7"
          ],
          [
           "",
           "B1",
           "",
           "",
           "",
           "",
           "",
           "B7"
          ],
          [
           "",
           "",
           "",
           "",
           "",
           "",
           "",
           "C7"
          ],
          [
           "D0",
           "D1",
           "",
           "",
           "",
           "D5",
           "D6",
           "D7"
          ],
          [
           "E0",
           "",
           "",
           "",
           "",
           "",
           "E6",
           "E7"
          ],
          [
           "F0",
           "F1",
           "",
           "F3",
           "",
           "",
           "",
           "F7"
          ],
          [
           "G0",
           "G1",
           "G2",
           "G3",
           "G4",
           "G5",
           "G6",
           "G7"
          ],
          [
           "H0",
           "H1",
           "H2",
           "H3",
           "H4",
           "H5",
           "H6",
           "H7"
          ]
         ],
         "texttemplate": "%{text}",
         "type": "heatmap",
         "x": [
          "0",
          "1",
          "2",
          "3",
          "4",
          "5",
          "6",
          "7"
         ],
         "xaxis": "x",
         "y": [
          "A",
          "B",
          "C",
          "D",
          "E",
          "F",
          "G",
          "H"
         ],
         "yaxis": "y",
         "z": [
          [
           0,
           0.1,
           0.1,
           0.1,
           0.1,
           0.1,
           0.1,
           0.1
          ],
          [
           -1,
           -0.5,
           -1,
           -1,
           -1,
           -1,
           -1,
           0
          ],
          [
           0.9,
           0.9,
           0.9,
           0.9,
           1,
           1,
           1,
           0
          ],
          [
           -0.5,
           -0.5,
           -1,
           -1,
           1,
           -0.5,
           -0.5,
           -0.5
          ],
          [
           0.1,
           -1,
           -1,
           -1,
           1,
           1,
           -0.5,
           0
          ],
          [
           0,
           0.1,
           1,
           0,
           1,
           1,
           1,
           0
          ],
          [
           0,
           -0.5,
           -0.5,
           -0.5,
           -0.5,
           -0.5,
           -0.5,
           -0.5
          ],
          [
           0,
           0,
           0,
           0,
           0,
           0,
           0,
           0
          ]
         ]
        }
       ],
       "layout": {
        "coloraxis": {
         "cmid": 0,
         "colorscale": [
          [
           0,
           "rgb(0, 128, 128)"
          ],
          [
           0.16666666666666666,
           "rgb(112, 164, 148)"
          ],
          [
           0.3333333333333333,
           "rgb(180, 200, 168)"
          ],
          [
           0.5,
           "rgb(246, 237, 189)"
          ],
          [
           0.6666666666666666,
           "rgb(237, 187, 138)"
          ],
          [
           0.8333333333333334,
           "rgb(222, 138, 90)"
          ],
          [
           1,
           "rgb(202, 86, 44)"
          ]
         ]
        },
        "shapes": [
         {
          "fillcolor": "white",
          "line": {
           "color": "green",
           "width": 0.5
          },
          "type": "circle",
          "x0": -0.2,
          "x1": 0.2,
          "y0": 0.8,
          "y1": 1.2
         },
         {
          "fillcolor": "white",
          "line": {
           "color": "green",
           "width": 0.5
          },
          "type": "circle",
          "x0": 1.8,
          "x1": 2.2,
          "y0": 0.8,
          "y1": 1.2
         },
         {
          "fillcolor": "white",
          "line": {
           "color": "green",
           "width": 0.5
          },
          "type": "circle",
          "x0": 2.8,
          "x1": 3.2,
          "y0": 0.8,
          "y1": 1.2
         },
         {
          "fillcolor": "white",
          "line": {
           "color": "green",
           "width": 0.5
          },
          "type": "circle",
          "x0": 3.8,
          "x1": 4.2,
          "y0": 0.8,
          "y1": 1.2
         },
         {
          "fillcolor": "white",
          "line": {
           "color": "green",
           "width": 0.5
          },
          "type": "circle",
          "x0": 4.8,
          "x1": 5.2,
          "y0": 0.8,
          "y1": 1.2
         },
         {
          "fillcolor": "white",
          "line": {
           "color": "green",
           "width": 0.5
          },
          "type": "circle",
          "x0": 5.8,
          "x1": 6.2,
          "y0": 0.8,
          "y1": 1.2
         },
         {
          "fillcolor": "black",
          "line": {
           "color": "red",
           "width": 4
          },
          "type": "circle",
          "x0": -0.25,
          "x1": 0.25,
          "y0": 1.75,
          "y1": 2.25
         },
         {
          "fillcolor": "black",
          "line": {
           "color": "purple",
           "width": 3
          },
          "type": "circle",
          "x0": 0.78,
          "x1": 1.22,
          "y0": 1.78,
          "y1": 2.22
         },
         {
          "fillcolor": "black",
          "line": {
           "color": "purple",
           "width": 3
          },
          "type": "circle",
          "x0": 1.78,
          "x1": 2.22,
          "y0": 1.78,
          "y1": 2.22
         },
         {
          "fillcolor": "black",
          "line": {
           "color": "purple",
           "width": 3
          },
          "type": "circle",
          "x0": 2.78,
          "x1": 3.22,
          "y0": 1.78,
          "y1": 2.22
         },
         {
          "fillcolor": "black",
          "line": {
           "color": "green",
           "width": 0.5
          },
          "type": "circle",
          "x0": 3.8,
          "x1": 4.2,
          "y0": 1.8,
          "y1": 2.2
         },
         {
          "fillcolor": "black",
          "line": {
           "color": "green",
           "width": 0.5
          },
          "type": "circle",
          "x0": 4.8,
          "x1": 5.2,
          "y0": 1.8,
          "y1": 2.2
         },
         {
          "fillcolor": "black",
          "line": {
           "color": "green",
           "width": 0.5
          },
          "type": "circle",
          "x0": 5.8,
          "x1": 6.2,
          "y0": 1.8,
          "y1": 2.2
         },
         {
          "fillcolor": "white",
          "line": {
           "color": "green",
           "width": 0.5
          },
          "type": "circle",
          "x0": 1.8,
          "x1": 2.2,
          "y0": 2.8,
          "y1": 3.2
         },
         {
          "fillcolor": "white",
          "line": {
           "color": "green",
           "width": 0.5
          },
          "type": "circle",
          "x0": 2.8,
          "x1": 3.2,
          "y0": 2.8,
          "y1": 3.2
         },
         {
          "fillcolor": "black",
          "line": {
           "color": "green",
           "width": 0.5
          },
          "type": "circle",
          "x0": 3.8,
          "x1": 4.2,
          "y0": 2.8,
          "y1": 3.2
         },
         {
          "fillcolor": "white",
          "line": {
           "color": "green",
           "width": 0.5
          },
          "type": "circle",
          "x0": 0.8,
          "x1": 1.2,
          "y0": 3.8,
          "y1": 4.2
         },
         {
          "fillcolor": "white",
          "line": {
           "color": "green",
           "width": 0.5
          },
          "type": "circle",
          "x0": 1.8,
          "x1": 2.2,
          "y0": 3.8,
          "y1": 4.2
         },
         {
          "fillcolor": "white",
          "line": {
           "color": "green",
           "width": 0.5
          },
          "type": "circle",
          "x0": 2.8,
          "x1": 3.2,
          "y0": 3.8,
          "y1": 4.2
         },
         {
          "fillcolor": "black",
          "line": {
           "color": "green",
           "width": 0.5
          },
          "type": "circle",
          "x0": 3.8,
          "x1": 4.2,
          "y0": 3.8,
          "y1": 4.2
         },
         {
          "fillcolor": "black",
          "line": {
           "color": "green",
           "width": 0.5
          },
          "type": "circle",
          "x0": 4.8,
          "x1": 5.2,
          "y0": 3.8,
          "y1": 4.2
         },
         {
          "fillcolor": "black",
          "line": {
           "color": "green",
           "width": 0.5
          },
          "type": "circle",
          "x0": 1.8,
          "x1": 2.2,
          "y0": 4.8,
          "y1": 5.2
         },
         {
          "fillcolor": "black",
          "line": {
           "color": "green",
           "width": 0.5
          },
          "type": "circle",
          "x0": 3.8,
          "x1": 4.2,
          "y0": 4.8,
          "y1": 5.2
         },
         {
          "fillcolor": "black",
          "line": {
           "color": "green",
           "width": 0.5
          },
          "type": "circle",
          "x0": 4.8,
          "x1": 5.2,
          "y0": 4.8,
          "y1": 5.2
         },
         {
          "fillcolor": "black",
          "line": {
           "color": "green",
           "width": 0.5
          },
          "type": "circle",
          "x0": 5.8,
          "x1": 6.2,
          "y0": 4.8,
          "y1": 5.2
         }
        ],
        "template": {
         "data": {
          "bar": [
           {
            "error_x": {
             "color": "#2a3f5f"
            },
            "error_y": {
             "color": "#2a3f5f"
            },
            "marker": {
             "line": {
              "color": "#E5ECF6",
              "width": 0.5
             },
             "pattern": {
              "fillmode": "overlay",
              "size": 10,
              "solidity": 0.2
             }
            },
            "type": "bar"
           }
          ],
          "barpolar": [
           {
            "marker": {
             "line": {
              "color": "#E5ECF6",
              "width": 0.5
             },
             "pattern": {
              "fillmode": "overlay",
              "size": 10,
              "solidity": 0.2
             }
            },
            "type": "barpolar"
           }
          ],
          "carpet": [
           {
            "aaxis": {
             "endlinecolor": "#2a3f5f",
             "gridcolor": "white",
             "linecolor": "white",
             "minorgridcolor": "white",
             "startlinecolor": "#2a3f5f"
            },
            "baxis": {
             "endlinecolor": "#2a3f5f",
             "gridcolor": "white",
             "linecolor": "white",
             "minorgridcolor": "white",
             "startlinecolor": "#2a3f5f"
            },
            "type": "carpet"
           }
          ],
          "choropleth": [
           {
            "colorbar": {
             "outlinewidth": 0,
             "ticks": ""
            },
            "type": "choropleth"
           }
          ],
          "contour": [
           {
            "colorbar": {
             "outlinewidth": 0,
             "ticks": ""
            },
            "colorscale": [
             [
              0,
              "#0d0887"
             ],
             [
              0.1111111111111111,
              "#46039f"
             ],
             [
              0.2222222222222222,
              "#7201a8"
             ],
             [
              0.3333333333333333,
              "#9c179e"
             ],
             [
              0.4444444444444444,
              "#bd3786"
             ],
             [
              0.5555555555555556,
              "#d8576b"
             ],
             [
              0.6666666666666666,
              "#ed7953"
             ],
             [
              0.7777777777777778,
              "#fb9f3a"
             ],
             [
              0.8888888888888888,
              "#fdca26"
             ],
             [
              1,
              "#f0f921"
             ]
            ],
            "type": "contour"
           }
          ],
          "contourcarpet": [
           {
            "colorbar": {
             "outlinewidth": 0,
             "ticks": ""
            },
            "type": "contourcarpet"
           }
          ],
          "heatmap": [
           {
            "colorbar": {
             "outlinewidth": 0,
             "ticks": ""
            },
            "colorscale": [
             [
              0,
              "#0d0887"
             ],
             [
              0.1111111111111111,
              "#46039f"
             ],
             [
              0.2222222222222222,
              "#7201a8"
             ],
             [
              0.3333333333333333,
              "#9c179e"
             ],
             [
              0.4444444444444444,
              "#bd3786"
             ],
             [
              0.5555555555555556,
              "#d8576b"
             ],
             [
              0.6666666666666666,
              "#ed7953"
             ],
             [
              0.7777777777777778,
              "#fb9f3a"
             ],
             [
              0.8888888888888888,
              "#fdca26"
             ],
             [
              1,
              "#f0f921"
             ]
            ],
            "type": "heatmap"
           }
          ],
          "heatmapgl": [
           {
            "colorbar": {
             "outlinewidth": 0,
             "ticks": ""
            },
            "colorscale": [
             [
              0,
              "#0d0887"
             ],
             [
              0.1111111111111111,
              "#46039f"
             ],
             [
              0.2222222222222222,
              "#7201a8"
             ],
             [
              0.3333333333333333,
              "#9c179e"
             ],
             [
              0.4444444444444444,
              "#bd3786"
             ],
             [
              0.5555555555555556,
              "#d8576b"
             ],
             [
              0.6666666666666666,
              "#ed7953"
             ],
             [
              0.7777777777777778,
              "#fb9f3a"
             ],
             [
              0.8888888888888888,
              "#fdca26"
             ],
             [
              1,
              "#f0f921"
             ]
            ],
            "type": "heatmapgl"
           }
          ],
          "histogram": [
           {
            "marker": {
             "pattern": {
              "fillmode": "overlay",
              "size": 10,
              "solidity": 0.2
             }
            },
            "type": "histogram"
           }
          ],
          "histogram2d": [
           {
            "colorbar": {
             "outlinewidth": 0,
             "ticks": ""
            },
            "colorscale": [
             [
              0,
              "#0d0887"
             ],
             [
              0.1111111111111111,
              "#46039f"
             ],
             [
              0.2222222222222222,
              "#7201a8"
             ],
             [
              0.3333333333333333,
              "#9c179e"
             ],
             [
              0.4444444444444444,
              "#bd3786"
             ],
             [
              0.5555555555555556,
              "#d8576b"
             ],
             [
              0.6666666666666666,
              "#ed7953"
             ],
             [
              0.7777777777777778,
              "#fb9f3a"
             ],
             [
              0.8888888888888888,
              "#fdca26"
             ],
             [
              1,
              "#f0f921"
             ]
            ],
            "type": "histogram2d"
           }
          ],
          "histogram2dcontour": [
           {
            "colorbar": {
             "outlinewidth": 0,
             "ticks": ""
            },
            "colorscale": [
             [
              0,
              "#0d0887"
             ],
             [
              0.1111111111111111,
              "#46039f"
             ],
             [
              0.2222222222222222,
              "#7201a8"
             ],
             [
              0.3333333333333333,
              "#9c179e"
             ],
             [
              0.4444444444444444,
              "#bd3786"
             ],
             [
              0.5555555555555556,
              "#d8576b"
             ],
             [
              0.6666666666666666,
              "#ed7953"
             ],
             [
              0.7777777777777778,
              "#fb9f3a"
             ],
             [
              0.8888888888888888,
              "#fdca26"
             ],
             [
              1,
              "#f0f921"
             ]
            ],
            "type": "histogram2dcontour"
           }
          ],
          "mesh3d": [
           {
            "colorbar": {
             "outlinewidth": 0,
             "ticks": ""
            },
            "type": "mesh3d"
           }
          ],
          "parcoords": [
           {
            "line": {
             "colorbar": {
              "outlinewidth": 0,
              "ticks": ""
             }
            },
            "type": "parcoords"
           }
          ],
          "pie": [
           {
            "automargin": true,
            "type": "pie"
           }
          ],
          "scatter": [
           {
            "fillpattern": {
             "fillmode": "overlay",
             "size": 10,
             "solidity": 0.2
            },
            "type": "scatter"
           }
          ],
          "scatter3d": [
           {
            "line": {
             "colorbar": {
              "outlinewidth": 0,
              "ticks": ""
             }
            },
            "marker": {
             "colorbar": {
              "outlinewidth": 0,
              "ticks": ""
             }
            },
            "type": "scatter3d"
           }
          ],
          "scattercarpet": [
           {
            "marker": {
             "colorbar": {
              "outlinewidth": 0,
              "ticks": ""
             }
            },
            "type": "scattercarpet"
           }
          ],
          "scattergeo": [
           {
            "marker": {
             "colorbar": {
              "outlinewidth": 0,
              "ticks": ""
             }
            },
            "type": "scattergeo"
           }
          ],
          "scattergl": [
           {
            "marker": {
             "colorbar": {
              "outlinewidth": 0,
              "ticks": ""
             }
            },
            "type": "scattergl"
           }
          ],
          "scattermapbox": [
           {
            "marker": {
             "colorbar": {
              "outlinewidth": 0,
              "ticks": ""
             }
            },
            "type": "scattermapbox"
           }
          ],
          "scatterpolar": [
           {
            "marker": {
             "colorbar": {
              "outlinewidth": 0,
              "ticks": ""
             }
            },
            "type": "scatterpolar"
           }
          ],
          "scatterpolargl": [
           {
            "marker": {
             "colorbar": {
              "outlinewidth": 0,
              "ticks": ""
             }
            },
            "type": "scatterpolargl"
           }
          ],
          "scatterternary": [
           {
            "marker": {
             "colorbar": {
              "outlinewidth": 0,
              "ticks": ""
             }
            },
            "type": "scatterternary"
           }
          ],
          "surface": [
           {
            "colorbar": {
             "outlinewidth": 0,
             "ticks": ""
            },
            "colorscale": [
             [
              0,
              "#0d0887"
             ],
             [
              0.1111111111111111,
              "#46039f"
             ],
             [
              0.2222222222222222,
              "#7201a8"
             ],
             [
              0.3333333333333333,
              "#9c179e"
             ],
             [
              0.4444444444444444,
              "#bd3786"
             ],
             [
              0.5555555555555556,
              "#d8576b"
             ],
             [
              0.6666666666666666,
              "#ed7953"
             ],
             [
              0.7777777777777778,
              "#fb9f3a"
             ],
             [
              0.8888888888888888,
              "#fdca26"
             ],
             [
              1,
              "#f0f921"
             ]
            ],
            "type": "surface"
           }
          ],
          "table": [
           {
            "cells": {
             "fill": {
              "color": "#EBF0F8"
             },
             "line": {
              "color": "white"
             }
            },
            "header": {
             "fill": {
              "color": "#C8D4E3"
             },
             "line": {
              "color": "white"
             }
            },
            "type": "table"
           }
          ]
         },
         "layout": {
          "annotationdefaults": {
           "arrowcolor": "#2a3f5f",
           "arrowhead": 0,
           "arrowwidth": 1
          },
          "autotypenumbers": "strict",
          "coloraxis": {
           "colorbar": {
            "outlinewidth": 0,
            "ticks": ""
           }
          },
          "colorscale": {
           "diverging": [
            [
             0,
             "#8e0152"
            ],
            [
             0.1,
             "#c51b7d"
            ],
            [
             0.2,
             "#de77ae"
            ],
            [
             0.3,
             "#f1b6da"
            ],
            [
             0.4,
             "#fde0ef"
            ],
            [
             0.5,
             "#f7f7f7"
            ],
            [
             0.6,
             "#e6f5d0"
            ],
            [
             0.7,
             "#b8e186"
            ],
            [
             0.8,
             "#7fbc41"
            ],
            [
             0.9,
             "#4d9221"
            ],
            [
             1,
             "#276419"
            ]
           ],
           "sequential": [
            [
             0,
             "#0d0887"
            ],
            [
             0.1111111111111111,
             "#46039f"
            ],
            [
             0.2222222222222222,
             "#7201a8"
            ],
            [
             0.3333333333333333,
             "#9c179e"
            ],
            [
             0.4444444444444444,
             "#bd3786"
            ],
            [
             0.5555555555555556,
             "#d8576b"
            ],
            [
             0.6666666666666666,
             "#ed7953"
            ],
            [
             0.7777777777777778,
             "#fb9f3a"
            ],
            [
             0.8888888888888888,
             "#fdca26"
            ],
            [
             1,
             "#f0f921"
            ]
           ],
           "sequentialminus": [
            [
             0,
             "#0d0887"
            ],
            [
             0.1111111111111111,
             "#46039f"
            ],
            [
             0.2222222222222222,
             "#7201a8"
            ],
            [
             0.3333333333333333,
             "#9c179e"
            ],
            [
             0.4444444444444444,
             "#bd3786"
            ],
            [
             0.5555555555555556,
             "#d8576b"
            ],
            [
             0.6666666666666666,
             "#ed7953"
            ],
            [
             0.7777777777777778,
             "#fb9f3a"
            ],
            [
             0.8888888888888888,
             "#fdca26"
            ],
            [
             1,
             "#f0f921"
            ]
           ]
          },
          "colorway": [
           "#636efa",
           "#EF553B",
           "#00cc96",
           "#ab63fa",
           "#FFA15A",
           "#19d3f3",
           "#FF6692",
           "#B6E880",
           "#FF97FF",
           "#FECB52"
          ],
          "font": {
           "color": "#2a3f5f"
          },
          "geo": {
           "bgcolor": "white",
           "lakecolor": "white",
           "landcolor": "#E5ECF6",
           "showlakes": true,
           "showland": true,
           "subunitcolor": "white"
          },
          "hoverlabel": {
           "align": "left"
          },
          "hovermode": "closest",
          "mapbox": {
           "style": "light"
          },
          "paper_bgcolor": "white",
          "plot_bgcolor": "#E5ECF6",
          "polar": {
           "angularaxis": {
            "gridcolor": "white",
            "linecolor": "white",
            "ticks": ""
           },
           "bgcolor": "#E5ECF6",
           "radialaxis": {
            "gridcolor": "white",
            "linecolor": "white",
            "ticks": ""
           }
          },
          "scene": {
           "xaxis": {
            "backgroundcolor": "#E5ECF6",
            "gridcolor": "white",
            "gridwidth": 2,
            "linecolor": "white",
            "showbackground": true,
            "ticks": "",
            "zerolinecolor": "white"
           },
           "yaxis": {
            "backgroundcolor": "#E5ECF6",
            "gridcolor": "white",
            "gridwidth": 2,
            "linecolor": "white",
            "showbackground": true,
            "ticks": "",
            "zerolinecolor": "white"
           },
           "zaxis": {
            "backgroundcolor": "#E5ECF6",
            "gridcolor": "white",
            "gridwidth": 2,
            "linecolor": "white",
            "showbackground": true,
            "ticks": "",
            "zerolinecolor": "white"
           }
          },
          "shapedefaults": {
           "line": {
            "color": "#2a3f5f"
           }
          },
          "ternary": {
           "aaxis": {
            "gridcolor": "white",
            "linecolor": "white",
            "ticks": ""
           },
           "baxis": {
            "gridcolor": "white",
            "linecolor": "white",
            "ticks": ""
           },
           "bgcolor": "#E5ECF6",
           "caxis": {
            "gridcolor": "white",
            "linecolor": "white",
            "ticks": ""
           }
          },
          "title": {
           "x": 0.05
          },
          "xaxis": {
           "automargin": true,
           "gridcolor": "white",
           "linecolor": "white",
           "ticks": "",
           "title": {
            "standoff": 15
           },
           "zerolinecolor": "white",
           "zerolinewidth": 2
          },
          "yaxis": {
           "automargin": true,
           "gridcolor": "white",
           "linecolor": "white",
           "ticks": "",
           "title": {
            "standoff": 15
           },
           "zerolinecolor": "white",
           "zerolinewidth": 2
          }
         }
        },
        "title": {
         "text": "Corrupted Game (blank plays C0)",
         "x": 0.5
        },
        "xaxis": {
         "anchor": "y",
         "constrain": "domain",
         "domain": [
          0,
          1
         ],
         "scaleanchor": "y",
         "title": {
          "text": "x"
         }
        },
        "yaxis": {
         "anchor": "x",
         "autorange": "reversed",
         "constrain": "domain",
         "domain": [
          0,
          1
         ],
         "title": {
          "text": "y"
         }
        }
       }
      },
      "text/html": [
       "<div>                            <div id=\"bb855475-05c1-4f1b-ae90-8f147701643a\" class=\"plotly-graph-div\" style=\"height:525px; width:100%;\"></div>            <script type=\"text/javascript\">                require([\"plotly\"], function(Plotly) {                    window.PLOTLYENV=window.PLOTLYENV || {};                                    if (document.getElementById(\"bb855475-05c1-4f1b-ae90-8f147701643a\")) {                    Plotly.newPlot(                        \"bb855475-05c1-4f1b-ae90-8f147701643a\",                        [{\"coloraxis\":\"coloraxis\",\"name\":\"0\",\"x\":[\"0\",\"1\",\"2\",\"3\",\"4\",\"5\",\"6\",\"7\"],\"y\":[\"A\",\"B\",\"C\",\"D\",\"E\",\"F\",\"G\",\"H\"],\"z\":[[0.0,0.1,0.1,0.1,0.1,0.1,0.1,0.1],[-1.0,-0.5,-1.0,-1.0,-1.0,-1.0,-1.0,0.0],[0.9,0.9,0.9,0.9,1.0,1.0,1.0,0.0],[-0.5,-0.5,-1.0,-1.0,1.0,-0.5,-0.5,-0.5],[0.1,-1.0,-1.0,-1.0,1.0,1.0,-0.5,0.0],[0.0,0.1,1.0,0.0,1.0,1.0,1.0,0.0],[0.0,-0.5,-0.5,-0.5,-0.5,-0.5,-0.5,-0.5],[0.0,0.0,0.0,0.0,0.0,0.0,0.0,0.0]],\"type\":\"heatmap\",\"xaxis\":\"x\",\"yaxis\":\"y\",\"hovertemplate\":\"\\u003cb\\u003e%{y}%{x}\\u003c\\u002fb\\u003e\\u003cbr\\u003e%{customdata}\\u003cextra\\u003e\\u003c\\u002fextra\\u003e\",\"text\":[[\"A0\",\"A1\",\"A2\",\"A3\",\"A4\",\"A5\",\"A6\",\"A7\"],[\"\",\"B1\",\"\",\"\",\"\",\"\",\"\",\"B7\"],[\"\",\"\",\"\",\"\",\"\",\"\",\"\",\"C7\"],[\"D0\",\"D1\",\"\",\"\",\"\",\"D5\",\"D6\",\"D7\"],[\"E0\",\"\",\"\",\"\",\"\",\"\",\"E6\",\"E7\"],[\"F0\",\"F1\",\"\",\"F3\",\"\",\"\",\"\",\"F7\"],[\"G0\",\"G1\",\"G2\",\"G3\",\"G4\",\"G5\",\"G6\",\"G7\"],[\"H0\",\"H1\",\"H2\",\"H3\",\"H4\",\"H5\",\"H6\",\"H7\"]],\"texttemplate\":\"%{text}\",\"customdata\":[[\"I:1\\u003cbr\\u003eS:0\",\"I:2\\u003cbr\\u003eS:1\",\"I:3\\u003cbr\\u003eS:2\",\"I:4\\u003cbr\\u003eS:3\",\"I:5\\u003cbr\\u003eS:4\",\"I:6\\u003cbr\\u003eS:5\",\"I:7\\u003cbr\\u003eS:6\",\"I:8\\u003cbr\\u003eS:7\"],[\"I:9\\u003cbr\\u003eS:8\",\"I:10\\u003cbr\\u003eS:9\",\"I:11\\u003cbr\\u003eS:10\",\"I:12\\u003cbr\\u003eS:11\",\"I:13\\u003cbr\\u003eS:12\",\"I:14\\u003cbr\\u003eS:13\",\"I:15\\u003cbr\\u003eS:14\",\"I:16\\u003cbr\\u003eS:15\"],[\"I:17\\u003cbr\\u003eS:16\",\"I:18\\u003cbr\\u003eS:17\",\"I:19\\u003cbr\\u003eS:18\",\"I:20\\u003cbr\\u003eS:19\",\"I:21\\u003cbr\\u003eS:20\",\"I:22\\u003cbr\\u003eS:21\",\"I:23\\u003cbr\\u003eS:22\",\"I:24\\u003cbr\\u003eS:23\"],[\"I:25\\u003cbr\\u003eS:24\",\"I:26\\u003cbr\\u003eS:25\",\"I:27\\u003cbr\\u003eS:26\",\"I:X\\u003cbr\\u003eS:27\",\"I:X\\u003cbr\\u003eS:28\",\"I:28\\u003cbr\\u003eS:29\",\"I:29\\u003cbr\\u003eS:30\",\"I:30\\u003cbr\\u003eS:31\"],[\"I:31\\u003cbr\\u003eS:32\",\"I:32\\u003cbr\\u003eS:33\",\"I:33\\u003cbr\\u003eS:34\",\"I:X\\u003cbr\\u003eS:35\",\"I:X\\u003cbr\\u003eS:36\",\"I:34\\u003cbr\\u003eS:37\",\"I:35\\u003cbr\\u003eS:38\",\"I:36\\u003cbr\\u003eS:39\"],[\"I:37\\u003cbr\\u003eS:40\",\"I:38\\u003cbr\\u003eS:41\",\"I:39\\u003cbr\\u003eS:42\",\"I:40\\u003cbr\\u003eS:43\",\"I:41\\u003cbr\\u003eS:44\",\"I:42\\u003cbr\\u003eS:45\",\"I:43\\u003cbr\\u003eS:46\",\"I:44\\u003cbr\\u003eS:47\"],[\"I:45\\u003cbr\\u003eS:48\",\"I:46\\u003cbr\\u003eS:49\",\"I:47\\u003cbr\\u003eS:50\",\"I:48\\u003cbr\\u003eS:51\",\"I:49\\u003cbr\\u003eS:52\",\"I:50\\u003cbr\\u003eS:53\",\"I:51\\u003cbr\\u003eS:54\",\"I:52\\u003cbr\\u003eS:55\"],[\"I:53\\u003cbr\\u003eS:56\",\"I:54\\u003cbr\\u003eS:57\",\"I:55\\u003cbr\\u003eS:58\",\"I:56\\u003cbr\\u003eS:59\",\"I:57\\u003cbr\\u003eS:60\",\"I:58\\u003cbr\\u003eS:61\",\"I:59\\u003cbr\\u003eS:62\",\"I:60\\u003cbr\\u003eS:63\"]]}],                        {\"template\":{\"data\":{\"histogram2dcontour\":[{\"type\":\"histogram2dcontour\",\"colorbar\":{\"outlinewidth\":0,\"ticks\":\"\"},\"colorscale\":[[0.0,\"#0d0887\"],[0.1111111111111111,\"#46039f\"],[0.2222222222222222,\"#7201a8\"],[0.3333333333333333,\"#9c179e\"],[0.4444444444444444,\"#bd3786\"],[0.5555555555555556,\"#d8576b\"],[0.6666666666666666,\"#ed7953\"],[0.7777777777777778,\"#fb9f3a\"],[0.8888888888888888,\"#fdca26\"],[1.0,\"#f0f921\"]]}],\"choropleth\":[{\"type\":\"choropleth\",\"colorbar\":{\"outlinewidth\":0,\"ticks\":\"\"}}],\"histogram2d\":[{\"type\":\"histogram2d\",\"colorbar\":{\"outlinewidth\":0,\"ticks\":\"\"},\"colorscale\":[[0.0,\"#0d0887\"],[0.1111111111111111,\"#46039f\"],[0.2222222222222222,\"#7201a8\"],[0.3333333333333333,\"#9c179e\"],[0.4444444444444444,\"#bd3786\"],[0.5555555555555556,\"#d8576b\"],[0.6666666666666666,\"#ed7953\"],[0.7777777777777778,\"#fb9f3a\"],[0.8888888888888888,\"#fdca26\"],[1.0,\"#f0f921\"]]}],\"heatmap\":[{\"type\":\"heatmap\",\"colorbar\":{\"outlinewidth\":0,\"ticks\":\"\"},\"colorscale\":[[0.0,\"#0d0887\"],[0.1111111111111111,\"#46039f\"],[0.2222222222222222,\"#7201a8\"],[0.3333333333333333,\"#9c179e\"],[0.4444444444444444,\"#bd3786\"],[0.5555555555555556,\"#d8576b\"],[0.6666666666666666,\"#ed7953\"],[0.7777777777777778,\"#fb9f3a\"],[0.8888888888888888,\"#fdca26\"],[1.0,\"#f0f921\"]]}],\"heatmapgl\":[{\"type\":\"heatmapgl\",\"colorbar\":{\"outlinewidth\":0,\"ticks\":\"\"},\"colorscale\":[[0.0,\"#0d0887\"],[0.1111111111111111,\"#46039f\"],[0.2222222222222222,\"#7201a8\"],[0.3333333333333333,\"#9c179e\"],[0.4444444444444444,\"#bd3786\"],[0.5555555555555556,\"#d8576b\"],[0.6666666666666666,\"#ed7953\"],[0.7777777777777778,\"#fb9f3a\"],[0.8888888888888888,\"#fdca26\"],[1.0,\"#f0f921\"]]}],\"contourcarpet\":[{\"type\":\"contourcarpet\",\"colorbar\":{\"outlinewidth\":0,\"ticks\":\"\"}}],\"contour\":[{\"type\":\"contour\",\"colorbar\":{\"outlinewidth\":0,\"ticks\":\"\"},\"colorscale\":[[0.0,\"#0d0887\"],[0.1111111111111111,\"#46039f\"],[0.2222222222222222,\"#7201a8\"],[0.3333333333333333,\"#9c179e\"],[0.4444444444444444,\"#bd3786\"],[0.5555555555555556,\"#d8576b\"],[0.6666666666666666,\"#ed7953\"],[0.7777777777777778,\"#fb9f3a\"],[0.8888888888888888,\"#fdca26\"],[1.0,\"#f0f921\"]]}],\"surface\":[{\"type\":\"surface\",\"colorbar\":{\"outlinewidth\":0,\"ticks\":\"\"},\"colorscale\":[[0.0,\"#0d0887\"],[0.1111111111111111,\"#46039f\"],[0.2222222222222222,\"#7201a8\"],[0.3333333333333333,\"#9c179e\"],[0.4444444444444444,\"#bd3786\"],[0.5555555555555556,\"#d8576b\"],[0.6666666666666666,\"#ed7953\"],[0.7777777777777778,\"#fb9f3a\"],[0.8888888888888888,\"#fdca26\"],[1.0,\"#f0f921\"]]}],\"mesh3d\":[{\"type\":\"mesh3d\",\"colorbar\":{\"outlinewidth\":0,\"ticks\":\"\"}}],\"scatter\":[{\"fillpattern\":{\"fillmode\":\"overlay\",\"size\":10,\"solidity\":0.2},\"type\":\"scatter\"}],\"parcoords\":[{\"type\":\"parcoords\",\"line\":{\"colorbar\":{\"outlinewidth\":0,\"ticks\":\"\"}}}],\"scatterpolargl\":[{\"type\":\"scatterpolargl\",\"marker\":{\"colorbar\":{\"outlinewidth\":0,\"ticks\":\"\"}}}],\"bar\":[{\"error_x\":{\"color\":\"#2a3f5f\"},\"error_y\":{\"color\":\"#2a3f5f\"},\"marker\":{\"line\":{\"color\":\"#E5ECF6\",\"width\":0.5},\"pattern\":{\"fillmode\":\"overlay\",\"size\":10,\"solidity\":0.2}},\"type\":\"bar\"}],\"scattergeo\":[{\"type\":\"scattergeo\",\"marker\":{\"colorbar\":{\"outlinewidth\":0,\"ticks\":\"\"}}}],\"scatterpolar\":[{\"type\":\"scatterpolar\",\"marker\":{\"colorbar\":{\"outlinewidth\":0,\"ticks\":\"\"}}}],\"histogram\":[{\"marker\":{\"pattern\":{\"fillmode\":\"overlay\",\"size\":10,\"solidity\":0.2}},\"type\":\"histogram\"}],\"scattergl\":[{\"type\":\"scattergl\",\"marker\":{\"colorbar\":{\"outlinewidth\":0,\"ticks\":\"\"}}}],\"scatter3d\":[{\"type\":\"scatter3d\",\"line\":{\"colorbar\":{\"outlinewidth\":0,\"ticks\":\"\"}},\"marker\":{\"colorbar\":{\"outlinewidth\":0,\"ticks\":\"\"}}}],\"scattermapbox\":[{\"type\":\"scattermapbox\",\"marker\":{\"colorbar\":{\"outlinewidth\":0,\"ticks\":\"\"}}}],\"scatterternary\":[{\"type\":\"scatterternary\",\"marker\":{\"colorbar\":{\"outlinewidth\":0,\"ticks\":\"\"}}}],\"scattercarpet\":[{\"type\":\"scattercarpet\",\"marker\":{\"colorbar\":{\"outlinewidth\":0,\"ticks\":\"\"}}}],\"carpet\":[{\"aaxis\":{\"endlinecolor\":\"#2a3f5f\",\"gridcolor\":\"white\",\"linecolor\":\"white\",\"minorgridcolor\":\"white\",\"startlinecolor\":\"#2a3f5f\"},\"baxis\":{\"endlinecolor\":\"#2a3f5f\",\"gridcolor\":\"white\",\"linecolor\":\"white\",\"minorgridcolor\":\"white\",\"startlinecolor\":\"#2a3f5f\"},\"type\":\"carpet\"}],\"table\":[{\"cells\":{\"fill\":{\"color\":\"#EBF0F8\"},\"line\":{\"color\":\"white\"}},\"header\":{\"fill\":{\"color\":\"#C8D4E3\"},\"line\":{\"color\":\"white\"}},\"type\":\"table\"}],\"barpolar\":[{\"marker\":{\"line\":{\"color\":\"#E5ECF6\",\"width\":0.5},\"pattern\":{\"fillmode\":\"overlay\",\"size\":10,\"solidity\":0.2}},\"type\":\"barpolar\"}],\"pie\":[{\"automargin\":true,\"type\":\"pie\"}]},\"layout\":{\"autotypenumbers\":\"strict\",\"colorway\":[\"#636efa\",\"#EF553B\",\"#00cc96\",\"#ab63fa\",\"#FFA15A\",\"#19d3f3\",\"#FF6692\",\"#B6E880\",\"#FF97FF\",\"#FECB52\"],\"font\":{\"color\":\"#2a3f5f\"},\"hovermode\":\"closest\",\"hoverlabel\":{\"align\":\"left\"},\"paper_bgcolor\":\"white\",\"plot_bgcolor\":\"#E5ECF6\",\"polar\":{\"bgcolor\":\"#E5ECF6\",\"angularaxis\":{\"gridcolor\":\"white\",\"linecolor\":\"white\",\"ticks\":\"\"},\"radialaxis\":{\"gridcolor\":\"white\",\"linecolor\":\"white\",\"ticks\":\"\"}},\"ternary\":{\"bgcolor\":\"#E5ECF6\",\"aaxis\":{\"gridcolor\":\"white\",\"linecolor\":\"white\",\"ticks\":\"\"},\"baxis\":{\"gridcolor\":\"white\",\"linecolor\":\"white\",\"ticks\":\"\"},\"caxis\":{\"gridcolor\":\"white\",\"linecolor\":\"white\",\"ticks\":\"\"}},\"coloraxis\":{\"colorbar\":{\"outlinewidth\":0,\"ticks\":\"\"}},\"colorscale\":{\"sequential\":[[0.0,\"#0d0887\"],[0.1111111111111111,\"#46039f\"],[0.2222222222222222,\"#7201a8\"],[0.3333333333333333,\"#9c179e\"],[0.4444444444444444,\"#bd3786\"],[0.5555555555555556,\"#d8576b\"],[0.6666666666666666,\"#ed7953\"],[0.7777777777777778,\"#fb9f3a\"],[0.8888888888888888,\"#fdca26\"],[1.0,\"#f0f921\"]],\"sequentialminus\":[[0.0,\"#0d0887\"],[0.1111111111111111,\"#46039f\"],[0.2222222222222222,\"#7201a8\"],[0.3333333333333333,\"#9c179e\"],[0.4444444444444444,\"#bd3786\"],[0.5555555555555556,\"#d8576b\"],[0.6666666666666666,\"#ed7953\"],[0.7777777777777778,\"#fb9f3a\"],[0.8888888888888888,\"#fdca26\"],[1.0,\"#f0f921\"]],\"diverging\":[[0,\"#8e0152\"],[0.1,\"#c51b7d\"],[0.2,\"#de77ae\"],[0.3,\"#f1b6da\"],[0.4,\"#fde0ef\"],[0.5,\"#f7f7f7\"],[0.6,\"#e6f5d0\"],[0.7,\"#b8e186\"],[0.8,\"#7fbc41\"],[0.9,\"#4d9221\"],[1,\"#276419\"]]},\"xaxis\":{\"gridcolor\":\"white\",\"linecolor\":\"white\",\"ticks\":\"\",\"title\":{\"standoff\":15},\"zerolinecolor\":\"white\",\"automargin\":true,\"zerolinewidth\":2},\"yaxis\":{\"gridcolor\":\"white\",\"linecolor\":\"white\",\"ticks\":\"\",\"title\":{\"standoff\":15},\"zerolinecolor\":\"white\",\"automargin\":true,\"zerolinewidth\":2},\"scene\":{\"xaxis\":{\"backgroundcolor\":\"#E5ECF6\",\"gridcolor\":\"white\",\"linecolor\":\"white\",\"showbackground\":true,\"ticks\":\"\",\"zerolinecolor\":\"white\",\"gridwidth\":2},\"yaxis\":{\"backgroundcolor\":\"#E5ECF6\",\"gridcolor\":\"white\",\"linecolor\":\"white\",\"showbackground\":true,\"ticks\":\"\",\"zerolinecolor\":\"white\",\"gridwidth\":2},\"zaxis\":{\"backgroundcolor\":\"#E5ECF6\",\"gridcolor\":\"white\",\"linecolor\":\"white\",\"showbackground\":true,\"ticks\":\"\",\"zerolinecolor\":\"white\",\"gridwidth\":2}},\"shapedefaults\":{\"line\":{\"color\":\"#2a3f5f\"}},\"annotationdefaults\":{\"arrowcolor\":\"#2a3f5f\",\"arrowhead\":0,\"arrowwidth\":1},\"geo\":{\"bgcolor\":\"white\",\"landcolor\":\"#E5ECF6\",\"subunitcolor\":\"white\",\"showland\":true,\"showlakes\":true,\"lakecolor\":\"white\"},\"title\":{\"x\":0.05},\"mapbox\":{\"style\":\"light\"}}},\"xaxis\":{\"anchor\":\"y\",\"domain\":[0.0,1.0],\"scaleanchor\":\"y\",\"constrain\":\"domain\",\"title\":{\"text\":\"x\"}},\"yaxis\":{\"anchor\":\"x\",\"domain\":[0.0,1.0],\"autorange\":\"reversed\",\"constrain\":\"domain\",\"title\":{\"text\":\"y\"}},\"coloraxis\":{\"colorscale\":[[0.0,\"rgb(0, 128, 128)\"],[0.16666666666666666,\"rgb(112, 164, 148)\"],[0.3333333333333333,\"rgb(180, 200, 168)\"],[0.5,\"rgb(246, 237, 189)\"],[0.6666666666666666,\"rgb(237, 187, 138)\"],[0.8333333333333334,\"rgb(222, 138, 90)\"],[1.0,\"rgb(202, 86, 44)\"]],\"cmid\":0.0},\"title\":{\"text\":\"Corrupted Game (blank plays C0)\",\"x\":0.5},\"shapes\":[{\"fillcolor\":\"white\",\"type\":\"circle\",\"x0\":-0.2,\"x1\":0.2,\"y0\":0.8,\"y1\":1.2,\"line\":{\"color\":\"green\",\"width\":0.5}},{\"fillcolor\":\"white\",\"type\":\"circle\",\"x0\":1.8,\"x1\":2.2,\"y0\":0.8,\"y1\":1.2,\"line\":{\"color\":\"green\",\"width\":0.5}},{\"fillcolor\":\"white\",\"type\":\"circle\",\"x0\":2.8,\"x1\":3.2,\"y0\":0.8,\"y1\":1.2,\"line\":{\"color\":\"green\",\"width\":0.5}},{\"fillcolor\":\"white\",\"type\":\"circle\",\"x0\":3.8,\"x1\":4.2,\"y0\":0.8,\"y1\":1.2,\"line\":{\"color\":\"green\",\"width\":0.5}},{\"fillcolor\":\"white\",\"type\":\"circle\",\"x0\":4.8,\"x1\":5.2,\"y0\":0.8,\"y1\":1.2,\"line\":{\"color\":\"green\",\"width\":0.5}},{\"fillcolor\":\"white\",\"type\":\"circle\",\"x0\":5.8,\"x1\":6.2,\"y0\":0.8,\"y1\":1.2,\"line\":{\"color\":\"green\",\"width\":0.5}},{\"fillcolor\":\"black\",\"type\":\"circle\",\"x0\":-0.25,\"x1\":0.25,\"y0\":1.75,\"y1\":2.25,\"line\":{\"color\":\"red\",\"width\":4}},{\"fillcolor\":\"black\",\"type\":\"circle\",\"x0\":0.78,\"x1\":1.22,\"y0\":1.78,\"y1\":2.22,\"line\":{\"color\":\"purple\",\"width\":3}},{\"fillcolor\":\"black\",\"type\":\"circle\",\"x0\":1.78,\"x1\":2.22,\"y0\":1.78,\"y1\":2.22,\"line\":{\"color\":\"purple\",\"width\":3}},{\"fillcolor\":\"black\",\"type\":\"circle\",\"x0\":2.78,\"x1\":3.22,\"y0\":1.78,\"y1\":2.22,\"line\":{\"color\":\"purple\",\"width\":3}},{\"fillcolor\":\"black\",\"type\":\"circle\",\"x0\":3.8,\"x1\":4.2,\"y0\":1.8,\"y1\":2.2,\"line\":{\"color\":\"green\",\"width\":0.5}},{\"fillcolor\":\"black\",\"type\":\"circle\",\"x0\":4.8,\"x1\":5.2,\"y0\":1.8,\"y1\":2.2,\"line\":{\"color\":\"green\",\"width\":0.5}},{\"fillcolor\":\"black\",\"type\":\"circle\",\"x0\":5.8,\"x1\":6.2,\"y0\":1.8,\"y1\":2.2,\"line\":{\"color\":\"green\",\"width\":0.5}},{\"fillcolor\":\"white\",\"type\":\"circle\",\"x0\":1.8,\"x1\":2.2,\"y0\":2.8,\"y1\":3.2,\"line\":{\"color\":\"green\",\"width\":0.5}},{\"fillcolor\":\"white\",\"type\":\"circle\",\"x0\":2.8,\"x1\":3.2,\"y0\":2.8,\"y1\":3.2,\"line\":{\"color\":\"green\",\"width\":0.5}},{\"fillcolor\":\"black\",\"type\":\"circle\",\"x0\":3.8,\"x1\":4.2,\"y0\":2.8,\"y1\":3.2,\"line\":{\"color\":\"green\",\"width\":0.5}},{\"fillcolor\":\"white\",\"type\":\"circle\",\"x0\":0.8,\"x1\":1.2,\"y0\":3.8,\"y1\":4.2,\"line\":{\"color\":\"green\",\"width\":0.5}},{\"fillcolor\":\"white\",\"type\":\"circle\",\"x0\":1.8,\"x1\":2.2,\"y0\":3.8,\"y1\":4.2,\"line\":{\"color\":\"green\",\"width\":0.5}},{\"fillcolor\":\"white\",\"type\":\"circle\",\"x0\":2.8,\"x1\":3.2,\"y0\":3.8,\"y1\":4.2,\"line\":{\"color\":\"green\",\"width\":0.5}},{\"fillcolor\":\"black\",\"type\":\"circle\",\"x0\":3.8,\"x1\":4.2,\"y0\":3.8,\"y1\":4.2,\"line\":{\"color\":\"green\",\"width\":0.5}},{\"fillcolor\":\"black\",\"type\":\"circle\",\"x0\":4.8,\"x1\":5.2,\"y0\":3.8,\"y1\":4.2,\"line\":{\"color\":\"green\",\"width\":0.5}},{\"fillcolor\":\"black\",\"type\":\"circle\",\"x0\":1.8,\"x1\":2.2,\"y0\":4.8,\"y1\":5.2,\"line\":{\"color\":\"green\",\"width\":0.5}},{\"fillcolor\":\"black\",\"type\":\"circle\",\"x0\":3.8,\"x1\":4.2,\"y0\":4.8,\"y1\":5.2,\"line\":{\"color\":\"green\",\"width\":0.5}},{\"fillcolor\":\"black\",\"type\":\"circle\",\"x0\":4.8,\"x1\":5.2,\"y0\":4.8,\"y1\":5.2,\"line\":{\"color\":\"green\",\"width\":0.5}},{\"fillcolor\":\"black\",\"type\":\"circle\",\"x0\":5.8,\"x1\":6.2,\"y0\":4.8,\"y1\":5.2,\"line\":{\"color\":\"green\",\"width\":0.5}}]},                        {\"responsive\": true}                    ).then(function(){\n",
       "                            \n",
       "var gd = document.getElementById('bb855475-05c1-4f1b-ae90-8f147701643a');\n",
       "var x = new MutationObserver(function (mutations, observer) {{\n",
       "        var display = window.getComputedStyle(gd).display;\n",
       "        if (!display || display === 'none') {{\n",
       "            console.log([gd, 'removed!']);\n",
       "            Plotly.purge(gd);\n",
       "            observer.disconnect();\n",
       "        }}\n",
       "}});\n",
       "\n",
       "// Listen for the removal of the full notebook cells\n",
       "var notebookContainer = gd.closest('#notebook-container');\n",
       "if (notebookContainer) {{\n",
       "    x.observe(notebookContainer, {childList: true});\n",
       "}}\n",
       "\n",
       "// Listen for the clearing of the current output cell\n",
       "var outputEl = gd.closest('.output');\n",
       "if (outputEl) {{\n",
       "    x.observe(outputEl, {childList: true});\n",
       "}}\n",
       "\n",
       "                        })                };                });            </script>        </div>"
      ]
     },
     "metadata": {},
     "output_type": "display_data"
    }
   ],
   "source": [
    "game_index = 4\n",
    "move = 20\n",
    "plot_single_board(focus_games_string[game_index, :move+1])\n",
    "plot_single_board(focus_games_string[game_index, :move].tolist()+[16], title=\"Corrupted Game (blank plays C0)\")"
   ]
  },
  {
   "cell_type": "markdown",
   "metadata": {},
   "source": [
    "## Max activating dataset examples"
   ]
  },
  {
   "cell_type": "code",
   "execution_count": 39,
   "metadata": {},
   "outputs": [],
   "source": [
    "def state_stack_to_one_hot(state_stack):\n",
    "    one_hot = torch.zeros(\n",
    "        state_stack.shape[0], # num games\n",
    "        state_stack.shape[1], # num moves\n",
    "        8, # rows\n",
    "        8, # cols\n",
    "        3, # the two options\n",
    "        device=state_stack.device,\n",
    "        dtype=torch.int,\n",
    "    )\n",
    "    one_hot[..., 0] = state_stack == 0 # empty\n",
    "    one_hot[..., 1] = state_stack == -1 # white\n",
    "    one_hot[..., 2] = state_stack == 1 # black\n",
    "    \n",
    "    return one_hot\n",
    "\n",
    "# We first convert the board states to be in terms of my (+1) and their (-1)\n",
    "alternating = np.array([-1 if i%2 == 0 else 1 for i in range(focus_games_int.shape[1])])\n",
    "flipped_focus_states = focus_states * alternating[None, :, None, None]\n",
    "\n",
    "# We now convert to one hot\n",
    "focus_states_flipped_one_hot = state_stack_to_one_hot(torch.tensor(flipped_focus_states))\n",
    "\n",
    "# Take the argmax\n",
    "focus_states_flipped_value = focus_states_flipped_one_hot.argmax(dim=-1)\n",
    "\n",
    "# focus_states_flipped_value does this but has their's==2 and mine==1, not 1 and -1. So let's convert, this is boring and you don't need to understand it.\n",
    "focus_states_flipped_pm1 = torch.zeros_like(focus_states_flipped_value, device=\"cuda\")\n",
    "focus_states_flipped_pm1[focus_states_flipped_value==2] = 1.\n",
    "focus_states_flipped_pm1[focus_states_flipped_value==1] = -1."
   ]
  },
  {
   "cell_type": "code",
   "execution_count": 41,
   "metadata": {},
   "outputs": [
    {
     "data": {
      "application/vnd.plotly.v1+json": {
       "config": {
        "plotlyServerURL": "https://plot.ly"
       },
       "data": [
        {
         "coloraxis": "coloraxis",
         "hovertemplate": "x: %{x}<br>y: %{y}<br>color: %{z}<extra></extra>",
         "name": "0",
         "type": "heatmap",
         "xaxis": "x",
         "yaxis": "y",
         "z": [
          [
           1.593708872795105,
           0.6243565678596497,
           1.006805419921875,
           -0.10039795190095901,
           -0.08226842433214188,
           -0.08816737681627274,
           -0.058807116001844406,
           0.10928531736135483,
           1.0790133476257324,
           0.023351285606622696,
           0.9251406192779541,
           0.4256032109260559,
           0.1278969943523407,
           -0.017116017639636993,
           0.2341391146183014,
           0.13152743875980377,
           -0.056915704160928726,
           -0.05942227691411972,
           0.13164570927619934,
           -0.13519808650016785,
           0.05400477722287178,
           0.28541213274002075,
           0.047229621559381485,
           0.7767224907875061,
           0.7885280847549438,
           0.8029665350914001,
           0.5550540685653687,
           2.1283047199249268,
           0.7149436473846436,
           0.012655969709157944,
           0.8415476679801941,
           0.19927531480789185,
           0.054988496005535126,
           2.322032928466797,
           1.7961424589157104,
           0.3406662940979004,
           1.2983814477920532,
           0.5570509433746338,
           1.205643892288208,
           0.27408039569854736,
           0.568612277507782,
           0.13339026272296906,
           0.1496409922838211,
           0.13934002816677094,
           0.2202247679233551,
           1.2310872077941895,
           0.1641857773065567,
           0.2879621684551239,
           0.06762663275003433,
           -0.1443832665681839,
           0.043008897453546524,
           0.7360333800315857,
           0.012716521508991718,
           1.2878985404968262,
           0.673710286617279,
           -0.019174933433532715,
           0.9212900400161743,
           0.7161563634872437,
           0.19000400602817535
          ],
          [
           1.5079336166381836,
           -0.018200093880295753,
           -0.10371845960617065,
           0.07494044303894043,
           -0.08584414422512054,
           0.1524590253829956,
           1.2180471420288086,
           0.7672792673110962,
           2.469906806945801,
           1.3774889707565308,
           1.8487443923950195,
           1.5382393598556519,
           1.312295913696289,
           0.990595281124115,
           1.6182451248168945,
           1.566812515258789,
           0.028335876762866974,
           1.611871361732483,
           0.9617098569869995,
           0.20777294039726257,
           1.5881726741790771,
           1.0395466089248657,
           2.63838267326355,
           1.966992735862732,
           1.8598065376281738,
           1.1683132648468018,
           1.7290929555892944,
           2.2240607738494873,
           2.229320764541626,
           0.46662694215774536,
           1.5775541067123413,
           2.34812593460083,
           0.7723467946052551,
           1.413743019104004,
           0.9952957034111023,
           1.6547807455062866,
           1.3299049139022827,
           0.8474052548408508,
           1.6860792636871338,
           0.08653004467487335,
           -0.08486460149288177,
           0.5538308024406433,
           0.045242950320243835,
           0.7451530694961548,
           1.5265518426895142,
           0.8319138288497925,
           0.3075118362903595,
           0.6423637270927429,
           1.292056918144226,
           -0.011534079909324646,
           0.30236124992370605,
           1.020707130432129,
           0.1880890130996704,
           0.6446732878684998,
           1.0236365795135498,
           0.5053209066390991,
           2.6986982822418213,
           1.0770992040634155,
           0.717383086681366
          ],
          [
           2.2438769340515137,
           -0.020591862499713898,
           0.0010372090619057417,
           0.041044216603040695,
           -0.16250178217887878,
           -0.1290966123342514,
           0.16931767761707306,
           0.35382750630378723,
           1.7033230066299438,
           1.2276575565338135,
           0.8541100025177002,
           1.0565547943115234,
           0.5346778631210327,
           0.9619690179824829,
           1.2348706722259521,
           0.17979413270950317,
           -0.15941226482391357,
           0.013329190202057362,
           0.20510929822921753,
           -0.09557276219129562,
           -0.09613345563411713,
           -0.11563163995742798,
           0.16520974040031433,
           0.8908337354660034,
           0.22253009676933289,
           1.4181219339370728,
           0.20251528918743134,
           0.9376370310783386,
           1.0392338037490845,
           0.5609840750694275,
           0.13650313019752502,
           1.1146228313446045,
           0.010673990473151207,
           1.6317130327224731,
           2.025038480758667,
           1.0546144247055054,
           1.6089469194412231,
           1.31820547580719,
           1.5938924551010132,
           0.6751406192779541,
           0.19362643361091614,
           1.361128330230713,
           0.6861171126365662,
           0.7071724534034729,
           1.8953464031219482,
           0.5122284889221191,
           0.4234492778778076,
           0.2946411073207855,
           0.35660573840141296,
           -0.016246801242232323,
           0.25171250104904175,
           0.4968996047973633,
           0.5144755244255066,
           0.5923091769218445,
           0.3766092360019684,
           0.8539544939994812,
           2.4073965549468994,
           0.6325619220733643,
           0.5233321785926819
          ],
          [
           0.7547912001609802,
           -0.1578150987625122,
           0.5472884774208069,
           -0.07697757333517075,
           0.07680639624595642,
           -0.05058925226330757,
           0.9395437836647034,
           0.5940431952476501,
           1.1845393180847168,
           0.7999042272567749,
           1.800446629524231,
           1.88052499294281,
           1.5358176231384277,
           2.6735689640045166,
           1.8424571752548218,
           1.420041799545288,
           1.1730674505233765,
           0.17285583913326263,
           1.5382227897644043,
           0.028788099065423012,
           2.125986099243164,
           0.7736918926239014,
           0.15245220065116882,
           0.8487840294837952,
           1.024428367614746,
           0.7134847044944763,
           0.9737508296966553,
           1.5733349323272705,
           1.591763973236084,
           1.7192001342773438,
           2.099086284637451,
           0.6972195506095886,
           1.418220043182373,
           1.6985400915145874,
           2.121351480484009,
           1.557848334312439,
           2.3260672092437744,
           1.6111494302749634,
           1.1805630922317505,
           0.847734272480011,
           1.5347825288772583,
           0.45569339394569397,
           -0.06933694332838058,
           2.0988352298736572,
           1.615688681602478,
           1.8876184225082397,
           0.13431327044963837,
           1.1239479780197144,
           1.4074445962905884,
           0.40068352222442627,
           -0.00862790271639824,
           1.568463683128357,
           0.6411241888999939,
           1.9453136920928955,
           1.213605284690857,
           1.0300363302230835,
           1.3126815557479858,
           0.11399564892053604,
           0.7316588759422302
          ],
          [
           1.593708872795105,
           0.6243565678596497,
           0.45000290870666504,
           -0.15659062564373016,
           0.003353649750351906,
           -0.04410902038216591,
           0.042264897376298904,
           0.33945924043655396,
           0.584694504737854,
           0.3420489728450775,
           0.48462122678756714,
           0.5043191909790039,
           1.4697494506835938,
           0.5072214007377625,
           1.0060994625091553,
           1.0274996757507324,
           0.5544905066490173,
           0.0041321516036987305,
           1.3478139638900757,
           -0.16997116804122925,
           0.8448570966720581,
           0.3137364387512207,
           0.48189035058021545,
           0.8531813621520996,
           1.8997215032577515,
           1.2629824876785278,
           0.3628177046775818,
           1.09871506690979,
           2.214134931564331,
           1.0636547803878784,
           1.2897652387619019,
           0.8537652492523193,
           0.6865274906158447,
           2.2429723739624023,
           1.0183415412902832,
           0.7602403163909912,
           1.187132477760315,
           0.22553730010986328,
           1.0143276453018188,
           0.0652637928724289,
           1.312556266784668,
           0.7904796004295349,
           0.25543516874313354,
           0.6132605075836182,
           0.016787437722086906,
           1.5551306009292603,
           0.8148266077041626,
           1.004701018333435,
           0.8218531012535095,
           -0.0016602104296907783,
           0.5888839960098267,
           0.5067225694656372,
           1.1826533079147339,
           1.2856420278549194,
           1.105793833732605,
           0.021837253123521805,
           1.6622307300567627,
           1.6265873908996582,
           2.210273504257202
          ],
          [
           1.593708872795105,
           0.021211719140410423,
           0.9021561145782471,
           0.3946209251880646,
           1.0372825860977173,
           0.3447463810443878,
           0.9334225654602051,
           1.0257350206375122,
           1.3913935422897339,
           0.38478928804397583,
           1.4283822774887085,
           1.5493037700653076,
           0.6033355593681335,
           0.43588051199913025,
           0.4491763114929199,
           0.6721081733703613,
           0.6159593462944031,
           0.8394834995269775,
           0.23903816938400269,
           -0.15057975053787231,
           0.37991219758987427,
           -0.1116369217634201,
           -0.057762518525123596,
           -0.012730811722576618,
           0.07084663212299347,
           0.17448025941848755,
           0.153577983379364,
           -0.047969020903110504,
           0.045579005032777786,
           0.1503755897283554,
           0.8334157466888428,
           -0.16371731460094452,
           -0.053149838000535965,
           0.47217273712158203,
           1.1870982646942139,
           1.1260215044021606,
           0.8397822380065918,
           0.33838212490081787,
           0.023395713418722153,
           1.2917606830596924,
           -0.11855415254831314,
           0.3702896237373352,
           0.2201109379529953,
           0.38702940940856934,
           0.392286479473114,
           1.966154932975769,
           0.1759147197008133,
           0.09002602845430374,
           0.9004421830177307,
           -0.049804382026195526,
           0.01205373089760542,
           0.8795968294143677,
           0.19647645950317383,
           1.5450931787490845,
           0.5195649862289429,
           0.11516676843166351,
           1.7673430442810059,
           0.634739100933075,
           1.5605719089508057
          ],
          [
           2.2438769340515137,
           0.5713174343109131,
           1.6830884218215942,
           1.134936809539795,
           0.5501846075057983,
           1.0159541368484497,
           0.5418123006820679,
           0.12771247327327728,
           1.2094056606292725,
           1.426856279373169,
           0.8374799489974976,
           1.8454054594039917,
           1.8877942562103271,
           0.6577649712562561,
           1.0156275033950806,
           1.134864330291748,
           0.7787287831306458,
           1.3052455186843872,
           1.5302085876464844,
           0.4116300642490387,
           1.3871212005615234,
           0.9493119120597839,
           1.2180753946304321,
           1.071548342704773,
           0.8217636942863464,
           1.614647388458252,
           0.6846303343772888,
           1.0834968090057373,
           1.1800462007522583,
           0.9277067184448242,
           2.0810391902923584,
           0.5615207552909851,
           0.7552432417869568,
           2.2440459728240967,
           1.967961072921753,
           1.6562103033065796,
           1.5228193998336792,
           0.4482595920562744,
           1.7568655014038086,
           0.5309346914291382,
           1.3614548444747925,
           0.8867844939231873,
           1.1894495487213135,
           1.234389305114746,
           1.63824462890625,
           1.2225489616394043,
           0.24254807829856873,
           1.354730486869812,
           0.8456865549087524,
           1.6455832719802856,
           0.8340892195701599,
           1.1757627725601196,
           0.6448667049407959,
           1.0665242671966553,
           -0.08261275291442871,
           0.11974970996379852,
           0.9723061323165894,
           1.4981515407562256,
           0.48285529017448425
          ],
          [
           1.5079336166381836,
           -0.018200093880295753,
           0.45949774980545044,
           0.3056016266345978,
           -0.11570478230714798,
           0.19238685071468353,
           1.3208569288253784,
           0.39840322732925415,
           2.522932529449463,
           1.8264844417572021,
           1.8200268745422363,
           1.1884872913360596,
           0.7203494906425476,
           2.0554637908935547,
           1.4503484964370728,
           1.289942741394043,
           1.9702422618865967,
           0.2723495364189148,
           0.7483348250389099,
           -0.1699700802564621,
           1.3036305904388428,
           1.018950343132019,
           0.4815170466899872,
           0.5527774095535278,
           1.6168878078460693,
           1.7438411712646484,
           0.26200157403945923,
           1.8283907175064087,
           0.7303441762924194,
           1.2589102983474731,
           1.6761395931243896,
           1.622856616973877,
           0.20257052779197693,
           2.5125479698181152,
           0.8049291968345642,
           2.2067337036132812,
           0.5645630955696106,
           0.036092039197683334,
           1.5109959840774536,
           0.5011032223701477,
           0.989153265953064,
           0.2545294165611267,
           1.0078285932540894,
           1.0409387350082397,
           0.2965315580368042,
           0.17975910007953644,
           1.0696079730987549,
           0.951252281665802,
           0.3403109610080719,
           -0.04914754256606102,
           0.03229738026857376,
           0.3702981173992157,
           0.6695395708084106,
           1.1609419584274292,
           1.6070716381072998,
           0.626934826374054,
           1.2100162506103516,
           0.7304718494415283,
           -0.003953412175178528
          ],
          [
           0.7547912001609802,
           0.3320668637752533,
           0.12681454420089722,
           0.2600349485874176,
           -0.13187268376350403,
           -0.16456027328968048,
           -0.16984973847866058,
           -0.050435032695531845,
           -0.07492079585790634,
           -0.13884642720222473,
           0.0005398048087954521,
           0.6763160824775696,
           0.6536804437637329,
           0.6132532954216003,
           0.5573646426200867,
           1.3403096199035645,
           0.826361894607544,
           -0.16731630265712738,
           0.8119481205940247,
           0.1320732831954956,
           0.537969172000885,
           -0.1403265744447708,
           1.084031581878662,
           0.11638285964727402,
           0.490991473197937,
           -0.07289709150791168,
           0.6649823784828186,
           0.8114398717880249,
           1.0641406774520874,
           1.2411924600601196,
           0.3455333709716797,
           -0.11576364934444427,
           0.32490503787994385,
           0.8367566466331482,
           1.4830456972122192,
           0.9499543309211731,
           1.0923526287078857,
           1.0531184673309326,
           0.676716685295105,
           0.04052410274744034,
           0.34603041410446167,
           1.747591257095337,
           1.0545614957809448,
           0.568774938583374,
           0.9663293957710266,
           1.0280555486679077,
           1.2448596954345703,
           1.4794870615005493,
           1.15660560131073,
           0.9984291195869446,
           -0.04766957461833954,
           0.275995135307312,
           0.739126443862915,
           0.8284134268760681,
           1.5139468908309937,
           1.413135290145874,
           0.8752315640449524,
           0.6042583584785461,
           0.12686000764369965
          ],
          [
           1.593708872795105,
           0.021211719140410423,
           0.9021561145782471,
           0.00009828049223870039,
           0.2921115756034851,
           0.6019270420074463,
           0.6337369680404663,
           1.2102559804916382,
           0.7905791997909546,
           1.3082014322280884,
           1.3017817735671997,
           1.8261041641235352,
           0.9300777912139893,
           0.8789404034614563,
           1.2515169382095337,
           1.0402740240097046,
           1.3174628019332886,
           0.30404552817344666,
           0.4711800813674927,
           0.5473203659057617,
           1.144018530845642,
           1.1858576536178589,
           1.7415648698806763,
           2.1507139205932617,
           1.401252269744873,
           0.42624619603157043,
           0.8280394673347473,
           1.9213271141052246,
           0.8892041444778442,
           0.8077223896980286,
           1.5655323266983032,
           0.6948293447494507,
           1.2689059972763062,
           2.038870334625244,
           0.9958933591842651,
           1.704824447631836,
           0.990324079990387,
           1.5262666940689087,
           1.498159408569336,
           -0.1099913939833641,
           0.23862527310848236,
           1.0413119792938232,
           0.6862691640853882,
           1.4233622550964355,
           0.5312144756317139,
           0.6210606694221497,
           -0.0032998118549585342,
           -0.003417863277718425,
           1.0403739213943481,
           0.09914643317461014,
           0.41021865606307983,
           -0.10298042744398117,
           0.3057570159435272,
           1.6179108619689941,
           1.6540720462799072,
           1.5741037130355835,
           1.249257206916809,
           0.46197205781936646,
           0.11570245027542114
          ],
          [
           0.7547912001609802,
           0.14992228150367737,
           0.7205464243888855,
           -0.15786311030387878,
           -0.16712655127048492,
           -0.14832943677902222,
           -0.15666653215885162,
           -0.04646968096494675,
           1.014899492263794,
           0.4401104748249054,
           0.11368528008460999,
           0.19575585424900055,
           1.435591220855713,
           0.4198463261127472,
           1.1437888145446777,
           0.589777410030365,
           -0.018361445516347885,
           -0.05140888690948486,
           0.5610340237617493,
           -0.1640767902135849,
           1.0786818265914917,
           0.7695862650871277,
           1.429584264755249,
           1.1594161987304688,
           1.3287478685379028,
           0.9498456716537476,
           1.5574406385421753,
           1.9659372568130493,
           1.675494909286499,
           1.5248291492462158,
           1.572400450706482,
           0.5784163475036621,
           1.2896794080734253,
           2.071852684020996,
           1.0580790042877197,
           1.180761456489563,
           1.1356927156448364,
           -0.11040327697992325,
           0.5015740394592285,
           0.8711315393447876,
           0.8983722925186157,
           0.2394249439239502,
           0.4187511205673218,
           1.1358438730239868,
           2.101616621017456,
           0.7864241003990173,
           0.4564600884914398,
           0.017750337719917297,
           0.21914950013160706,
           0.8261451721191406,
           0.35240864753723145,
           1.345691204071045,
           0.12383099645376205,
           1.817247748374939,
           0.648688554763794,
           0.48158058524131775,
           0.8564397692680359,
           0.38809606432914734,
           1.1086461544036865
          ],
          [
           1.5079336166381836,
           0.3821105659008026,
           0.4372352361679077,
           -0.16995389759540558,
           -0.12532585859298706,
           -0.021592935547232628,
           -0.09694591164588928,
           -0.16178663074970245,
           0.028497744351625443,
           1.0766557455062866,
           -0.06428241729736328,
           0.5339418053627014,
           -0.11135134845972061,
           -0.14485593140125275,
           -0.0770566537976265,
           -0.04620624706149101,
           -0.04008616507053375,
           -0.063301682472229,
           0.018325675278902054,
           -0.13031309843063354,
           -0.16664552688598633,
           0.020915677770972252,
           0.286978155374527,
           0.9247633814811707,
           0.709259569644928,
           0.7598919868469238,
           0.8839901089668274,
           1.391229510307312,
           0.3849545121192932,
           1.1593537330627441,
           1.1139177083969116,
           0.9394134283065796,
           0.2825864851474762,
           1.6057714223861694,
           0.6088981032371521,
           1.175439715385437,
           1.401865005493164,
           0.16094571352005005,
           0.054152775555849075,
           1.217948079109192,
           0.7387195229530334,
           0.7792612314224243,
           0.07289142906665802,
           1.1631616353988647,
           0.886002242565155,
           0.0684131532907486,
           0.06969717890024185,
           -0.13203272223472595,
           1.019096851348877,
           0.9540606737136841,
           0.696568489074707,
           1.1014268398284912,
           0.31512075662612915,
           0.4486595392227173,
           1.1535462141036987,
           0.2870851159095764,
           1.2343800067901611,
           0.8772105574607849,
           0.12692198157310486
          ],
          [
           2.2438769340515137,
           0.5713174343109131,
           0.497821182012558,
           0.5282331705093384,
           0.6386273503303528,
           0.8401470184326172,
           1.3335574865341187,
           0.04201927036046982,
           0.2143530249595642,
           0.4097100496292114,
           0.4491007626056671,
           1.8706316947937012,
           0.46394065022468567,
           1.0267260074615479,
           0.7869659066200256,
           0.9237694144248962,
           0.7255932688713074,
           0.4196837544441223,
           0.45000338554382324,
           -0.16602647304534912,
           0.6639862060546875,
           0.04854368790984154,
           0.13674317300319672,
           0.2466195970773697,
           0.40948617458343506,
           1.1721160411834717,
           1.4377946853637695,
           0.7256653308868408,
           0.6266626715660095,
           0.767888069152832,
           0.7939693331718445,
           1.1568963527679443,
           0.4618973433971405,
           2.1309571266174316,
           1.2625246047973633,
           1.5651956796646118,
           1.2795689105987549,
           0.5091975331306458,
           0.17083825170993805,
           0.23747803270816803,
           1.1914535760879517,
           0.8924149870872498,
           1.1088327169418335,
           1.1444586515426636,
           -0.017097530886530876,
           2.027284860610962,
           0.25687411427497864,
           0.8092615008354187,
           0.7507640719413757,
           0.8111277222633362,
           0.2134958952665329,
           0.792715311050415,
           0.718879222869873,
           1.2957885265350342,
           0.6148179769515991,
           0.647465169429779,
           1.424713134765625,
           0.658450722694397,
           0.9326351284980774
          ],
          [
           2.2438769340515137,
           -0.020591862499713898,
           0.12524087727069855,
           0.049956366419792175,
           -0.16398102045059204,
           -0.05382069945335388,
           -0.157593235373497,
           0.2591083347797394,
           0.1359943300485611,
           0.5986721515655518,
           0.6653639674186707,
           0.6317315697669983,
           0.9023215770721436,
           0.040228888392448425,
           0.7300970554351807,
           0.05288566276431084,
           0.9717051982879639,
           -0.08023087680339813,
           0.7583248615264893,
           0.0815499871969223,
           0.16245780885219574,
           -0.07804854214191437,
           0.06584572792053223,
           0.20745395123958588,
           1.4492473602294922,
           0.7787547707557678,
           0.2971075773239136,
           0.6858249306678772,
           1.1583367586135864,
           0.20624497532844543,
           0.6734962463378906,
           -0.1691524237394333,
           0.5254555344581604,
           1.384569525718689,
           0.707422137260437,
           0.2393166720867157,
           1.5944846868515015,
           0.7914788722991943,
           1.5522935390472412,
           1.082485556602478,
           1.157016396522522,
           0.9542003870010376,
           1.2977352142333984,
           1.6233298778533936,
           1.2698190212249756,
           0.08423589915037155,
           -0.015230118297040462,
           0.5782510042190552,
           -0.0936071053147316,
           0.03089604713022709,
           1.0103020668029785,
           -0.067642442882061,
           0.2602714002132416,
           1.7149447202682495,
           1.064577579498291,
           1.4856469631195068,
           1.1678768396377563,
           0.6719560623168945,
           0.6044924259185791
          ],
          [
           1.5079336166381836,
           0.47857919335365295,
           1.586862564086914,
           1.0914002656936646,
           0.22678837180137634,
           0.0469404011964798,
           0.4204089343547821,
           1.4962985515594482,
           0.7406966686248779,
           0.2838413119316101,
           1.5685051679611206,
           0.6029264330863953,
           0.91698157787323,
           1.2857811450958252,
           1.4966801404953003,
           0.5680151581764221,
           0.47249722480773926,
           1.0583828687667847,
           0.876345694065094,
           -0.16996976733207703,
           1.0141164064407349,
           0.12304595857858658,
           0.8493316769599915,
           0.7575170993804932,
           1.6071522235870361,
           0.551361083984375,
           0.8982259035110474,
           1.5935559272766113,
           2.3855292797088623,
           1.0400629043579102,
           1.4927245378494263,
           2.044560670852661,
           1.7210564613342285,
           2.5813050270080566,
           1.7066158056259155,
           1.3858600854873657,
           1.2616260051727295,
           1.345581293106079,
           0.452776163816452,
           0.20188219845294952,
           0.5425334572792053,
           0.8933330178260803,
           0.2913854420185089,
           0.6897832155227661,
           2.040868043899536,
           0.9734951853752136,
           0.07029811292886734,
           1.1408649682998657,
           1.0850402116775513,
           0.11928191035985947,
           -0.1054610088467598,
           0.27133727073669434,
           1.0295854806900024,
           1.6821322441101074,
           1.336333990097046,
           0.4998694956302643,
           1.3780020475387573,
           0.15081755816936493,
           0.13665495812892914
          ],
          [
           1.5079336166381836,
           -0.018200093880295753,
           0.45949774980545044,
           1.1708694696426392,
           0.2280958592891693,
           0.1939641535282135,
           0.6841772794723511,
           0.36662039160728455,
           1.9051932096481323,
           0.15975193679332733,
           1.283073902130127,
           0.7497342824935913,
           2.1015539169311523,
           1.9638131856918335,
           -0.07420484721660614,
           0.18609316647052765,
           -0.11510587483644485,
           0.2653217613697052,
           0.0945923700928688,
           -0.165638267993927,
           0.5341483950614929,
           0.052687983959913254,
           1.7535074949264526,
           0.5133077502250671,
           0.6522073149681091,
           1.1633425951004028,
           0.9644414186477661,
           0.7984762787818909,
           1.54161536693573,
           1.2598848342895508,
           0.8565798997879028,
           0.30256327986717224,
           0.21950477361679077,
           1.9511624574661255,
           1.7710812091827393,
           0.7890195846557617,
           2.051584243774414,
           0.08944924920797348,
           0.1303127557039261,
           1.4085613489151,
           1.137434720993042,
           0.21360699832439423,
           -0.09736058115959167,
           0.6048703193664551,
           0.8705617189407349,
           1.94632887840271,
           0.21057666838169098,
           0.4344083368778229,
           0.6688994765281677,
           -0.014383353292942047,
           0.4018750786781311,
           -0.13348090648651123,
           -0.133445143699646,
           1.372856855392456,
           0.7814294695854187,
           1.197052240371704,
           2.297725200653076,
           0.4492534101009369,
           -0.10886980593204498
          ],
          [
           1.5079336166381836,
           0.3821105659008026,
           0.5618498921394348,
           0.10205507278442383,
           0.029517322778701782,
           0.24795858561992645,
           0.24025367200374603,
           0.19670133292675018,
           0.6388140916824341,
           0.14324533939361572,
           -0.07172554731369019,
           -0.05492128059267998,
           0.12106205523014069,
           0.4581353962421417,
           0.38372713327407837,
           0.20671522617340088,
           0.33617374300956726,
           -0.16452237963676453,
           0.17998719215393066,
           -0.165593221783638,
           -0.10643196105957031,
           -0.14906388521194458,
           0.5345532298088074,
           0.3467135429382324,
           0.692876398563385,
           0.13534143567085266,
           0.2389628291130066,
           1.1993324756622314,
           0.9984104633331299,
           -0.149662047624588,
           0.6917473673820496,
           0.026296600699424744,
           -0.05014730617403984,
           2.4312710762023926,
           0.9993627071380615,
           0.736518383026123,
           1.5995469093322754,
           1.245348334312439,
           0.3383128345012665,
           -0.034139543771743774,
           0.5722627639770508,
           0.877044677734375,
           0.5221925377845764,
           0.35340210795402527,
           0.916404128074646,
           1.317336082458496,
           0.29387059807777405,
           0.4107213318347931,
           0.7273610830307007,
           0.4818034768104553,
           0.039590075612068176,
           1.362927794456482,
           0.4872923493385315,
           1.1232612133026123,
           1.2997177839279175,
           0.3821236193180084,
           0.6197245717048645,
           0.49559471011161804,
           0.48633846640586853
          ],
          [
           1.5079336166381836,
           0.3821105659008026,
           0.4372352361679077,
           0.06976688653230667,
           0.16605214774608612,
           0.03192176669836044,
           1.0735419988632202,
           0.14569257199764252,
           1.735732078552246,
           1.216296911239624,
           1.451059103012085,
           1.7453500032424927,
           1.5112794637680054,
           1.122889518737793,
           0.6754270792007446,
           0.4286533296108246,
           0.2627162039279938,
           0.7191630005836487,
           1.1786508560180664,
           0.014937072061002254,
           0.7307233810424805,
           0.4513145983219147,
           1.7509757280349731,
           2.415027141571045,
           1.3754736185073853,
           1.0738719701766968,
           1.9110080003738403,
           1.478078842163086,
           1.7511523962020874,
           0.43684858083724976,
           1.4296106100082397,
           1.4335299730300903,
           0.33449122309684753,
           1.4469939470291138,
           1.8245010375976562,
           1.1999002695083618,
           1.3382151126861572,
           0.9254375696182251,
           1.4810391664505005,
           2.25839900970459,
           1.2843482494354248,
           0.8924610614776611,
           2.028920888900757,
           0.4136245846748352,
           1.0152828693389893,
           0.7120485901832581,
           1.533933401107788,
           0.48009082674980164,
           1.7259761095046997,
           1.1450419425964355,
           0.616661787033081,
           1.2272197008132935,
           0.5703282356262207,
           2.087111473083496,
           0.2661025822162628,
           0.8065724968910217,
           1.6626365184783936,
           1.2419099807739258,
           0.5883820056915283
          ],
          [
           1.593708872795105,
           0.4240764379501343,
           -0.001311933621764183,
           0.39513829350471497,
           0.12570621073246002,
           0.06578563153743744,
           0.34132277965545654,
           0.3086502254009247,
           0.7933034896850586,
           0.21719734370708466,
           0.8148775100708008,
           0.9734910726547241,
           0.4973141551017761,
           1.490950345993042,
           0.7604573965072632,
           0.8874889612197876,
           1.148500919342041,
           -0.005572563968598843,
           0.5848373174667358,
           0.2722707688808441,
           0.04752448946237564,
           0.7864757180213928,
           0.19187390804290771,
           0.25762510299682617,
           0.6836201548576355,
           0.9336840510368347,
           -0.06109634414315224,
           0.3332168161869049,
           0.6712139844894409,
           0.8530715107917786,
           0.7277019023895264,
           1.2080682516098022,
           0.011752522550523281,
           0.9477788805961609,
           1.4886069297790527,
           1.6387971639633179,
           1.0469082593917847,
           0.5479053854942322,
           0.23589256405830383,
           1.045746922492981,
           0.5379437208175659,
           1.060646891593933,
           -0.11549557745456696,
           0.8245156407356262,
           1.4664523601531982,
           0.6679198741912842,
           1.5068247318267822,
           0.2600090503692627,
           0.7346469759941101,
           0.8076263070106506,
           0.6221843957901001,
           0.7387709617614746,
           0.4724683165550232,
           2.3143999576568604,
           2.1339433193206787,
           0.4296205937862396,
           1.9422861337661743,
           0.32229939103126526,
           0.5204336047172546
          ],
          [
           1.5079336166381836,
           -0.018200093880295753,
           0.043810103088617325,
           -0.07367643713951111,
           0.5889573097229004,
           0.2640857696533203,
           1.0110005140304565,
           1.1912442445755005,
           1.063122034072876,
           1.0714051723480225,
           1.8495705127716064,
           1.2911770343780518,
           1.7392449378967285,
           0.5777460932731628,
           1.5252374410629272,
           1.0041602849960327,
           1.6597591638565063,
           0.187666118144989,
           0.6377635598182678,
           0.006847446318715811,
           0.31549379229545593,
           1.1059757471084595,
           0.7766010761260986,
           0.760105311870575,
           1.5490550994873047,
           2.0251996517181396,
           0.9897123575210571,
           1.7409775257110596,
           1.91951322555542,
           1.7147241830825806,
           2.4711012840270996,
           0.8327300548553467,
           0.08697281777858734,
           0.7945653796195984,
           2.3621561527252197,
           1.2612768411636353,
           0.9114179611206055,
           0.47293004393577576,
           1.745376706123352,
           0.7169037461280823,
           -0.07328230142593384,
           0.6659030318260193,
           1.0287227630615234,
           0.3856184482574463,
           0.8409605622291565,
           1.139222264289856,
           0.27477067708969116,
           0.22764742374420166,
           0.37047556042671204,
           1.0871715545654297,
           -0.03229555860161781,
           0.7723382115364075,
           0.6093394160270691,
           2.1791067123413086,
           1.7489687204360962,
           0.8951347470283508,
           0.85726398229599,
           0.21693415939807892,
           1.0621514320373535
          ],
          [
           0.7547912001609802,
           -0.1578150987625122,
           0.21396559476852417,
           0.3880453109741211,
           -0.08178561180830002,
           0.0773913785815239,
           0.5854202508926392,
           0.851812481880188,
           0.7597005367279053,
           0.5821553468704224,
           0.7982501983642578,
           0.4347569942474365,
           0.5417430996894836,
           1.0254477262496948,
           0.3240686357021332,
           0.2606135904788971,
           -0.06567012518644333,
           0.21458376944065094,
           0.5893183350563049,
           -0.16964085400104523,
           -0.01944752410054207,
           0.9972688555717468,
           1.281799554824829,
           1.0604758262634277,
           0.7746841311454773,
           0.9096603989601135,
           1.4749375581741333,
           1.8742645978927612,
           1.0382945537567139,
           0.8147878050804138,
           1.239137887954712,
           0.5588923692703247,
           -0.16901236772537231,
           0.7411892414093018,
           1.0437895059585571,
           0.16299483180046082,
           1.6978998184204102,
           0.6819654107093811,
           0.7722594738006592,
           0.8891466856002808,
           0.2779538333415985,
           1.650190830230713,
           1.1934144496917725,
           0.6112242341041565,
           0.5722441077232361,
           0.6232600212097168,
           0.8408822417259216,
           0.7357856035232544,
           0.6389394402503967,
           0.36326369643211365,
           -0.0020363526418805122,
           0.011528410948812962,
           0.4556487500667572,
           0.3976960778236389,
           0.7550063729286194,
           1.186094880104065,
           1.7211005687713623,
           0.8370569348335266,
           0.29900068044662476
          ],
          [
           2.2438769340515137,
           0.5713174343109131,
           0.7782121300697327,
           0.7886090278625488,
           0.1778831034898758,
           0.16728925704956055,
           0.36822518706321716,
           0.4017592966556549,
           0.9936108589172363,
           0.6161879897117615,
           1.1244029998779297,
           0.4903860092163086,
           0.7964900135993958,
           1.2376042604446411,
           0.5010491013526917,
           0.3899604380130768,
           0.9894962906837463,
           0.16337788105010986,
           1.3906233310699463,
           -0.08923956006765366,
           0.8521301746368408,
           0.8582556843757629,
           0.3348122239112854,
           0.181513711810112,
           0.3713923990726471,
           0.6502248048782349,
           1.2505847215652466,
           1.3713880777359009,
           1.1160110235214233,
           0.9248144030570984,
           1.3973422050476074,
           0.5176125764846802,
           1.0542476177215576,
           1.9917962551116943,
           1.4816066026687622,
           0.9026036262512207,
           0.3663422763347626,
           -0.14953060448169708,
           0.8104107975959778,
           1.1091336011886597,
           0.27158039808273315,
           1.0184974670410156,
           0.31898897886276245,
           0.6633859872817993,
           0.8559871912002563,
           1.4103087186813354,
           0.9761337041854858,
           0.19077107310295105,
           0.8521425127983093,
           -0.16947141289710999,
           0.693361759185791,
           0.08509547263383865,
           0.4970506727695465,
           2.056504487991333,
           0.48295724391937256,
           0.1458212286233902,
           1.3185838460922241,
           1.0221041440963745,
           0.5171448588371277
          ],
          [
           1.593708872795105,
           0.6243565678596497,
           1.3243907690048218,
           0.27676475048065186,
           0.04240790382027626,
           -0.08098618686199188,
           0.9808545112609863,
           0.7676584124565125,
           1.7371429204940796,
           0.4811818599700928,
           1.3307198286056519,
           0.9592170119285583,
           0.36941415071487427,
           1.2765634059906006,
           1.2626286745071411,
           0.13051047921180725,
           0.06551852077245712,
           -0.04233467951416969,
           -0.0888386219739914,
           -0.1379561722278595,
           0.5811804533004761,
           0.030809933319687843,
           0.12195312976837158,
           -0.03204653412103653,
           0.7703348994255066,
           0.7437286972999573,
           0.8894180655479431,
           1.4295377731323242,
           1.3005859851837158,
           0.2512860894203186,
           1.6433783769607544,
           0.8424731492996216,
           1.5003321170806885,
           1.5762075185775757,
           1.2620545625686646,
           2.0909602642059326,
           1.6171401739120483,
           0.5944468975067139,
           1.2230262756347656,
           0.7757189869880676,
           0.21685393154621124,
           0.9800934791564941,
           0.8475245833396912,
           1.5338274240493774,
           0.08683416992425919,
           1.4262481927871704,
           0.3989662528038025,
           1.8056950569152832,
           1.3099697828292847,
           0.19649073481559753,
           0.5880457758903503,
           0.6534016728401184,
           0.9088939428329468,
           0.7217559218406677,
           1.5804277658462524,
           1.6154247522354126,
           1.556599497795105,
           0.5685068964958191,
           1.429406762123108
          ],
          [
           2.2438769340515137,
           0.39157694578170776,
           1.1375705003738403,
           0.7895411252975464,
           0.2028798758983612,
           0.0834784209728241,
           0.4739319980144501,
           0.15044206380844116,
           1.5354806184768677,
           0.7065790891647339,
           0.6088600158691406,
           1.1096441745758057,
           0.22173349559307098,
           0.890064001083374,
           0.20096524059772491,
           0.2636706233024597,
           -0.10894917696714401,
           0.02377311885356903,
           0.1655467450618744,
           -0.16556648910045624,
           0.018925534561276436,
           0.00999562069773674,
           0.2940417230129242,
           1.2560714483261108,
           0.1943177729845047,
           -0.08272838592529297,
           0.21571019291877747,
           0.27181482315063477,
           -0.1192752867937088,
           -0.00501122185960412,
           0.22457356750965118,
           0.5057935118675232,
           0.20853762328624725,
           0.6720624566078186,
           0.16480262577533722,
           0.21930870413780212,
           0.9561532735824585,
           0.3506489098072052,
           0.5926675796508789,
           0.7348591685295105,
           0.6457862854003906,
           0.28171399235725403,
           0.8430725932121277,
           1.6771432161331177,
           1.465336799621582,
           1.1469615697860718,
           0.1781613528728485,
           0.16131211817264557,
           1.4114357233047485,
           1.1100190877914429,
           0.30628663301467896,
           0.4594182074069977,
           0.39913487434387207,
           1.6661983728408813,
           1.0534143447875977,
           0.32381507754325867,
           0.6914492845535278,
           0.7562358379364014,
           0.988332211971283
          ],
          [
           1.5079336166381836,
           0.3821105659008026,
           0.4372352361679077,
           0.06976688653230667,
           -0.1692144274711609,
           -0.16993848979473114,
           0.12333761900663376,
           -0.12709912657737732,
           0.8056126236915588,
           -0.11477449536323547,
           0.09867027401924133,
           0.621910810470581,
           0.6564827561378479,
           0.633653998374939,
           -0.053769003599882126,
           0.14542250335216522,
           0.0728909894824028,
           0.6780580282211304,
           1.217475414276123,
           -0.0857512503862381,
           -0.16323256492614746,
           0.08581473678350449,
           0.6746968030929565,
           0.36196866631507874,
           0.8679857850074768,
           0.9452130794525146,
           0.9548208117485046,
           0.8316359519958496,
           0.5205162167549133,
           0.3732517659664154,
           1.5106110572814941,
           0.8607884049415588,
           0.9930791258811951,
           1.2472213506698608,
           1.9277911186218262,
           0.3743705451488495,
           2.2247748374938965,
           0.3867565095424652,
           1.5597387552261353,
           0.7709789872169495,
           0.04627087339758873,
           0.34882107377052307,
           0.0271452683955431,
           0.8172075748443604,
           0.5905501246452332,
           0.4530354142189026,
           0.17532879114151,
           1.1593222618103027,
           0.7656187415122986,
           0.9008581042289734,
           0.4894264042377472,
           1.9002214670181274,
           0.4604228436946869,
           1.6266577243804932,
           0.8740413784980774,
           0.7120516896247864,
           1.07719087600708,
           0.6216275691986084,
           0.5302438735961914
          ],
          [
           1.593708872795105,
           0.4240764379501343,
           -0.001311933621764183,
           0.39513829350471497,
           0.22854478657245636,
           0.09040933847427368,
           0.14009572565555573,
           1.0184340476989746,
           0.9544592499732971,
           0.33816683292388916,
           0.7623946070671082,
           0.686750054359436,
           0.382596880197525,
           0.7843062281608582,
           0.23824955523014069,
           -0.11876560747623444,
           -0.16985106468200684,
           -0.10056745260953903,
           0.4232875406742096,
           -0.11154372245073318,
           -0.044197581708431244,
           0.09300564229488373,
           -0.06570521742105484,
           0.11857520788908005,
           0.4262404143810272,
           0.040619976818561554,
           0.14475369453430176,
           0.3355761170387268,
           0.3289807140827179,
           0.6761407256126404,
           1.270398497581482,
           -0.08012957125902176,
           0.3730940520763397,
           0.9410333633422852,
           0.3480818569660187,
           0.7204964756965637,
           0.5151855945587158,
           0.25733792781829834,
           0.6957736015319824,
           1.0813944339752197,
           -0.12770108878612518,
           0.4463617205619812,
           -0.023889431729912758,
           1.5296353101730347,
           1.2145473957061768,
           0.7641105055809021,
           0.34046274423599243,
           1.0195930004119873,
           0.7385931611061096,
           0.8917544484138489,
           -0.12265938520431519,
           -0.07115373760461807,
           1.2613686323165894,
           0.6212486624717712,
           0.7434833645820618,
           0.0705304741859436,
           1.167951226234436,
           2.065558910369873,
           1.6578747034072876
          ],
          [
           0.7547912001609802,
           0.3320668637752533,
           0.4196917414665222,
           0.3788435757160187,
           0.2774547338485718,
           0.042935408651828766,
           0.4771200716495514,
           0.4309329390525818,
           0.7572906017303467,
           0.6491878032684326,
           1.0287851095199585,
           0.24352677166461945,
           0.08260901272296906,
           0.45108339190483093,
           -0.0354837030172348,
           -0.05711200833320618,
           -0.1052107885479927,
           -0.16257905960083008,
           0.21222099661827087,
           -0.1495615690946579,
           0.00817224383354187,
           -0.13638918101787567,
           0.44307172298431396,
           0.33866697549819946,
           -0.11238905042409897,
           0.3828063905239105,
           1.446796178817749,
           -0.12763777375221252,
           1.1791976690292358,
           0.5038268566131592,
           1.094667673110962,
           1.0798152685165405,
           0.24432146549224854,
           1.8443433046340942,
           0.5425888299942017,
           1.095741868019104,
           2.0859148502349854,
           0.9356420040130615,
           0.7466236352920532,
           0.17222054302692413,
           0.09095767885446548,
           -0.060839295387268066,
           0.21086035668849945,
           0.7688155174255371,
           0.25583842396736145,
           0.8109803199768066,
           0.6576820015907288,
           0.680246889591217,
           0.9787268042564392,
           0.38214272260665894,
           0.9914575219154358,
           0.5310279130935669,
           0.02164538763463497,
           2.203566551208496,
           0.5685339570045471,
           0.9960017800331116,
           1.6490198373794556,
           0.24981540441513062,
           0.2105964869260788
          ],
          [
           0.7547912001609802,
           -0.1578150987625122,
           -0.06631112843751907,
           -0.11755625903606415,
           -0.00014034556807018816,
           0.4887954294681549,
           0.48319247364997864,
           -0.05388098582625389,
           0.4523738920688629,
           0.5892301797866821,
           -0.06389854848384857,
           0.48035943508148193,
           0.40576499700546265,
           0.0633237436413765,
           -0.0799480676651001,
           0.7775686979293823,
           1.3738129138946533,
           0.4266382157802582,
           0.12556949257850647,
           -0.1490086317062378,
           0.009399517439305782,
           0.8157098889350891,
           0.3865537941455841,
           0.554376482963562,
           0.6183369755744934,
           0.8705334067344666,
           0.22416551411151886,
           1.8963607549667358,
           1.6933621168136597,
           0.9929308295249939,
           1.8191238641738892,
           1.0372118949890137,
           0.643250048160553,
           0.9557335376739502,
           0.6108473539352417,
           1.4473450183868408,
           1.1157721281051636,
           0.8185415267944336,
           1.1318855285644531,
           -0.08854731917381287,
           0.11967721581459045,
           0.37703177332878113,
           1.6124910116195679,
           1.3033303022384644,
           2.1500937938690186,
           0.695798933506012,
           0.35953617095947266,
           0.2766430079936981,
           0.7106326222419739,
           0.18102970719337463,
           0.05605584383010864,
           0.8856614232063293,
           0.3074999749660492,
           0.7958083152770996,
           0.7072685360908508,
           0.6386833190917969,
           2.1603033542633057,
           1.0978387594223022,
           0.8106054067611694
          ],
          [
           1.5079336166381836,
           0.3821105659008026,
           0.8778885006904602,
           -0.1212388351559639,
           -0.14403386414051056,
           -0.16828414797782898,
           0.09792515635490417,
           0.006230198312550783,
           0.06417637318372726,
           -0.16250355541706085,
           0.3668087124824524,
           0.2004760205745697,
           -0.06630197912454605,
           0.4626828730106354,
           0.2722940444946289,
           0.11836421489715576,
           0.03972933068871498,
           0.4150066375732422,
           0.8304250836372375,
           -0.01234618853777647,
           0.6141477823257446,
           1.105136513710022,
           0.513237476348877,
           0.7516661286354065,
           0.6474600434303284,
           0.6116486191749573,
           1.5944876670837402,
           1.239951729774475,
           1.7470800876617432,
           0.14582394063472748,
           1.0851881504058838,
           2.1151771545410156,
           1.2615597248077393,
           1.744053602218628,
           1.3886592388153076,
           1.4609318971633911,
           1.6813373565673828,
           1.2385913133621216,
           1.1490521430969238,
           1.0119129419326782,
           0.8425948619842529,
           1.3739887475967407,
           0.8994725346565247,
           0.4104655385017395,
           1.231003761291504,
           2.238879919052124,
           0.32073408365249634,
           1.5820484161376953,
           0.9157029986381531,
           -0.008316796272993088,
           0.5328368544578552,
           0.28120654821395874,
           1.2522609233856201,
           1.9087105989456177,
           1.8579797744750977,
           1.698714256286621,
           2.4005682468414307,
           -0.16591580212116241,
           0.8714627623558044
          ],
          [
           0.7547912001609802,
           0.14992228150367737,
           0.22419613599777222,
           -0.16993634402751923,
           -0.08119390904903412,
           0.125569149851799,
           0.208632692694664,
           0.13733051717281342,
           0.5645182132720947,
           -0.16952276229858398,
           -0.08196388930082321,
           -0.13346967101097107,
           0.20779721438884735,
           0.5260151624679565,
           0.7102513313293457,
           0.5694684386253357,
           0.1884613335132599,
           -0.0957624539732933,
           0.8133782744407654,
           -0.15922671556472778,
           0.20399099588394165,
           0.7810853123664856,
           0.12902027368545532,
           0.14338649809360504,
           0.720753014087677,
           0.13625910878181458,
           0.15671642124652863,
           1.1282477378845215,
           0.7417712807655334,
           0.37972894310951233,
           0.33532455563545227,
           0.8271461725234985,
           0.7716313600540161,
           1.2218955755233765,
           1.2195090055465698,
           0.9542484879493713,
           0.7861597537994385,
           0.07721385359764099,
           0.329867959022522,
           0.23035062849521637,
           -0.16111716628074646,
           0.19155777990818024,
           0.6421968936920166,
           0.19756093621253967,
           0.8251113891601562,
           0.902439534664154,
           0.043491486459970474,
           0.2513810992240906,
           0.7679303288459778,
           0.1273179054260254,
           1.0552476644515991,
           1.0581881999969482,
           0.009810705669224262,
           1.1451733112335205,
           0.12604278326034546,
           1.013816475868225,
           0.9917294979095459,
           1.4904425144195557,
           0.4104498028755188
          ],
          [
           0.7547912001609802,
           0.14992228150367737,
           1.1491973400115967,
           0.37697073817253113,
           0.3281857967376709,
           0.6463979482650757,
           1.8001221418380737,
           1.1813664436340332,
           1.5567611455917358,
           1.3634670972824097,
           0.7097492218017578,
           0.6250097751617432,
           0.3581523299217224,
           0.9426649808883667,
           0.6830955743789673,
           0.8272942304611206,
           -0.16496534645557404,
           0.061840616166591644,
           0.5677539110183716,
           -0.01513567566871643,
           0.7445992231369019,
           0.9035131931304932,
           1.3795264959335327,
           1.5275568962097168,
           1.1563656330108643,
           0.7295050621032715,
           1.261884331703186,
           1.672825813293457,
           1.4265649318695068,
           0.9866895079612732,
           0.9858388304710388,
           0.9901044964790344,
           0.9711014032363892,
           2.320836305618286,
           1.9302022457122803,
           1.0878170728683472,
           2.085319757461548,
           1.7091546058654785,
           0.7197760343551636,
           0.6605536341667175,
           -0.014919847249984741,
           0.8893486857414246,
           0.5184654593467712,
           0.995263934135437,
           1.6716413497924805,
           0.8042200207710266,
           1.8914562463760376,
           0.5477408766746521,
           0.5480632781982422,
           0.9714463949203491,
           1.6521937847137451,
           0.11916191130876541,
           0.2331932634115219,
           1.1593868732452393,
           0.8249712586402893,
           0.45992642641067505,
           1.3005908727645874,
           0.5830439925193787,
           0.411867618560791
          ],
          [
           2.2438769340515137,
           0.39157694578170776,
           1.1083163022994995,
           0.10637523978948593,
           -0.11693345755338669,
           -0.09515822678804398,
           -0.13531160354614258,
           0.7420939207077026,
           1.3148165941238403,
           -0.05676521733403206,
           0.5114559531211853,
           0.21150632202625275,
           1.4925216436386108,
           0.7516191005706787,
           0.4524591565132141,
           1.3634319305419922,
           0.9101482629776001,
           0.1685345470905304,
           0.18242792785167694,
           -0.15831518173217773,
           0.02368181012570858,
           0.4728475511074066,
           1.3362045288085938,
           1.2159929275512695,
           0.43730971217155457,
           1.3140130043029785,
           1.3754558563232422,
           1.3221404552459717,
           0.1226496696472168,
           0.29256001114845276,
           1.8558717966079712,
           1.1604043245315552,
           -0.15432529151439667,
           1.423188328742981,
           0.6559210419654846,
           0.6255244612693787,
           0.8586616516113281,
           0.13593220710754395,
           0.35538941621780396,
           1.4594149589538574,
           1.301418662071228,
           0.6016842126846313,
           -0.06547930836677551,
           0.12540023028850555,
           0.7028247117996216,
           1.5766736268997192,
           0.6030676960945129,
           0.7557889223098755,
           0.10104866325855255,
           0.31003305315971375,
           0.08710089325904846,
           1.5795021057128906,
           0.4647553563117981,
           0.6865294575691223,
           0.5711771845817566,
           1.1851831674575806,
           1.100011944770813,
           1.2224936485290527,
           0.4356313943862915
          ],
          [
           1.593708872795105,
           0.6243565678596497,
           1.3243907690048218,
           0.27676475048065186,
           0.04240790382027626,
           -0.15460339188575745,
           -0.13741931319236755,
           0.5115563869476318,
           1.116984248161316,
           -0.05471181496977806,
           0.19241274893283844,
           0.07888185977935791,
           1.1681610345840454,
           1.4327386617660522,
           1.627913475036621,
           1.199697732925415,
           0.7371695041656494,
           0.6357721090316772,
           1.4638375043869019,
           -0.14086732268333435,
           0.9696670770645142,
           0.471829354763031,
           1.2223200798034668,
           0.9901044964790344,
           0.6508636474609375,
           1.1204469203948975,
           1.1492809057235718,
           1.848262906074524,
           1.3337169885635376,
           0.6779339909553528,
           1.240981936454773,
           1.5166349411010742,
           0.26258888840675354,
           1.1390219926834106,
           0.4052548408508301,
           0.5770919919013977,
           0.06691477447748184,
           -0.1340227723121643,
           1.0519979000091553,
           1.150490403175354,
           0.43079015612602234,
           1.424646019935608,
           0.04215000569820404,
           0.64667147397995,
           1.0417860746383667,
           1.4008285999298096,
           1.3583937883377075,
           0.22558782994747162,
           1.2165709733963013,
           0.614621639251709,
           -0.00035816000308841467,
           1.1019477844238281,
           1.0841941833496094,
           1.6622660160064697,
           0.8168391585350037,
           0.25329598784446716,
           0.41239988803863525,
           0.9086687564849854,
           0.2116774171590805
          ],
          [
           2.2438769340515137,
           0.5713174343109131,
           1.8098188638687134,
           1.30683434009552,
           0.8572924733161926,
           0.7838281393051147,
           1.3527251482009888,
           1.403031587600708,
           2.116640329360962,
           1.3615734577178955,
           0.20138147473335266,
           0.43947339057922363,
           0.5304477214813232,
           1.192306637763977,
           1.092483639717102,
           -0.035088472068309784,
           -0.006311057601124048,
           0.39783456921577454,
           0.8159418106079102,
           0.008965501561760902,
           0.6056388020515442,
           0.42546403408050537,
           1.5451894998550415,
           0.8757480978965759,
           1.1933903694152832,
           0.1559445559978485,
           1.2074761390686035,
           -0.025758063420653343,
           0.9125930666923523,
           1.5092402696609497,
           1.938094139099121,
           1.0254600048065186,
           0.7523183822631836,
           1.5532302856445312,
           0.8080995678901672,
           1.3040281534194946,
           1.1110471487045288,
           0.584649920463562,
           -0.14800341427326202,
           1.0942832231521606,
           0.7874984741210938,
           1.2188432216644287,
           -0.09436382353305817,
           0.33859875798225403,
           0.6680116057395935,
           0.057918548583984375,
           0.875199556350708,
           1.0936856269836426,
           1.4320160150527954,
           0.2064075618982315,
           0.41529381275177,
           1.307887077331543,
           0.18691761791706085,
           1.2285990715026855,
           0.31643474102020264,
           0.3984403908252716,
           0.6847807168960571,
           0.6684526801109314,
           0.5534707307815552
          ],
          [
           1.593708872795105,
           0.021211719140410423,
           0.9021561145782471,
           0.3946209251880646,
           0.48215895891189575,
           0.5842577219009399,
           0.291198194026947,
           1.559710144996643,
           1.2961255311965942,
           0.774861216545105,
           1.681357979774475,
           0.6497523188591003,
           1.0793168544769287,
           0.8832167387008667,
           1.1581617593765259,
           0.8337771892547607,
           0.9286956191062927,
           -0.05355554446578026,
           0.21837599575519562,
           0.0268868338316679,
           0.4538593590259552,
           0.4819905161857605,
           1.9861513376235962,
           0.8479864597320557,
           1.499153733253479,
           0.40559372305870056,
           1.0900306701660156,
           0.5807597041130066,
           0.7946188449859619,
           0.21927021443843842,
           0.4460693299770355,
           0.5269337296485901,
           0.02794356271624565,
           1.1307668685913086,
           1.0422335863113403,
           0.7343592047691345,
           0.7124524116516113,
           0.170995831489563,
           0.8827506899833679,
           0.3901442587375641,
           0.5190345048904419,
           0.3366382420063019,
           -0.1684279590845108,
           -0.008323018439114094,
           0.5756106376647949,
           1.1822744607925415,
           0.6095525026321411,
           0.8797798156738281,
           1.193839192390442,
           -0.12398044764995575,
           -0.1448308676481247,
           1.136456847190857,
           0.9283506274223328,
           1.2920259237289429,
           0.37187397480010986,
           1.3385015726089478,
           1.1015706062316895,
           1.4962295293807983,
           0.6511948704719543
          ],
          [
           1.593708872795105,
           0.6243565678596497,
           1.1936620473861694,
           0.4270472824573517,
           0.558655858039856,
           0.136684387922287,
           1.2888251543045044,
           0.1669151932001114,
           0.4355534315109253,
           0.49623748660087585,
           0.1792425811290741,
           1.1911323070526123,
           0.7060210108757019,
           1.0789893865585327,
           1.0675770044326782,
           1.6262353658676147,
           0.601370632648468,
           0.30172136425971985,
           0.6876899003982544,
           -0.16995486617088318,
           0.8829975128173828,
           1.0582683086395264,
           0.6900079250335693,
           1.4304487705230713,
           0.9120701551437378,
           1.0597463846206665,
           0.8707744479179382,
           1.875714659690857,
           0.38658908009529114,
           0.44760799407958984,
           0.4569333493709564,
           1.0798721313476562,
           -0.03677472099661827,
           1.6836525201797485,
           0.5702212452888489,
           0.4671611189842224,
           0.7403693199157715,
           0.04173415154218674,
           -0.018020983785390854,
           0.05637490376830101,
           -0.064790278673172,
           0.4143237769603729,
           1.325340747833252,
           1.7730568647384644,
           1.8790819644927979,
           0.7859593033790588,
           0.8917139172554016,
           0.6953167915344238,
           -0.11166468262672424,
           0.47521790862083435,
           0.2729138433933258,
           0.681178867816925,
           1.0695594549179077,
           2.170762777328491,
           0.34959566593170166,
           0.8357207179069519,
           1.0511997938156128,
           0.7857167720794678,
           1.3204163312911987
          ],
          [
           2.2438769340515137,
           -0.020591862499713898,
           0.0010372090619057417,
           -0.06618676334619522,
           -0.14860889315605164,
           -0.016274098306894302,
           0.3126353919506073,
           -0.06152427941560745,
           0.3328326940536499,
           1.5706466436386108,
           0.5873211026191711,
           0.17606937885284424,
           -0.16993071138858795,
           1.4261187314987183,
           0.7762092351913452,
           0.36156097054481506,
           -0.1082586944103241,
           0.6805726289749146,
           1.6529690027236938,
           -0.15518510341644287,
           0.5828768014907837,
           0.1463119387626648,
           2.1429803371429443,
           1.4008049964904785,
           1.3079288005828857,
           1.2926701307296753,
           0.36230191588401794,
           1.1532458066940308,
           0.6364030838012695,
           1.4011322259902954,
           1.5581049919128418,
           0.3154386878013611,
           0.9897956252098083,
           1.2167680263519287,
           0.7047754526138306,
           0.46375158429145813,
           1.2877410650253296,
           0.18298859894275665,
           1.0201166868209839,
           0.9640291929244995,
           0.7576574087142944,
           1.0566298961639404,
           0.4705768823623657,
           1.936690092086792,
           2.2734649181365967,
           1.905163049697876,
           0.17024359107017517,
           0.3506864309310913,
           0.025091854855418205,
           -0.11197418719530106,
           0.9118958115577698,
           0.2662099003791809,
           0.3221760094165802,
           1.8469278812408447,
           0.9044149518013,
           0.8231984376907349,
           1.4944572448730469,
           0.20412001013755798,
           0.73813396692276
          ],
          [
           1.593708872795105,
           0.4240764379501343,
           0.1598583459854126,
           0.4829980432987213,
           0.9272783398628235,
           0.4745090901851654,
           1.200360894203186,
           0.6319392919540405,
           0.9722489714622498,
           0.7241386771202087,
           0.8870494961738586,
           0.4357109069824219,
           0.5314669013023376,
           1.7475123405456543,
           0.43626248836517334,
           0.48888301849365234,
           0.815717339515686,
           0.2701752185821533,
           0.1391673982143402,
           -0.16481932997703552,
           0.19759294390678406,
           -0.1449417918920517,
           0.8479100465774536,
           0.13211676478385925,
           -0.1570996195077896,
           0.15528275072574615,
           0.2842099070549011,
           0.3893440067768097,
           0.9188161492347717,
           0.273320734500885,
           0.8222653865814209,
           0.6614677906036377,
           0.7893931865692139,
           1.5517909526824951,
           1.22870934009552,
           0.8246256113052368,
           1.104315996170044,
           0.14877407252788544,
           1.4586127996444702,
           0.5481799840927124,
           0.04688045382499695,
           0.7968264222145081,
           0.6504760384559631,
           0.35622894763946533,
           0.900851845741272,
           -0.0974501296877861,
           0.33879274129867554,
           0.5633655786514282,
           0.16318199038505554,
           -0.003865891369059682,
           0.7757616639137268,
           0.4800514578819275,
           0.17145074903964996,
           1.6801174879074097,
           0.49078893661499023,
           0.5113915205001831,
           0.878242015838623,
           1.860125184059143,
           0.34813371300697327
          ],
          [
           1.5079336166381836,
           0.47857919335365295,
           1.586862564086914,
           0.8132822513580322,
           0.6854292154312134,
           0.926917314529419,
           0.5552334785461426,
           0.6261836886405945,
           1.7217060327529907,
           0.2684614360332489,
           0.83868807554245,
           1.1143954992294312,
           1.28782057762146,
           0.5252131223678589,
           1.5622729063034058,
           0.7389978170394897,
           0.5851373076438904,
           0.9448907971382141,
           0.8597869873046875,
           -0.08221467584371567,
           -0.1676129400730133,
           0.2674179971218109,
           -0.15595510601997375,
           0.03361964598298073,
           0.01845160312950611,
           0.2545197010040283,
           0.6193535327911377,
           0.8827075362205505,
           0.7264496088027954,
           0.2091442048549652,
           0.9564435482025146,
           1.7292187213897705,
           1.021738886833191,
           1.3028960227966309,
           1.2652997970581055,
           2.0669734477996826,
           1.0951815843582153,
           0.8726483583450317,
           1.5611343383789062,
           1.7234588861465454,
           0.6524430513381958,
           0.6512644290924072,
           0.49739906191825867,
           0.512546181678772,
           0.9556918740272522,
           0.6483996510505676,
           0.6475196480751038,
           1.0039023160934448,
           0.9098595976829529,
           0.45511236786842346,
           0.01096363365650177,
           1.3110498189926147,
           0.9528015851974487,
           1.3908779621124268,
           0.6478042602539062,
           0.6984960436820984,
           2.1419789791107178,
           0.8533624410629272,
           1.7262766361236572
          ],
          [
           1.593708872795105,
           0.021211719140410423,
           0.2761327624320984,
           -0.13253402709960938,
           0.29483935236930847,
           -0.14668415486812592,
           0.4972265064716339,
           0.6338455080986023,
           0.8919407725334167,
           0.4637291431427002,
           0.9819676876068115,
           1.0482285022735596,
           0.8893131017684937,
           1.616780400276184,
           0.9274317026138306,
           0.3366614282131195,
           0.33589687943458557,
           0.4597797989845276,
           0.2691677212715149,
           -0.011089022271335125,
           0.509558916091919,
           1.4602056741714478,
           1.0390738248825073,
           0.7855613827705383,
           1.4277273416519165,
           0.8683732151985168,
           0.44245651364326477,
           0.9033727049827576,
           2.3756933212280273,
           1.5452253818511963,
           1.5759954452514648,
           2.168926477432251,
           0.6507784724235535,
           2.229769468307495,
           1.6802793741226196,
           1.224297285079956,
           2.1133487224578857,
           0.9271081686019897,
           0.3925270140171051,
           0.5012524127960205,
           2.004798412322998,
           1.0249390602111816,
           0.8963369131088257,
           1.1538944244384766,
           0.6865136027336121,
           0.7528401017189026,
           1.2369582653045654,
           -0.09030495584011078,
           0.9468647837638855,
           0.5849794149398804,
           0.03292632848024368,
           1.671352505683899,
           1.2993487119674683,
           1.0683166980743408,
           0.46179869771003723,
           0.9330053329467773,
           1.1589068174362183,
           0.4293469190597534,
           0.05900063365697861
          ],
          [
           0.7547912001609802,
           0.3320668637752533,
           0.7034032344818115,
           0.3830685615539551,
           0.22644011676311493,
           0.027953092008829117,
           0.436574786901474,
           1.8589142560958862,
           1.0427311658859253,
           0.3982921242713928,
           1.0996845960617065,
           0.3497084379196167,
           -0.023544656112790108,
           1.3067626953125,
           0.8667228817939758,
           0.7354060411453247,
           0.7344277501106262,
           0.5462822318077087,
           0.49385181069374084,
           -0.14706279337406158,
           -0.12885549664497375,
           0.500177800655365,
           1.5035167932510376,
           -0.027229443192481995,
           0.19777946174144745,
           0.22947292029857635,
           0.23657411336898804,
           0.806738018989563,
           0.48463326692581177,
           0.9535956978797913,
           1.3152496814727783,
           0.49478766322135925,
           -0.14754556119441986,
           0.7164707779884338,
           1.458128809928894,
           0.850631058216095,
           0.7425433397293091,
           0.5343700647354126,
           0.04737238585948944,
           1.4406654834747314,
           0.9847838282585144,
           0.5326502919197083,
           0.47181814908981323,
           1.0231361389160156,
           0.7091212868690491,
           1.524901032447815,
           0.02033119834959507,
           0.20109885931015015,
           0.25571632385253906,
           0.04286216199398041,
           0.9768728017807007,
           0.3048379123210907,
           0.2520785927772522,
           0.5289627909660339,
           0.1520860642194748,
           1.9347180128097534,
           0.286456823348999,
           0.8464036583900452,
           0.7318896055221558
          ],
          [
           0.7547912001609802,
           -0.1578150987625122,
           -0.06631112843751907,
           -0.16996963322162628,
           -0.09461914747953415,
           -0.009824763983488083,
           0.21266615390777588,
           0.12941062450408936,
           -0.16196928918361664,
           0.5458508133888245,
           0.002976070623844862,
           0.8404619693756104,
           0.9654302597045898,
           1.2633713483810425,
           1.0721967220306396,
           0.27456411719322205,
           0.9580162167549133,
           1.0207202434539795,
           0.9114199280738831,
           0.08222512900829315,
           1.4534990787506104,
           0.8869508504867554,
           1.382300853729248,
           0.7910443544387817,
           0.9260854125022888,
           0.6532010436058044,
           0.05868033319711685,
           1.9229381084442139,
           0.8834807872772217,
           0.015550250187516212,
           1.7502983808517456,
           1.6229008436203003,
           1.5442380905151367,
           1.4345383644104004,
           1.8753610849380493,
           0.8956326246261597,
           0.42326512932777405,
           0.5913766622543335,
           1.443177580833435,
           0.9818112850189209,
           0.41281232237815857,
           0.09723814576864243,
           0.7785561084747314,
           1.3157744407653809,
           0.3851887583732605,
           0.5010697841644287,
           0.8996745347976685,
           0.40429842472076416,
           0.5387817621231079,
           0.8154619336128235,
           0.6757752299308777,
           0.5923194885253906,
           0.49411699175834656,
           0.5300765037536621,
           0.3499211370944977,
           0.2712317705154419,
           2.3719162940979004,
           0.9286107420921326,
           1.3313233852386475
          ],
          [
           1.5079336166381836,
           -0.018200093880295753,
           0.043810103088617325,
           0.36977437138557434,
           -0.1406015157699585,
           -0.16923479735851288,
           0.03291673585772514,
           0.18178454041481018,
           1.3240712881088257,
           0.8634446859359741,
           0.5358160734176636,
           1.4036732912063599,
           1.3014533519744873,
           0.19588735699653625,
           1.6151872873306274,
           0.8123862743377686,
           0.3389025628566742,
           0.32476067543029785,
           0.3106744885444641,
           -0.05313064530491829,
           0.1015714630484581,
           -0.09976278990507126,
           0.5430505275726318,
           1.224817156791687,
           0.8437058329582214,
           0.041403237730264664,
           -0.12537045776844025,
           1.1817078590393066,
           0.9047587513923645,
           1.0972867012023926,
           1.0428657531738281,
           0.17578361928462982,
           0.07486818730831146,
           0.2707135081291199,
           1.239508032798767,
           1.2287003993988037,
           0.7348958253860474,
           0.4235203266143799,
           0.11163820326328278,
           0.45877277851104736,
           0.25614306330680847,
           0.5410216450691223,
           -0.019489016383886337,
           -0.010491610504686832,
           0.08651610463857651,
           0.0969701036810875,
           -0.04346783086657524,
           -0.035649098455905914,
           0.7298426032066345,
           -0.004036804661154747,
           0.6739456653594971,
           0.3521774709224701,
           0.3369513154029846,
           0.7340040802955627,
           0.1124894842505455,
           0.901434600353241,
           0.6877159476280212,
           0.47258758544921875,
           0.7007415294647217
          ],
          [
           1.5079336166381836,
           0.47857919335365295,
           1.814110279083252,
           0.7889466285705566,
           0.7473424077033997,
           1.0266051292419434,
           2.2290031909942627,
           2.3342323303222656,
           1.0559719800949097,
           0.6554816365242004,
           1.775387167930603,
           1.390779972076416,
           0.9520751237869263,
           2.8938615322113037,
           2.0192666053771973,
           1.0942641496658325,
           1.0635871887207031,
           1.2800427675247192,
           1.4849001169204712,
           0.14485518634319305,
           0.553955614566803,
           1.7083139419555664,
           1.2494853734970093,
           1.1323336362838745,
           0.7530913949012756,
           0.9059004783630371,
           1.6395386457443237,
           1.7278083562850952,
           1.2969660758972168,
           0.6377071142196655,
           0.935244619846344,
           0.525356650352478,
           0.0007454377482645214,
           1.7892996072769165,
           1.106515645980835,
           1.2475823163986206,
           3.0605592727661133,
           0.8367893099784851,
           0.6611131429672241,
           0.55720055103302,
           0.2846774756908417,
           0.5319512486457825,
           0.09995285421609879,
           1.6169509887695312,
           1.4278613328933716,
           0.16266903281211853,
           0.18741855025291443,
           1.3651121854782104,
           0.7823939919471741,
           0.049295127391815186,
           0.2088874727487564,
           0.16128532588481903,
           1.1128054857254028,
           1.6394654512405396,
           0.4408082664012909,
           1.1384235620498657,
           1.475725769996643,
           0.7387050986289978,
           0.7956597805023193
          ],
          [
           0.7547912001609802,
           0.14992228150367737,
           1.3697795867919922,
           0.055714476853609085,
           0.36166319251060486,
           -0.15050312876701355,
           0.08249478787183762,
           -0.03585464134812355,
           0.4386260211467743,
           -0.027767369523644447,
           0.47940412163734436,
           -0.007302865851670504,
           -0.062066346406936646,
           0.13450756669044495,
           0.18728603422641754,
           -0.16678816080093384,
           -0.14994719624519348,
           -0.03153331205248833,
           0.18573381006717682,
           -0.16993610560894012,
           0.24814143776893616,
           -0.016516530886292458,
           0.8668844699859619,
           0.7169511914253235,
           0.26389291882514954,
           0.15085472166538239,
           0.9177757501602173,
           0.8998608589172363,
           0.37726423144340515,
           0.2999158799648285,
           0.034409187734127045,
           0.2838045656681061,
           0.04946845769882202,
           0.002155785681679845,
           0.9176152944564819,
           0.4969385266304016,
           0.10783405601978302,
           0.20072877407073975,
           0.9823241829872131,
           0.10952118039131165,
           0.3165304362773895,
           1.0388940572738647,
           0.312094122171402,
           0.10331124812364578,
           2.1145179271698,
           0.3596198260784149,
           0.04581761360168457,
           -0.02031921222805977,
           0.44431474804878235,
           0.34285521507263184,
           0.34940364956855774,
           0.3034282922744751,
           1.028188943862915,
           1.4248008728027344,
           0.712611973285675,
           1.5580642223358154,
           0.6911659836769104,
           0.9174650311470032,
           1.0016471147537231
          ],
          [
           1.593708872795105,
           0.6243565678596497,
           1.6747492551803589,
           0.919000506401062,
           0.5661033391952515,
           0.38453158736228943,
           0.8516424298286438,
           1.1962028741836548,
           1.0546363592147827,
           0.2751809358596802,
           1.6141808032989502,
           0.3490137755870819,
           0.4735265076160431,
           0.031447842717170715,
           0.21262472867965698,
           0.399940550327301,
           -0.16114459931850433,
           -0.0722518265247345,
           0.21416495740413666,
           -0.15664759278297424,
           -0.13289989531040192,
           -0.15500213205814362,
           -0.12675480544567108,
           0.2157483547925949,
           0.6335296630859375,
           0.38871222734451294,
           1.3743504285812378,
           1.5139646530151367,
           0.2730921804904938,
           0.34762969613075256,
           0.6996917128562927,
           0.8851090669631958,
           0.06518613547086716,
           1.3694220781326294,
           1.0627771615982056,
           0.3005455732345581,
           0.5201438665390015,
           1.0160585641860962,
           0.8823840618133545,
           0.22124145925045013,
           0.48969268798828125,
           1.1625711917877197,
           0.08999920636415482,
           0.7962114810943604,
           1.4143873453140259,
           0.7478762865066528,
           0.095049187541008,
           0.6983937621116638,
           0.9580330848693848,
           -0.026284994557499886,
           0.07828692346811295,
           0.04109732434153557,
           0.4170708954334259,
           1.4874516725540161,
           0.9608961939811707,
           1.1376709938049316,
           0.8372894525527954,
           0.8109189867973328,
           -0.1645311564207077
          ],
          [
           1.593708872795105,
           0.6243565678596497,
           0.45000290870666504,
           -0.12954449653625488,
           0.09599319845438004,
           0.4570748209953308,
           0.7928815484046936,
           0.3558140993118286,
           1.0187689065933228,
           0.021430620923638344,
           0.3580150306224823,
           0.6737197637557983,
           0.49125033617019653,
           0.21726477146148682,
           1.4304395914077759,
           0.9714899659156799,
           0.7607805728912354,
           0.39537230134010315,
           0.9530989527702332,
           -0.16060593724250793,
           0.728790283203125,
           0.5547730922698975,
           0.4707956910133362,
           0.8314281105995178,
           0.4789818525314331,
           1.0272040367126465,
           1.1614875793457031,
           0.37757787108421326,
           1.020004153251648,
           0.4215987026691437,
           1.1761332750320435,
           0.9149737358093262,
           0.5968246459960938,
           0.5645117163658142,
           0.9531084895133972,
           0.19847224652767181,
           1.1795250177383423,
           0.5719502568244934,
           0.06786390393972397,
           0.3348204493522644,
           0.47893044352531433,
           0.2610607445240021,
           1.0631864070892334,
           1.0564759969711304,
           0.748851478099823,
           0.8573588728904724,
           0.56256103515625,
           1.7396488189697266,
           1.0525184869766235,
           0.5634607672691345,
           0.9696865081787109,
           0.19758394360542297,
           0.4635469615459442,
           0.9191671013832092,
           1.0548557043075562,
           1.2478357553482056,
           1.5852371454238892,
           1.113893985748291,
           0.8486953377723694
          ],
          [
           1.593708872795105,
           0.6243565678596497,
           1.1936620473861694,
           0.17870020866394043,
           1.5531513690948486,
           0.31761252880096436,
           0.4727616012096405,
           0.39539217948913574,
           0.9832765460014343,
           -0.11591822654008865,
           0.36122462153434753,
           1.1495304107666016,
           0.20388789474964142,
           1.2828794717788696,
           0.7633571624755859,
           0.38889914751052856,
           -0.08394467085599899,
           -0.15322987735271454,
           1.0447494983673096,
           -0.16326932609081268,
           0.29482385516166687,
           0.5064119696617126,
           0.2766156494617462,
           1.7630695104599,
           0.13348248600959778,
           1.6911249160766602,
           0.5546706318855286,
           0.7904917001724243,
           1.111506700515747,
           1.2351067066192627,
           0.8487083315849304,
           1.4961695671081543,
           0.682727038860321,
           1.652660608291626,
           1.6460899114608765,
           0.2879459261894226,
           1.346882700920105,
           0.23421728610992432,
           0.7514622211456299,
           1.0429610013961792,
           0.2524501085281372,
           0.3325932025909424,
           -0.16709206998348236,
           0.14933717250823975,
           1.3509892225265503,
           1.0828150510787964,
           0.11392173171043396,
           0.4343358278274536,
           0.2520882189273834,
           0.06801912188529968,
           0.5549582839012146,
           -0.0601082518696785,
           0.31882598996162415,
           1.03323233127594,
           1.002463936805725,
           1.7561856508255005,
           1.3441946506500244,
           0.27122920751571655,
           1.0593974590301514
          ],
          [
           1.593708872795105,
           0.021211719140410423,
           0.5248500108718872,
           0.4882775843143463,
           -0.16987167298793793,
           0.43211790919303894,
           0.5701326131820679,
           0.577520489692688,
           1.837084174156189,
           2.0208537578582764,
           1.180287480354309,
           0.19849109649658203,
           1.9268218278884888,
           1.3214836120605469,
           0.5403400659561157,
           0.9524519443511963,
           1.6585240364074707,
           0.10570359975099564,
           0.15648578107357025,
           0.10905391722917557,
           0.7270834445953369,
           1.672027349472046,
           0.8211254477500916,
           2.468611001968384,
           1.2890881299972534,
           1.6460148096084595,
           1.7418774366378784,
           1.601293921470642,
           0.9977506399154663,
           1.6663882732391357,
           2.2474365234375,
           2.250910758972168,
           1.077457308769226,
           1.6044901609420776,
           1.5917266607284546,
           0.9093822240829468,
           1.6743826866149902,
           0.4532214105129242,
           0.755599856376648,
           0.3441675305366516,
           1.7776055335998535,
           0.6783056855201721,
           0.7065209746360779,
           0.2897053062915802,
           1.0329316854476929,
           1.6488978862762451,
           0.19486664235591888,
           0.37255343794822693,
           0.6858406066894531,
           0.975349485874176,
           0.38680949807167053,
           1.7494910955429077,
           0.8577039241790771,
           1.1659021377563477,
           1.4625436067581177,
           1.736293911933899,
           2.2713935375213623,
           0.30150967836380005,
           0.46657586097717285
          ],
          [
           2.2438769340515137,
           -0.020591862499713898,
           0.0010372090619057417,
           0.4689074754714966,
           -0.16038310527801514,
           0.08187321573495865,
           0.42924267053604126,
           1.1137632131576538,
           1.2948981523513794,
           0.3060678243637085,
           0.7444818615913391,
           0.05961686745285988,
           0.5886308550834656,
           0.9025954008102417,
           0.5236161947250366,
           0.5389840006828308,
           0.2801564037799835,
           0.1479068547487259,
           0.3503950238227844,
           0.0018481375882402062,
           0.5796931385993958,
           0.39170655608177185,
           0.7078599333763123,
           0.1614605039358139,
           0.6500934362411499,
           0.7309511303901672,
           0.906000554561615,
           0.41615378856658936,
           0.5663378834724426,
           0.3939489722251892,
           0.7127997279167175,
           1.9583348035812378,
           0.04987047612667084,
           0.3983443081378937,
           1.5845612287521362,
           0.9310173392295837,
           0.33017149567604065,
           -0.1398259699344635,
           1.6601840257644653,
           -0.16962361335754395,
           0.1123429611325264,
           1.6447607278823853,
           -0.07512880116701126,
           1.0203934907913208,
           0.8562600016593933,
           0.43872958421707153,
           0.5763465762138367,
           1.4602547883987427,
           0.40227818489074707,
           0.11778891831636429,
           0.4034411609172821,
           0.785163164138794,
           0.20266644656658173,
           2.1645331382751465,
           1.5081177949905396,
           0.18952246010303497,
           0.016046399250626564,
           0.14705458283424377,
           0.37388524413108826
          ]
         ]
        }
       ],
       "layout": {
        "coloraxis": {
         "cmid": 0,
         "colorscale": [
          [
           0,
           "rgb(103,0,31)"
          ],
          [
           0.1,
           "rgb(178,24,43)"
          ],
          [
           0.2,
           "rgb(214,96,77)"
          ],
          [
           0.3,
           "rgb(244,165,130)"
          ],
          [
           0.4,
           "rgb(253,219,199)"
          ],
          [
           0.5,
           "rgb(247,247,247)"
          ],
          [
           0.6,
           "rgb(209,229,240)"
          ],
          [
           0.7,
           "rgb(146,197,222)"
          ],
          [
           0.8,
           "rgb(67,147,195)"
          ],
          [
           0.9,
           "rgb(33,102,172)"
          ],
          [
           1,
           "rgb(5,48,97)"
          ]
         ]
        },
        "template": {
         "data": {
          "bar": [
           {
            "error_x": {
             "color": "#2a3f5f"
            },
            "error_y": {
             "color": "#2a3f5f"
            },
            "marker": {
             "line": {
              "color": "#E5ECF6",
              "width": 0.5
             },
             "pattern": {
              "fillmode": "overlay",
              "size": 10,
              "solidity": 0.2
             }
            },
            "type": "bar"
           }
          ],
          "barpolar": [
           {
            "marker": {
             "line": {
              "color": "#E5ECF6",
              "width": 0.5
             },
             "pattern": {
              "fillmode": "overlay",
              "size": 10,
              "solidity": 0.2
             }
            },
            "type": "barpolar"
           }
          ],
          "carpet": [
           {
            "aaxis": {
             "endlinecolor": "#2a3f5f",
             "gridcolor": "white",
             "linecolor": "white",
             "minorgridcolor": "white",
             "startlinecolor": "#2a3f5f"
            },
            "baxis": {
             "endlinecolor": "#2a3f5f",
             "gridcolor": "white",
             "linecolor": "white",
             "minorgridcolor": "white",
             "startlinecolor": "#2a3f5f"
            },
            "type": "carpet"
           }
          ],
          "choropleth": [
           {
            "colorbar": {
             "outlinewidth": 0,
             "ticks": ""
            },
            "type": "choropleth"
           }
          ],
          "contour": [
           {
            "colorbar": {
             "outlinewidth": 0,
             "ticks": ""
            },
            "colorscale": [
             [
              0,
              "#0d0887"
             ],
             [
              0.1111111111111111,
              "#46039f"
             ],
             [
              0.2222222222222222,
              "#7201a8"
             ],
             [
              0.3333333333333333,
              "#9c179e"
             ],
             [
              0.4444444444444444,
              "#bd3786"
             ],
             [
              0.5555555555555556,
              "#d8576b"
             ],
             [
              0.6666666666666666,
              "#ed7953"
             ],
             [
              0.7777777777777778,
              "#fb9f3a"
             ],
             [
              0.8888888888888888,
              "#fdca26"
             ],
             [
              1,
              "#f0f921"
             ]
            ],
            "type": "contour"
           }
          ],
          "contourcarpet": [
           {
            "colorbar": {
             "outlinewidth": 0,
             "ticks": ""
            },
            "type": "contourcarpet"
           }
          ],
          "heatmap": [
           {
            "colorbar": {
             "outlinewidth": 0,
             "ticks": ""
            },
            "colorscale": [
             [
              0,
              "#0d0887"
             ],
             [
              0.1111111111111111,
              "#46039f"
             ],
             [
              0.2222222222222222,
              "#7201a8"
             ],
             [
              0.3333333333333333,
              "#9c179e"
             ],
             [
              0.4444444444444444,
              "#bd3786"
             ],
             [
              0.5555555555555556,
              "#d8576b"
             ],
             [
              0.6666666666666666,
              "#ed7953"
             ],
             [
              0.7777777777777778,
              "#fb9f3a"
             ],
             [
              0.8888888888888888,
              "#fdca26"
             ],
             [
              1,
              "#f0f921"
             ]
            ],
            "type": "heatmap"
           }
          ],
          "heatmapgl": [
           {
            "colorbar": {
             "outlinewidth": 0,
             "ticks": ""
            },
            "colorscale": [
             [
              0,
              "#0d0887"
             ],
             [
              0.1111111111111111,
              "#46039f"
             ],
             [
              0.2222222222222222,
              "#7201a8"
             ],
             [
              0.3333333333333333,
              "#9c179e"
             ],
             [
              0.4444444444444444,
              "#bd3786"
             ],
             [
              0.5555555555555556,
              "#d8576b"
             ],
             [
              0.6666666666666666,
              "#ed7953"
             ],
             [
              0.7777777777777778,
              "#fb9f3a"
             ],
             [
              0.8888888888888888,
              "#fdca26"
             ],
             [
              1,
              "#f0f921"
             ]
            ],
            "type": "heatmapgl"
           }
          ],
          "histogram": [
           {
            "marker": {
             "pattern": {
              "fillmode": "overlay",
              "size": 10,
              "solidity": 0.2
             }
            },
            "type": "histogram"
           }
          ],
          "histogram2d": [
           {
            "colorbar": {
             "outlinewidth": 0,
             "ticks": ""
            },
            "colorscale": [
             [
              0,
              "#0d0887"
             ],
             [
              0.1111111111111111,
              "#46039f"
             ],
             [
              0.2222222222222222,
              "#7201a8"
             ],
             [
              0.3333333333333333,
              "#9c179e"
             ],
             [
              0.4444444444444444,
              "#bd3786"
             ],
             [
              0.5555555555555556,
              "#d8576b"
             ],
             [
              0.6666666666666666,
              "#ed7953"
             ],
             [
              0.7777777777777778,
              "#fb9f3a"
             ],
             [
              0.8888888888888888,
              "#fdca26"
             ],
             [
              1,
              "#f0f921"
             ]
            ],
            "type": "histogram2d"
           }
          ],
          "histogram2dcontour": [
           {
            "colorbar": {
             "outlinewidth": 0,
             "ticks": ""
            },
            "colorscale": [
             [
              0,
              "#0d0887"
             ],
             [
              0.1111111111111111,
              "#46039f"
             ],
             [
              0.2222222222222222,
              "#7201a8"
             ],
             [
              0.3333333333333333,
              "#9c179e"
             ],
             [
              0.4444444444444444,
              "#bd3786"
             ],
             [
              0.5555555555555556,
              "#d8576b"
             ],
             [
              0.6666666666666666,
              "#ed7953"
             ],
             [
              0.7777777777777778,
              "#fb9f3a"
             ],
             [
              0.8888888888888888,
              "#fdca26"
             ],
             [
              1,
              "#f0f921"
             ]
            ],
            "type": "histogram2dcontour"
           }
          ],
          "mesh3d": [
           {
            "colorbar": {
             "outlinewidth": 0,
             "ticks": ""
            },
            "type": "mesh3d"
           }
          ],
          "parcoords": [
           {
            "line": {
             "colorbar": {
              "outlinewidth": 0,
              "ticks": ""
             }
            },
            "type": "parcoords"
           }
          ],
          "pie": [
           {
            "automargin": true,
            "type": "pie"
           }
          ],
          "scatter": [
           {
            "fillpattern": {
             "fillmode": "overlay",
             "size": 10,
             "solidity": 0.2
            },
            "type": "scatter"
           }
          ],
          "scatter3d": [
           {
            "line": {
             "colorbar": {
              "outlinewidth": 0,
              "ticks": ""
             }
            },
            "marker": {
             "colorbar": {
              "outlinewidth": 0,
              "ticks": ""
             }
            },
            "type": "scatter3d"
           }
          ],
          "scattercarpet": [
           {
            "marker": {
             "colorbar": {
              "outlinewidth": 0,
              "ticks": ""
             }
            },
            "type": "scattercarpet"
           }
          ],
          "scattergeo": [
           {
            "marker": {
             "colorbar": {
              "outlinewidth": 0,
              "ticks": ""
             }
            },
            "type": "scattergeo"
           }
          ],
          "scattergl": [
           {
            "marker": {
             "colorbar": {
              "outlinewidth": 0,
              "ticks": ""
             }
            },
            "type": "scattergl"
           }
          ],
          "scattermapbox": [
           {
            "marker": {
             "colorbar": {
              "outlinewidth": 0,
              "ticks": ""
             }
            },
            "type": "scattermapbox"
           }
          ],
          "scatterpolar": [
           {
            "marker": {
             "colorbar": {
              "outlinewidth": 0,
              "ticks": ""
             }
            },
            "type": "scatterpolar"
           }
          ],
          "scatterpolargl": [
           {
            "marker": {
             "colorbar": {
              "outlinewidth": 0,
              "ticks": ""
             }
            },
            "type": "scatterpolargl"
           }
          ],
          "scatterternary": [
           {
            "marker": {
             "colorbar": {
              "outlinewidth": 0,
              "ticks": ""
             }
            },
            "type": "scatterternary"
           }
          ],
          "surface": [
           {
            "colorbar": {
             "outlinewidth": 0,
             "ticks": ""
            },
            "colorscale": [
             [
              0,
              "#0d0887"
             ],
             [
              0.1111111111111111,
              "#46039f"
             ],
             [
              0.2222222222222222,
              "#7201a8"
             ],
             [
              0.3333333333333333,
              "#9c179e"
             ],
             [
              0.4444444444444444,
              "#bd3786"
             ],
             [
              0.5555555555555556,
              "#d8576b"
             ],
             [
              0.6666666666666666,
              "#ed7953"
             ],
             [
              0.7777777777777778,
              "#fb9f3a"
             ],
             [
              0.8888888888888888,
              "#fdca26"
             ],
             [
              1,
              "#f0f921"
             ]
            ],
            "type": "surface"
           }
          ],
          "table": [
           {
            "cells": {
             "fill": {
              "color": "#EBF0F8"
             },
             "line": {
              "color": "white"
             }
            },
            "header": {
             "fill": {
              "color": "#C8D4E3"
             },
             "line": {
              "color": "white"
             }
            },
            "type": "table"
           }
          ]
         },
         "layout": {
          "annotationdefaults": {
           "arrowcolor": "#2a3f5f",
           "arrowhead": 0,
           "arrowwidth": 1
          },
          "autotypenumbers": "strict",
          "coloraxis": {
           "colorbar": {
            "outlinewidth": 0,
            "ticks": ""
           }
          },
          "colorscale": {
           "diverging": [
            [
             0,
             "#8e0152"
            ],
            [
             0.1,
             "#c51b7d"
            ],
            [
             0.2,
             "#de77ae"
            ],
            [
             0.3,
             "#f1b6da"
            ],
            [
             0.4,
             "#fde0ef"
            ],
            [
             0.5,
             "#f7f7f7"
            ],
            [
             0.6,
             "#e6f5d0"
            ],
            [
             0.7,
             "#b8e186"
            ],
            [
             0.8,
             "#7fbc41"
            ],
            [
             0.9,
             "#4d9221"
            ],
            [
             1,
             "#276419"
            ]
           ],
           "sequential": [
            [
             0,
             "#0d0887"
            ],
            [
             0.1111111111111111,
             "#46039f"
            ],
            [
             0.2222222222222222,
             "#7201a8"
            ],
            [
             0.3333333333333333,
             "#9c179e"
            ],
            [
             0.4444444444444444,
             "#bd3786"
            ],
            [
             0.5555555555555556,
             "#d8576b"
            ],
            [
             0.6666666666666666,
             "#ed7953"
            ],
            [
             0.7777777777777778,
             "#fb9f3a"
            ],
            [
             0.8888888888888888,
             "#fdca26"
            ],
            [
             1,
             "#f0f921"
            ]
           ],
           "sequentialminus": [
            [
             0,
             "#0d0887"
            ],
            [
             0.1111111111111111,
             "#46039f"
            ],
            [
             0.2222222222222222,
             "#7201a8"
            ],
            [
             0.3333333333333333,
             "#9c179e"
            ],
            [
             0.4444444444444444,
             "#bd3786"
            ],
            [
             0.5555555555555556,
             "#d8576b"
            ],
            [
             0.6666666666666666,
             "#ed7953"
            ],
            [
             0.7777777777777778,
             "#fb9f3a"
            ],
            [
             0.8888888888888888,
             "#fdca26"
            ],
            [
             1,
             "#f0f921"
            ]
           ]
          },
          "colorway": [
           "#636efa",
           "#EF553B",
           "#00cc96",
           "#ab63fa",
           "#FFA15A",
           "#19d3f3",
           "#FF6692",
           "#B6E880",
           "#FF97FF",
           "#FECB52"
          ],
          "font": {
           "color": "#2a3f5f"
          },
          "geo": {
           "bgcolor": "white",
           "lakecolor": "white",
           "landcolor": "#E5ECF6",
           "showlakes": true,
           "showland": true,
           "subunitcolor": "white"
          },
          "hoverlabel": {
           "align": "left"
          },
          "hovermode": "closest",
          "mapbox": {
           "style": "light"
          },
          "paper_bgcolor": "white",
          "plot_bgcolor": "#E5ECF6",
          "polar": {
           "angularaxis": {
            "gridcolor": "white",
            "linecolor": "white",
            "ticks": ""
           },
           "bgcolor": "#E5ECF6",
           "radialaxis": {
            "gridcolor": "white",
            "linecolor": "white",
            "ticks": ""
           }
          },
          "scene": {
           "xaxis": {
            "backgroundcolor": "#E5ECF6",
            "gridcolor": "white",
            "gridwidth": 2,
            "linecolor": "white",
            "showbackground": true,
            "ticks": "",
            "zerolinecolor": "white"
           },
           "yaxis": {
            "backgroundcolor": "#E5ECF6",
            "gridcolor": "white",
            "gridwidth": 2,
            "linecolor": "white",
            "showbackground": true,
            "ticks": "",
            "zerolinecolor": "white"
           },
           "zaxis": {
            "backgroundcolor": "#E5ECF6",
            "gridcolor": "white",
            "gridwidth": 2,
            "linecolor": "white",
            "showbackground": true,
            "ticks": "",
            "zerolinecolor": "white"
           }
          },
          "shapedefaults": {
           "line": {
            "color": "#2a3f5f"
           }
          },
          "ternary": {
           "aaxis": {
            "gridcolor": "white",
            "linecolor": "white",
            "ticks": ""
           },
           "baxis": {
            "gridcolor": "white",
            "linecolor": "white",
            "ticks": ""
           },
           "bgcolor": "#E5ECF6",
           "caxis": {
            "gridcolor": "white",
            "linecolor": "white",
            "ticks": ""
           }
          },
          "title": {
           "x": 0.05
          },
          "xaxis": {
           "automargin": true,
           "gridcolor": "white",
           "linecolor": "white",
           "ticks": "",
           "title": {
            "standoff": 15
           },
           "zerolinecolor": "white",
           "zerolinewidth": 2
          },
          "yaxis": {
           "automargin": true,
           "gridcolor": "white",
           "linecolor": "white",
           "ticks": "",
           "title": {
            "standoff": 15
           },
           "zerolinecolor": "white",
           "zerolinewidth": 2
          }
         }
        },
        "title": {
         "text": "L0N774 acts over focus games"
        },
        "xaxis": {
         "anchor": "y",
         "domain": [
          0,
          1
         ],
         "title": {
          "text": "Move"
         }
        },
        "yaxis": {
         "anchor": "x",
         "autorange": "reversed",
         "domain": [
          0,
          1
         ],
         "title": {
          "text": "Game"
         }
        }
       }
      },
      "text/html": [
       "<div>                            <div id=\"c38cca7e-7bfe-4e06-b132-451149204533\" class=\"plotly-graph-div\" style=\"height:525px; width:100%;\"></div>            <script type=\"text/javascript\">                require([\"plotly\"], function(Plotly) {                    window.PLOTLYENV=window.PLOTLYENV || {};                                    if (document.getElementById(\"c38cca7e-7bfe-4e06-b132-451149204533\")) {                    Plotly.newPlot(                        \"c38cca7e-7bfe-4e06-b132-451149204533\",                        [{\"coloraxis\":\"coloraxis\",\"name\":\"0\",\"z\":[[1.593708872795105,0.6243565678596497,1.006805419921875,-0.10039795190095901,-0.08226842433214188,-0.08816737681627274,-0.058807116001844406,0.10928531736135483,1.0790133476257324,0.023351285606622696,0.9251406192779541,0.4256032109260559,0.1278969943523407,-0.017116017639636993,0.2341391146183014,0.13152743875980377,-0.056915704160928726,-0.05942227691411972,0.13164570927619934,-0.13519808650016785,0.05400477722287178,0.28541213274002075,0.047229621559381485,0.7767224907875061,0.7885280847549438,0.8029665350914001,0.5550540685653687,2.1283047199249268,0.7149436473846436,0.012655969709157944,0.8415476679801941,0.19927531480789185,0.054988496005535126,2.322032928466797,1.7961424589157104,0.3406662940979004,1.2983814477920532,0.5570509433746338,1.205643892288208,0.27408039569854736,0.568612277507782,0.13339026272296906,0.1496409922838211,0.13934002816677094,0.2202247679233551,1.2310872077941895,0.1641857773065567,0.2879621684551239,0.06762663275003433,-0.1443832665681839,0.043008897453546524,0.7360333800315857,0.012716521508991718,1.2878985404968262,0.673710286617279,-0.019174933433532715,0.9212900400161743,0.7161563634872437,0.19000400602817535],[1.5079336166381836,-0.018200093880295753,-0.10371845960617065,0.07494044303894043,-0.08584414422512054,0.1524590253829956,1.2180471420288086,0.7672792673110962,2.469906806945801,1.3774889707565308,1.8487443923950195,1.5382393598556519,1.312295913696289,0.990595281124115,1.6182451248168945,1.566812515258789,0.028335876762866974,1.611871361732483,0.9617098569869995,0.20777294039726257,1.5881726741790771,1.0395466089248657,2.63838267326355,1.966992735862732,1.8598065376281738,1.1683132648468018,1.7290929555892944,2.2240607738494873,2.229320764541626,0.46662694215774536,1.5775541067123413,2.34812593460083,0.7723467946052551,1.413743019104004,0.9952957034111023,1.6547807455062866,1.3299049139022827,0.8474052548408508,1.6860792636871338,0.08653004467487335,-0.08486460149288177,0.5538308024406433,0.045242950320243835,0.7451530694961548,1.5265518426895142,0.8319138288497925,0.3075118362903595,0.6423637270927429,1.292056918144226,-0.011534079909324646,0.30236124992370605,1.020707130432129,0.1880890130996704,0.6446732878684998,1.0236365795135498,0.5053209066390991,2.6986982822418213,1.0770992040634155,0.717383086681366],[2.2438769340515137,-0.020591862499713898,0.0010372090619057417,0.041044216603040695,-0.16250178217887878,-0.1290966123342514,0.16931767761707306,0.35382750630378723,1.7033230066299438,1.2276575565338135,0.8541100025177002,1.0565547943115234,0.5346778631210327,0.9619690179824829,1.2348706722259521,0.17979413270950317,-0.15941226482391357,0.013329190202057362,0.20510929822921753,-0.09557276219129562,-0.09613345563411713,-0.11563163995742798,0.16520974040031433,0.8908337354660034,0.22253009676933289,1.4181219339370728,0.20251528918743134,0.9376370310783386,1.0392338037490845,0.5609840750694275,0.13650313019752502,1.1146228313446045,0.010673990473151207,1.6317130327224731,2.025038480758667,1.0546144247055054,1.6089469194412231,1.31820547580719,1.5938924551010132,0.6751406192779541,0.19362643361091614,1.361128330230713,0.6861171126365662,0.7071724534034729,1.8953464031219482,0.5122284889221191,0.4234492778778076,0.2946411073207855,0.35660573840141296,-0.016246801242232323,0.25171250104904175,0.4968996047973633,0.5144755244255066,0.5923091769218445,0.3766092360019684,0.8539544939994812,2.4073965549468994,0.6325619220733643,0.5233321785926819],[0.7547912001609802,-0.1578150987625122,0.5472884774208069,-0.07697757333517075,0.07680639624595642,-0.05058925226330757,0.9395437836647034,0.5940431952476501,1.1845393180847168,0.7999042272567749,1.800446629524231,1.88052499294281,1.5358176231384277,2.6735689640045166,1.8424571752548218,1.420041799545288,1.1730674505233765,0.17285583913326263,1.5382227897644043,0.028788099065423012,2.125986099243164,0.7736918926239014,0.15245220065116882,0.8487840294837952,1.024428367614746,0.7134847044944763,0.9737508296966553,1.5733349323272705,1.591763973236084,1.7192001342773438,2.099086284637451,0.6972195506095886,1.418220043182373,1.6985400915145874,2.121351480484009,1.557848334312439,2.3260672092437744,1.6111494302749634,1.1805630922317505,0.847734272480011,1.5347825288772583,0.45569339394569397,-0.06933694332838058,2.0988352298736572,1.615688681602478,1.8876184225082397,0.13431327044963837,1.1239479780197144,1.4074445962905884,0.40068352222442627,-0.00862790271639824,1.568463683128357,0.6411241888999939,1.9453136920928955,1.213605284690857,1.0300363302230835,1.3126815557479858,0.11399564892053604,0.7316588759422302],[1.593708872795105,0.6243565678596497,0.45000290870666504,-0.15659062564373016,0.003353649750351906,-0.04410902038216591,0.042264897376298904,0.33945924043655396,0.584694504737854,0.3420489728450775,0.48462122678756714,0.5043191909790039,1.4697494506835938,0.5072214007377625,1.0060994625091553,1.0274996757507324,0.5544905066490173,0.0041321516036987305,1.3478139638900757,-0.16997116804122925,0.8448570966720581,0.3137364387512207,0.48189035058021545,0.8531813621520996,1.8997215032577515,1.2629824876785278,0.3628177046775818,1.09871506690979,2.214134931564331,1.0636547803878784,1.2897652387619019,0.8537652492523193,0.6865274906158447,2.2429723739624023,1.0183415412902832,0.7602403163909912,1.187132477760315,0.22553730010986328,1.0143276453018188,0.0652637928724289,1.312556266784668,0.7904796004295349,0.25543516874313354,0.6132605075836182,0.016787437722086906,1.5551306009292603,0.8148266077041626,1.004701018333435,0.8218531012535095,-0.0016602104296907783,0.5888839960098267,0.5067225694656372,1.1826533079147339,1.2856420278549194,1.105793833732605,0.021837253123521805,1.6622307300567627,1.6265873908996582,2.210273504257202],[1.593708872795105,0.021211719140410423,0.9021561145782471,0.3946209251880646,1.0372825860977173,0.3447463810443878,0.9334225654602051,1.0257350206375122,1.3913935422897339,0.38478928804397583,1.4283822774887085,1.5493037700653076,0.6033355593681335,0.43588051199913025,0.4491763114929199,0.6721081733703613,0.6159593462944031,0.8394834995269775,0.23903816938400269,-0.15057975053787231,0.37991219758987427,-0.1116369217634201,-0.057762518525123596,-0.012730811722576618,0.07084663212299347,0.17448025941848755,0.153577983379364,-0.047969020903110504,0.045579005032777786,0.1503755897283554,0.8334157466888428,-0.16371731460094452,-0.053149838000535965,0.47217273712158203,1.1870982646942139,1.1260215044021606,0.8397822380065918,0.33838212490081787,0.023395713418722153,1.2917606830596924,-0.11855415254831314,0.3702896237373352,0.2201109379529953,0.38702940940856934,0.392286479473114,1.966154932975769,0.1759147197008133,0.09002602845430374,0.9004421830177307,-0.049804382026195526,0.01205373089760542,0.8795968294143677,0.19647645950317383,1.5450931787490845,0.5195649862289429,0.11516676843166351,1.7673430442810059,0.634739100933075,1.5605719089508057],[2.2438769340515137,0.5713174343109131,1.6830884218215942,1.134936809539795,0.5501846075057983,1.0159541368484497,0.5418123006820679,0.12771247327327728,1.2094056606292725,1.426856279373169,0.8374799489974976,1.8454054594039917,1.8877942562103271,0.6577649712562561,1.0156275033950806,1.134864330291748,0.7787287831306458,1.3052455186843872,1.5302085876464844,0.4116300642490387,1.3871212005615234,0.9493119120597839,1.2180753946304321,1.071548342704773,0.8217636942863464,1.614647388458252,0.6846303343772888,1.0834968090057373,1.1800462007522583,0.9277067184448242,2.0810391902923584,0.5615207552909851,0.7552432417869568,2.2440459728240967,1.967961072921753,1.6562103033065796,1.5228193998336792,0.4482595920562744,1.7568655014038086,0.5309346914291382,1.3614548444747925,0.8867844939231873,1.1894495487213135,1.234389305114746,1.63824462890625,1.2225489616394043,0.24254807829856873,1.354730486869812,0.8456865549087524,1.6455832719802856,0.8340892195701599,1.1757627725601196,0.6448667049407959,1.0665242671966553,-0.08261275291442871,0.11974970996379852,0.9723061323165894,1.4981515407562256,0.48285529017448425],[1.5079336166381836,-0.018200093880295753,0.45949774980545044,0.3056016266345978,-0.11570478230714798,0.19238685071468353,1.3208569288253784,0.39840322732925415,2.522932529449463,1.8264844417572021,1.8200268745422363,1.1884872913360596,0.7203494906425476,2.0554637908935547,1.4503484964370728,1.289942741394043,1.9702422618865967,0.2723495364189148,0.7483348250389099,-0.1699700802564621,1.3036305904388428,1.018950343132019,0.4815170466899872,0.5527774095535278,1.6168878078460693,1.7438411712646484,0.26200157403945923,1.8283907175064087,0.7303441762924194,1.2589102983474731,1.6761395931243896,1.622856616973877,0.20257052779197693,2.5125479698181152,0.8049291968345642,2.2067337036132812,0.5645630955696106,0.036092039197683334,1.5109959840774536,0.5011032223701477,0.989153265953064,0.2545294165611267,1.0078285932540894,1.0409387350082397,0.2965315580368042,0.17975910007953644,1.0696079730987549,0.951252281665802,0.3403109610080719,-0.04914754256606102,0.03229738026857376,0.3702981173992157,0.6695395708084106,1.1609419584274292,1.6070716381072998,0.626934826374054,1.2100162506103516,0.7304718494415283,-0.003953412175178528],[0.7547912001609802,0.3320668637752533,0.12681454420089722,0.2600349485874176,-0.13187268376350403,-0.16456027328968048,-0.16984973847866058,-0.050435032695531845,-0.07492079585790634,-0.13884642720222473,0.0005398048087954521,0.6763160824775696,0.6536804437637329,0.6132532954216003,0.5573646426200867,1.3403096199035645,0.826361894607544,-0.16731630265712738,0.8119481205940247,0.1320732831954956,0.537969172000885,-0.1403265744447708,1.084031581878662,0.11638285964727402,0.490991473197937,-0.07289709150791168,0.6649823784828186,0.8114398717880249,1.0641406774520874,1.2411924600601196,0.3455333709716797,-0.11576364934444427,0.32490503787994385,0.8367566466331482,1.4830456972122192,0.9499543309211731,1.0923526287078857,1.0531184673309326,0.676716685295105,0.04052410274744034,0.34603041410446167,1.747591257095337,1.0545614957809448,0.568774938583374,0.9663293957710266,1.0280555486679077,1.2448596954345703,1.4794870615005493,1.15660560131073,0.9984291195869446,-0.04766957461833954,0.275995135307312,0.739126443862915,0.8284134268760681,1.5139468908309937,1.413135290145874,0.8752315640449524,0.6042583584785461,0.12686000764369965],[1.593708872795105,0.021211719140410423,0.9021561145782471,9.828049223870039e-05,0.2921115756034851,0.6019270420074463,0.6337369680404663,1.2102559804916382,0.7905791997909546,1.3082014322280884,1.3017817735671997,1.8261041641235352,0.9300777912139893,0.8789404034614563,1.2515169382095337,1.0402740240097046,1.3174628019332886,0.30404552817344666,0.4711800813674927,0.5473203659057617,1.144018530845642,1.1858576536178589,1.7415648698806763,2.1507139205932617,1.401252269744873,0.42624619603157043,0.8280394673347473,1.9213271141052246,0.8892041444778442,0.8077223896980286,1.5655323266983032,0.6948293447494507,1.2689059972763062,2.038870334625244,0.9958933591842651,1.704824447631836,0.990324079990387,1.5262666940689087,1.498159408569336,-0.1099913939833641,0.23862527310848236,1.0413119792938232,0.6862691640853882,1.4233622550964355,0.5312144756317139,0.6210606694221497,-0.0032998118549585342,-0.003417863277718425,1.0403739213943481,0.09914643317461014,0.41021865606307983,-0.10298042744398117,0.3057570159435272,1.6179108619689941,1.6540720462799072,1.5741037130355835,1.249257206916809,0.46197205781936646,0.11570245027542114],[0.7547912001609802,0.14992228150367737,0.7205464243888855,-0.15786311030387878,-0.16712655127048492,-0.14832943677902222,-0.15666653215885162,-0.04646968096494675,1.014899492263794,0.4401104748249054,0.11368528008460999,0.19575585424900055,1.435591220855713,0.4198463261127472,1.1437888145446777,0.589777410030365,-0.018361445516347885,-0.05140888690948486,0.5610340237617493,-0.1640767902135849,1.0786818265914917,0.7695862650871277,1.429584264755249,1.1594161987304688,1.3287478685379028,0.9498456716537476,1.5574406385421753,1.9659372568130493,1.675494909286499,1.5248291492462158,1.572400450706482,0.5784163475036621,1.2896794080734253,2.071852684020996,1.0580790042877197,1.180761456489563,1.1356927156448364,-0.11040327697992325,0.5015740394592285,0.8711315393447876,0.8983722925186157,0.2394249439239502,0.4187511205673218,1.1358438730239868,2.101616621017456,0.7864241003990173,0.4564600884914398,0.017750337719917297,0.21914950013160706,0.8261451721191406,0.35240864753723145,1.345691204071045,0.12383099645376205,1.817247748374939,0.648688554763794,0.48158058524131775,0.8564397692680359,0.38809606432914734,1.1086461544036865],[1.5079336166381836,0.3821105659008026,0.4372352361679077,-0.16995389759540558,-0.12532585859298706,-0.021592935547232628,-0.09694591164588928,-0.16178663074970245,0.028497744351625443,1.0766557455062866,-0.06428241729736328,0.5339418053627014,-0.11135134845972061,-0.14485593140125275,-0.0770566537976265,-0.04620624706149101,-0.04008616507053375,-0.063301682472229,0.018325675278902054,-0.13031309843063354,-0.16664552688598633,0.020915677770972252,0.286978155374527,0.9247633814811707,0.709259569644928,0.7598919868469238,0.8839901089668274,1.391229510307312,0.3849545121192932,1.1593537330627441,1.1139177083969116,0.9394134283065796,0.2825864851474762,1.6057714223861694,0.6088981032371521,1.175439715385437,1.401865005493164,0.16094571352005005,0.054152775555849075,1.217948079109192,0.7387195229530334,0.7792612314224243,0.07289142906665802,1.1631616353988647,0.886002242565155,0.0684131532907486,0.06969717890024185,-0.13203272223472595,1.019096851348877,0.9540606737136841,0.696568489074707,1.1014268398284912,0.31512075662612915,0.4486595392227173,1.1535462141036987,0.2870851159095764,1.2343800067901611,0.8772105574607849,0.12692198157310486],[2.2438769340515137,0.5713174343109131,0.497821182012558,0.5282331705093384,0.6386273503303528,0.8401470184326172,1.3335574865341187,0.04201927036046982,0.2143530249595642,0.4097100496292114,0.4491007626056671,1.8706316947937012,0.46394065022468567,1.0267260074615479,0.7869659066200256,0.9237694144248962,0.7255932688713074,0.4196837544441223,0.45000338554382324,-0.16602647304534912,0.6639862060546875,0.04854368790984154,0.13674317300319672,0.2466195970773697,0.40948617458343506,1.1721160411834717,1.4377946853637695,0.7256653308868408,0.6266626715660095,0.767888069152832,0.7939693331718445,1.1568963527679443,0.4618973433971405,2.1309571266174316,1.2625246047973633,1.5651956796646118,1.2795689105987549,0.5091975331306458,0.17083825170993805,0.23747803270816803,1.1914535760879517,0.8924149870872498,1.1088327169418335,1.1444586515426636,-0.017097530886530876,2.027284860610962,0.25687411427497864,0.8092615008354187,0.7507640719413757,0.8111277222633362,0.2134958952665329,0.792715311050415,0.718879222869873,1.2957885265350342,0.6148179769515991,0.647465169429779,1.424713134765625,0.658450722694397,0.9326351284980774],[2.2438769340515137,-0.020591862499713898,0.12524087727069855,0.049956366419792175,-0.16398102045059204,-0.05382069945335388,-0.157593235373497,0.2591083347797394,0.1359943300485611,0.5986721515655518,0.6653639674186707,0.6317315697669983,0.9023215770721436,0.040228888392448425,0.7300970554351807,0.05288566276431084,0.9717051982879639,-0.08023087680339813,0.7583248615264893,0.0815499871969223,0.16245780885219574,-0.07804854214191437,0.06584572792053223,0.20745395123958588,1.4492473602294922,0.7787547707557678,0.2971075773239136,0.6858249306678772,1.1583367586135864,0.20624497532844543,0.6734962463378906,-0.1691524237394333,0.5254555344581604,1.384569525718689,0.707422137260437,0.2393166720867157,1.5944846868515015,0.7914788722991943,1.5522935390472412,1.082485556602478,1.157016396522522,0.9542003870010376,1.2977352142333984,1.6233298778533936,1.2698190212249756,0.08423589915037155,-0.015230118297040462,0.5782510042190552,-0.0936071053147316,0.03089604713022709,1.0103020668029785,-0.067642442882061,0.2602714002132416,1.7149447202682495,1.064577579498291,1.4856469631195068,1.1678768396377563,0.6719560623168945,0.6044924259185791],[1.5079336166381836,0.47857919335365295,1.586862564086914,1.0914002656936646,0.22678837180137634,0.0469404011964798,0.4204089343547821,1.4962985515594482,0.7406966686248779,0.2838413119316101,1.5685051679611206,0.6029264330863953,0.91698157787323,1.2857811450958252,1.4966801404953003,0.5680151581764221,0.47249722480773926,1.0583828687667847,0.876345694065094,-0.16996976733207703,1.0141164064407349,0.12304595857858658,0.8493316769599915,0.7575170993804932,1.6071522235870361,0.551361083984375,0.8982259035110474,1.5935559272766113,2.3855292797088623,1.0400629043579102,1.4927245378494263,2.044560670852661,1.7210564613342285,2.5813050270080566,1.7066158056259155,1.3858600854873657,1.2616260051727295,1.345581293106079,0.452776163816452,0.20188219845294952,0.5425334572792053,0.8933330178260803,0.2913854420185089,0.6897832155227661,2.040868043899536,0.9734951853752136,0.07029811292886734,1.1408649682998657,1.0850402116775513,0.11928191035985947,-0.1054610088467598,0.27133727073669434,1.0295854806900024,1.6821322441101074,1.336333990097046,0.4998694956302643,1.3780020475387573,0.15081755816936493,0.13665495812892914],[1.5079336166381836,-0.018200093880295753,0.45949774980545044,1.1708694696426392,0.2280958592891693,0.1939641535282135,0.6841772794723511,0.36662039160728455,1.9051932096481323,0.15975193679332733,1.283073902130127,0.7497342824935913,2.1015539169311523,1.9638131856918335,-0.07420484721660614,0.18609316647052765,-0.11510587483644485,0.2653217613697052,0.0945923700928688,-0.165638267993927,0.5341483950614929,0.052687983959913254,1.7535074949264526,0.5133077502250671,0.6522073149681091,1.1633425951004028,0.9644414186477661,0.7984762787818909,1.54161536693573,1.2598848342895508,0.8565798997879028,0.30256327986717224,0.21950477361679077,1.9511624574661255,1.7710812091827393,0.7890195846557617,2.051584243774414,0.08944924920797348,0.1303127557039261,1.4085613489151,1.137434720993042,0.21360699832439423,-0.09736058115959167,0.6048703193664551,0.8705617189407349,1.94632887840271,0.21057666838169098,0.4344083368778229,0.6688994765281677,-0.014383353292942047,0.4018750786781311,-0.13348090648651123,-0.133445143699646,1.372856855392456,0.7814294695854187,1.197052240371704,2.297725200653076,0.4492534101009369,-0.10886980593204498],[1.5079336166381836,0.3821105659008026,0.5618498921394348,0.10205507278442383,0.029517322778701782,0.24795858561992645,0.24025367200374603,0.19670133292675018,0.6388140916824341,0.14324533939361572,-0.07172554731369019,-0.05492128059267998,0.12106205523014069,0.4581353962421417,0.38372713327407837,0.20671522617340088,0.33617374300956726,-0.16452237963676453,0.17998719215393066,-0.165593221783638,-0.10643196105957031,-0.14906388521194458,0.5345532298088074,0.3467135429382324,0.692876398563385,0.13534143567085266,0.2389628291130066,1.1993324756622314,0.9984104633331299,-0.149662047624588,0.6917473673820496,0.026296600699424744,-0.05014730617403984,2.4312710762023926,0.9993627071380615,0.736518383026123,1.5995469093322754,1.245348334312439,0.3383128345012665,-0.034139543771743774,0.5722627639770508,0.877044677734375,0.5221925377845764,0.35340210795402527,0.916404128074646,1.317336082458496,0.29387059807777405,0.4107213318347931,0.7273610830307007,0.4818034768104553,0.039590075612068176,1.362927794456482,0.4872923493385315,1.1232612133026123,1.2997177839279175,0.3821236193180084,0.6197245717048645,0.49559471011161804,0.48633846640586853],[1.5079336166381836,0.3821105659008026,0.4372352361679077,0.06976688653230667,0.16605214774608612,0.03192176669836044,1.0735419988632202,0.14569257199764252,1.735732078552246,1.216296911239624,1.451059103012085,1.7453500032424927,1.5112794637680054,1.122889518737793,0.6754270792007446,0.4286533296108246,0.2627162039279938,0.7191630005836487,1.1786508560180664,0.014937072061002254,0.7307233810424805,0.4513145983219147,1.7509757280349731,2.415027141571045,1.3754736185073853,1.0738719701766968,1.9110080003738403,1.478078842163086,1.7511523962020874,0.43684858083724976,1.4296106100082397,1.4335299730300903,0.33449122309684753,1.4469939470291138,1.8245010375976562,1.1999002695083618,1.3382151126861572,0.9254375696182251,1.4810391664505005,2.25839900970459,1.2843482494354248,0.8924610614776611,2.028920888900757,0.4136245846748352,1.0152828693389893,0.7120485901832581,1.533933401107788,0.48009082674980164,1.7259761095046997,1.1450419425964355,0.616661787033081,1.2272197008132935,0.5703282356262207,2.087111473083496,0.2661025822162628,0.8065724968910217,1.6626365184783936,1.2419099807739258,0.5883820056915283],[1.593708872795105,0.4240764379501343,-0.001311933621764183,0.39513829350471497,0.12570621073246002,0.06578563153743744,0.34132277965545654,0.3086502254009247,0.7933034896850586,0.21719734370708466,0.8148775100708008,0.9734910726547241,0.4973141551017761,1.490950345993042,0.7604573965072632,0.8874889612197876,1.148500919342041,-0.005572563968598843,0.5848373174667358,0.2722707688808441,0.04752448946237564,0.7864757180213928,0.19187390804290771,0.25762510299682617,0.6836201548576355,0.9336840510368347,-0.06109634414315224,0.3332168161869049,0.6712139844894409,0.8530715107917786,0.7277019023895264,1.2080682516098022,0.011752522550523281,0.9477788805961609,1.4886069297790527,1.6387971639633179,1.0469082593917847,0.5479053854942322,0.23589256405830383,1.045746922492981,0.5379437208175659,1.060646891593933,-0.11549557745456696,0.8245156407356262,1.4664523601531982,0.6679198741912842,1.5068247318267822,0.2600090503692627,0.7346469759941101,0.8076263070106506,0.6221843957901001,0.7387709617614746,0.4724683165550232,2.3143999576568604,2.1339433193206787,0.4296205937862396,1.9422861337661743,0.32229939103126526,0.5204336047172546],[1.5079336166381836,-0.018200093880295753,0.043810103088617325,-0.07367643713951111,0.5889573097229004,0.2640857696533203,1.0110005140304565,1.1912442445755005,1.063122034072876,1.0714051723480225,1.8495705127716064,1.2911770343780518,1.7392449378967285,0.5777460932731628,1.5252374410629272,1.0041602849960327,1.6597591638565063,0.187666118144989,0.6377635598182678,0.006847446318715811,0.31549379229545593,1.1059757471084595,0.7766010761260986,0.760105311870575,1.5490550994873047,2.0251996517181396,0.9897123575210571,1.7409775257110596,1.91951322555542,1.7147241830825806,2.4711012840270996,0.8327300548553467,0.08697281777858734,0.7945653796195984,2.3621561527252197,1.2612768411636353,0.9114179611206055,0.47293004393577576,1.745376706123352,0.7169037461280823,-0.07328230142593384,0.6659030318260193,1.0287227630615234,0.3856184482574463,0.8409605622291565,1.139222264289856,0.27477067708969116,0.22764742374420166,0.37047556042671204,1.0871715545654297,-0.03229555860161781,0.7723382115364075,0.6093394160270691,2.1791067123413086,1.7489687204360962,0.8951347470283508,0.85726398229599,0.21693415939807892,1.0621514320373535],[0.7547912001609802,-0.1578150987625122,0.21396559476852417,0.3880453109741211,-0.08178561180830002,0.0773913785815239,0.5854202508926392,0.851812481880188,0.7597005367279053,0.5821553468704224,0.7982501983642578,0.4347569942474365,0.5417430996894836,1.0254477262496948,0.3240686357021332,0.2606135904788971,-0.06567012518644333,0.21458376944065094,0.5893183350563049,-0.16964085400104523,-0.01944752410054207,0.9972688555717468,1.281799554824829,1.0604758262634277,0.7746841311454773,0.9096603989601135,1.4749375581741333,1.8742645978927612,1.0382945537567139,0.8147878050804138,1.239137887954712,0.5588923692703247,-0.16901236772537231,0.7411892414093018,1.0437895059585571,0.16299483180046082,1.6978998184204102,0.6819654107093811,0.7722594738006592,0.8891466856002808,0.2779538333415985,1.650190830230713,1.1934144496917725,0.6112242341041565,0.5722441077232361,0.6232600212097168,0.8408822417259216,0.7357856035232544,0.6389394402503967,0.36326369643211365,-0.0020363526418805122,0.011528410948812962,0.4556487500667572,0.3976960778236389,0.7550063729286194,1.186094880104065,1.7211005687713623,0.8370569348335266,0.29900068044662476],[2.2438769340515137,0.5713174343109131,0.7782121300697327,0.7886090278625488,0.1778831034898758,0.16728925704956055,0.36822518706321716,0.4017592966556549,0.9936108589172363,0.6161879897117615,1.1244029998779297,0.4903860092163086,0.7964900135993958,1.2376042604446411,0.5010491013526917,0.3899604380130768,0.9894962906837463,0.16337788105010986,1.3906233310699463,-0.08923956006765366,0.8521301746368408,0.8582556843757629,0.3348122239112854,0.181513711810112,0.3713923990726471,0.6502248048782349,1.2505847215652466,1.3713880777359009,1.1160110235214233,0.9248144030570984,1.3973422050476074,0.5176125764846802,1.0542476177215576,1.9917962551116943,1.4816066026687622,0.9026036262512207,0.3663422763347626,-0.14953060448169708,0.8104107975959778,1.1091336011886597,0.27158039808273315,1.0184974670410156,0.31898897886276245,0.6633859872817993,0.8559871912002563,1.4103087186813354,0.9761337041854858,0.19077107310295105,0.8521425127983093,-0.16947141289710999,0.693361759185791,0.08509547263383865,0.4970506727695465,2.056504487991333,0.48295724391937256,0.1458212286233902,1.3185838460922241,1.0221041440963745,0.5171448588371277],[1.593708872795105,0.6243565678596497,1.3243907690048218,0.27676475048065186,0.04240790382027626,-0.08098618686199188,0.9808545112609863,0.7676584124565125,1.7371429204940796,0.4811818599700928,1.3307198286056519,0.9592170119285583,0.36941415071487427,1.2765634059906006,1.2626286745071411,0.13051047921180725,0.06551852077245712,-0.04233467951416969,-0.0888386219739914,-0.1379561722278595,0.5811804533004761,0.030809933319687843,0.12195312976837158,-0.03204653412103653,0.7703348994255066,0.7437286972999573,0.8894180655479431,1.4295377731323242,1.3005859851837158,0.2512860894203186,1.6433783769607544,0.8424731492996216,1.5003321170806885,1.5762075185775757,1.2620545625686646,2.0909602642059326,1.6171401739120483,0.5944468975067139,1.2230262756347656,0.7757189869880676,0.21685393154621124,0.9800934791564941,0.8475245833396912,1.5338274240493774,0.08683416992425919,1.4262481927871704,0.3989662528038025,1.8056950569152832,1.3099697828292847,0.19649073481559753,0.5880457758903503,0.6534016728401184,0.9088939428329468,0.7217559218406677,1.5804277658462524,1.6154247522354126,1.556599497795105,0.5685068964958191,1.429406762123108],[2.2438769340515137,0.39157694578170776,1.1375705003738403,0.7895411252975464,0.2028798758983612,0.0834784209728241,0.4739319980144501,0.15044206380844116,1.5354806184768677,0.7065790891647339,0.6088600158691406,1.1096441745758057,0.22173349559307098,0.890064001083374,0.20096524059772491,0.2636706233024597,-0.10894917696714401,0.02377311885356903,0.1655467450618744,-0.16556648910045624,0.018925534561276436,0.00999562069773674,0.2940417230129242,1.2560714483261108,0.1943177729845047,-0.08272838592529297,0.21571019291877747,0.27181482315063477,-0.1192752867937088,-0.00501122185960412,0.22457356750965118,0.5057935118675232,0.20853762328624725,0.6720624566078186,0.16480262577533722,0.21930870413780212,0.9561532735824585,0.3506489098072052,0.5926675796508789,0.7348591685295105,0.6457862854003906,0.28171399235725403,0.8430725932121277,1.6771432161331177,1.465336799621582,1.1469615697860718,0.1781613528728485,0.16131211817264557,1.4114357233047485,1.1100190877914429,0.30628663301467896,0.4594182074069977,0.39913487434387207,1.6661983728408813,1.0534143447875977,0.32381507754325867,0.6914492845535278,0.7562358379364014,0.988332211971283],[1.5079336166381836,0.3821105659008026,0.4372352361679077,0.06976688653230667,-0.1692144274711609,-0.16993848979473114,0.12333761900663376,-0.12709912657737732,0.8056126236915588,-0.11477449536323547,0.09867027401924133,0.621910810470581,0.6564827561378479,0.633653998374939,-0.053769003599882126,0.14542250335216522,0.0728909894824028,0.6780580282211304,1.217475414276123,-0.0857512503862381,-0.16323256492614746,0.08581473678350449,0.6746968030929565,0.36196866631507874,0.8679857850074768,0.9452130794525146,0.9548208117485046,0.8316359519958496,0.5205162167549133,0.3732517659664154,1.5106110572814941,0.8607884049415588,0.9930791258811951,1.2472213506698608,1.9277911186218262,0.3743705451488495,2.2247748374938965,0.3867565095424652,1.5597387552261353,0.7709789872169495,0.04627087339758873,0.34882107377052307,0.0271452683955431,0.8172075748443604,0.5905501246452332,0.4530354142189026,0.17532879114151,1.1593222618103027,0.7656187415122986,0.9008581042289734,0.4894264042377472,1.9002214670181274,0.4604228436946869,1.6266577243804932,0.8740413784980774,0.7120516896247864,1.07719087600708,0.6216275691986084,0.5302438735961914],[1.593708872795105,0.4240764379501343,-0.001311933621764183,0.39513829350471497,0.22854478657245636,0.09040933847427368,0.14009572565555573,1.0184340476989746,0.9544592499732971,0.33816683292388916,0.7623946070671082,0.686750054359436,0.382596880197525,0.7843062281608582,0.23824955523014069,-0.11876560747623444,-0.16985106468200684,-0.10056745260953903,0.4232875406742096,-0.11154372245073318,-0.044197581708431244,0.09300564229488373,-0.06570521742105484,0.11857520788908005,0.4262404143810272,0.040619976818561554,0.14475369453430176,0.3355761170387268,0.3289807140827179,0.6761407256126404,1.270398497581482,-0.08012957125902176,0.3730940520763397,0.9410333633422852,0.3480818569660187,0.7204964756965637,0.5151855945587158,0.25733792781829834,0.6957736015319824,1.0813944339752197,-0.12770108878612518,0.4463617205619812,-0.023889431729912758,1.5296353101730347,1.2145473957061768,0.7641105055809021,0.34046274423599243,1.0195930004119873,0.7385931611061096,0.8917544484138489,-0.12265938520431519,-0.07115373760461807,1.2613686323165894,0.6212486624717712,0.7434833645820618,0.0705304741859436,1.167951226234436,2.065558910369873,1.6578747034072876],[0.7547912001609802,0.3320668637752533,0.4196917414665222,0.3788435757160187,0.2774547338485718,0.042935408651828766,0.4771200716495514,0.4309329390525818,0.7572906017303467,0.6491878032684326,1.0287851095199585,0.24352677166461945,0.08260901272296906,0.45108339190483093,-0.0354837030172348,-0.05711200833320618,-0.1052107885479927,-0.16257905960083008,0.21222099661827087,-0.1495615690946579,0.00817224383354187,-0.13638918101787567,0.44307172298431396,0.33866697549819946,-0.11238905042409897,0.3828063905239105,1.446796178817749,-0.12763777375221252,1.1791976690292358,0.5038268566131592,1.094667673110962,1.0798152685165405,0.24432146549224854,1.8443433046340942,0.5425888299942017,1.095741868019104,2.0859148502349854,0.9356420040130615,0.7466236352920532,0.17222054302692413,0.09095767885446548,-0.060839295387268066,0.21086035668849945,0.7688155174255371,0.25583842396736145,0.8109803199768066,0.6576820015907288,0.680246889591217,0.9787268042564392,0.38214272260665894,0.9914575219154358,0.5310279130935669,0.02164538763463497,2.203566551208496,0.5685339570045471,0.9960017800331116,1.6490198373794556,0.24981540441513062,0.2105964869260788],[0.7547912001609802,-0.1578150987625122,-0.06631112843751907,-0.11755625903606415,-0.00014034556807018816,0.4887954294681549,0.48319247364997864,-0.05388098582625389,0.4523738920688629,0.5892301797866821,-0.06389854848384857,0.48035943508148193,0.40576499700546265,0.0633237436413765,-0.0799480676651001,0.7775686979293823,1.3738129138946533,0.4266382157802582,0.12556949257850647,-0.1490086317062378,0.009399517439305782,0.8157098889350891,0.3865537941455841,0.554376482963562,0.6183369755744934,0.8705334067344666,0.22416551411151886,1.8963607549667358,1.6933621168136597,0.9929308295249939,1.8191238641738892,1.0372118949890137,0.643250048160553,0.9557335376739502,0.6108473539352417,1.4473450183868408,1.1157721281051636,0.8185415267944336,1.1318855285644531,-0.08854731917381287,0.11967721581459045,0.37703177332878113,1.6124910116195679,1.3033303022384644,2.1500937938690186,0.695798933506012,0.35953617095947266,0.2766430079936981,0.7106326222419739,0.18102970719337463,0.05605584383010864,0.8856614232063293,0.3074999749660492,0.7958083152770996,0.7072685360908508,0.6386833190917969,2.1603033542633057,1.0978387594223022,0.8106054067611694],[1.5079336166381836,0.3821105659008026,0.8778885006904602,-0.1212388351559639,-0.14403386414051056,-0.16828414797782898,0.09792515635490417,0.006230198312550783,0.06417637318372726,-0.16250355541706085,0.3668087124824524,0.2004760205745697,-0.06630197912454605,0.4626828730106354,0.2722940444946289,0.11836421489715576,0.03972933068871498,0.4150066375732422,0.8304250836372375,-0.01234618853777647,0.6141477823257446,1.105136513710022,0.513237476348877,0.7516661286354065,0.6474600434303284,0.6116486191749573,1.5944876670837402,1.239951729774475,1.7470800876617432,0.14582394063472748,1.0851881504058838,2.1151771545410156,1.2615597248077393,1.744053602218628,1.3886592388153076,1.4609318971633911,1.6813373565673828,1.2385913133621216,1.1490521430969238,1.0119129419326782,0.8425948619842529,1.3739887475967407,0.8994725346565247,0.4104655385017395,1.231003761291504,2.238879919052124,0.32073408365249634,1.5820484161376953,0.9157029986381531,-0.008316796272993088,0.5328368544578552,0.28120654821395874,1.2522609233856201,1.9087105989456177,1.8579797744750977,1.698714256286621,2.4005682468414307,-0.16591580212116241,0.8714627623558044],[0.7547912001609802,0.14992228150367737,0.22419613599777222,-0.16993634402751923,-0.08119390904903412,0.125569149851799,0.208632692694664,0.13733051717281342,0.5645182132720947,-0.16952276229858398,-0.08196388930082321,-0.13346967101097107,0.20779721438884735,0.5260151624679565,0.7102513313293457,0.5694684386253357,0.1884613335132599,-0.0957624539732933,0.8133782744407654,-0.15922671556472778,0.20399099588394165,0.7810853123664856,0.12902027368545532,0.14338649809360504,0.720753014087677,0.13625910878181458,0.15671642124652863,1.1282477378845215,0.7417712807655334,0.37972894310951233,0.33532455563545227,0.8271461725234985,0.7716313600540161,1.2218955755233765,1.2195090055465698,0.9542484879493713,0.7861597537994385,0.07721385359764099,0.329867959022522,0.23035062849521637,-0.16111716628074646,0.19155777990818024,0.6421968936920166,0.19756093621253967,0.8251113891601562,0.902439534664154,0.043491486459970474,0.2513810992240906,0.7679303288459778,0.1273179054260254,1.0552476644515991,1.0581881999969482,0.009810705669224262,1.1451733112335205,0.12604278326034546,1.013816475868225,0.9917294979095459,1.4904425144195557,0.4104498028755188],[0.7547912001609802,0.14992228150367737,1.1491973400115967,0.37697073817253113,0.3281857967376709,0.6463979482650757,1.8001221418380737,1.1813664436340332,1.5567611455917358,1.3634670972824097,0.7097492218017578,0.6250097751617432,0.3581523299217224,0.9426649808883667,0.6830955743789673,0.8272942304611206,-0.16496534645557404,0.061840616166591644,0.5677539110183716,-0.01513567566871643,0.7445992231369019,0.9035131931304932,1.3795264959335327,1.5275568962097168,1.1563656330108643,0.7295050621032715,1.261884331703186,1.672825813293457,1.4265649318695068,0.9866895079612732,0.9858388304710388,0.9901044964790344,0.9711014032363892,2.320836305618286,1.9302022457122803,1.0878170728683472,2.085319757461548,1.7091546058654785,0.7197760343551636,0.6605536341667175,-0.014919847249984741,0.8893486857414246,0.5184654593467712,0.995263934135437,1.6716413497924805,0.8042200207710266,1.8914562463760376,0.5477408766746521,0.5480632781982422,0.9714463949203491,1.6521937847137451,0.11916191130876541,0.2331932634115219,1.1593868732452393,0.8249712586402893,0.45992642641067505,1.3005908727645874,0.5830439925193787,0.411867618560791],[2.2438769340515137,0.39157694578170776,1.1083163022994995,0.10637523978948593,-0.11693345755338669,-0.09515822678804398,-0.13531160354614258,0.7420939207077026,1.3148165941238403,-0.05676521733403206,0.5114559531211853,0.21150632202625275,1.4925216436386108,0.7516191005706787,0.4524591565132141,1.3634319305419922,0.9101482629776001,0.1685345470905304,0.18242792785167694,-0.15831518173217773,0.02368181012570858,0.4728475511074066,1.3362045288085938,1.2159929275512695,0.43730971217155457,1.3140130043029785,1.3754558563232422,1.3221404552459717,0.1226496696472168,0.29256001114845276,1.8558717966079712,1.1604043245315552,-0.15432529151439667,1.423188328742981,0.6559210419654846,0.6255244612693787,0.8586616516113281,0.13593220710754395,0.35538941621780396,1.4594149589538574,1.301418662071228,0.6016842126846313,-0.06547930836677551,0.12540023028850555,0.7028247117996216,1.5766736268997192,0.6030676960945129,0.7557889223098755,0.10104866325855255,0.31003305315971375,0.08710089325904846,1.5795021057128906,0.4647553563117981,0.6865294575691223,0.5711771845817566,1.1851831674575806,1.100011944770813,1.2224936485290527,0.4356313943862915],[1.593708872795105,0.6243565678596497,1.3243907690048218,0.27676475048065186,0.04240790382027626,-0.15460339188575745,-0.13741931319236755,0.5115563869476318,1.116984248161316,-0.05471181496977806,0.19241274893283844,0.07888185977935791,1.1681610345840454,1.4327386617660522,1.627913475036621,1.199697732925415,0.7371695041656494,0.6357721090316772,1.4638375043869019,-0.14086732268333435,0.9696670770645142,0.471829354763031,1.2223200798034668,0.9901044964790344,0.6508636474609375,1.1204469203948975,1.1492809057235718,1.848262906074524,1.3337169885635376,0.6779339909553528,1.240981936454773,1.5166349411010742,0.26258888840675354,1.1390219926834106,0.4052548408508301,0.5770919919013977,0.06691477447748184,-0.1340227723121643,1.0519979000091553,1.150490403175354,0.43079015612602234,1.424646019935608,0.04215000569820404,0.64667147397995,1.0417860746383667,1.4008285999298096,1.3583937883377075,0.22558782994747162,1.2165709733963013,0.614621639251709,-0.00035816000308841467,1.1019477844238281,1.0841941833496094,1.6622660160064697,0.8168391585350037,0.25329598784446716,0.41239988803863525,0.9086687564849854,0.2116774171590805],[2.2438769340515137,0.5713174343109131,1.8098188638687134,1.30683434009552,0.8572924733161926,0.7838281393051147,1.3527251482009888,1.403031587600708,2.116640329360962,1.3615734577178955,0.20138147473335266,0.43947339057922363,0.5304477214813232,1.192306637763977,1.092483639717102,-0.035088472068309784,-0.006311057601124048,0.39783456921577454,0.8159418106079102,0.008965501561760902,0.6056388020515442,0.42546403408050537,1.5451894998550415,0.8757480978965759,1.1933903694152832,0.1559445559978485,1.2074761390686035,-0.025758063420653343,0.9125930666923523,1.5092402696609497,1.938094139099121,1.0254600048065186,0.7523183822631836,1.5532302856445312,0.8080995678901672,1.3040281534194946,1.1110471487045288,0.584649920463562,-0.14800341427326202,1.0942832231521606,0.7874984741210938,1.2188432216644287,-0.09436382353305817,0.33859875798225403,0.6680116057395935,0.057918548583984375,0.875199556350708,1.0936856269836426,1.4320160150527954,0.2064075618982315,0.41529381275177,1.307887077331543,0.18691761791706085,1.2285990715026855,0.31643474102020264,0.3984403908252716,0.6847807168960571,0.6684526801109314,0.5534707307815552],[1.593708872795105,0.021211719140410423,0.9021561145782471,0.3946209251880646,0.48215895891189575,0.5842577219009399,0.291198194026947,1.559710144996643,1.2961255311965942,0.774861216545105,1.681357979774475,0.6497523188591003,1.0793168544769287,0.8832167387008667,1.1581617593765259,0.8337771892547607,0.9286956191062927,-0.05355554446578026,0.21837599575519562,0.0268868338316679,0.4538593590259552,0.4819905161857605,1.9861513376235962,0.8479864597320557,1.499153733253479,0.40559372305870056,1.0900306701660156,0.5807597041130066,0.7946188449859619,0.21927021443843842,0.4460693299770355,0.5269337296485901,0.02794356271624565,1.1307668685913086,1.0422335863113403,0.7343592047691345,0.7124524116516113,0.170995831489563,0.8827506899833679,0.3901442587375641,0.5190345048904419,0.3366382420063019,-0.1684279590845108,-0.008323018439114094,0.5756106376647949,1.1822744607925415,0.6095525026321411,0.8797798156738281,1.193839192390442,-0.12398044764995575,-0.1448308676481247,1.136456847190857,0.9283506274223328,1.2920259237289429,0.37187397480010986,1.3385015726089478,1.1015706062316895,1.4962295293807983,0.6511948704719543],[1.593708872795105,0.6243565678596497,1.1936620473861694,0.4270472824573517,0.558655858039856,0.136684387922287,1.2888251543045044,0.1669151932001114,0.4355534315109253,0.49623748660087585,0.1792425811290741,1.1911323070526123,0.7060210108757019,1.0789893865585327,1.0675770044326782,1.6262353658676147,0.601370632648468,0.30172136425971985,0.6876899003982544,-0.16995486617088318,0.8829975128173828,1.0582683086395264,0.6900079250335693,1.4304487705230713,0.9120701551437378,1.0597463846206665,0.8707744479179382,1.875714659690857,0.38658908009529114,0.44760799407958984,0.4569333493709564,1.0798721313476562,-0.03677472099661827,1.6836525201797485,0.5702212452888489,0.4671611189842224,0.7403693199157715,0.04173415154218674,-0.018020983785390854,0.05637490376830101,-0.064790278673172,0.4143237769603729,1.325340747833252,1.7730568647384644,1.8790819644927979,0.7859593033790588,0.8917139172554016,0.6953167915344238,-0.11166468262672424,0.47521790862083435,0.2729138433933258,0.681178867816925,1.0695594549179077,2.170762777328491,0.34959566593170166,0.8357207179069519,1.0511997938156128,0.7857167720794678,1.3204163312911987],[2.2438769340515137,-0.020591862499713898,0.0010372090619057417,-0.06618676334619522,-0.14860889315605164,-0.016274098306894302,0.3126353919506073,-0.06152427941560745,0.3328326940536499,1.5706466436386108,0.5873211026191711,0.17606937885284424,-0.16993071138858795,1.4261187314987183,0.7762092351913452,0.36156097054481506,-0.1082586944103241,0.6805726289749146,1.6529690027236938,-0.15518510341644287,0.5828768014907837,0.1463119387626648,2.1429803371429443,1.4008049964904785,1.3079288005828857,1.2926701307296753,0.36230191588401794,1.1532458066940308,0.6364030838012695,1.4011322259902954,1.5581049919128418,0.3154386878013611,0.9897956252098083,1.2167680263519287,0.7047754526138306,0.46375158429145813,1.2877410650253296,0.18298859894275665,1.0201166868209839,0.9640291929244995,0.7576574087142944,1.0566298961639404,0.4705768823623657,1.936690092086792,2.2734649181365967,1.905163049697876,0.17024359107017517,0.3506864309310913,0.025091854855418205,-0.11197418719530106,0.9118958115577698,0.2662099003791809,0.3221760094165802,1.8469278812408447,0.9044149518013,0.8231984376907349,1.4944572448730469,0.20412001013755798,0.73813396692276],[1.593708872795105,0.4240764379501343,0.1598583459854126,0.4829980432987213,0.9272783398628235,0.4745090901851654,1.200360894203186,0.6319392919540405,0.9722489714622498,0.7241386771202087,0.8870494961738586,0.4357109069824219,0.5314669013023376,1.7475123405456543,0.43626248836517334,0.48888301849365234,0.815717339515686,0.2701752185821533,0.1391673982143402,-0.16481932997703552,0.19759294390678406,-0.1449417918920517,0.8479100465774536,0.13211676478385925,-0.1570996195077896,0.15528275072574615,0.2842099070549011,0.3893440067768097,0.9188161492347717,0.273320734500885,0.8222653865814209,0.6614677906036377,0.7893931865692139,1.5517909526824951,1.22870934009552,0.8246256113052368,1.104315996170044,0.14877407252788544,1.4586127996444702,0.5481799840927124,0.04688045382499695,0.7968264222145081,0.6504760384559631,0.35622894763946533,0.900851845741272,-0.0974501296877861,0.33879274129867554,0.5633655786514282,0.16318199038505554,-0.003865891369059682,0.7757616639137268,0.4800514578819275,0.17145074903964996,1.6801174879074097,0.49078893661499023,0.5113915205001831,0.878242015838623,1.860125184059143,0.34813371300697327],[1.5079336166381836,0.47857919335365295,1.586862564086914,0.8132822513580322,0.6854292154312134,0.926917314529419,0.5552334785461426,0.6261836886405945,1.7217060327529907,0.2684614360332489,0.83868807554245,1.1143954992294312,1.28782057762146,0.5252131223678589,1.5622729063034058,0.7389978170394897,0.5851373076438904,0.9448907971382141,0.8597869873046875,-0.08221467584371567,-0.1676129400730133,0.2674179971218109,-0.15595510601997375,0.03361964598298073,0.01845160312950611,0.2545197010040283,0.6193535327911377,0.8827075362205505,0.7264496088027954,0.2091442048549652,0.9564435482025146,1.7292187213897705,1.021738886833191,1.3028960227966309,1.2652997970581055,2.0669734477996826,1.0951815843582153,0.8726483583450317,1.5611343383789062,1.7234588861465454,0.6524430513381958,0.6512644290924072,0.49739906191825867,0.512546181678772,0.9556918740272522,0.6483996510505676,0.6475196480751038,1.0039023160934448,0.9098595976829529,0.45511236786842346,0.01096363365650177,1.3110498189926147,0.9528015851974487,1.3908779621124268,0.6478042602539062,0.6984960436820984,2.1419789791107178,0.8533624410629272,1.7262766361236572],[1.593708872795105,0.021211719140410423,0.2761327624320984,-0.13253402709960938,0.29483935236930847,-0.14668415486812592,0.4972265064716339,0.6338455080986023,0.8919407725334167,0.4637291431427002,0.9819676876068115,1.0482285022735596,0.8893131017684937,1.616780400276184,0.9274317026138306,0.3366614282131195,0.33589687943458557,0.4597797989845276,0.2691677212715149,-0.011089022271335125,0.509558916091919,1.4602056741714478,1.0390738248825073,0.7855613827705383,1.4277273416519165,0.8683732151985168,0.44245651364326477,0.9033727049827576,2.3756933212280273,1.5452253818511963,1.5759954452514648,2.168926477432251,0.6507784724235535,2.229769468307495,1.6802793741226196,1.224297285079956,2.1133487224578857,0.9271081686019897,0.3925270140171051,0.5012524127960205,2.004798412322998,1.0249390602111816,0.8963369131088257,1.1538944244384766,0.6865136027336121,0.7528401017189026,1.2369582653045654,-0.09030495584011078,0.9468647837638855,0.5849794149398804,0.03292632848024368,1.671352505683899,1.2993487119674683,1.0683166980743408,0.46179869771003723,0.9330053329467773,1.1589068174362183,0.4293469190597534,0.05900063365697861],[0.7547912001609802,0.3320668637752533,0.7034032344818115,0.3830685615539551,0.22644011676311493,0.027953092008829117,0.436574786901474,1.8589142560958862,1.0427311658859253,0.3982921242713928,1.0996845960617065,0.3497084379196167,-0.023544656112790108,1.3067626953125,0.8667228817939758,0.7354060411453247,0.7344277501106262,0.5462822318077087,0.49385181069374084,-0.14706279337406158,-0.12885549664497375,0.500177800655365,1.5035167932510376,-0.027229443192481995,0.19777946174144745,0.22947292029857635,0.23657411336898804,0.806738018989563,0.48463326692581177,0.9535956978797913,1.3152496814727783,0.49478766322135925,-0.14754556119441986,0.7164707779884338,1.458128809928894,0.850631058216095,0.7425433397293091,0.5343700647354126,0.04737238585948944,1.4406654834747314,0.9847838282585144,0.5326502919197083,0.47181814908981323,1.0231361389160156,0.7091212868690491,1.524901032447815,0.02033119834959507,0.20109885931015015,0.25571632385253906,0.04286216199398041,0.9768728017807007,0.3048379123210907,0.2520785927772522,0.5289627909660339,0.1520860642194748,1.9347180128097534,0.286456823348999,0.8464036583900452,0.7318896055221558],[0.7547912001609802,-0.1578150987625122,-0.06631112843751907,-0.16996963322162628,-0.09461914747953415,-0.009824763983488083,0.21266615390777588,0.12941062450408936,-0.16196928918361664,0.5458508133888245,0.002976070623844862,0.8404619693756104,0.9654302597045898,1.2633713483810425,1.0721967220306396,0.27456411719322205,0.9580162167549133,1.0207202434539795,0.9114199280738831,0.08222512900829315,1.4534990787506104,0.8869508504867554,1.382300853729248,0.7910443544387817,0.9260854125022888,0.6532010436058044,0.05868033319711685,1.9229381084442139,0.8834807872772217,0.015550250187516212,1.7502983808517456,1.6229008436203003,1.5442380905151367,1.4345383644104004,1.8753610849380493,0.8956326246261597,0.42326512932777405,0.5913766622543335,1.443177580833435,0.9818112850189209,0.41281232237815857,0.09723814576864243,0.7785561084747314,1.3157744407653809,0.3851887583732605,0.5010697841644287,0.8996745347976685,0.40429842472076416,0.5387817621231079,0.8154619336128235,0.6757752299308777,0.5923194885253906,0.49411699175834656,0.5300765037536621,0.3499211370944977,0.2712317705154419,2.3719162940979004,0.9286107420921326,1.3313233852386475],[1.5079336166381836,-0.018200093880295753,0.043810103088617325,0.36977437138557434,-0.1406015157699585,-0.16923479735851288,0.03291673585772514,0.18178454041481018,1.3240712881088257,0.8634446859359741,0.5358160734176636,1.4036732912063599,1.3014533519744873,0.19588735699653625,1.6151872873306274,0.8123862743377686,0.3389025628566742,0.32476067543029785,0.3106744885444641,-0.05313064530491829,0.1015714630484581,-0.09976278990507126,0.5430505275726318,1.224817156791687,0.8437058329582214,0.041403237730264664,-0.12537045776844025,1.1817078590393066,0.9047587513923645,1.0972867012023926,1.0428657531738281,0.17578361928462982,0.07486818730831146,0.2707135081291199,1.239508032798767,1.2287003993988037,0.7348958253860474,0.4235203266143799,0.11163820326328278,0.45877277851104736,0.25614306330680847,0.5410216450691223,-0.019489016383886337,-0.010491610504686832,0.08651610463857651,0.0969701036810875,-0.04346783086657524,-0.035649098455905914,0.7298426032066345,-0.004036804661154747,0.6739456653594971,0.3521774709224701,0.3369513154029846,0.7340040802955627,0.1124894842505455,0.901434600353241,0.6877159476280212,0.47258758544921875,0.7007415294647217],[1.5079336166381836,0.47857919335365295,1.814110279083252,0.7889466285705566,0.7473424077033997,1.0266051292419434,2.2290031909942627,2.3342323303222656,1.0559719800949097,0.6554816365242004,1.775387167930603,1.390779972076416,0.9520751237869263,2.8938615322113037,2.0192666053771973,1.0942641496658325,1.0635871887207031,1.2800427675247192,1.4849001169204712,0.14485518634319305,0.553955614566803,1.7083139419555664,1.2494853734970093,1.1323336362838745,0.7530913949012756,0.9059004783630371,1.6395386457443237,1.7278083562850952,1.2969660758972168,0.6377071142196655,0.935244619846344,0.525356650352478,0.0007454377482645214,1.7892996072769165,1.106515645980835,1.2475823163986206,3.0605592727661133,0.8367893099784851,0.6611131429672241,0.55720055103302,0.2846774756908417,0.5319512486457825,0.09995285421609879,1.6169509887695312,1.4278613328933716,0.16266903281211853,0.18741855025291443,1.3651121854782104,0.7823939919471741,0.049295127391815186,0.2088874727487564,0.16128532588481903,1.1128054857254028,1.6394654512405396,0.4408082664012909,1.1384235620498657,1.475725769996643,0.7387050986289978,0.7956597805023193],[0.7547912001609802,0.14992228150367737,1.3697795867919922,0.055714476853609085,0.36166319251060486,-0.15050312876701355,0.08249478787183762,-0.03585464134812355,0.4386260211467743,-0.027767369523644447,0.47940412163734436,-0.007302865851670504,-0.062066346406936646,0.13450756669044495,0.18728603422641754,-0.16678816080093384,-0.14994719624519348,-0.03153331205248833,0.18573381006717682,-0.16993610560894012,0.24814143776893616,-0.016516530886292458,0.8668844699859619,0.7169511914253235,0.26389291882514954,0.15085472166538239,0.9177757501602173,0.8998608589172363,0.37726423144340515,0.2999158799648285,0.034409187734127045,0.2838045656681061,0.04946845769882202,0.002155785681679845,0.9176152944564819,0.4969385266304016,0.10783405601978302,0.20072877407073975,0.9823241829872131,0.10952118039131165,0.3165304362773895,1.0388940572738647,0.312094122171402,0.10331124812364578,2.1145179271698,0.3596198260784149,0.04581761360168457,-0.02031921222805977,0.44431474804878235,0.34285521507263184,0.34940364956855774,0.3034282922744751,1.028188943862915,1.4248008728027344,0.712611973285675,1.5580642223358154,0.6911659836769104,0.9174650311470032,1.0016471147537231],[1.593708872795105,0.6243565678596497,1.6747492551803589,0.919000506401062,0.5661033391952515,0.38453158736228943,0.8516424298286438,1.1962028741836548,1.0546363592147827,0.2751809358596802,1.6141808032989502,0.3490137755870819,0.4735265076160431,0.031447842717170715,0.21262472867965698,0.399940550327301,-0.16114459931850433,-0.0722518265247345,0.21416495740413666,-0.15664759278297424,-0.13289989531040192,-0.15500213205814362,-0.12675480544567108,0.2157483547925949,0.6335296630859375,0.38871222734451294,1.3743504285812378,1.5139646530151367,0.2730921804904938,0.34762969613075256,0.6996917128562927,0.8851090669631958,0.06518613547086716,1.3694220781326294,1.0627771615982056,0.3005455732345581,0.5201438665390015,1.0160585641860962,0.8823840618133545,0.22124145925045013,0.48969268798828125,1.1625711917877197,0.08999920636415482,0.7962114810943604,1.4143873453140259,0.7478762865066528,0.095049187541008,0.6983937621116638,0.9580330848693848,-0.026284994557499886,0.07828692346811295,0.04109732434153557,0.4170708954334259,1.4874516725540161,0.9608961939811707,1.1376709938049316,0.8372894525527954,0.8109189867973328,-0.1645311564207077],[1.593708872795105,0.6243565678596497,0.45000290870666504,-0.12954449653625488,0.09599319845438004,0.4570748209953308,0.7928815484046936,0.3558140993118286,1.0187689065933228,0.021430620923638344,0.3580150306224823,0.6737197637557983,0.49125033617019653,0.21726477146148682,1.4304395914077759,0.9714899659156799,0.7607805728912354,0.39537230134010315,0.9530989527702332,-0.16060593724250793,0.728790283203125,0.5547730922698975,0.4707956910133362,0.8314281105995178,0.4789818525314331,1.0272040367126465,1.1614875793457031,0.37757787108421326,1.020004153251648,0.4215987026691437,1.1761332750320435,0.9149737358093262,0.5968246459960938,0.5645117163658142,0.9531084895133972,0.19847224652767181,1.1795250177383423,0.5719502568244934,0.06786390393972397,0.3348204493522644,0.47893044352531433,0.2610607445240021,1.0631864070892334,1.0564759969711304,0.748851478099823,0.8573588728904724,0.56256103515625,1.7396488189697266,1.0525184869766235,0.5634607672691345,0.9696865081787109,0.19758394360542297,0.4635469615459442,0.9191671013832092,1.0548557043075562,1.2478357553482056,1.5852371454238892,1.113893985748291,0.8486953377723694],[1.593708872795105,0.6243565678596497,1.1936620473861694,0.17870020866394043,1.5531513690948486,0.31761252880096436,0.4727616012096405,0.39539217948913574,0.9832765460014343,-0.11591822654008865,0.36122462153434753,1.1495304107666016,0.20388789474964142,1.2828794717788696,0.7633571624755859,0.38889914751052856,-0.08394467085599899,-0.15322987735271454,1.0447494983673096,-0.16326932609081268,0.29482385516166687,0.5064119696617126,0.2766156494617462,1.7630695104599,0.13348248600959778,1.6911249160766602,0.5546706318855286,0.7904917001724243,1.111506700515747,1.2351067066192627,0.8487083315849304,1.4961695671081543,0.682727038860321,1.652660608291626,1.6460899114608765,0.2879459261894226,1.346882700920105,0.23421728610992432,0.7514622211456299,1.0429610013961792,0.2524501085281372,0.3325932025909424,-0.16709206998348236,0.14933717250823975,1.3509892225265503,1.0828150510787964,0.11392173171043396,0.4343358278274536,0.2520882189273834,0.06801912188529968,0.5549582839012146,-0.0601082518696785,0.31882598996162415,1.03323233127594,1.002463936805725,1.7561856508255005,1.3441946506500244,0.27122920751571655,1.0593974590301514],[1.593708872795105,0.021211719140410423,0.5248500108718872,0.4882775843143463,-0.16987167298793793,0.43211790919303894,0.5701326131820679,0.577520489692688,1.837084174156189,2.0208537578582764,1.180287480354309,0.19849109649658203,1.9268218278884888,1.3214836120605469,0.5403400659561157,0.9524519443511963,1.6585240364074707,0.10570359975099564,0.15648578107357025,0.10905391722917557,0.7270834445953369,1.672027349472046,0.8211254477500916,2.468611001968384,1.2890881299972534,1.6460148096084595,1.7418774366378784,1.601293921470642,0.9977506399154663,1.6663882732391357,2.2474365234375,2.250910758972168,1.077457308769226,1.6044901609420776,1.5917266607284546,0.9093822240829468,1.6743826866149902,0.4532214105129242,0.755599856376648,0.3441675305366516,1.7776055335998535,0.6783056855201721,0.7065209746360779,0.2897053062915802,1.0329316854476929,1.6488978862762451,0.19486664235591888,0.37255343794822693,0.6858406066894531,0.975349485874176,0.38680949807167053,1.7494910955429077,0.8577039241790771,1.1659021377563477,1.4625436067581177,1.736293911933899,2.2713935375213623,0.30150967836380005,0.46657586097717285],[2.2438769340515137,-0.020591862499713898,0.0010372090619057417,0.4689074754714966,-0.16038310527801514,0.08187321573495865,0.42924267053604126,1.1137632131576538,1.2948981523513794,0.3060678243637085,0.7444818615913391,0.05961686745285988,0.5886308550834656,0.9025954008102417,0.5236161947250366,0.5389840006828308,0.2801564037799835,0.1479068547487259,0.3503950238227844,0.0018481375882402062,0.5796931385993958,0.39170655608177185,0.7078599333763123,0.1614605039358139,0.6500934362411499,0.7309511303901672,0.906000554561615,0.41615378856658936,0.5663378834724426,0.3939489722251892,0.7127997279167175,1.9583348035812378,0.04987047612667084,0.3983443081378937,1.5845612287521362,0.9310173392295837,0.33017149567604065,-0.1398259699344635,1.6601840257644653,-0.16962361335754395,0.1123429611325264,1.6447607278823853,-0.07512880116701126,1.0203934907913208,0.8562600016593933,0.43872958421707153,0.5763465762138367,1.4602547883987427,0.40227818489074707,0.11778891831636429,0.4034411609172821,0.785163164138794,0.20266644656658173,2.1645331382751465,1.5081177949905396,0.18952246010303497,0.016046399250626564,0.14705458283424377,0.37388524413108826]],\"type\":\"heatmap\",\"xaxis\":\"x\",\"yaxis\":\"y\",\"hovertemplate\":\"x: %{x}\\u003cbr\\u003ey: %{y}\\u003cbr\\u003ecolor: %{z}\\u003cextra\\u003e\\u003c\\u002fextra\\u003e\"}],                        {\"template\":{\"data\":{\"histogram2dcontour\":[{\"type\":\"histogram2dcontour\",\"colorbar\":{\"outlinewidth\":0,\"ticks\":\"\"},\"colorscale\":[[0.0,\"#0d0887\"],[0.1111111111111111,\"#46039f\"],[0.2222222222222222,\"#7201a8\"],[0.3333333333333333,\"#9c179e\"],[0.4444444444444444,\"#bd3786\"],[0.5555555555555556,\"#d8576b\"],[0.6666666666666666,\"#ed7953\"],[0.7777777777777778,\"#fb9f3a\"],[0.8888888888888888,\"#fdca26\"],[1.0,\"#f0f921\"]]}],\"choropleth\":[{\"type\":\"choropleth\",\"colorbar\":{\"outlinewidth\":0,\"ticks\":\"\"}}],\"histogram2d\":[{\"type\":\"histogram2d\",\"colorbar\":{\"outlinewidth\":0,\"ticks\":\"\"},\"colorscale\":[[0.0,\"#0d0887\"],[0.1111111111111111,\"#46039f\"],[0.2222222222222222,\"#7201a8\"],[0.3333333333333333,\"#9c179e\"],[0.4444444444444444,\"#bd3786\"],[0.5555555555555556,\"#d8576b\"],[0.6666666666666666,\"#ed7953\"],[0.7777777777777778,\"#fb9f3a\"],[0.8888888888888888,\"#fdca26\"],[1.0,\"#f0f921\"]]}],\"heatmap\":[{\"type\":\"heatmap\",\"colorbar\":{\"outlinewidth\":0,\"ticks\":\"\"},\"colorscale\":[[0.0,\"#0d0887\"],[0.1111111111111111,\"#46039f\"],[0.2222222222222222,\"#7201a8\"],[0.3333333333333333,\"#9c179e\"],[0.4444444444444444,\"#bd3786\"],[0.5555555555555556,\"#d8576b\"],[0.6666666666666666,\"#ed7953\"],[0.7777777777777778,\"#fb9f3a\"],[0.8888888888888888,\"#fdca26\"],[1.0,\"#f0f921\"]]}],\"heatmapgl\":[{\"type\":\"heatmapgl\",\"colorbar\":{\"outlinewidth\":0,\"ticks\":\"\"},\"colorscale\":[[0.0,\"#0d0887\"],[0.1111111111111111,\"#46039f\"],[0.2222222222222222,\"#7201a8\"],[0.3333333333333333,\"#9c179e\"],[0.4444444444444444,\"#bd3786\"],[0.5555555555555556,\"#d8576b\"],[0.6666666666666666,\"#ed7953\"],[0.7777777777777778,\"#fb9f3a\"],[0.8888888888888888,\"#fdca26\"],[1.0,\"#f0f921\"]]}],\"contourcarpet\":[{\"type\":\"contourcarpet\",\"colorbar\":{\"outlinewidth\":0,\"ticks\":\"\"}}],\"contour\":[{\"type\":\"contour\",\"colorbar\":{\"outlinewidth\":0,\"ticks\":\"\"},\"colorscale\":[[0.0,\"#0d0887\"],[0.1111111111111111,\"#46039f\"],[0.2222222222222222,\"#7201a8\"],[0.3333333333333333,\"#9c179e\"],[0.4444444444444444,\"#bd3786\"],[0.5555555555555556,\"#d8576b\"],[0.6666666666666666,\"#ed7953\"],[0.7777777777777778,\"#fb9f3a\"],[0.8888888888888888,\"#fdca26\"],[1.0,\"#f0f921\"]]}],\"surface\":[{\"type\":\"surface\",\"colorbar\":{\"outlinewidth\":0,\"ticks\":\"\"},\"colorscale\":[[0.0,\"#0d0887\"],[0.1111111111111111,\"#46039f\"],[0.2222222222222222,\"#7201a8\"],[0.3333333333333333,\"#9c179e\"],[0.4444444444444444,\"#bd3786\"],[0.5555555555555556,\"#d8576b\"],[0.6666666666666666,\"#ed7953\"],[0.7777777777777778,\"#fb9f3a\"],[0.8888888888888888,\"#fdca26\"],[1.0,\"#f0f921\"]]}],\"mesh3d\":[{\"type\":\"mesh3d\",\"colorbar\":{\"outlinewidth\":0,\"ticks\":\"\"}}],\"scatter\":[{\"fillpattern\":{\"fillmode\":\"overlay\",\"size\":10,\"solidity\":0.2},\"type\":\"scatter\"}],\"parcoords\":[{\"type\":\"parcoords\",\"line\":{\"colorbar\":{\"outlinewidth\":0,\"ticks\":\"\"}}}],\"scatterpolargl\":[{\"type\":\"scatterpolargl\",\"marker\":{\"colorbar\":{\"outlinewidth\":0,\"ticks\":\"\"}}}],\"bar\":[{\"error_x\":{\"color\":\"#2a3f5f\"},\"error_y\":{\"color\":\"#2a3f5f\"},\"marker\":{\"line\":{\"color\":\"#E5ECF6\",\"width\":0.5},\"pattern\":{\"fillmode\":\"overlay\",\"size\":10,\"solidity\":0.2}},\"type\":\"bar\"}],\"scattergeo\":[{\"type\":\"scattergeo\",\"marker\":{\"colorbar\":{\"outlinewidth\":0,\"ticks\":\"\"}}}],\"scatterpolar\":[{\"type\":\"scatterpolar\",\"marker\":{\"colorbar\":{\"outlinewidth\":0,\"ticks\":\"\"}}}],\"histogram\":[{\"marker\":{\"pattern\":{\"fillmode\":\"overlay\",\"size\":10,\"solidity\":0.2}},\"type\":\"histogram\"}],\"scattergl\":[{\"type\":\"scattergl\",\"marker\":{\"colorbar\":{\"outlinewidth\":0,\"ticks\":\"\"}}}],\"scatter3d\":[{\"type\":\"scatter3d\",\"line\":{\"colorbar\":{\"outlinewidth\":0,\"ticks\":\"\"}},\"marker\":{\"colorbar\":{\"outlinewidth\":0,\"ticks\":\"\"}}}],\"scattermapbox\":[{\"type\":\"scattermapbox\",\"marker\":{\"colorbar\":{\"outlinewidth\":0,\"ticks\":\"\"}}}],\"scatterternary\":[{\"type\":\"scatterternary\",\"marker\":{\"colorbar\":{\"outlinewidth\":0,\"ticks\":\"\"}}}],\"scattercarpet\":[{\"type\":\"scattercarpet\",\"marker\":{\"colorbar\":{\"outlinewidth\":0,\"ticks\":\"\"}}}],\"carpet\":[{\"aaxis\":{\"endlinecolor\":\"#2a3f5f\",\"gridcolor\":\"white\",\"linecolor\":\"white\",\"minorgridcolor\":\"white\",\"startlinecolor\":\"#2a3f5f\"},\"baxis\":{\"endlinecolor\":\"#2a3f5f\",\"gridcolor\":\"white\",\"linecolor\":\"white\",\"minorgridcolor\":\"white\",\"startlinecolor\":\"#2a3f5f\"},\"type\":\"carpet\"}],\"table\":[{\"cells\":{\"fill\":{\"color\":\"#EBF0F8\"},\"line\":{\"color\":\"white\"}},\"header\":{\"fill\":{\"color\":\"#C8D4E3\"},\"line\":{\"color\":\"white\"}},\"type\":\"table\"}],\"barpolar\":[{\"marker\":{\"line\":{\"color\":\"#E5ECF6\",\"width\":0.5},\"pattern\":{\"fillmode\":\"overlay\",\"size\":10,\"solidity\":0.2}},\"type\":\"barpolar\"}],\"pie\":[{\"automargin\":true,\"type\":\"pie\"}]},\"layout\":{\"autotypenumbers\":\"strict\",\"colorway\":[\"#636efa\",\"#EF553B\",\"#00cc96\",\"#ab63fa\",\"#FFA15A\",\"#19d3f3\",\"#FF6692\",\"#B6E880\",\"#FF97FF\",\"#FECB52\"],\"font\":{\"color\":\"#2a3f5f\"},\"hovermode\":\"closest\",\"hoverlabel\":{\"align\":\"left\"},\"paper_bgcolor\":\"white\",\"plot_bgcolor\":\"#E5ECF6\",\"polar\":{\"bgcolor\":\"#E5ECF6\",\"angularaxis\":{\"gridcolor\":\"white\",\"linecolor\":\"white\",\"ticks\":\"\"},\"radialaxis\":{\"gridcolor\":\"white\",\"linecolor\":\"white\",\"ticks\":\"\"}},\"ternary\":{\"bgcolor\":\"#E5ECF6\",\"aaxis\":{\"gridcolor\":\"white\",\"linecolor\":\"white\",\"ticks\":\"\"},\"baxis\":{\"gridcolor\":\"white\",\"linecolor\":\"white\",\"ticks\":\"\"},\"caxis\":{\"gridcolor\":\"white\",\"linecolor\":\"white\",\"ticks\":\"\"}},\"coloraxis\":{\"colorbar\":{\"outlinewidth\":0,\"ticks\":\"\"}},\"colorscale\":{\"sequential\":[[0.0,\"#0d0887\"],[0.1111111111111111,\"#46039f\"],[0.2222222222222222,\"#7201a8\"],[0.3333333333333333,\"#9c179e\"],[0.4444444444444444,\"#bd3786\"],[0.5555555555555556,\"#d8576b\"],[0.6666666666666666,\"#ed7953\"],[0.7777777777777778,\"#fb9f3a\"],[0.8888888888888888,\"#fdca26\"],[1.0,\"#f0f921\"]],\"sequentialminus\":[[0.0,\"#0d0887\"],[0.1111111111111111,\"#46039f\"],[0.2222222222222222,\"#7201a8\"],[0.3333333333333333,\"#9c179e\"],[0.4444444444444444,\"#bd3786\"],[0.5555555555555556,\"#d8576b\"],[0.6666666666666666,\"#ed7953\"],[0.7777777777777778,\"#fb9f3a\"],[0.8888888888888888,\"#fdca26\"],[1.0,\"#f0f921\"]],\"diverging\":[[0,\"#8e0152\"],[0.1,\"#c51b7d\"],[0.2,\"#de77ae\"],[0.3,\"#f1b6da\"],[0.4,\"#fde0ef\"],[0.5,\"#f7f7f7\"],[0.6,\"#e6f5d0\"],[0.7,\"#b8e186\"],[0.8,\"#7fbc41\"],[0.9,\"#4d9221\"],[1,\"#276419\"]]},\"xaxis\":{\"gridcolor\":\"white\",\"linecolor\":\"white\",\"ticks\":\"\",\"title\":{\"standoff\":15},\"zerolinecolor\":\"white\",\"automargin\":true,\"zerolinewidth\":2},\"yaxis\":{\"gridcolor\":\"white\",\"linecolor\":\"white\",\"ticks\":\"\",\"title\":{\"standoff\":15},\"zerolinecolor\":\"white\",\"automargin\":true,\"zerolinewidth\":2},\"scene\":{\"xaxis\":{\"backgroundcolor\":\"#E5ECF6\",\"gridcolor\":\"white\",\"linecolor\":\"white\",\"showbackground\":true,\"ticks\":\"\",\"zerolinecolor\":\"white\",\"gridwidth\":2},\"yaxis\":{\"backgroundcolor\":\"#E5ECF6\",\"gridcolor\":\"white\",\"linecolor\":\"white\",\"showbackground\":true,\"ticks\":\"\",\"zerolinecolor\":\"white\",\"gridwidth\":2},\"zaxis\":{\"backgroundcolor\":\"#E5ECF6\",\"gridcolor\":\"white\",\"linecolor\":\"white\",\"showbackground\":true,\"ticks\":\"\",\"zerolinecolor\":\"white\",\"gridwidth\":2}},\"shapedefaults\":{\"line\":{\"color\":\"#2a3f5f\"}},\"annotationdefaults\":{\"arrowcolor\":\"#2a3f5f\",\"arrowhead\":0,\"arrowwidth\":1},\"geo\":{\"bgcolor\":\"white\",\"landcolor\":\"#E5ECF6\",\"subunitcolor\":\"white\",\"showland\":true,\"showlakes\":true,\"lakecolor\":\"white\"},\"title\":{\"x\":0.05},\"mapbox\":{\"style\":\"light\"}}},\"xaxis\":{\"anchor\":\"y\",\"domain\":[0.0,1.0],\"title\":{\"text\":\"Move\"}},\"yaxis\":{\"anchor\":\"x\",\"domain\":[0.0,1.0],\"autorange\":\"reversed\",\"title\":{\"text\":\"Game\"}},\"coloraxis\":{\"colorscale\":[[0.0,\"rgb(103,0,31)\"],[0.1,\"rgb(178,24,43)\"],[0.2,\"rgb(214,96,77)\"],[0.3,\"rgb(244,165,130)\"],[0.4,\"rgb(253,219,199)\"],[0.5,\"rgb(247,247,247)\"],[0.6,\"rgb(209,229,240)\"],[0.7,\"rgb(146,197,222)\"],[0.8,\"rgb(67,147,195)\"],[0.9,\"rgb(33,102,172)\"],[1.0,\"rgb(5,48,97)\"]],\"cmid\":0.0},\"title\":{\"text\":\"L0N774 acts over focus games\"}},                        {\"responsive\": true}                    ).then(function(){\n",
       "                            \n",
       "var gd = document.getElementById('c38cca7e-7bfe-4e06-b132-451149204533');\n",
       "var x = new MutationObserver(function (mutations, observer) {{\n",
       "        var display = window.getComputedStyle(gd).display;\n",
       "        if (!display || display === 'none') {{\n",
       "            console.log([gd, 'removed!']);\n",
       "            Plotly.purge(gd);\n",
       "            observer.disconnect();\n",
       "        }}\n",
       "}});\n",
       "\n",
       "// Listen for the removal of the full notebook cells\n",
       "var notebookContainer = gd.closest('#notebook-container');\n",
       "if (notebookContainer) {{\n",
       "    x.observe(notebookContainer, {childList: true});\n",
       "}}\n",
       "\n",
       "// Listen for the clearing of the current output cell\n",
       "var outputEl = gd.closest('.output');\n",
       "if (outputEl) {{\n",
       "    x.observe(outputEl, {childList: true});\n",
       "}}\n",
       "\n",
       "                        })                };                });            </script>        </div>"
      ]
     },
     "metadata": {},
     "output_type": "display_data"
    }
   ],
   "source": [
    "layer, neuron = 0, 774\n",
    "neuron_acts_post = focus_cache['post', layer][..., neuron]\n",
    "\n",
    "imshow(\n",
    "    neuron_acts_post,\n",
    "    title=f\"L{layer}N{neuron} acts over focus games\",\n",
    "    xaxis=\"Move\", yaxis=\"Game\"\n",
    ")"
   ]
  },
  {
   "cell_type": "code",
   "execution_count": 42,
   "metadata": {},
   "outputs": [
    {
     "name": "stdout",
     "output_type": "stream",
     "text": [
      "Current move when L0774 activates: ['C3', 'C4', 'D5', 'C2', 'B7', 'F6', 'B5', 'D7', 'C5', 'G2', 'G3', 'G7', 'F4', 'G4', 'G5', 'F2', 'D6', 'H5', 'F1', 'E7', 'C1', 'B3', 'H4', 'H3', 'H2', 'C7', 'F7', 'B1', 'H6', 'D1', 'B2', 'F0', 'D0', 'D2', 'E0', 'A1', 'C0', 'E1', 'B0', 'E6', 'G0', 'A2', 'G1', 'A5', 'A3', 'H0', 'B6', 'A6', 'G6', 'F4', 'F5', 'F2', 'G3', 'C4', 'E5', 'F6', 'D6', 'E2', 'B4', 'C5', 'G7', 'C1', 'G6', 'F7', 'G5', 'C3', 'B3', 'H6', 'G4', 'B2', 'C2', 'B5', 'A6', 'B6', 'C6', 'H4', 'A4', 'C7', 'B0', 'C0', 'D5', 'E1', 'B1', 'E6', 'B7', 'H2', 'H7', 'D7', 'A5', 'A3', 'H5', 'D1', 'A7', 'H1', 'F0', 'E7', 'D0', 'E0', 'A2', 'G0', 'F1', 'G1', 'H0', 'E5', 'D2', 'D5', 'G2', 'C1', 'E6', 'H1', 'H5', 'C3', 'C2', 'C5', 'C6', 'E7', 'B7', 'C0', 'H7', 'B4', 'D6', 'C7', 'F7', 'F6', 'C4', 'B1', 'A4', 'B2', 'E0', 'H6', 'E1', 'A2', 'G3', 'F1', 'F2', 'E2', 'H3', 'B5', 'G7', 'F0', 'A3', 'H2', 'A1', 'B0', 'H0', 'A5', 'F4', 'G1', 'A0', 'B6', 'G0', 'G4', 'D7', 'A7', 'D2', 'F2', 'F4', 'F6', 'C4', 'B5', 'G6', 'H7', 'G1', 'F3', 'G4', 'B1', 'E6', 'H5', 'B2', 'C5', 'D5', 'F1', 'H4', 'B3', 'E1', 'E5', 'B6', 'E0', 'A5', 'D6', 'G7', 'F0', 'D1', 'G0', 'A2', 'H1', 'C0', 'F7', 'C3', 'B0', 'H0', 'A6', 'A1', 'H6', 'A7', 'E7', 'D7', 'C7', 'C1', 'D0', 'G3', 'C6', 'B4', 'A3', 'B7', 'G2', 'H3', 'A0', 'C3', 'C4', 'C5', 'F2', 'D2', 'E1', 'F5', 'B6', 'C6', 'B5', 'C1', 'B0', 'B4', 'E5', 'F6', 'B2', 'F4', 'E0', 'G2', 'A2', 'D6', 'F1', 'G3', 'F3', 'D0', 'A6', 'G1', 'A1', 'D5', 'D1', 'F7', 'H0', 'A4', 'E6', 'C0', 'G6', 'H7', 'A5', 'F0', 'G0', 'B1', 'H3', 'E7', 'A3', 'G4', 'A0', 'H5', 'D7', 'G5', 'A7', 'H2', 'G7', 'C7', 'B7', 'H6', 'C3', 'E2', 'F2', 'C4', 'E5', 'C2', 'B3', 'G2', 'F1', 'D2', 'D1', 'E6', 'H3', 'F0', 'D5', 'C1', 'G1', 'F4', 'B1', 'E1', 'G0', 'H0', 'D0', 'A0', 'A2', 'A3', 'E0', 'F5', 'F6', 'G7', 'F7', 'D7', 'C7', 'C6', 'G5', 'G3', 'E7', 'H5', 'B7', 'G6', 'B4', 'H7', 'G4', 'A4', 'B5', 'B2', 'B6', 'A6', 'A7', 'H6', 'E5', 'F5', 'F4', 'D5', 'F6', 'G3', 'G5', 'E2', 'C4', 'B5', 'D6', 'G6', 'B4', 'A4', 'C3', 'H6', 'F2', 'C7', 'H5', 'E6', 'G7', 'H4', 'C6', 'C5', 'F3', 'E7', 'A5', 'C2', 'D2', 'C1', 'F7', 'B3', 'B7', 'F1', 'A2', 'A7', 'D7', 'H7', 'D1', 'B6', 'G0', 'C0', 'G4', 'F0', 'G1', 'B1', 'H3', 'E1', 'B2', 'H1', 'H0', 'A3', 'D0', 'H2', 'A6', 'A1', 'G2', 'E0', 'F4', 'G2', 'D5', 'G3', 'F2', 'F5', 'E5', 'B3', 'C5', 'E6', 'D2', 'F1', 'B4', 'C1', 'C6', 'A4', 'G1', 'C7', 'E1', 'H3', 'B6', 'G5', 'H6', 'B5', 'G4', 'A2', 'G0', 'F0', 'D6', 'H0', 'H1', 'F6', 'F7', 'G6', 'D7', 'A7', 'C2', 'B2', 'H4', 'D1', 'B1', 'A0', 'H2', 'A6', 'E7', 'B0', 'E2', 'A1', 'G7', 'C3', 'H5', 'A3', 'A5', 'H7', 'D2', 'C2', 'F4', 'F3', 'C1', 'G6', 'C3', 'F2', 'F6', 'G4', 'H6', 'A1', 'F7', 'E6', 'G5', 'D7', 'H4', 'C4', 'G3', 'B6', 'H5', 'B0', 'D0', 'E5', 'B2', 'A6', 'G1', 'B4', 'A5', 'A4', 'G7', 'F1', 'E7', 'H0', 'H2', 'E0', 'C7', 'A3', 'B5', 'C5', 'H1', 'F0', 'E2', 'E1', 'G0', 'G2', 'B7', 'B3', 'C3', 'E2', 'F2', 'C2', 'E1', 'F1', 'F4', 'E0', 'F0', 'E5', 'D0', 'D5', 'C4', 'D2', 'B2', 'G3', 'F3', 'G2', 'F6', 'B4', 'A5', 'A4', 'F5', 'D1', 'C1', 'C0', 'H1', 'G5', 'G6', 'H2', 'A3', 'G0', 'E6', 'E7', 'G7', 'F7', 'B3', 'H5', 'G4', 'H4', 'H0', 'D6', 'C6', 'D7', 'G1', 'B5', 'B6', 'B1', 'A1', 'A6', 'B7', 'H6', 'A7', 'A0', 'B0', 'D2', 'C4', 'D5', 'E6', 'C1', 'B3', 'F5', 'F1', 'E1', 'F7', 'G0', 'G6', 'B7', 'G3', 'G2', 'H7', 'F6', 'A6', 'G4', 'A2', 'C2', 'G5', 'E5', 'H2', 'E7', 'H1', 'G7', 'B1', 'D1', 'A0', 'D0', 'C7', 'A1', 'C3', 'A7', 'B4', 'H5', 'H4', 'C5', 'G1', 'H6', 'F0', 'A3', 'A4', 'F2', 'C0', 'A5', 'H0', 'B0', 'B2', 'F4', 'D5', 'C6', 'C2', 'C3', 'F5', 'E1', 'B5', 'E6', 'F1', 'G6', 'C1', 'B3', 'H6', 'A4', 'H5', 'G0', 'H1', 'D0', 'A1', 'G2', 'D2', 'D1', 'C0', 'B0', 'F7', 'E5', 'B4', 'H7', 'F6', 'D6', 'C5', 'A2', 'E7', 'A3', 'C7', 'A6', 'H0', 'A5', 'B2', 'B6', 'B7', 'A7', 'G7', 'E5', 'F5', 'G5', 'G6', 'C3', 'G4', 'H5', 'E2', 'H3', 'C4', 'H7', 'E6', 'D5', 'C2', 'B2', 'D6', 'C7', 'A1', 'C5', 'F7', 'D7', 'B3', 'A3', 'D2', 'E7', 'F2', 'B4', 'F4', 'D1', 'B6', 'C6', 'D0', 'H6', 'C1', 'B1', 'A2', 'B0', 'G7', 'G1', 'B5', 'A6', 'G3', 'B7', 'F1', 'F3', 'G2', 'F0', 'E1', 'A4', 'H4', 'A5', 'H2', 'G0', 'H0', 'A7', 'E0', 'C0', 'E5', 'E2', 'F1', 'F4', 'G4', 'E6', 'F2', 'C4', 'D1', 'D0', 'B4', 'B3', 'C3', 'B2', 'E1', 'C0', 'G0', 'G1', 'H1', 'A3', 'G2', 'F0', 'F5', 'C5', 'E0', 'A2', 'C1', 'F7', 'G3', 'B6', 'B5', 'H4', 'E7', 'G6', 'H0', 'A6', 'H5', 'A5', 'A4', 'G7', 'B0', 'C6', 'A0', 'C7', 'B7', 'G5', 'D6', 'A7', 'F6', 'F4', 'F5', 'F6', 'C4', 'C5', 'D5', 'C3', 'B4', 'A5', 'G6', 'H7', 'C6', 'B7', 'E6', 'B6', 'D2', 'E5', 'H6', 'B3', 'D7', 'A2', 'G7', 'A3', 'H5', 'A6', 'C1', 'G4', 'C7', 'B0', 'G3', 'B5', 'E1', 'C2', 'B1', 'D1', 'H4', 'E7', 'F3', 'A0', 'C0', 'A7', 'A4', 'G2', 'F2', 'D0', 'A1', 'G5', 'H1', 'E2', 'G1', 'F1', 'B2', 'F7', 'E0', 'F0', 'H2', 'G0', 'F4', 'G2', 'E5', 'F2', 'D5', 'C6', 'F5', 'E6', 'F6', 'F7', 'E2', 'C3', 'H1', 'H3', 'B7', 'C4', 'G4', 'C2', 'F1', 'E0', 'C1', 'B2', 'A3', 'C0', 'D1', 'E7', 'G1', 'F0', 'H7', 'G3', 'H0', 'H4', 'D0', 'B0', 'B3', 'D6', 'G5', 'A4', 'E1', 'A2', 'H6', 'A5', 'A1', 'H5', 'B4', 'A7', 'G0', 'B5', 'C7', 'D7', 'F4', 'D5', 'C2', 'F2', 'F3', 'G4', 'C5', 'C4', 'G5', 'C6', 'G3', 'F5', 'E2', 'A4', 'H1', 'C3', 'E6', 'H0', 'E1', 'D0', 'E5', 'F7', 'B2', 'B7', 'A3', 'C7', 'D7', 'E7', 'D1', 'H6', 'A5', 'B0', 'F6', 'B6', 'E0', 'F0', 'B5', 'G7', 'B1', 'A1', 'D6', 'C0', 'A2', 'G0', 'H5', 'F1', 'A7', 'H4', 'A0', 'A6', 'F4', 'D5', 'C6', 'F5', 'C3', 'F2', 'G6', 'D2', 'C1', 'H7', 'F3', 'G3', 'C4', 'G5', 'E2', 'B0', 'D1', 'E5', 'H5', 'F6', 'G4', 'B2', 'E7', 'F7', 'D6', 'E6', 'G2', 'C2', 'G7', 'H3', 'H4', 'E1', 'A1', 'B6', 'C7', 'C5', 'E0', 'H6', 'B5', 'F1', 'B1', 'A5', 'B4', 'D7', 'G0', 'A0', 'B7', 'B3', 'H1', 'A3', 'D0', 'A2', 'C0', 'A7', 'A4', 'G1', 'A6', 'F0', 'H2', 'C3', 'C2', 'C4', 'F5', 'F3', 'F4', 'E2', 'B4', 'F6', 'C1', 'B5', 'B6', 'D1', 'D0', 'E5', 'G3', 'A5', 'G4', 'H4', 'D5', 'A3', 'H2', 'D6', 'G5', 'B3', 'G6', 'B0', 'G2', 'B2', 'A1', 'A2', 'F2', 'C7', 'E6', 'E7', 'D7', 'F7', 'C5', 'H5', 'C0', 'H6', 'H7', 'F1', 'G1', 'H0', 'E1', 'B7', 'A0', 'E0', 'A6', 'H1', 'A7', 'C6', 'B1', 'G0', 'F4', 'C2', 'G3', 'C4', 'B5', 'B4', 'G6', 'E2', 'F1', 'B6', 'D5', 'F6', 'G5', 'G0', 'F7', 'D6', 'C3', 'E5', 'D2', 'E1', 'A4', 'G7', 'B7', 'G4', 'B2', 'A6', 'H5', 'E7', 'F0', 'G2', 'H2', 'H4', 'F2', 'C6', 'H0', 'D1', 'C7', 'A2', 'E0', 'C1', 'B0', 'C5', 'D7', 'H7', 'B3', 'A5', 'A3', 'A7', 'B1', 'G1', 'H1', 'D0', 'A1', 'A0', 'E6', 'D2', 'F4', 'E5', 'C3', 'F2', 'G4', 'G5', 'G2', 'E6', 'D1', 'C5', 'E7', 'H4', 'F5', 'C4', 'C0', 'F1', 'B4', 'B2', 'F0', 'G1', 'H6', 'E1', 'H0', 'G0', 'B1', 'B0', 'D0', 'D6', 'H7', 'F6', 'D5', 'C1', 'A3', 'A1', 'F7', 'B5', 'H2', 'G3', 'B6', 'A7', 'B3', 'C6', 'A6', 'E0', 'G7', 'A2', 'D7', 'C7', 'B7', 'A4', 'A5', 'E5', 'F5', 'D2', 'D5', 'D6', 'C4', 'B3', 'E2', 'F4', 'B5', 'F2', 'C5', 'C6', 'F1', 'C2', 'G3', 'G4', 'G5', 'B4', 'A5', 'E6', 'C7', 'C1', 'G6', 'A4', 'B6', 'G2', 'F3', 'D1', 'C0', 'E0', 'H5', 'A6', 'G0', 'A3', 'H2', 'F6', 'H6', 'A2', 'B2', 'H7', 'G1', 'B0', 'E1', 'H1', 'D0', 'F7', 'E7', 'H4', 'B7', 'H0', 'C3', 'G7', 'B1', 'A7', 'F0', 'C3', 'C4', 'E5', 'C2', 'B1', 'B2', 'A0', 'B4', 'E6', 'C1', 'A4', 'F5', 'E2', 'D5', 'B3', 'D2', 'D0', 'E0', 'F3', 'B5', 'G5', 'A2', 'G3', 'A5', 'C5', 'G4', 'F6', 'F1', 'C7', 'B0', 'F7', 'A3', 'H4', 'C0', 'F2', 'B6', 'G2', 'G6', 'H5', 'H3', 'A6', 'G7', 'H6', 'C6', 'H2', 'G1', 'F0', 'H0', 'H7', 'A7', 'H1', 'G0', 'A1', 'B7', 'E5', 'D5', 'C4', 'B5', 'C2', 'F3', 'F5', 'D2', 'C1', 'G5', 'D6', 'C3', 'H5', 'D1', 'B3', 'C5', 'B6', 'C6', 'A7', 'F4', 'E1', 'H6', 'G4', 'C0', 'B1', 'G6', 'B2', 'G2', 'A1', 'A3', 'E0', 'D0', 'G3', 'F1', 'C7', 'A2', 'G0', 'E7', 'H1', 'F2', 'F6', 'A5', 'H4', 'E6', 'F7', 'G7', 'D7', 'H3', 'A6', 'B7', 'H2', 'H7', 'H0', 'F0', 'F4', 'D5', 'C6', 'F5', 'G5', 'F2', 'C1', 'C4', 'F6', 'G2', 'E2', 'F1', 'C7', 'B2', 'E6', 'E1', 'G3', 'D6', 'G4', 'H0', 'G6', 'B6', 'C0', 'D0', 'F0', 'H5', 'H4', 'H1', 'A5', 'E0', 'G0', 'B4', 'A3', 'H2', 'C2', 'D7', 'A2', 'B5', 'A6', 'H7', 'E7', 'A7', 'F7', 'B0', 'H6', 'B3', 'B7', 'A1', 'E5', 'G7', 'A0', 'A4', 'C3', 'C2', 'C4', 'D5', 'E5', 'F3', 'E1', 'B4', 'A5', 'E6', 'D6', 'C5', 'C6', 'D7', 'H1', 'F7', 'C7', 'D1', 'C1', 'F6', 'E7', 'A4', 'F2', 'A6', 'F5', 'G3', 'C0', 'B7', 'G1', 'G0', 'E0', 'B2', 'F0', 'B5', 'H0', 'G4', 'G6', 'H5', 'D0', 'F1', 'A0', 'B0', 'A7', 'H4', 'H7', 'H6', 'G5', 'D2', 'C2', 'C3', 'C4', 'F5', 'D1', 'C1', 'C0', 'B3', 'F2', 'B4', 'A4', 'B0', 'B1', 'E0', 'B2', 'G3', 'D5', 'B5', 'F1', 'E6', 'G2', 'E1', 'F4', 'H4', 'H5', 'A5', 'A6', 'E5', 'F6', 'G1', 'C6', 'A1', 'D6', 'F7', 'G6', 'A3', 'C7', 'B6', 'B7', 'H6', 'G5', 'G0', 'A7', 'G4', 'H0', 'H1', 'E7', 'D7', 'H7', 'D2', 'C3', 'G4', 'C5', 'E5', 'G1', 'C6', 'B5', 'E1', 'H1', 'G3', 'A5', 'C1', 'B4', 'F4', 'B6', 'E0', 'D0', 'A6', 'G5', 'H6', 'A7', 'D6', 'A3', 'B7', 'F6', 'A4', 'B2', 'B1', 'A2', 'E7', 'A0', 'F0', 'F1', 'C7', 'F5', 'A1', 'D1', 'G0', 'H0', 'G6', 'H3', 'H2', 'H7', 'G7', 'C0', 'E6', 'F7', 'H4', 'H5', 'F4', 'D5', 'C3', 'E1', 'B5', 'D6', 'G3', 'C4', 'C2', 'H6', 'D1', 'E5', 'F2', 'B4', 'D0', 'E6', 'F6', 'E2', 'F5', 'D7', 'B2', 'G7', 'C7', 'A4', 'G6', 'E0', 'G1', 'H7', 'C0', 'B6', 'A3', 'B7', 'A6', 'B3', 'F0', 'B1', 'A2', 'H2', 'E7', 'G2', 'H4', 'H0', 'C6', 'G0', 'A0', 'G4', 'B0', 'F1', 'F7', 'H5', 'H1', 'D2', 'C4', 'C5', 'F1', 'F0', 'C2', 'D1', 'C1', 'E0', 'B4', 'G3', 'C3', 'A3', 'F5', 'B1', 'A0', 'A1', 'B5', 'D5', 'E5', 'B2', 'D0', 'F6', 'B3', 'G5', 'B7', 'D6', 'E7', 'C7', 'B0', 'A6', 'B6', 'A4', 'A2', 'A7', 'G1', 'H1', 'G4', 'G2', 'F4', 'H5', 'G0', 'H0', 'H6', 'D7', 'E6', 'G7', 'H2', 'H7', 'F7', 'H4', 'D2', 'C4', 'E5', 'F2', 'F3', 'F6', 'E6', 'E2', 'E1', 'D0', 'F0', 'F4', 'G1', 'D1', 'C5', 'G3', 'C3', 'B3', 'G7', 'D5', 'C1', 'F7', 'D6', 'B6', 'E7', 'B2', 'B4', 'A5', 'A3', 'H4', 'E0', 'F1', 'B1', 'H2', 'F5', 'C7', 'C0', 'B0', 'G0', 'G5', 'H5', 'H6', 'G6', 'C2', 'A1', 'A2', 'B5', 'H1', 'C6', 'G2', 'H7', 'A6', 'A7', 'A4', 'H0', 'B7', 'E5', 'D5', 'C3', 'D2', 'E1', 'C1', 'F2', 'F5', 'G2', 'F6', 'C4', 'G3', 'C2', 'C5', 'H3', 'E6', 'E2', 'F1', 'H1', 'B3', 'B5', 'G5', 'D6', 'G7', 'B6', 'A2', 'B4', 'G4', 'E0', 'G0', 'C7', 'D0', 'G6', 'B7', 'F4', 'A1', 'F0', 'A6', 'F7', 'A7', 'G1', 'H4', 'H6', 'A4', 'H5', 'H0', 'A5', 'E7', 'A3', 'H7', 'B0', 'B1', 'C3', 'C4', 'E5', 'C2', 'B1', 'E6', 'F6', 'E2', 'F5', 'G3', 'G6', 'B2', 'F1', 'F4', 'C1', 'E1', 'E7', 'H2', 'G4', 'D5', 'G0', 'F0', 'C6', 'F7', 'D6', 'B3', 'D1', 'C7', 'H4', 'C5', 'H3', 'G1', 'D7', 'G2', 'H6', 'B6', 'F2', 'A1', 'A2', 'B7', 'B5', 'H1', 'H5', 'A3', 'H0', 'A7', 'B4', 'A6', 'A4', 'B0', 'C0', 'D0', 'H7', 'E5', 'F5', 'C3', 'C4', 'B5', 'E2', 'E1', 'F6', 'E6', 'D7', 'G5', 'D2', 'F7', 'G7', 'C5', 'A6', 'D5', 'D6', 'G2', 'B6', 'C7', 'B3', 'A5', 'A4', 'D1', 'G6', 'F4', 'E7', 'C6', 'B4', 'D0', 'A3', 'B2', 'A1', 'G4', 'C2', 'B7', 'F2', 'A2', 'B1', 'A0', 'C1', 'H1', 'F1', 'G1', 'H0', 'H6', 'C0', 'G3', 'H2', 'H4', 'B0', 'G0', 'E0', 'C3', 'E2', 'F2', 'C4', 'E1', 'B3', 'C5', 'E5', 'B5', 'D5', 'A3', 'C2', 'C1', 'B4', 'E6', 'D6', 'C7', 'A4', 'F1', 'D2', 'F3', 'G4', 'D1', 'G0', 'D7', 'B7', 'B0', 'F0', 'A2', 'G1', 'B1', 'A1', 'A6', 'A5', 'C0', 'A7', 'G2', 'B2', 'F6', 'E7', 'F4', 'G7', 'F7', 'F5', 'H0', 'H5', 'C6', 'G3', 'E0', 'D0', 'H1', 'A0', 'H6', 'G6', 'C3', 'C4', 'F5', 'B2', 'C5', 'E2', 'B4', 'D5', 'C2', 'E5', 'F4', 'B5', 'E1', 'G6', 'F6', 'C1', 'B6', 'G7', 'C0', 'E6', 'G5', 'B3', 'F2', 'A5', 'C6', 'D6', 'G4', 'A1', 'A3', 'A7', 'B1', 'F7', 'G1', 'G2', 'A2', 'A0', 'F0', 'A4', 'E0', 'B7', 'E7', 'D0', 'H5', 'F3', 'D1', 'G0', 'H0', 'C7', 'H6', 'B0', 'H4', 'H2', 'H1', 'F1', 'E5', 'D2', 'F5', 'B6', 'B5', 'B4', 'C2', 'E6', 'G3', 'G5', 'A5', 'B2', 'D6', 'H7', 'E7', 'D1', 'A3', 'C3', 'D0', 'B7', 'A4', 'H5', 'H6', 'H4', 'F6', 'A1', 'C4', 'B1', 'A7', 'H2', 'C1', 'F2', 'C6', 'G2', 'E2', 'C7', 'F1', 'F7', 'A0', 'C0', 'D7', 'E1', 'A2', 'B0', 'A6', 'G1', 'F0', 'H1', 'E0', 'G0', 'C3', 'C2', 'F4', 'D5', 'E5', 'C4', 'B4', 'B5', 'D6', 'F6', 'B1', 'A4', 'F5', 'C1', 'B3', 'A1', 'F7', 'D2', 'E2', 'D1', 'G3', 'G4', 'A3', 'H6', 'G6', 'A5', 'B2', 'C0', 'B0', 'E1', 'G7', 'H7', 'E7', 'C6', 'C7', 'H5', 'E6', 'D7', 'A7', 'F2', 'G1', 'F3', 'H2', 'H1', 'G2', 'H0', 'F0', 'G0', 'B7', 'D0', 'E0', 'A0', 'F1', 'H4', 'F4', 'F5', 'F6', 'G4', 'C3', 'C4', 'C5', 'E2', 'F1', 'B4', 'F3', 'F2', 'B5', 'C2', 'H5', 'D2', 'C1', 'G3', 'D5', 'B1', 'H4', 'A0', 'B3', 'E1', 'H6', 'H7', 'D6', 'G1', 'F7', 'G2', 'B6', 'A5', 'B2', 'C0', 'D0', 'B7', 'H1', 'H0', 'A6', 'F0', 'A7', 'A2', 'A1', 'E0', 'C7', 'E7', 'C6', 'G7', 'E5', 'D7', 'A3', 'E6', 'G0', 'G6', 'D1', 'G5', 'C3', 'E2', 'F4', 'E5', 'G3', 'C4', 'F3', 'F2', 'F1', 'G0', 'B6', 'G4', 'D2', 'C6', 'G6', 'B2', 'B3', 'F5', 'E1', 'B1', 'A6', 'D5', 'H5', 'B0', 'G1', 'H6', 'F7', 'E0', 'A3', 'B5', 'B4', 'A7', 'H7', 'B7', 'A1', 'H3', 'H4', 'H1', 'D6', 'D7', 'E7', 'A2', 'D0', 'F6', 'D1', 'G7', 'C0', 'C7', 'C2', 'A0', 'H0', 'F0', 'H2', 'A4', 'A5', 'D2', 'C2', 'E5', 'D5', 'B2', 'F2', 'C4', 'C1', 'E2', 'C5', 'C3', 'A2', 'F5', 'C6', 'B6', 'B5', 'F4', 'G1', 'G3', 'G5', 'B7', 'H0', 'A7', 'D1', 'E0', 'E6', 'G4', 'H4', 'B1', 'E1', 'C7', 'A0', 'D0', 'B3', 'H6', 'E7', 'F0', 'G2', 'A5', 'D6', 'A3', 'A4', 'H2', 'G6', 'F6', 'F1', 'A6', 'G0', 'B0', 'H7', 'H1', 'A1', 'G7', 'F7', 'D2', 'G2', 'G5', 'F5', 'F2', 'F1', 'H6', 'H5', 'E1', 'C4', 'B5', 'H1', 'B2', 'G1', 'G6', 'F7', 'H2', 'D1', 'G0', 'H0', 'C0', 'C1', 'H7', 'H4', 'E0', 'A3', 'G4', 'D5', 'B1', 'B3', 'A4', 'F6', 'B4', 'C3', 'A2', 'A1', 'E6', 'E5', 'A0', 'G7', 'E7', 'D7', 'D0', 'C6', 'D6', 'C5', 'F0', 'A5', 'A6', 'B6', 'C7', 'B0', 'A7', 'F4', 'C2', 'C3', 'G2', 'E5', 'F2', 'G3', 'H4', 'B2', 'C1', 'B3', 'G4', 'D0', 'D6', 'D5', 'F5', 'A1', 'D1', 'H1', 'H2', 'A0', 'E1', 'B4', 'E6', 'F7', 'A2', 'D2', 'A3', 'E0', 'H5', 'A4', 'G5', 'G6', 'C6', 'C0', 'F1', 'A5', 'F6', 'H6', 'A6', 'B7', 'G0', 'B5', 'D7', 'C7', 'H0', 'G7', 'E7', 'F4', 'F5', 'E5', 'D5', 'G6', 'G4', 'C3', 'B2', 'C5', 'F3', 'F2', 'H7', 'B3', 'F1', 'G5', 'C4', 'G3', 'D6', 'C6', 'B4', 'E1', 'E6', 'G1', 'G2', 'A4', 'D2', 'E2', 'C7', 'D1', 'C2', 'H3', 'H0', 'D7', 'A3', 'H5', 'G0', 'H1', 'C1', 'B1', 'F0', 'A1', 'H4', 'A5', 'F7', 'E7', 'B0', 'C0', 'H6', 'H2', 'F6', 'G7', 'D0', 'A2', 'B5', 'B6', 'A6', 'E0', 'A0', 'B7', 'D2', 'C4', 'B5', 'C2', 'C5', 'C1', 'F4', 'B2', 'A6', 'C0', 'A5', 'B4', 'G2', 'D0', 'E2', 'D5', 'E6', 'D6', 'C3', 'F6', 'H3', 'B6', 'A0', 'H2', 'A7', 'E5', 'E0', 'H4', 'C6', 'A3', 'G6', 'C7', 'B7', 'A1', 'F1', 'G1', 'D7', 'E1', 'G0', 'H5', 'A4', 'H6', 'F0', 'H0', 'H1', 'B3', 'E7', 'F7', 'C3', 'C4', 'B5', 'B4', 'E5', 'C2', 'B3', 'F5', 'E2', 'A4', 'C1', 'C6', 'D5', 'D2', 'F4', 'D1', 'E0', 'E6', 'F2', 'B2', 'H6', 'B6', 'A2', 'C0', 'F6', 'B7', 'A5', 'A3', 'E7', 'G7', 'D6', 'E1', 'B0', 'G1', 'G2', 'F7', 'H7', 'G4', 'D0', 'H2', 'H4', 'H5', 'G6', 'F3', 'A6', 'H0', 'G0', 'H1', 'F1', 'A7', 'G3', 'C3', 'C4', 'C5', 'C1', 'D5', 'E6', 'B6', 'C6', 'B7', 'F4', 'F5', 'A7', 'B3', 'G4', 'G6', 'H7', 'F3', 'B4', 'E5', 'A4', 'A3', 'D7', 'A2', 'B5', 'D2', 'B0', 'F6', 'A5', 'D1', 'G7', 'D6', 'A1', 'A6', 'E0', 'C0', 'D0', 'H3', 'B2', 'G2', 'H2', 'G3', 'H1', 'F2', 'F7', 'B1', 'F1', 'C7', 'H6', 'H5', 'E2', 'G1', 'A0', 'F0', 'E7', 'E1', 'H0', 'G0', 'C3', 'C4', 'F5', 'C2', 'B5', 'F4', 'B1', 'C5', 'C6', 'G4', 'E5', 'D6', 'G6', 'G5', 'G3', 'C1', 'E1', 'F6', 'H7', 'H6', 'H2', 'F1', 'H5', 'B4', 'A3', 'G2', 'G1', 'H1', 'A1', 'A2', 'G7', 'H3', 'D5', 'H4', 'H0', 'A6', 'A4', 'B0', 'G0', 'F2', 'B2', 'E0', 'D1', 'C0', 'E6', 'F0', 'E7', 'A5', 'B6', 'C7', 'B7', 'D7', 'A7', 'C3', 'E2', 'F1', 'E1', 'G0', 'F5', 'G4', 'G3', 'E5', 'D5', 'H3', 'G2', 'C5', 'E0', 'E6', 'G5', 'F6', 'C4', 'B2', 'B3', 'F2', 'D7', 'B4', 'G7', 'E7', 'F7', 'F0', 'B6', 'F4', 'G1', 'D0', 'A2', 'C6', 'C2', 'D2', 'D1', 'H2', 'A4', 'C0', 'C7', 'A7', 'B5', 'G6', 'H4', 'B7', 'H7', 'A5', 'A6', 'A3', 'H0', 'C1', 'B1', 'A1', 'D6', 'H6', 'H1', 'B0', 'A0', 'E5', 'D2', 'C1', 'C3', 'B2', 'F2', 'G1', 'B4', 'B3', 'B1', 'G2', 'G4', 'E1', 'F0', 'E0', 'F6', 'B0', 'D5', 'A3', 'D0', 'C6', 'F4', 'E6', 'D1', 'C2', 'C4', 'F5', 'D6', 'C5', 'C7', 'A0', 'H2', 'B7', 'G5', 'D7', 'H6', 'B6', 'F1', 'G3', 'G7', 'A2', 'H5', 'F7', 'A1', 'C0', 'G0', 'B5', 'A5', 'H1', 'E7', 'A7', 'H3', 'A6', 'H0']\n",
      "Fraction of time current_move==E0 when L0N774 activates: 0.017397882416844368\n"
     ]
    }
   ],
   "source": [
    "neuron_activated_mask = neuron_acts_post > 0.0\n",
    "current_move_when_active = focus_games_int[:, :-1][neuron_activated_mask.cpu()]\n",
    "print(\"Current move when L0774 activates:\", int_to_label(current_move_when_active))\n",
    "print(\"Fraction of time current_move==E0 when L0N774 activates:\", (current_move_when_active == to_int('E0')).float().mean().item())"
   ]
  },
  {
   "cell_type": "code",
   "execution_count": 43,
   "metadata": {},
   "outputs": [
    {
     "data": {
      "application/vnd.plotly.v1+json": {
       "config": {
        "plotlyServerURL": "https://plot.ly"
       },
       "data": [
        {
         "coloraxis": "coloraxis",
         "hovertemplate": "x: %{x}<br>y: %{y}<br>color: %{z}<extra></extra>",
         "name": "0",
         "type": "heatmap",
         "x": [
          "0",
          "1",
          "2",
          "3",
          "4",
          "5",
          "6",
          "7"
         ],
         "xaxis": "x",
         "y": [
          "A",
          "B",
          "C",
          "D",
          "E",
          "F",
          "G",
          "H"
         ],
         "yaxis": "y",
         "z": [
          [
           0,
           0.10000000894069672,
           -0.10000000894069672,
           -0.1666666716337204,
           -0.36666667461395264,
           -0.06666667014360428,
           0.10000000894069672,
           0.06666667014360428
          ],
          [
           -0.10000000894069672,
           0.03333333507180214,
           -0.2666666805744171,
           -0.10000000894069672,
           -0.1666666716337204,
           0.1666666716337204,
           -0.03333333507180214,
           0.20000001788139343
          ],
          [
           0.06666667014360428,
           -0.36666667461395264,
           -0.06666667014360428,
           -0.10000000894069672,
           -0.20000001788139343,
           -0.03333333507180214,
           -0.23333334922790527,
           0.06666667014360428
          ],
          [
           -0.10000000894069672,
           -0.1666666716337204,
           -0.06666667014360428,
           0.13333334028720856,
           -0.20000001788139343,
           0.13333334028720856,
           -0.13333334028720856,
           0.03333333507180214
          ],
          [
           0.13333334028720856,
           -0.1666666716337204,
           0.1666666716337204,
           -0.06666667014360428,
           -0.3333333432674408,
           0.10000000894069672,
           -0.13333334028720856,
           0.1666666716337204
          ],
          [
           0,
           -0.13333334028720856,
           -0.20000001788139343,
           -0.30000001192092896,
           -0.36666667461395264,
           -0.23333334922790527,
           0,
           0.03333333507180214
          ],
          [
           0.13333334028720856,
           -0.06666667014360428,
           -0.20000001788139343,
           -0.10000000894069672,
           -0.06666667014360428,
           -0.03333333507180214,
           -0.1666666716337204,
           0.13333334028720856
          ],
          [
           0.03333333507180214,
           -0.2666666805744171,
           -0.10000000894069672,
           -0.23333334922790527,
           -0.06666667014360428,
           -0.03333333507180214,
           -0.10000000894069672,
           -0.13333334028720856
          ]
         ]
        }
       ],
       "layout": {
        "coloraxis": {
         "cmid": 0,
         "colorscale": [
          [
           0,
           "rgb(103,0,31)"
          ],
          [
           0.1,
           "rgb(178,24,43)"
          ],
          [
           0.2,
           "rgb(214,96,77)"
          ],
          [
           0.3,
           "rgb(244,165,130)"
          ],
          [
           0.4,
           "rgb(253,219,199)"
          ],
          [
           0.5,
           "rgb(247,247,247)"
          ],
          [
           0.6,
           "rgb(209,229,240)"
          ],
          [
           0.7,
           "rgb(146,197,222)"
          ],
          [
           0.8,
           "rgb(67,147,195)"
          ],
          [
           0.9,
           "rgb(33,102,172)"
          ],
          [
           1,
           "rgb(5,48,97)"
          ]
         ]
        },
        "template": {
         "data": {
          "bar": [
           {
            "error_x": {
             "color": "#2a3f5f"
            },
            "error_y": {
             "color": "#2a3f5f"
            },
            "marker": {
             "line": {
              "color": "#E5ECF6",
              "width": 0.5
             },
             "pattern": {
              "fillmode": "overlay",
              "size": 10,
              "solidity": 0.2
             }
            },
            "type": "bar"
           }
          ],
          "barpolar": [
           {
            "marker": {
             "line": {
              "color": "#E5ECF6",
              "width": 0.5
             },
             "pattern": {
              "fillmode": "overlay",
              "size": 10,
              "solidity": 0.2
             }
            },
            "type": "barpolar"
           }
          ],
          "carpet": [
           {
            "aaxis": {
             "endlinecolor": "#2a3f5f",
             "gridcolor": "white",
             "linecolor": "white",
             "minorgridcolor": "white",
             "startlinecolor": "#2a3f5f"
            },
            "baxis": {
             "endlinecolor": "#2a3f5f",
             "gridcolor": "white",
             "linecolor": "white",
             "minorgridcolor": "white",
             "startlinecolor": "#2a3f5f"
            },
            "type": "carpet"
           }
          ],
          "choropleth": [
           {
            "colorbar": {
             "outlinewidth": 0,
             "ticks": ""
            },
            "type": "choropleth"
           }
          ],
          "contour": [
           {
            "colorbar": {
             "outlinewidth": 0,
             "ticks": ""
            },
            "colorscale": [
             [
              0,
              "#0d0887"
             ],
             [
              0.1111111111111111,
              "#46039f"
             ],
             [
              0.2222222222222222,
              "#7201a8"
             ],
             [
              0.3333333333333333,
              "#9c179e"
             ],
             [
              0.4444444444444444,
              "#bd3786"
             ],
             [
              0.5555555555555556,
              "#d8576b"
             ],
             [
              0.6666666666666666,
              "#ed7953"
             ],
             [
              0.7777777777777778,
              "#fb9f3a"
             ],
             [
              0.8888888888888888,
              "#fdca26"
             ],
             [
              1,
              "#f0f921"
             ]
            ],
            "type": "contour"
           }
          ],
          "contourcarpet": [
           {
            "colorbar": {
             "outlinewidth": 0,
             "ticks": ""
            },
            "type": "contourcarpet"
           }
          ],
          "heatmap": [
           {
            "colorbar": {
             "outlinewidth": 0,
             "ticks": ""
            },
            "colorscale": [
             [
              0,
              "#0d0887"
             ],
             [
              0.1111111111111111,
              "#46039f"
             ],
             [
              0.2222222222222222,
              "#7201a8"
             ],
             [
              0.3333333333333333,
              "#9c179e"
             ],
             [
              0.4444444444444444,
              "#bd3786"
             ],
             [
              0.5555555555555556,
              "#d8576b"
             ],
             [
              0.6666666666666666,
              "#ed7953"
             ],
             [
              0.7777777777777778,
              "#fb9f3a"
             ],
             [
              0.8888888888888888,
              "#fdca26"
             ],
             [
              1,
              "#f0f921"
             ]
            ],
            "type": "heatmap"
           }
          ],
          "heatmapgl": [
           {
            "colorbar": {
             "outlinewidth": 0,
             "ticks": ""
            },
            "colorscale": [
             [
              0,
              "#0d0887"
             ],
             [
              0.1111111111111111,
              "#46039f"
             ],
             [
              0.2222222222222222,
              "#7201a8"
             ],
             [
              0.3333333333333333,
              "#9c179e"
             ],
             [
              0.4444444444444444,
              "#bd3786"
             ],
             [
              0.5555555555555556,
              "#d8576b"
             ],
             [
              0.6666666666666666,
              "#ed7953"
             ],
             [
              0.7777777777777778,
              "#fb9f3a"
             ],
             [
              0.8888888888888888,
              "#fdca26"
             ],
             [
              1,
              "#f0f921"
             ]
            ],
            "type": "heatmapgl"
           }
          ],
          "histogram": [
           {
            "marker": {
             "pattern": {
              "fillmode": "overlay",
              "size": 10,
              "solidity": 0.2
             }
            },
            "type": "histogram"
           }
          ],
          "histogram2d": [
           {
            "colorbar": {
             "outlinewidth": 0,
             "ticks": ""
            },
            "colorscale": [
             [
              0,
              "#0d0887"
             ],
             [
              0.1111111111111111,
              "#46039f"
             ],
             [
              0.2222222222222222,
              "#7201a8"
             ],
             [
              0.3333333333333333,
              "#9c179e"
             ],
             [
              0.4444444444444444,
              "#bd3786"
             ],
             [
              0.5555555555555556,
              "#d8576b"
             ],
             [
              0.6666666666666666,
              "#ed7953"
             ],
             [
              0.7777777777777778,
              "#fb9f3a"
             ],
             [
              0.8888888888888888,
              "#fdca26"
             ],
             [
              1,
              "#f0f921"
             ]
            ],
            "type": "histogram2d"
           }
          ],
          "histogram2dcontour": [
           {
            "colorbar": {
             "outlinewidth": 0,
             "ticks": ""
            },
            "colorscale": [
             [
              0,
              "#0d0887"
             ],
             [
              0.1111111111111111,
              "#46039f"
             ],
             [
              0.2222222222222222,
              "#7201a8"
             ],
             [
              0.3333333333333333,
              "#9c179e"
             ],
             [
              0.4444444444444444,
              "#bd3786"
             ],
             [
              0.5555555555555556,
              "#d8576b"
             ],
             [
              0.6666666666666666,
              "#ed7953"
             ],
             [
              0.7777777777777778,
              "#fb9f3a"
             ],
             [
              0.8888888888888888,
              "#fdca26"
             ],
             [
              1,
              "#f0f921"
             ]
            ],
            "type": "histogram2dcontour"
           }
          ],
          "mesh3d": [
           {
            "colorbar": {
             "outlinewidth": 0,
             "ticks": ""
            },
            "type": "mesh3d"
           }
          ],
          "parcoords": [
           {
            "line": {
             "colorbar": {
              "outlinewidth": 0,
              "ticks": ""
             }
            },
            "type": "parcoords"
           }
          ],
          "pie": [
           {
            "automargin": true,
            "type": "pie"
           }
          ],
          "scatter": [
           {
            "fillpattern": {
             "fillmode": "overlay",
             "size": 10,
             "solidity": 0.2
            },
            "type": "scatter"
           }
          ],
          "scatter3d": [
           {
            "line": {
             "colorbar": {
              "outlinewidth": 0,
              "ticks": ""
             }
            },
            "marker": {
             "colorbar": {
              "outlinewidth": 0,
              "ticks": ""
             }
            },
            "type": "scatter3d"
           }
          ],
          "scattercarpet": [
           {
            "marker": {
             "colorbar": {
              "outlinewidth": 0,
              "ticks": ""
             }
            },
            "type": "scattercarpet"
           }
          ],
          "scattergeo": [
           {
            "marker": {
             "colorbar": {
              "outlinewidth": 0,
              "ticks": ""
             }
            },
            "type": "scattergeo"
           }
          ],
          "scattergl": [
           {
            "marker": {
             "colorbar": {
              "outlinewidth": 0,
              "ticks": ""
             }
            },
            "type": "scattergl"
           }
          ],
          "scattermapbox": [
           {
            "marker": {
             "colorbar": {
              "outlinewidth": 0,
              "ticks": ""
             }
            },
            "type": "scattermapbox"
           }
          ],
          "scatterpolar": [
           {
            "marker": {
             "colorbar": {
              "outlinewidth": 0,
              "ticks": ""
             }
            },
            "type": "scatterpolar"
           }
          ],
          "scatterpolargl": [
           {
            "marker": {
             "colorbar": {
              "outlinewidth": 0,
              "ticks": ""
             }
            },
            "type": "scatterpolargl"
           }
          ],
          "scatterternary": [
           {
            "marker": {
             "colorbar": {
              "outlinewidth": 0,
              "ticks": ""
             }
            },
            "type": "scatterternary"
           }
          ],
          "surface": [
           {
            "colorbar": {
             "outlinewidth": 0,
             "ticks": ""
            },
            "colorscale": [
             [
              0,
              "#0d0887"
             ],
             [
              0.1111111111111111,
              "#46039f"
             ],
             [
              0.2222222222222222,
              "#7201a8"
             ],
             [
              0.3333333333333333,
              "#9c179e"
             ],
             [
              0.4444444444444444,
              "#bd3786"
             ],
             [
              0.5555555555555556,
              "#d8576b"
             ],
             [
              0.6666666666666666,
              "#ed7953"
             ],
             [
              0.7777777777777778,
              "#fb9f3a"
             ],
             [
              0.8888888888888888,
              "#fdca26"
             ],
             [
              1,
              "#f0f921"
             ]
            ],
            "type": "surface"
           }
          ],
          "table": [
           {
            "cells": {
             "fill": {
              "color": "#EBF0F8"
             },
             "line": {
              "color": "white"
             }
            },
            "header": {
             "fill": {
              "color": "#C8D4E3"
             },
             "line": {
              "color": "white"
             }
            },
            "type": "table"
           }
          ]
         },
         "layout": {
          "annotationdefaults": {
           "arrowcolor": "#2a3f5f",
           "arrowhead": 0,
           "arrowwidth": 1
          },
          "autotypenumbers": "strict",
          "coloraxis": {
           "colorbar": {
            "outlinewidth": 0,
            "ticks": ""
           }
          },
          "colorscale": {
           "diverging": [
            [
             0,
             "#8e0152"
            ],
            [
             0.1,
             "#c51b7d"
            ],
            [
             0.2,
             "#de77ae"
            ],
            [
             0.3,
             "#f1b6da"
            ],
            [
             0.4,
             "#fde0ef"
            ],
            [
             0.5,
             "#f7f7f7"
            ],
            [
             0.6,
             "#e6f5d0"
            ],
            [
             0.7,
             "#b8e186"
            ],
            [
             0.8,
             "#7fbc41"
            ],
            [
             0.9,
             "#4d9221"
            ],
            [
             1,
             "#276419"
            ]
           ],
           "sequential": [
            [
             0,
             "#0d0887"
            ],
            [
             0.1111111111111111,
             "#46039f"
            ],
            [
             0.2222222222222222,
             "#7201a8"
            ],
            [
             0.3333333333333333,
             "#9c179e"
            ],
            [
             0.4444444444444444,
             "#bd3786"
            ],
            [
             0.5555555555555556,
             "#d8576b"
            ],
            [
             0.6666666666666666,
             "#ed7953"
            ],
            [
             0.7777777777777778,
             "#fb9f3a"
            ],
            [
             0.8888888888888888,
             "#fdca26"
            ],
            [
             1,
             "#f0f921"
            ]
           ],
           "sequentialminus": [
            [
             0,
             "#0d0887"
            ],
            [
             0.1111111111111111,
             "#46039f"
            ],
            [
             0.2222222222222222,
             "#7201a8"
            ],
            [
             0.3333333333333333,
             "#9c179e"
            ],
            [
             0.4444444444444444,
             "#bd3786"
            ],
            [
             0.5555555555555556,
             "#d8576b"
            ],
            [
             0.6666666666666666,
             "#ed7953"
            ],
            [
             0.7777777777777778,
             "#fb9f3a"
            ],
            [
             0.8888888888888888,
             "#fdca26"
            ],
            [
             1,
             "#f0f921"
            ]
           ]
          },
          "colorway": [
           "#636efa",
           "#EF553B",
           "#00cc96",
           "#ab63fa",
           "#FFA15A",
           "#19d3f3",
           "#FF6692",
           "#B6E880",
           "#FF97FF",
           "#FECB52"
          ],
          "font": {
           "color": "#2a3f5f"
          },
          "geo": {
           "bgcolor": "white",
           "lakecolor": "white",
           "landcolor": "#E5ECF6",
           "showlakes": true,
           "showland": true,
           "subunitcolor": "white"
          },
          "hoverlabel": {
           "align": "left"
          },
          "hovermode": "closest",
          "mapbox": {
           "style": "light"
          },
          "paper_bgcolor": "white",
          "plot_bgcolor": "#E5ECF6",
          "polar": {
           "angularaxis": {
            "gridcolor": "white",
            "linecolor": "white",
            "ticks": ""
           },
           "bgcolor": "#E5ECF6",
           "radialaxis": {
            "gridcolor": "white",
            "linecolor": "white",
            "ticks": ""
           }
          },
          "scene": {
           "xaxis": {
            "backgroundcolor": "#E5ECF6",
            "gridcolor": "white",
            "gridwidth": 2,
            "linecolor": "white",
            "showbackground": true,
            "ticks": "",
            "zerolinecolor": "white"
           },
           "yaxis": {
            "backgroundcolor": "#E5ECF6",
            "gridcolor": "white",
            "gridwidth": 2,
            "linecolor": "white",
            "showbackground": true,
            "ticks": "",
            "zerolinecolor": "white"
           },
           "zaxis": {
            "backgroundcolor": "#E5ECF6",
            "gridcolor": "white",
            "gridwidth": 2,
            "linecolor": "white",
            "showbackground": true,
            "ticks": "",
            "zerolinecolor": "white"
           }
          },
          "shapedefaults": {
           "line": {
            "color": "#2a3f5f"
           }
          },
          "ternary": {
           "aaxis": {
            "gridcolor": "white",
            "linecolor": "white",
            "ticks": ""
           },
           "baxis": {
            "gridcolor": "white",
            "linecolor": "white",
            "ticks": ""
           },
           "bgcolor": "#E5ECF6",
           "caxis": {
            "gridcolor": "white",
            "linecolor": "white",
            "ticks": ""
           }
          },
          "title": {
           "x": 0.05
          },
          "xaxis": {
           "automargin": true,
           "gridcolor": "white",
           "linecolor": "white",
           "ticks": "",
           "title": {
            "standoff": 15
           },
           "zerolinecolor": "white",
           "zerolinewidth": 2
          },
          "yaxis": {
           "automargin": true,
           "gridcolor": "white",
           "linecolor": "white",
           "ticks": "",
           "title": {
            "standoff": 15
           },
           "zerolinecolor": "white",
           "zerolinewidth": 2
          }
         }
        },
        "title": {
         "text": "Max activating dataset examples for L0N774"
        },
        "xaxis": {
         "anchor": "y",
         "constrain": "domain",
         "domain": [
          0,
          1
         ],
         "scaleanchor": "y",
         "title": {
          "text": "x"
         }
        },
        "yaxis": {
         "anchor": "x",
         "autorange": "reversed",
         "constrain": "domain",
         "domain": [
          0,
          1
         ],
         "title": {
          "text": "y"
         }
        }
       }
      },
      "text/html": [
       "<div>                            <div id=\"97fa7a70-1dbb-4922-b9b7-a837d909f087\" class=\"plotly-graph-div\" style=\"height:525px; width:100%;\"></div>            <script type=\"text/javascript\">                require([\"plotly\"], function(Plotly) {                    window.PLOTLYENV=window.PLOTLYENV || {};                                    if (document.getElementById(\"97fa7a70-1dbb-4922-b9b7-a837d909f087\")) {                    Plotly.newPlot(                        \"97fa7a70-1dbb-4922-b9b7-a837d909f087\",                        [{\"coloraxis\":\"coloraxis\",\"name\":\"0\",\"x\":[\"0\",\"1\",\"2\",\"3\",\"4\",\"5\",\"6\",\"7\"],\"y\":[\"A\",\"B\",\"C\",\"D\",\"E\",\"F\",\"G\",\"H\"],\"z\":[[0.0,0.10000000894069672,-0.10000000894069672,-0.1666666716337204,-0.36666667461395264,-0.06666667014360428,0.10000000894069672,0.06666667014360428],[-0.10000000894069672,0.03333333507180214,-0.2666666805744171,-0.10000000894069672,-0.1666666716337204,0.1666666716337204,-0.03333333507180214,0.20000001788139343],[0.06666667014360428,-0.36666667461395264,-0.06666667014360428,-0.10000000894069672,-0.20000001788139343,-0.03333333507180214,-0.23333334922790527,0.06666667014360428],[-0.10000000894069672,-0.1666666716337204,-0.06666667014360428,0.13333334028720856,-0.20000001788139343,0.13333334028720856,-0.13333334028720856,0.03333333507180214],[0.13333334028720856,-0.1666666716337204,0.1666666716337204,-0.06666667014360428,-0.3333333432674408,0.10000000894069672,-0.13333334028720856,0.1666666716337204],[0.0,-0.13333334028720856,-0.20000001788139343,-0.30000001192092896,-0.36666667461395264,-0.23333334922790527,0.0,0.03333333507180214],[0.13333334028720856,-0.06666667014360428,-0.20000001788139343,-0.10000000894069672,-0.06666667014360428,-0.03333333507180214,-0.1666666716337204,0.13333334028720856],[0.03333333507180214,-0.2666666805744171,-0.10000000894069672,-0.23333334922790527,-0.06666667014360428,-0.03333333507180214,-0.10000000894069672,-0.13333334028720856]],\"type\":\"heatmap\",\"xaxis\":\"x\",\"yaxis\":\"y\",\"hovertemplate\":\"x: %{x}\\u003cbr\\u003ey: %{y}\\u003cbr\\u003ecolor: %{z}\\u003cextra\\u003e\\u003c\\u002fextra\\u003e\"}],                        {\"template\":{\"data\":{\"histogram2dcontour\":[{\"type\":\"histogram2dcontour\",\"colorbar\":{\"outlinewidth\":0,\"ticks\":\"\"},\"colorscale\":[[0.0,\"#0d0887\"],[0.1111111111111111,\"#46039f\"],[0.2222222222222222,\"#7201a8\"],[0.3333333333333333,\"#9c179e\"],[0.4444444444444444,\"#bd3786\"],[0.5555555555555556,\"#d8576b\"],[0.6666666666666666,\"#ed7953\"],[0.7777777777777778,\"#fb9f3a\"],[0.8888888888888888,\"#fdca26\"],[1.0,\"#f0f921\"]]}],\"choropleth\":[{\"type\":\"choropleth\",\"colorbar\":{\"outlinewidth\":0,\"ticks\":\"\"}}],\"histogram2d\":[{\"type\":\"histogram2d\",\"colorbar\":{\"outlinewidth\":0,\"ticks\":\"\"},\"colorscale\":[[0.0,\"#0d0887\"],[0.1111111111111111,\"#46039f\"],[0.2222222222222222,\"#7201a8\"],[0.3333333333333333,\"#9c179e\"],[0.4444444444444444,\"#bd3786\"],[0.5555555555555556,\"#d8576b\"],[0.6666666666666666,\"#ed7953\"],[0.7777777777777778,\"#fb9f3a\"],[0.8888888888888888,\"#fdca26\"],[1.0,\"#f0f921\"]]}],\"heatmap\":[{\"type\":\"heatmap\",\"colorbar\":{\"outlinewidth\":0,\"ticks\":\"\"},\"colorscale\":[[0.0,\"#0d0887\"],[0.1111111111111111,\"#46039f\"],[0.2222222222222222,\"#7201a8\"],[0.3333333333333333,\"#9c179e\"],[0.4444444444444444,\"#bd3786\"],[0.5555555555555556,\"#d8576b\"],[0.6666666666666666,\"#ed7953\"],[0.7777777777777778,\"#fb9f3a\"],[0.8888888888888888,\"#fdca26\"],[1.0,\"#f0f921\"]]}],\"heatmapgl\":[{\"type\":\"heatmapgl\",\"colorbar\":{\"outlinewidth\":0,\"ticks\":\"\"},\"colorscale\":[[0.0,\"#0d0887\"],[0.1111111111111111,\"#46039f\"],[0.2222222222222222,\"#7201a8\"],[0.3333333333333333,\"#9c179e\"],[0.4444444444444444,\"#bd3786\"],[0.5555555555555556,\"#d8576b\"],[0.6666666666666666,\"#ed7953\"],[0.7777777777777778,\"#fb9f3a\"],[0.8888888888888888,\"#fdca26\"],[1.0,\"#f0f921\"]]}],\"contourcarpet\":[{\"type\":\"contourcarpet\",\"colorbar\":{\"outlinewidth\":0,\"ticks\":\"\"}}],\"contour\":[{\"type\":\"contour\",\"colorbar\":{\"outlinewidth\":0,\"ticks\":\"\"},\"colorscale\":[[0.0,\"#0d0887\"],[0.1111111111111111,\"#46039f\"],[0.2222222222222222,\"#7201a8\"],[0.3333333333333333,\"#9c179e\"],[0.4444444444444444,\"#bd3786\"],[0.5555555555555556,\"#d8576b\"],[0.6666666666666666,\"#ed7953\"],[0.7777777777777778,\"#fb9f3a\"],[0.8888888888888888,\"#fdca26\"],[1.0,\"#f0f921\"]]}],\"surface\":[{\"type\":\"surface\",\"colorbar\":{\"outlinewidth\":0,\"ticks\":\"\"},\"colorscale\":[[0.0,\"#0d0887\"],[0.1111111111111111,\"#46039f\"],[0.2222222222222222,\"#7201a8\"],[0.3333333333333333,\"#9c179e\"],[0.4444444444444444,\"#bd3786\"],[0.5555555555555556,\"#d8576b\"],[0.6666666666666666,\"#ed7953\"],[0.7777777777777778,\"#fb9f3a\"],[0.8888888888888888,\"#fdca26\"],[1.0,\"#f0f921\"]]}],\"mesh3d\":[{\"type\":\"mesh3d\",\"colorbar\":{\"outlinewidth\":0,\"ticks\":\"\"}}],\"scatter\":[{\"fillpattern\":{\"fillmode\":\"overlay\",\"size\":10,\"solidity\":0.2},\"type\":\"scatter\"}],\"parcoords\":[{\"type\":\"parcoords\",\"line\":{\"colorbar\":{\"outlinewidth\":0,\"ticks\":\"\"}}}],\"scatterpolargl\":[{\"type\":\"scatterpolargl\",\"marker\":{\"colorbar\":{\"outlinewidth\":0,\"ticks\":\"\"}}}],\"bar\":[{\"error_x\":{\"color\":\"#2a3f5f\"},\"error_y\":{\"color\":\"#2a3f5f\"},\"marker\":{\"line\":{\"color\":\"#E5ECF6\",\"width\":0.5},\"pattern\":{\"fillmode\":\"overlay\",\"size\":10,\"solidity\":0.2}},\"type\":\"bar\"}],\"scattergeo\":[{\"type\":\"scattergeo\",\"marker\":{\"colorbar\":{\"outlinewidth\":0,\"ticks\":\"\"}}}],\"scatterpolar\":[{\"type\":\"scatterpolar\",\"marker\":{\"colorbar\":{\"outlinewidth\":0,\"ticks\":\"\"}}}],\"histogram\":[{\"marker\":{\"pattern\":{\"fillmode\":\"overlay\",\"size\":10,\"solidity\":0.2}},\"type\":\"histogram\"}],\"scattergl\":[{\"type\":\"scattergl\",\"marker\":{\"colorbar\":{\"outlinewidth\":0,\"ticks\":\"\"}}}],\"scatter3d\":[{\"type\":\"scatter3d\",\"line\":{\"colorbar\":{\"outlinewidth\":0,\"ticks\":\"\"}},\"marker\":{\"colorbar\":{\"outlinewidth\":0,\"ticks\":\"\"}}}],\"scattermapbox\":[{\"type\":\"scattermapbox\",\"marker\":{\"colorbar\":{\"outlinewidth\":0,\"ticks\":\"\"}}}],\"scatterternary\":[{\"type\":\"scatterternary\",\"marker\":{\"colorbar\":{\"outlinewidth\":0,\"ticks\":\"\"}}}],\"scattercarpet\":[{\"type\":\"scattercarpet\",\"marker\":{\"colorbar\":{\"outlinewidth\":0,\"ticks\":\"\"}}}],\"carpet\":[{\"aaxis\":{\"endlinecolor\":\"#2a3f5f\",\"gridcolor\":\"white\",\"linecolor\":\"white\",\"minorgridcolor\":\"white\",\"startlinecolor\":\"#2a3f5f\"},\"baxis\":{\"endlinecolor\":\"#2a3f5f\",\"gridcolor\":\"white\",\"linecolor\":\"white\",\"minorgridcolor\":\"white\",\"startlinecolor\":\"#2a3f5f\"},\"type\":\"carpet\"}],\"table\":[{\"cells\":{\"fill\":{\"color\":\"#EBF0F8\"},\"line\":{\"color\":\"white\"}},\"header\":{\"fill\":{\"color\":\"#C8D4E3\"},\"line\":{\"color\":\"white\"}},\"type\":\"table\"}],\"barpolar\":[{\"marker\":{\"line\":{\"color\":\"#E5ECF6\",\"width\":0.5},\"pattern\":{\"fillmode\":\"overlay\",\"size\":10,\"solidity\":0.2}},\"type\":\"barpolar\"}],\"pie\":[{\"automargin\":true,\"type\":\"pie\"}]},\"layout\":{\"autotypenumbers\":\"strict\",\"colorway\":[\"#636efa\",\"#EF553B\",\"#00cc96\",\"#ab63fa\",\"#FFA15A\",\"#19d3f3\",\"#FF6692\",\"#B6E880\",\"#FF97FF\",\"#FECB52\"],\"font\":{\"color\":\"#2a3f5f\"},\"hovermode\":\"closest\",\"hoverlabel\":{\"align\":\"left\"},\"paper_bgcolor\":\"white\",\"plot_bgcolor\":\"#E5ECF6\",\"polar\":{\"bgcolor\":\"#E5ECF6\",\"angularaxis\":{\"gridcolor\":\"white\",\"linecolor\":\"white\",\"ticks\":\"\"},\"radialaxis\":{\"gridcolor\":\"white\",\"linecolor\":\"white\",\"ticks\":\"\"}},\"ternary\":{\"bgcolor\":\"#E5ECF6\",\"aaxis\":{\"gridcolor\":\"white\",\"linecolor\":\"white\",\"ticks\":\"\"},\"baxis\":{\"gridcolor\":\"white\",\"linecolor\":\"white\",\"ticks\":\"\"},\"caxis\":{\"gridcolor\":\"white\",\"linecolor\":\"white\",\"ticks\":\"\"}},\"coloraxis\":{\"colorbar\":{\"outlinewidth\":0,\"ticks\":\"\"}},\"colorscale\":{\"sequential\":[[0.0,\"#0d0887\"],[0.1111111111111111,\"#46039f\"],[0.2222222222222222,\"#7201a8\"],[0.3333333333333333,\"#9c179e\"],[0.4444444444444444,\"#bd3786\"],[0.5555555555555556,\"#d8576b\"],[0.6666666666666666,\"#ed7953\"],[0.7777777777777778,\"#fb9f3a\"],[0.8888888888888888,\"#fdca26\"],[1.0,\"#f0f921\"]],\"sequentialminus\":[[0.0,\"#0d0887\"],[0.1111111111111111,\"#46039f\"],[0.2222222222222222,\"#7201a8\"],[0.3333333333333333,\"#9c179e\"],[0.4444444444444444,\"#bd3786\"],[0.5555555555555556,\"#d8576b\"],[0.6666666666666666,\"#ed7953\"],[0.7777777777777778,\"#fb9f3a\"],[0.8888888888888888,\"#fdca26\"],[1.0,\"#f0f921\"]],\"diverging\":[[0,\"#8e0152\"],[0.1,\"#c51b7d\"],[0.2,\"#de77ae\"],[0.3,\"#f1b6da\"],[0.4,\"#fde0ef\"],[0.5,\"#f7f7f7\"],[0.6,\"#e6f5d0\"],[0.7,\"#b8e186\"],[0.8,\"#7fbc41\"],[0.9,\"#4d9221\"],[1,\"#276419\"]]},\"xaxis\":{\"gridcolor\":\"white\",\"linecolor\":\"white\",\"ticks\":\"\",\"title\":{\"standoff\":15},\"zerolinecolor\":\"white\",\"automargin\":true,\"zerolinewidth\":2},\"yaxis\":{\"gridcolor\":\"white\",\"linecolor\":\"white\",\"ticks\":\"\",\"title\":{\"standoff\":15},\"zerolinecolor\":\"white\",\"automargin\":true,\"zerolinewidth\":2},\"scene\":{\"xaxis\":{\"backgroundcolor\":\"#E5ECF6\",\"gridcolor\":\"white\",\"linecolor\":\"white\",\"showbackground\":true,\"ticks\":\"\",\"zerolinecolor\":\"white\",\"gridwidth\":2},\"yaxis\":{\"backgroundcolor\":\"#E5ECF6\",\"gridcolor\":\"white\",\"linecolor\":\"white\",\"showbackground\":true,\"ticks\":\"\",\"zerolinecolor\":\"white\",\"gridwidth\":2},\"zaxis\":{\"backgroundcolor\":\"#E5ECF6\",\"gridcolor\":\"white\",\"linecolor\":\"white\",\"showbackground\":true,\"ticks\":\"\",\"zerolinecolor\":\"white\",\"gridwidth\":2}},\"shapedefaults\":{\"line\":{\"color\":\"#2a3f5f\"}},\"annotationdefaults\":{\"arrowcolor\":\"#2a3f5f\",\"arrowhead\":0,\"arrowwidth\":1},\"geo\":{\"bgcolor\":\"white\",\"landcolor\":\"#E5ECF6\",\"subunitcolor\":\"white\",\"showland\":true,\"showlakes\":true,\"lakecolor\":\"white\"},\"title\":{\"x\":0.05},\"mapbox\":{\"style\":\"light\"}}},\"xaxis\":{\"anchor\":\"y\",\"domain\":[0.0,1.0],\"scaleanchor\":\"y\",\"constrain\":\"domain\",\"title\":{\"text\":\"x\"}},\"yaxis\":{\"anchor\":\"x\",\"domain\":[0.0,1.0],\"autorange\":\"reversed\",\"constrain\":\"domain\",\"title\":{\"text\":\"y\"}},\"coloraxis\":{\"colorscale\":[[0.0,\"rgb(103,0,31)\"],[0.1,\"rgb(178,24,43)\"],[0.2,\"rgb(214,96,77)\"],[0.3,\"rgb(244,165,130)\"],[0.4,\"rgb(253,219,199)\"],[0.5,\"rgb(247,247,247)\"],[0.6,\"rgb(209,229,240)\"],[0.7,\"rgb(146,197,222)\"],[0.8,\"rgb(67,147,195)\"],[0.9,\"rgb(33,102,172)\"],[1.0,\"rgb(5,48,97)\"]],\"cmid\":0.0},\"title\":{\"text\":\"Max activating dataset examples for L0N774\"}},                        {\"responsive\": true}                    ).then(function(){\n",
       "                            \n",
       "var gd = document.getElementById('97fa7a70-1dbb-4922-b9b7-a837d909f087');\n",
       "var x = new MutationObserver(function (mutations, observer) {{\n",
       "        var display = window.getComputedStyle(gd).display;\n",
       "        if (!display || display === 'none') {{\n",
       "            console.log([gd, 'removed!']);\n",
       "            Plotly.purge(gd);\n",
       "            observer.disconnect();\n",
       "        }}\n",
       "}});\n",
       "\n",
       "// Listen for the removal of the full notebook cells\n",
       "var notebookContainer = gd.closest('#notebook-container');\n",
       "if (notebookContainer) {{\n",
       "    x.observe(notebookContainer, {childList: true});\n",
       "}}\n",
       "\n",
       "// Listen for the clearing of the current output cell\n",
       "var outputEl = gd.closest('.output');\n",
       "if (outputEl) {{\n",
       "    x.observe(outputEl, {childList: true});\n",
       "}}\n",
       "\n",
       "                        })                };                });            </script>        </div>"
      ]
     },
     "metadata": {},
     "output_type": "display_data"
    },
    {
     "data": {
      "application/vnd.plotly.v1+json": {
       "config": {
        "plotlyServerURL": "https://plot.ly"
       },
       "data": [
        {
         "coloraxis": "coloraxis",
         "hovertemplate": "x: %{x}<br>y: %{y}<br>color: %{z}<extra></extra>",
         "name": "0",
         "type": "heatmap",
         "x": [
          "0",
          "1",
          "2",
          "3",
          "4",
          "5",
          "6",
          "7"
         ],
         "xaxis": "x",
         "y": [
          "A",
          "B",
          "C",
          "D",
          "E",
          "F",
          "G",
          "H"
         ],
         "yaxis": "y",
         "z": [
          [
           0.13333334028720856,
           0.30000001192092896,
           0.36666667461395264,
           0.4333333671092987,
           0.5,
           0.40000003576278687,
           0.36666667461395264,
           0.13333334028720856
          ],
          [
           0.30000001192092896,
           0.30000001192092896,
           0.7333333492279053,
           0.7000000476837158,
           0.7000000476837158,
           0.5666667222976685,
           0.6333333849906921,
           0.46666669845581055
          ],
          [
           0.2666666805744171,
           0.6333333849906921,
           0.6000000238418579,
           0.8333333730697632,
           0.9333333969116211,
           0.7666667103767395,
           0.5666667222976685,
           0.5333333611488342
          ],
          [
           0.36666667461395264,
           0.4333333671092987,
           0.8000000715255737,
           1,
           1,
           0.8666667342185974,
           0.6666666865348816,
           0.36666667461395264
          ],
          [
           0.40000003576278687,
           0.6333333849906921,
           0.7666667103767395,
           1,
           1,
           0.9666666984558105,
           0.6000000238418579,
           0.5
          ],
          [
           0.40000003576278687,
           0.6666666865348816,
           0.8666667342185974,
           0.9000000357627869,
           0.9666666984558105,
           0.9666666984558105,
           0.7333333492279053,
           0.5666667222976685
          ],
          [
           0.46666669845581055,
           0.46666669845581055,
           0.6666666865348816,
           0.8333333730697632,
           0.9333333969116211,
           0.7000000476837158,
           0.7666667103767395,
           0.6000000238418579
          ],
          [
           0.30000001192092896,
           0.3333333432674408,
           0.36666667461395264,
           0.5,
           0.46666669845581055,
           0.5666667222976685,
           0.5,
           0.5333333611488342
          ]
         ]
        }
       ],
       "layout": {
        "coloraxis": {
         "cmid": 0,
         "colorscale": [
          [
           0,
           "rgb(103,0,31)"
          ],
          [
           0.1,
           "rgb(178,24,43)"
          ],
          [
           0.2,
           "rgb(214,96,77)"
          ],
          [
           0.3,
           "rgb(244,165,130)"
          ],
          [
           0.4,
           "rgb(253,219,199)"
          ],
          [
           0.5,
           "rgb(247,247,247)"
          ],
          [
           0.6,
           "rgb(209,229,240)"
          ],
          [
           0.7,
           "rgb(146,197,222)"
          ],
          [
           0.8,
           "rgb(67,147,195)"
          ],
          [
           0.9,
           "rgb(33,102,172)"
          ],
          [
           1,
           "rgb(5,48,97)"
          ]
         ]
        },
        "template": {
         "data": {
          "bar": [
           {
            "error_x": {
             "color": "#2a3f5f"
            },
            "error_y": {
             "color": "#2a3f5f"
            },
            "marker": {
             "line": {
              "color": "#E5ECF6",
              "width": 0.5
             },
             "pattern": {
              "fillmode": "overlay",
              "size": 10,
              "solidity": 0.2
             }
            },
            "type": "bar"
           }
          ],
          "barpolar": [
           {
            "marker": {
             "line": {
              "color": "#E5ECF6",
              "width": 0.5
             },
             "pattern": {
              "fillmode": "overlay",
              "size": 10,
              "solidity": 0.2
             }
            },
            "type": "barpolar"
           }
          ],
          "carpet": [
           {
            "aaxis": {
             "endlinecolor": "#2a3f5f",
             "gridcolor": "white",
             "linecolor": "white",
             "minorgridcolor": "white",
             "startlinecolor": "#2a3f5f"
            },
            "baxis": {
             "endlinecolor": "#2a3f5f",
             "gridcolor": "white",
             "linecolor": "white",
             "minorgridcolor": "white",
             "startlinecolor": "#2a3f5f"
            },
            "type": "carpet"
           }
          ],
          "choropleth": [
           {
            "colorbar": {
             "outlinewidth": 0,
             "ticks": ""
            },
            "type": "choropleth"
           }
          ],
          "contour": [
           {
            "colorbar": {
             "outlinewidth": 0,
             "ticks": ""
            },
            "colorscale": [
             [
              0,
              "#0d0887"
             ],
             [
              0.1111111111111111,
              "#46039f"
             ],
             [
              0.2222222222222222,
              "#7201a8"
             ],
             [
              0.3333333333333333,
              "#9c179e"
             ],
             [
              0.4444444444444444,
              "#bd3786"
             ],
             [
              0.5555555555555556,
              "#d8576b"
             ],
             [
              0.6666666666666666,
              "#ed7953"
             ],
             [
              0.7777777777777778,
              "#fb9f3a"
             ],
             [
              0.8888888888888888,
              "#fdca26"
             ],
             [
              1,
              "#f0f921"
             ]
            ],
            "type": "contour"
           }
          ],
          "contourcarpet": [
           {
            "colorbar": {
             "outlinewidth": 0,
             "ticks": ""
            },
            "type": "contourcarpet"
           }
          ],
          "heatmap": [
           {
            "colorbar": {
             "outlinewidth": 0,
             "ticks": ""
            },
            "colorscale": [
             [
              0,
              "#0d0887"
             ],
             [
              0.1111111111111111,
              "#46039f"
             ],
             [
              0.2222222222222222,
              "#7201a8"
             ],
             [
              0.3333333333333333,
              "#9c179e"
             ],
             [
              0.4444444444444444,
              "#bd3786"
             ],
             [
              0.5555555555555556,
              "#d8576b"
             ],
             [
              0.6666666666666666,
              "#ed7953"
             ],
             [
              0.7777777777777778,
              "#fb9f3a"
             ],
             [
              0.8888888888888888,
              "#fdca26"
             ],
             [
              1,
              "#f0f921"
             ]
            ],
            "type": "heatmap"
           }
          ],
          "heatmapgl": [
           {
            "colorbar": {
             "outlinewidth": 0,
             "ticks": ""
            },
            "colorscale": [
             [
              0,
              "#0d0887"
             ],
             [
              0.1111111111111111,
              "#46039f"
             ],
             [
              0.2222222222222222,
              "#7201a8"
             ],
             [
              0.3333333333333333,
              "#9c179e"
             ],
             [
              0.4444444444444444,
              "#bd3786"
             ],
             [
              0.5555555555555556,
              "#d8576b"
             ],
             [
              0.6666666666666666,
              "#ed7953"
             ],
             [
              0.7777777777777778,
              "#fb9f3a"
             ],
             [
              0.8888888888888888,
              "#fdca26"
             ],
             [
              1,
              "#f0f921"
             ]
            ],
            "type": "heatmapgl"
           }
          ],
          "histogram": [
           {
            "marker": {
             "pattern": {
              "fillmode": "overlay",
              "size": 10,
              "solidity": 0.2
             }
            },
            "type": "histogram"
           }
          ],
          "histogram2d": [
           {
            "colorbar": {
             "outlinewidth": 0,
             "ticks": ""
            },
            "colorscale": [
             [
              0,
              "#0d0887"
             ],
             [
              0.1111111111111111,
              "#46039f"
             ],
             [
              0.2222222222222222,
              "#7201a8"
             ],
             [
              0.3333333333333333,
              "#9c179e"
             ],
             [
              0.4444444444444444,
              "#bd3786"
             ],
             [
              0.5555555555555556,
              "#d8576b"
             ],
             [
              0.6666666666666666,
              "#ed7953"
             ],
             [
              0.7777777777777778,
              "#fb9f3a"
             ],
             [
              0.8888888888888888,
              "#fdca26"
             ],
             [
              1,
              "#f0f921"
             ]
            ],
            "type": "histogram2d"
           }
          ],
          "histogram2dcontour": [
           {
            "colorbar": {
             "outlinewidth": 0,
             "ticks": ""
            },
            "colorscale": [
             [
              0,
              "#0d0887"
             ],
             [
              0.1111111111111111,
              "#46039f"
             ],
             [
              0.2222222222222222,
              "#7201a8"
             ],
             [
              0.3333333333333333,
              "#9c179e"
             ],
             [
              0.4444444444444444,
              "#bd3786"
             ],
             [
              0.5555555555555556,
              "#d8576b"
             ],
             [
              0.6666666666666666,
              "#ed7953"
             ],
             [
              0.7777777777777778,
              "#fb9f3a"
             ],
             [
              0.8888888888888888,
              "#fdca26"
             ],
             [
              1,
              "#f0f921"
             ]
            ],
            "type": "histogram2dcontour"
           }
          ],
          "mesh3d": [
           {
            "colorbar": {
             "outlinewidth": 0,
             "ticks": ""
            },
            "type": "mesh3d"
           }
          ],
          "parcoords": [
           {
            "line": {
             "colorbar": {
              "outlinewidth": 0,
              "ticks": ""
             }
            },
            "type": "parcoords"
           }
          ],
          "pie": [
           {
            "automargin": true,
            "type": "pie"
           }
          ],
          "scatter": [
           {
            "fillpattern": {
             "fillmode": "overlay",
             "size": 10,
             "solidity": 0.2
            },
            "type": "scatter"
           }
          ],
          "scatter3d": [
           {
            "line": {
             "colorbar": {
              "outlinewidth": 0,
              "ticks": ""
             }
            },
            "marker": {
             "colorbar": {
              "outlinewidth": 0,
              "ticks": ""
             }
            },
            "type": "scatter3d"
           }
          ],
          "scattercarpet": [
           {
            "marker": {
             "colorbar": {
              "outlinewidth": 0,
              "ticks": ""
             }
            },
            "type": "scattercarpet"
           }
          ],
          "scattergeo": [
           {
            "marker": {
             "colorbar": {
              "outlinewidth": 0,
              "ticks": ""
             }
            },
            "type": "scattergeo"
           }
          ],
          "scattergl": [
           {
            "marker": {
             "colorbar": {
              "outlinewidth": 0,
              "ticks": ""
             }
            },
            "type": "scattergl"
           }
          ],
          "scattermapbox": [
           {
            "marker": {
             "colorbar": {
              "outlinewidth": 0,
              "ticks": ""
             }
            },
            "type": "scattermapbox"
           }
          ],
          "scatterpolar": [
           {
            "marker": {
             "colorbar": {
              "outlinewidth": 0,
              "ticks": ""
             }
            },
            "type": "scatterpolar"
           }
          ],
          "scatterpolargl": [
           {
            "marker": {
             "colorbar": {
              "outlinewidth": 0,
              "ticks": ""
             }
            },
            "type": "scatterpolargl"
           }
          ],
          "scatterternary": [
           {
            "marker": {
             "colorbar": {
              "outlinewidth": 0,
              "ticks": ""
             }
            },
            "type": "scatterternary"
           }
          ],
          "surface": [
           {
            "colorbar": {
             "outlinewidth": 0,
             "ticks": ""
            },
            "colorscale": [
             [
              0,
              "#0d0887"
             ],
             [
              0.1111111111111111,
              "#46039f"
             ],
             [
              0.2222222222222222,
              "#7201a8"
             ],
             [
              0.3333333333333333,
              "#9c179e"
             ],
             [
              0.4444444444444444,
              "#bd3786"
             ],
             [
              0.5555555555555556,
              "#d8576b"
             ],
             [
              0.6666666666666666,
              "#ed7953"
             ],
             [
              0.7777777777777778,
              "#fb9f3a"
             ],
             [
              0.8888888888888888,
              "#fdca26"
             ],
             [
              1,
              "#f0f921"
             ]
            ],
            "type": "surface"
           }
          ],
          "table": [
           {
            "cells": {
             "fill": {
              "color": "#EBF0F8"
             },
             "line": {
              "color": "white"
             }
            },
            "header": {
             "fill": {
              "color": "#C8D4E3"
             },
             "line": {
              "color": "white"
             }
            },
            "type": "table"
           }
          ]
         },
         "layout": {
          "annotationdefaults": {
           "arrowcolor": "#2a3f5f",
           "arrowhead": 0,
           "arrowwidth": 1
          },
          "autotypenumbers": "strict",
          "coloraxis": {
           "colorbar": {
            "outlinewidth": 0,
            "ticks": ""
           }
          },
          "colorscale": {
           "diverging": [
            [
             0,
             "#8e0152"
            ],
            [
             0.1,
             "#c51b7d"
            ],
            [
             0.2,
             "#de77ae"
            ],
            [
             0.3,
             "#f1b6da"
            ],
            [
             0.4,
             "#fde0ef"
            ],
            [
             0.5,
             "#f7f7f7"
            ],
            [
             0.6,
             "#e6f5d0"
            ],
            [
             0.7,
             "#b8e186"
            ],
            [
             0.8,
             "#7fbc41"
            ],
            [
             0.9,
             "#4d9221"
            ],
            [
             1,
             "#276419"
            ]
           ],
           "sequential": [
            [
             0,
             "#0d0887"
            ],
            [
             0.1111111111111111,
             "#46039f"
            ],
            [
             0.2222222222222222,
             "#7201a8"
            ],
            [
             0.3333333333333333,
             "#9c179e"
            ],
            [
             0.4444444444444444,
             "#bd3786"
            ],
            [
             0.5555555555555556,
             "#d8576b"
            ],
            [
             0.6666666666666666,
             "#ed7953"
            ],
            [
             0.7777777777777778,
             "#fb9f3a"
            ],
            [
             0.8888888888888888,
             "#fdca26"
            ],
            [
             1,
             "#f0f921"
            ]
           ],
           "sequentialminus": [
            [
             0,
             "#0d0887"
            ],
            [
             0.1111111111111111,
             "#46039f"
            ],
            [
             0.2222222222222222,
             "#7201a8"
            ],
            [
             0.3333333333333333,
             "#9c179e"
            ],
            [
             0.4444444444444444,
             "#bd3786"
            ],
            [
             0.5555555555555556,
             "#d8576b"
            ],
            [
             0.6666666666666666,
             "#ed7953"
            ],
            [
             0.7777777777777778,
             "#fb9f3a"
            ],
            [
             0.8888888888888888,
             "#fdca26"
            ],
            [
             1,
             "#f0f921"
            ]
           ]
          },
          "colorway": [
           "#636efa",
           "#EF553B",
           "#00cc96",
           "#ab63fa",
           "#FFA15A",
           "#19d3f3",
           "#FF6692",
           "#B6E880",
           "#FF97FF",
           "#FECB52"
          ],
          "font": {
           "color": "#2a3f5f"
          },
          "geo": {
           "bgcolor": "white",
           "lakecolor": "white",
           "landcolor": "#E5ECF6",
           "showlakes": true,
           "showland": true,
           "subunitcolor": "white"
          },
          "hoverlabel": {
           "align": "left"
          },
          "hovermode": "closest",
          "mapbox": {
           "style": "light"
          },
          "paper_bgcolor": "white",
          "plot_bgcolor": "#E5ECF6",
          "polar": {
           "angularaxis": {
            "gridcolor": "white",
            "linecolor": "white",
            "ticks": ""
           },
           "bgcolor": "#E5ECF6",
           "radialaxis": {
            "gridcolor": "white",
            "linecolor": "white",
            "ticks": ""
           }
          },
          "scene": {
           "xaxis": {
            "backgroundcolor": "#E5ECF6",
            "gridcolor": "white",
            "gridwidth": 2,
            "linecolor": "white",
            "showbackground": true,
            "ticks": "",
            "zerolinecolor": "white"
           },
           "yaxis": {
            "backgroundcolor": "#E5ECF6",
            "gridcolor": "white",
            "gridwidth": 2,
            "linecolor": "white",
            "showbackground": true,
            "ticks": "",
            "zerolinecolor": "white"
           },
           "zaxis": {
            "backgroundcolor": "#E5ECF6",
            "gridcolor": "white",
            "gridwidth": 2,
            "linecolor": "white",
            "showbackground": true,
            "ticks": "",
            "zerolinecolor": "white"
           }
          },
          "shapedefaults": {
           "line": {
            "color": "#2a3f5f"
           }
          },
          "ternary": {
           "aaxis": {
            "gridcolor": "white",
            "linecolor": "white",
            "ticks": ""
           },
           "baxis": {
            "gridcolor": "white",
            "linecolor": "white",
            "ticks": ""
           },
           "bgcolor": "#E5ECF6",
           "caxis": {
            "gridcolor": "white",
            "linecolor": "white",
            "ticks": ""
           }
          },
          "title": {
           "x": 0.05
          },
          "xaxis": {
           "automargin": true,
           "gridcolor": "white",
           "linecolor": "white",
           "ticks": "",
           "title": {
            "standoff": 15
           },
           "zerolinecolor": "white",
           "zerolinewidth": 2
          },
          "yaxis": {
           "automargin": true,
           "gridcolor": "white",
           "linecolor": "white",
           "ticks": "",
           "title": {
            "standoff": 15
           },
           "zerolinecolor": "white",
           "zerolinewidth": 2
          }
         }
        },
        "title": {
         "text": "Max activating dataset examples for L0N774 (abs value)"
        },
        "xaxis": {
         "anchor": "y",
         "constrain": "domain",
         "domain": [
          0,
          1
         ],
         "scaleanchor": "y",
         "title": {
          "text": "x"
         }
        },
        "yaxis": {
         "anchor": "x",
         "autorange": "reversed",
         "constrain": "domain",
         "domain": [
          0,
          1
         ],
         "title": {
          "text": "y"
         }
        }
       }
      },
      "text/html": [
       "<div>                            <div id=\"28e20ddd-56e0-4e33-915c-adba5e294114\" class=\"plotly-graph-div\" style=\"height:525px; width:100%;\"></div>            <script type=\"text/javascript\">                require([\"plotly\"], function(Plotly) {                    window.PLOTLYENV=window.PLOTLYENV || {};                                    if (document.getElementById(\"28e20ddd-56e0-4e33-915c-adba5e294114\")) {                    Plotly.newPlot(                        \"28e20ddd-56e0-4e33-915c-adba5e294114\",                        [{\"coloraxis\":\"coloraxis\",\"name\":\"0\",\"x\":[\"0\",\"1\",\"2\",\"3\",\"4\",\"5\",\"6\",\"7\"],\"y\":[\"A\",\"B\",\"C\",\"D\",\"E\",\"F\",\"G\",\"H\"],\"z\":[[0.13333334028720856,0.30000001192092896,0.36666667461395264,0.4333333671092987,0.5,0.40000003576278687,0.36666667461395264,0.13333334028720856],[0.30000001192092896,0.30000001192092896,0.7333333492279053,0.7000000476837158,0.7000000476837158,0.5666667222976685,0.6333333849906921,0.46666669845581055],[0.2666666805744171,0.6333333849906921,0.6000000238418579,0.8333333730697632,0.9333333969116211,0.7666667103767395,0.5666667222976685,0.5333333611488342],[0.36666667461395264,0.4333333671092987,0.8000000715255737,1.0,1.0,0.8666667342185974,0.6666666865348816,0.36666667461395264],[0.40000003576278687,0.6333333849906921,0.7666667103767395,1.0,1.0,0.9666666984558105,0.6000000238418579,0.5],[0.40000003576278687,0.6666666865348816,0.8666667342185974,0.9000000357627869,0.9666666984558105,0.9666666984558105,0.7333333492279053,0.5666667222976685],[0.46666669845581055,0.46666669845581055,0.6666666865348816,0.8333333730697632,0.9333333969116211,0.7000000476837158,0.7666667103767395,0.6000000238418579],[0.30000001192092896,0.3333333432674408,0.36666667461395264,0.5,0.46666669845581055,0.5666667222976685,0.5,0.5333333611488342]],\"type\":\"heatmap\",\"xaxis\":\"x\",\"yaxis\":\"y\",\"hovertemplate\":\"x: %{x}\\u003cbr\\u003ey: %{y}\\u003cbr\\u003ecolor: %{z}\\u003cextra\\u003e\\u003c\\u002fextra\\u003e\"}],                        {\"template\":{\"data\":{\"histogram2dcontour\":[{\"type\":\"histogram2dcontour\",\"colorbar\":{\"outlinewidth\":0,\"ticks\":\"\"},\"colorscale\":[[0.0,\"#0d0887\"],[0.1111111111111111,\"#46039f\"],[0.2222222222222222,\"#7201a8\"],[0.3333333333333333,\"#9c179e\"],[0.4444444444444444,\"#bd3786\"],[0.5555555555555556,\"#d8576b\"],[0.6666666666666666,\"#ed7953\"],[0.7777777777777778,\"#fb9f3a\"],[0.8888888888888888,\"#fdca26\"],[1.0,\"#f0f921\"]]}],\"choropleth\":[{\"type\":\"choropleth\",\"colorbar\":{\"outlinewidth\":0,\"ticks\":\"\"}}],\"histogram2d\":[{\"type\":\"histogram2d\",\"colorbar\":{\"outlinewidth\":0,\"ticks\":\"\"},\"colorscale\":[[0.0,\"#0d0887\"],[0.1111111111111111,\"#46039f\"],[0.2222222222222222,\"#7201a8\"],[0.3333333333333333,\"#9c179e\"],[0.4444444444444444,\"#bd3786\"],[0.5555555555555556,\"#d8576b\"],[0.6666666666666666,\"#ed7953\"],[0.7777777777777778,\"#fb9f3a\"],[0.8888888888888888,\"#fdca26\"],[1.0,\"#f0f921\"]]}],\"heatmap\":[{\"type\":\"heatmap\",\"colorbar\":{\"outlinewidth\":0,\"ticks\":\"\"},\"colorscale\":[[0.0,\"#0d0887\"],[0.1111111111111111,\"#46039f\"],[0.2222222222222222,\"#7201a8\"],[0.3333333333333333,\"#9c179e\"],[0.4444444444444444,\"#bd3786\"],[0.5555555555555556,\"#d8576b\"],[0.6666666666666666,\"#ed7953\"],[0.7777777777777778,\"#fb9f3a\"],[0.8888888888888888,\"#fdca26\"],[1.0,\"#f0f921\"]]}],\"heatmapgl\":[{\"type\":\"heatmapgl\",\"colorbar\":{\"outlinewidth\":0,\"ticks\":\"\"},\"colorscale\":[[0.0,\"#0d0887\"],[0.1111111111111111,\"#46039f\"],[0.2222222222222222,\"#7201a8\"],[0.3333333333333333,\"#9c179e\"],[0.4444444444444444,\"#bd3786\"],[0.5555555555555556,\"#d8576b\"],[0.6666666666666666,\"#ed7953\"],[0.7777777777777778,\"#fb9f3a\"],[0.8888888888888888,\"#fdca26\"],[1.0,\"#f0f921\"]]}],\"contourcarpet\":[{\"type\":\"contourcarpet\",\"colorbar\":{\"outlinewidth\":0,\"ticks\":\"\"}}],\"contour\":[{\"type\":\"contour\",\"colorbar\":{\"outlinewidth\":0,\"ticks\":\"\"},\"colorscale\":[[0.0,\"#0d0887\"],[0.1111111111111111,\"#46039f\"],[0.2222222222222222,\"#7201a8\"],[0.3333333333333333,\"#9c179e\"],[0.4444444444444444,\"#bd3786\"],[0.5555555555555556,\"#d8576b\"],[0.6666666666666666,\"#ed7953\"],[0.7777777777777778,\"#fb9f3a\"],[0.8888888888888888,\"#fdca26\"],[1.0,\"#f0f921\"]]}],\"surface\":[{\"type\":\"surface\",\"colorbar\":{\"outlinewidth\":0,\"ticks\":\"\"},\"colorscale\":[[0.0,\"#0d0887\"],[0.1111111111111111,\"#46039f\"],[0.2222222222222222,\"#7201a8\"],[0.3333333333333333,\"#9c179e\"],[0.4444444444444444,\"#bd3786\"],[0.5555555555555556,\"#d8576b\"],[0.6666666666666666,\"#ed7953\"],[0.7777777777777778,\"#fb9f3a\"],[0.8888888888888888,\"#fdca26\"],[1.0,\"#f0f921\"]]}],\"mesh3d\":[{\"type\":\"mesh3d\",\"colorbar\":{\"outlinewidth\":0,\"ticks\":\"\"}}],\"scatter\":[{\"fillpattern\":{\"fillmode\":\"overlay\",\"size\":10,\"solidity\":0.2},\"type\":\"scatter\"}],\"parcoords\":[{\"type\":\"parcoords\",\"line\":{\"colorbar\":{\"outlinewidth\":0,\"ticks\":\"\"}}}],\"scatterpolargl\":[{\"type\":\"scatterpolargl\",\"marker\":{\"colorbar\":{\"outlinewidth\":0,\"ticks\":\"\"}}}],\"bar\":[{\"error_x\":{\"color\":\"#2a3f5f\"},\"error_y\":{\"color\":\"#2a3f5f\"},\"marker\":{\"line\":{\"color\":\"#E5ECF6\",\"width\":0.5},\"pattern\":{\"fillmode\":\"overlay\",\"size\":10,\"solidity\":0.2}},\"type\":\"bar\"}],\"scattergeo\":[{\"type\":\"scattergeo\",\"marker\":{\"colorbar\":{\"outlinewidth\":0,\"ticks\":\"\"}}}],\"scatterpolar\":[{\"type\":\"scatterpolar\",\"marker\":{\"colorbar\":{\"outlinewidth\":0,\"ticks\":\"\"}}}],\"histogram\":[{\"marker\":{\"pattern\":{\"fillmode\":\"overlay\",\"size\":10,\"solidity\":0.2}},\"type\":\"histogram\"}],\"scattergl\":[{\"type\":\"scattergl\",\"marker\":{\"colorbar\":{\"outlinewidth\":0,\"ticks\":\"\"}}}],\"scatter3d\":[{\"type\":\"scatter3d\",\"line\":{\"colorbar\":{\"outlinewidth\":0,\"ticks\":\"\"}},\"marker\":{\"colorbar\":{\"outlinewidth\":0,\"ticks\":\"\"}}}],\"scattermapbox\":[{\"type\":\"scattermapbox\",\"marker\":{\"colorbar\":{\"outlinewidth\":0,\"ticks\":\"\"}}}],\"scatterternary\":[{\"type\":\"scatterternary\",\"marker\":{\"colorbar\":{\"outlinewidth\":0,\"ticks\":\"\"}}}],\"scattercarpet\":[{\"type\":\"scattercarpet\",\"marker\":{\"colorbar\":{\"outlinewidth\":0,\"ticks\":\"\"}}}],\"carpet\":[{\"aaxis\":{\"endlinecolor\":\"#2a3f5f\",\"gridcolor\":\"white\",\"linecolor\":\"white\",\"minorgridcolor\":\"white\",\"startlinecolor\":\"#2a3f5f\"},\"baxis\":{\"endlinecolor\":\"#2a3f5f\",\"gridcolor\":\"white\",\"linecolor\":\"white\",\"minorgridcolor\":\"white\",\"startlinecolor\":\"#2a3f5f\"},\"type\":\"carpet\"}],\"table\":[{\"cells\":{\"fill\":{\"color\":\"#EBF0F8\"},\"line\":{\"color\":\"white\"}},\"header\":{\"fill\":{\"color\":\"#C8D4E3\"},\"line\":{\"color\":\"white\"}},\"type\":\"table\"}],\"barpolar\":[{\"marker\":{\"line\":{\"color\":\"#E5ECF6\",\"width\":0.5},\"pattern\":{\"fillmode\":\"overlay\",\"size\":10,\"solidity\":0.2}},\"type\":\"barpolar\"}],\"pie\":[{\"automargin\":true,\"type\":\"pie\"}]},\"layout\":{\"autotypenumbers\":\"strict\",\"colorway\":[\"#636efa\",\"#EF553B\",\"#00cc96\",\"#ab63fa\",\"#FFA15A\",\"#19d3f3\",\"#FF6692\",\"#B6E880\",\"#FF97FF\",\"#FECB52\"],\"font\":{\"color\":\"#2a3f5f\"},\"hovermode\":\"closest\",\"hoverlabel\":{\"align\":\"left\"},\"paper_bgcolor\":\"white\",\"plot_bgcolor\":\"#E5ECF6\",\"polar\":{\"bgcolor\":\"#E5ECF6\",\"angularaxis\":{\"gridcolor\":\"white\",\"linecolor\":\"white\",\"ticks\":\"\"},\"radialaxis\":{\"gridcolor\":\"white\",\"linecolor\":\"white\",\"ticks\":\"\"}},\"ternary\":{\"bgcolor\":\"#E5ECF6\",\"aaxis\":{\"gridcolor\":\"white\",\"linecolor\":\"white\",\"ticks\":\"\"},\"baxis\":{\"gridcolor\":\"white\",\"linecolor\":\"white\",\"ticks\":\"\"},\"caxis\":{\"gridcolor\":\"white\",\"linecolor\":\"white\",\"ticks\":\"\"}},\"coloraxis\":{\"colorbar\":{\"outlinewidth\":0,\"ticks\":\"\"}},\"colorscale\":{\"sequential\":[[0.0,\"#0d0887\"],[0.1111111111111111,\"#46039f\"],[0.2222222222222222,\"#7201a8\"],[0.3333333333333333,\"#9c179e\"],[0.4444444444444444,\"#bd3786\"],[0.5555555555555556,\"#d8576b\"],[0.6666666666666666,\"#ed7953\"],[0.7777777777777778,\"#fb9f3a\"],[0.8888888888888888,\"#fdca26\"],[1.0,\"#f0f921\"]],\"sequentialminus\":[[0.0,\"#0d0887\"],[0.1111111111111111,\"#46039f\"],[0.2222222222222222,\"#7201a8\"],[0.3333333333333333,\"#9c179e\"],[0.4444444444444444,\"#bd3786\"],[0.5555555555555556,\"#d8576b\"],[0.6666666666666666,\"#ed7953\"],[0.7777777777777778,\"#fb9f3a\"],[0.8888888888888888,\"#fdca26\"],[1.0,\"#f0f921\"]],\"diverging\":[[0,\"#8e0152\"],[0.1,\"#c51b7d\"],[0.2,\"#de77ae\"],[0.3,\"#f1b6da\"],[0.4,\"#fde0ef\"],[0.5,\"#f7f7f7\"],[0.6,\"#e6f5d0\"],[0.7,\"#b8e186\"],[0.8,\"#7fbc41\"],[0.9,\"#4d9221\"],[1,\"#276419\"]]},\"xaxis\":{\"gridcolor\":\"white\",\"linecolor\":\"white\",\"ticks\":\"\",\"title\":{\"standoff\":15},\"zerolinecolor\":\"white\",\"automargin\":true,\"zerolinewidth\":2},\"yaxis\":{\"gridcolor\":\"white\",\"linecolor\":\"white\",\"ticks\":\"\",\"title\":{\"standoff\":15},\"zerolinecolor\":\"white\",\"automargin\":true,\"zerolinewidth\":2},\"scene\":{\"xaxis\":{\"backgroundcolor\":\"#E5ECF6\",\"gridcolor\":\"white\",\"linecolor\":\"white\",\"showbackground\":true,\"ticks\":\"\",\"zerolinecolor\":\"white\",\"gridwidth\":2},\"yaxis\":{\"backgroundcolor\":\"#E5ECF6\",\"gridcolor\":\"white\",\"linecolor\":\"white\",\"showbackground\":true,\"ticks\":\"\",\"zerolinecolor\":\"white\",\"gridwidth\":2},\"zaxis\":{\"backgroundcolor\":\"#E5ECF6\",\"gridcolor\":\"white\",\"linecolor\":\"white\",\"showbackground\":true,\"ticks\":\"\",\"zerolinecolor\":\"white\",\"gridwidth\":2}},\"shapedefaults\":{\"line\":{\"color\":\"#2a3f5f\"}},\"annotationdefaults\":{\"arrowcolor\":\"#2a3f5f\",\"arrowhead\":0,\"arrowwidth\":1},\"geo\":{\"bgcolor\":\"white\",\"landcolor\":\"#E5ECF6\",\"subunitcolor\":\"white\",\"showland\":true,\"showlakes\":true,\"lakecolor\":\"white\"},\"title\":{\"x\":0.05},\"mapbox\":{\"style\":\"light\"}}},\"xaxis\":{\"anchor\":\"y\",\"domain\":[0.0,1.0],\"scaleanchor\":\"y\",\"constrain\":\"domain\",\"title\":{\"text\":\"x\"}},\"yaxis\":{\"anchor\":\"x\",\"domain\":[0.0,1.0],\"autorange\":\"reversed\",\"constrain\":\"domain\",\"title\":{\"text\":\"y\"}},\"coloraxis\":{\"colorscale\":[[0.0,\"rgb(103,0,31)\"],[0.1,\"rgb(178,24,43)\"],[0.2,\"rgb(214,96,77)\"],[0.3,\"rgb(244,165,130)\"],[0.4,\"rgb(253,219,199)\"],[0.5,\"rgb(247,247,247)\"],[0.6,\"rgb(209,229,240)\"],[0.7,\"rgb(146,197,222)\"],[0.8,\"rgb(67,147,195)\"],[0.9,\"rgb(33,102,172)\"],[1.0,\"rgb(5,48,97)\"]],\"cmid\":0.0},\"title\":{\"text\":\"Max activating dataset examples for L0N774 (abs value)\"}},                        {\"responsive\": true}                    ).then(function(){\n",
       "                            \n",
       "var gd = document.getElementById('28e20ddd-56e0-4e33-915c-adba5e294114');\n",
       "var x = new MutationObserver(function (mutations, observer) {{\n",
       "        var display = window.getComputedStyle(gd).display;\n",
       "        if (!display || display === 'none') {{\n",
       "            console.log([gd, 'removed!']);\n",
       "            Plotly.purge(gd);\n",
       "            observer.disconnect();\n",
       "        }}\n",
       "}});\n",
       "\n",
       "// Listen for the removal of the full notebook cells\n",
       "var notebookContainer = gd.closest('#notebook-container');\n",
       "if (notebookContainer) {{\n",
       "    x.observe(notebookContainer, {childList: true});\n",
       "}}\n",
       "\n",
       "// Listen for the clearing of the current output cell\n",
       "var outputEl = gd.closest('.output');\n",
       "if (outputEl) {{\n",
       "    x.observe(outputEl, {childList: true});\n",
       "}}\n",
       "\n",
       "                        })                };                });            </script>        </div>"
      ]
     },
     "metadata": {},
     "output_type": "display_data"
    }
   ],
   "source": [
    "top_moves = neuron_acts_post.flatten() > neuron_acts_post.flatten().quantile(0.99)\n",
    "plot_square_as_board(\n",
    "    focus_states_flipped_pm1[:, :-1].reshape(-1, rows, cols)[top_moves].float().mean(dim=0),\n",
    "    title=\"Max activating dataset examples for L0N774\",\n",
    ")\n",
    "plot_square_as_board(\n",
    "    focus_states_flipped_pm1[:, :-1].abs().reshape(-1, rows, cols)[top_moves].float().mean(dim=0),\n",
    "    title=\"Max activating dataset examples for L0N774 (abs value)\",\n",
    ")"
   ]
  },
  {
   "cell_type": "markdown",
   "metadata": {},
   "source": [
    "## Spectrum Plots"
   ]
  },
  {
   "cell_type": "code",
   "execution_count": 45,
   "metadata": {},
   "outputs": [],
   "source": [
    "import pandas as pd"
   ]
  },
  {
   "cell_type": "code",
   "execution_count": 44,
   "metadata": {},
   "outputs": [
    {
     "ename": "NameError",
     "evalue": "name 'pd' is not defined",
     "output_type": "error",
     "traceback": [
      "\u001b[0;31m---------------------------------------------------------------------------\u001b[0m",
      "\u001b[0;31mNameError\u001b[0m                                 Traceback (most recent call last)",
      "Cell \u001b[0;32mIn[44], line 6\u001b[0m\n\u001b[1;32m      2\u001b[0m neuron_acts_pre \u001b[38;5;241m=\u001b[39m focus_cache[\u001b[38;5;124m'\u001b[39m\u001b[38;5;124mpre\u001b[39m\u001b[38;5;124m'\u001b[39m, layer][\u001b[38;5;241m.\u001b[39m\u001b[38;5;241m.\u001b[39m\u001b[38;5;241m.\u001b[39m, neuron]\n\u001b[1;32m      4\u001b[0m label \u001b[38;5;241m=\u001b[39m focus_games_int[:, :\u001b[38;5;241m-\u001b[39m\u001b[38;5;241m1\u001b[39m] \u001b[38;5;241m==\u001b[39m to_int(\u001b[38;5;124m'\u001b[39m\u001b[38;5;124mE0\u001b[39m\u001b[38;5;124m'\u001b[39m)\n\u001b[0;32m----> 6\u001b[0m df \u001b[38;5;241m=\u001b[39m \u001b[43mpd\u001b[49m\u001b[38;5;241m.\u001b[39mDataFrame({\u001b[38;5;124m\"\u001b[39m\u001b[38;5;124mpre_act\u001b[39m\u001b[38;5;124m\"\u001b[39m: neuron_acts_pre\u001b[38;5;241m.\u001b[39mflatten()\u001b[38;5;241m.\u001b[39mtolist(), \u001b[38;5;124m\"\u001b[39m\u001b[38;5;124mlabel\u001b[39m\u001b[38;5;124m\"\u001b[39m: label\u001b[38;5;241m.\u001b[39mflatten()\u001b[38;5;241m.\u001b[39mtolist()})\n\u001b[1;32m      8\u001b[0m px\u001b[38;5;241m.\u001b[39mhistogram(\n\u001b[1;32m      9\u001b[0m     df,\n\u001b[1;32m     10\u001b[0m     nbins\u001b[38;5;241m=\u001b[39m\u001b[38;5;241m100\u001b[39m, histnorm\u001b[38;5;241m=\u001b[39m\u001b[38;5;124m\"\u001b[39m\u001b[38;5;124mpercent\u001b[39m\u001b[38;5;124m\"\u001b[39m,\n\u001b[1;32m     11\u001b[0m     x\u001b[38;5;241m=\u001b[39m\u001b[38;5;124m\"\u001b[39m\u001b[38;5;124mpre_act\u001b[39m\u001b[38;5;124m\"\u001b[39m, color\u001b[38;5;241m=\u001b[39m\u001b[38;5;124m\"\u001b[39m\u001b[38;5;124mlabel\u001b[39m\u001b[38;5;124m\"\u001b[39m,\n\u001b[1;32m     12\u001b[0m     title\u001b[38;5;241m=\u001b[39m\u001b[38;5;124mf\u001b[39m\u001b[38;5;124m\"\u001b[39m\u001b[38;5;124mL\u001b[39m\u001b[38;5;132;01m{\u001b[39;00mlayer\u001b[38;5;132;01m}\u001b[39;00m\u001b[38;5;124mN\u001b[39m\u001b[38;5;132;01m{\u001b[39;00mneuron\u001b[38;5;132;01m}\u001b[39;00m\u001b[38;5;124m spectrum plot testing current_move==E0\u001b[39m\u001b[38;5;124m\"\u001b[39m\n\u001b[1;32m     13\u001b[0m )\n",
      "\u001b[0;31mNameError\u001b[0m: name 'pd' is not defined"
     ]
    }
   ],
   "source": [
    "layer, neuron = 0, 774\n",
    "neuron_acts_pre = focus_cache['pre', layer][..., neuron]\n",
    "\n",
    "label = focus_games_int[:, :-1] == to_int('E0')\n",
    "\n",
    "df = pd.DataFrame({\"pre_act\": neuron_acts_pre.flatten().tolist(), \"label\": label.flatten().tolist()})\n",
    "\n",
    "px.histogram(\n",
    "    df,\n",
    "    nbins=100, histnorm=\"percent\",\n",
    "    x=\"pre_act\", color=\"label\",\n",
    "    title=f\"L{layer}N{neuron} spectrum plot testing current_move==E0\"\n",
    ")"
   ]
  },
  {
   "cell_type": "code",
   "execution_count": null,
   "metadata": {},
   "outputs": [],
   "source": []
  }
 ],
 "metadata": {
  "kernelspec": {
   "display_name": "mats_sae_training",
   "language": "python",
   "name": "python3"
  },
  "language_info": {
   "codemirror_mode": {
    "name": "ipython",
    "version": 3
   },
   "file_extension": ".py",
   "mimetype": "text/x-python",
   "name": "python",
   "nbconvert_exporter": "python",
   "pygments_lexer": "ipython3",
   "version": "3.11.7"
  }
 },
 "nbformat": 4,
 "nbformat_minor": 2
}
